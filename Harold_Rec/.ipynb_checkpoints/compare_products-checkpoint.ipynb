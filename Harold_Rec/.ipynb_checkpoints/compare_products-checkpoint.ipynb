{
 "cells": [
  {
   "cell_type": "markdown",
   "metadata": {},
   "source": [
    "## Script providing a radiometric comparison between 2 sensors / satellites\n",
    "#### Created by AQY, Updated by HCT @EarthDaily Agro\n",
    "#### Input : 2 products (to be analyzed + reference) in tif or gs2 format : uint16, stacked bands (nir, red, blue, green)\n"
   ]
  },
  {
   "cell_type": "code",
   "execution_count": null,
   "metadata": {},
   "outputs": [],
   "source": [
    "from pathlib import Path\n",
    "\n",
    "import rasterio as rio\n",
    "from rasterio.vrt import WarpedVRT\n",
    "\n",
    "import xarray as xr\n",
    "import rioxarray as rxr\n",
    "from osgeo import gdal, gdalconst\n",
    "\n",
    "import pandas as pd\n",
    "from datetime import datetime\n",
    "\n",
    "%matplotlib inline\n",
    "\n",
    "from crosscalibration import crosscalibration\n",
    "import subprocess"
   ]
  },
  {
   "cell_type": "markdown",
   "source": [
    "### Parameters\n",
    "#### Jilin"
   ],
   "metadata": {
    "collapsed": false
   }
  },
  {
   "cell_type": "code",
   "execution_count": null,
   "outputs": [],
   "source": [
    "path = '/Users/aqy/Desktop/JILIN'\n",
    "\n",
    "path_tmp = path+'/1_Data/tmp'\n",
    "path_plt = path+'/3_Output'\n",
    "path_coeff = '/Recherche/EODATA/DATA_INTERCALIBRATION/coeff/2023'\n",
    "ref = 'Sentinel-2'\n",
    "path_ref = '/Users/aqy/Desktop/JILIN/1_Data/1_Processed'\n",
    "gain_ref = 1.2/100 #65535\n",
    "bias_ref = 0\n",
    "item_date_ref = -1 # position de la date apres split('_') ici avant dernière place\n",
    "\n",
    "# sensor to calibrate\n",
    "sensor = 'JILIN'\n",
    "path_sensor = '/Users/aqy/Desktop/JILIN/1_Data/1_Processed'\n",
    "#gain_sensor = 1.2/65535\n",
    "gain_sensor = 1.2/4000\n",
    "bias_sensor = 0\n",
    "band_relat = [1,2,3,4] # nir red blue green\n",
    "#item_date_sensor = -4\n",
    "item_date_sensor = -3"
   ],
   "metadata": {
    "collapsed": false
   }
  },
  {
   "cell_type": "markdown",
   "source": [
    "#### ZY1\n",
    "Paths on Research server"
   ],
   "metadata": {
    "collapsed": false
   }
  },
  {
   "cell_type": "code",
   "execution_count": null,
   "outputs": [],
   "source": [
    "# Paths\n",
    "path_ZY1_image = r'/recherche/ANALYTICS_DATA/HYPER/1_Data/0_Reference/1_interim/ZY1/ZY1E_L1B_20220514/ZY1E_VNIC_W97.0_N34.8_20220514_L1B0000447722_MUX_CAL_Proj.tiff'\n",
    "path_ZY1_image_RPCs = r'/recherche/ANALYTICS_DATA/HYPER/1_Data/0_Reference/0_raw/ZY1/ZY1E_L1B_20220514/ZY1E_VNIC_W97.0_N34.8_20220514_L1B0000447722-MUX.tiff'\n",
    "\n",
    "path_ref_source = r'/recherche/ANALYTICS_DATA/HYPER/1_Data/0_Reference/1_interim/Sentinel-2/S2A_MSIL1C_20220514T170851_N0400_R112_T14SPD_20220514T205918.SAFE/GRANULE/L1C_T14SPD_A036002_20220514T171813/IMG_DATA'\n",
    "path_ref = Path(path_ref_source).parents[3]\n",
    "\n",
    "path_sensor = Path(path_ZY1_image).parents[0]\n",
    "path_tmp = Path(path_sensor).joinpath('tmp')\n",
    "path_plt = Path(path_sensor).joinpath('3_Output')\n",
    "\n",
    "# Output ZY1 path\n",
    "output_filename = str(Path(path_ZY1_image).stem)+'_gs2.tif'\n",
    "ZY_gs2_path = Path(path_sensor).joinpath(output_filename)\n",
    "\n",
    "# Output S2 path\n",
    "output_filename = str(Path(path_ref_source).parents[2].stem)+'_gs2.tif'\n",
    "S2_gs2_path = Path(Path(path_ref_source).parents[3]).joinpath(output_filename)"
   ],
   "metadata": {
    "collapsed": false
   }
  },
  {
   "cell_type": "markdown",
   "source": [
    "Paths on Local computer"
   ],
   "metadata": {
    "collapsed": false
   }
  },
  {
   "cell_type": "code",
   "execution_count": null,
   "outputs": [],
   "source": [
    "path_ref = r'C:\\Temp_Hyper'\n",
    "path_sensor = r'C:\\Temp_Hyper'\n",
    "path_tmp = Path(path_sensor).joinpath('tmp')\n",
    "path_plt = Path(path_sensor).joinpath('3_Output')\n",
    "\n",
    "ZY_gs2_path = r'C:\\Temp_Hyper\\ZY1E_VNIC_W97.0_N34.8_20220514_L1B0000447722_MUX_CAL_Proj_gs2.tif'\n",
    "S2_gs2_path = r'C:\\Temp_Hyper\\S2A_MSIL1C_20220514T170851_N0400_R112_T14SPD_20220514T205918_gs2.tif'"
   ],
   "metadata": {
    "collapsed": false
   }
  },
  {
   "cell_type": "markdown",
   "source": [
    "Sensors parameters"
   ],
   "metadata": {
    "collapsed": false
   }
  },
  {
   "cell_type": "code",
   "execution_count": null,
   "outputs": [],
   "source": [
    "# Reference\n",
    "ref = 'Sentinel-2'\n",
    "#gain_ref = 1.2/100 #65535\n",
    "bias_ref = 0\n",
    "item_date_ref = -1 # position de la date apres split('_'): -1 avant dernière place\n",
    "\n",
    "# Sensor to test\n",
    "sensor = 'ZY1'\n",
    "\n",
    "# Band multi ['B2:0.452-0,521','B3:0,522-0,607','B4:0,635-0,694','B5:0,776-0,895','B6:0.416-0.452','B7:0.591-0,633','B8:0.708-0,752','B9:0.871-1.047']\n",
    "ZY1_Band_Definition=[7,2,0,1] #NIR->B9?, RED->B4, BLUE->B2, GREEN->B3\n",
    "\n",
    "gain_sensor = 1.2/20\n",
    "#gain_sensor = 1.2/4000  #4000\n",
    "bias_sensor = 0\n",
    "band_relat = [1,2,3,4] # nir red blue green\n",
    "item_date_sensor = -3"
   ],
   "metadata": {
    "collapsed": false
   }
  },
  {
   "cell_type": "markdown",
   "source": [
    "#### General"
   ],
   "metadata": {
    "collapsed": false
   }
  },
  {
   "cell_type": "code",
   "execution_count": null,
   "outputs": [],
   "source": [
    "path_coeff = r'/recherche/EODATA/DATA_INTERCALIBRATION/coeff/2023'\n",
    "\n",
    "# Create paths if doesn't exist\n",
    "Path(path_tmp).mkdir(parents=True, exist_ok=True)\n",
    "Path(path_plt).mkdir(parents=True, exist_ok=True)"
   ],
   "metadata": {
    "collapsed": false
   }
  },
  {
   "cell_type": "code",
   "execution_count": null,
   "outputs": [],
   "source": [
    "band_ranking = [\"Nir\", \"Red\",\"Blue\",\"Green\"] # ordre des bandes (exemple pour une gs2 :  Nir-Red-Blue-Green)\n",
    "\n",
    "cross_cal = crosscalibration(\n",
    "        path_tmp,\n",
    "        path_plt,\n",
    "        path_ref,\n",
    "        sensor,\n",
    "        path_sensor,\n",
    "        band_relat,\n",
    "        item_date_sensor,\n",
    "        path_coeff,\n",
    "        band_ranking,\n",
    "        gain_sensor,\n",
    "        bias_sensor,\n",
    "    )\n",
    "cross_cal.item_date_ref = -2\n",
    "cross_cal.item_date_sensor = -6 #-2 JILIN"
   ],
   "metadata": {
    "collapsed": false
   }
  },
  {
   "cell_type": "markdown",
   "source": [
    "### Load data\n",
    "#### ZY1"
   ],
   "metadata": {
    "collapsed": false
   }
  },
  {
   "cell_type": "code",
   "execution_count": null,
   "outputs": [],
   "source": [
    "print(Path(ZY_gs2_path).is_file())"
   ],
   "metadata": {
    "collapsed": false
   }
  },
  {
   "cell_type": "markdown",
   "source": [
    "Run the following cells if ZY1 gs2 formatted tif doesn't already exist"
   ],
   "metadata": {
    "collapsed": false
   }
  },
  {
   "cell_type": "code",
   "execution_count": null,
   "outputs": [],
   "source": [
    "# Get geographic information\n",
    "src_dst = rio.open(path_ZY1_image)\n",
    "# vrt = WarpedVRT(src_dst, src_crs=src_dst.gcps[1], scrs=src_dst.gcps[1])  ## First method, kept for memory\n",
    "vrt = WarpedVRT(src_dst,src_crs=src_dst.gcps[1],src_transform=rio.transform.from_gcps(src_dst.gcps[0]),crs=\"epsg:4326\")\n",
    "\n",
    "# Display details\n",
    "#print(vrt.bounds)\n",
    "#print(vrt.meta)\n",
    "#print(vrt.transform)"
   ],
   "metadata": {
    "collapsed": false
   }
  },
  {
   "cell_type": "code",
   "execution_count": null,
   "outputs": [],
   "source": [
    "# Open projected cube\n",
    "cube = rxr.open_rasterio(vrt)\n",
    "band_names = cube.attrs['long_name']\n",
    "band_names = list(band_names)\n",
    "cube = cube.assign_coords(dict(band=band_names))\n",
    "\n",
    "# Check geographic info\n",
    "#print(cube.rio.transform())\n",
    "#print(cube.rio.crs)"
   ],
   "metadata": {
    "collapsed": false
   }
  },
  {
   "cell_type": "code",
   "execution_count": null,
   "outputs": [],
   "source": [
    "gs2_cube_ZY1 = cube[ZY1_Band_Definition,:,:]\n",
    "gs2_cube_ZY1.attrs[\"long_name\"] = band_ranking"
   ],
   "metadata": {
    "collapsed": false
   }
  },
  {
   "cell_type": "code",
   "execution_count": null,
   "outputs": [],
   "source": [
    "# Save ZY1 gs2\n",
    "gs2_cube_ZY1.rio.to_raster(raster_path=ZY_gs2_path,driver=\"GTiff\")"
   ],
   "metadata": {
    "collapsed": false
   }
  },
  {
   "cell_type": "code",
   "execution_count": null,
   "outputs": [],
   "source": [
    "# Open the files you want to transfer RPCs from and to\n",
    "tif_with_RPCs = gdal.Open(path_ZY1_image_RPCs, gdalconst.GA_ReadOnly)\n",
    "tif_without_RPCs = gdal.Open(str(ZY_gs2_path),gdalconst.GA_Update)\n",
    "\n",
    "# get the RPCs from the first file ...\n",
    "rpcs = tif_with_RPCs.GetMetadata('RPC')\n",
    "\n",
    "# ... write them to the second file\n",
    "tif_without_RPCs.SetMetadata(rpcs ,'RPC')\n",
    "\n",
    "# verif\n",
    "rpcs2 = tif_without_RPCs.GetMetadata('RPC')\n",
    "print(rpcs2)\n",
    "\n",
    "# close the files\n",
    "del(tif_with_RPCs)\n",
    "del(tif_without_RPCs)\n",
    "\n",
    "print(f'RPCs added to {ZY_gs2_path}')"
   ],
   "metadata": {
    "collapsed": false
   }
  },
  {
   "cell_type": "markdown",
   "source": [
    "#### Sentinel-2"
   ],
   "metadata": {
    "collapsed": false
   }
  },
  {
   "cell_type": "code",
   "execution_count": null,
   "outputs": [],
   "source": [
    "print(Path(S2_gs2_path).is_file())"
   ],
   "metadata": {
    "collapsed": false
   }
  },
  {
   "cell_type": "markdown",
   "source": [
    "Run the following cells if reference S2 gs2 formatted tif doesn't already exist"
   ],
   "metadata": {
    "collapsed": false
   }
  },
  {
   "cell_type": "code",
   "execution_count": null,
   "outputs": [],
   "source": [
    "# Chan_Red = S2 band 4   665 (635-695)\n",
    "# Chan_Green = S2 band 3 560 (525-595)\n",
    "# Chan_Blue = S2 band 2  490 (425-555)\n",
    "# Chan_NIR = S2 band 8   865 (845-885)\n",
    "\n",
    "Path_S2_NIR = sorted(Path(path_ref_source).glob('*_B08.jp2'))\n",
    "Path_S2_RED = sorted(Path(path_ref_source).glob('*_B04.jp2'))\n",
    "Path_S2_BLUE = sorted(Path(path_ref_source).glob('*_B02.jp2'))\n",
    "Path_S2_GREEN = sorted(Path(path_ref_source).glob('*_B03.jp2'))"
   ],
   "metadata": {
    "collapsed": false
   }
  },
  {
   "cell_type": "code",
   "execution_count": null,
   "outputs": [],
   "source": [
    "cube_S2_NIR = rxr.open_rasterio(Path_S2_NIR[0])\n",
    "cube_S2_RED = rxr.open_rasterio(Path_S2_RED[0])\n",
    "cube_S2_BLUE = rxr.open_rasterio(Path_S2_BLUE[0])\n",
    "cube_S2_GREEN = rxr.open_rasterio(Path_S2_GREEN[0])\n",
    "\n",
    "cube_S2_NIR = cube_S2_NIR[0,:,:]\n",
    "cube_S2_RED = cube_S2_RED[0,:,:]\n",
    "cube_S2_BLUE = cube_S2_BLUE[0,:,:]\n",
    "cube_S2_GREEN = cube_S2_GREEN[0,:,:]\n",
    "\n",
    "cube_S2_NIR.name = 'NIR'\n",
    "cube_S2_RED.name = 'RED'\n",
    "cube_S2_BLUE.name = 'BLUE'\n",
    "cube_S2_GREEN.name = 'GREEN'\n",
    "\n",
    "gs2_cube_S2 = xr.merge([cube_S2_NIR,cube_S2_RED,cube_S2_BLUE,cube_S2_GREEN],compat='override')\n",
    "gs2_cube_S2 = gs2_cube_S2.to_array()\n",
    "gs2_cube_S2.attrs[\"long_name\"] = band_ranking"
   ],
   "metadata": {
    "collapsed": false
   }
  },
  {
   "cell_type": "code",
   "execution_count": null,
   "outputs": [],
   "source": [
    "gs2_cube_S2.rio.transform()"
   ],
   "metadata": {
    "collapsed": false
   }
  },
  {
   "cell_type": "code",
   "execution_count": null,
   "outputs": [],
   "source": [
    "# Save ZY1 gs2\n",
    "gs2_cube_S2.rio.to_raster(raster_path=S2_gs2_path,driver=\"GTiff\")"
   ],
   "metadata": {
    "collapsed": false
   }
  },
  {
   "cell_type": "markdown",
   "source": [
    "Run the following cells if reference S2 gs2 formatted tif isn't in same projection system as reference image"
   ],
   "metadata": {
    "collapsed": false
   }
  },
  {
   "cell_type": "code",
   "execution_count": null,
   "outputs": [],
   "source": [
    "test_proj_ZY = rxr.open_rasterio(ZY_gs2_path)\n",
    "test_proj_S2 = rxr.open_rasterio(S2_gs2_path)\n",
    "\n",
    "Proj_crs_ZY = test_proj_ZY.rio.crs\n",
    "Proj_crs_S2 = test_proj_S2.rio.crs\n",
    "\n",
    "del test_proj_ZY\n",
    "del test_proj_S2\n",
    "\n",
    "print(f\"CRS ZY: {Proj_crs_ZY}\")\n",
    "print(f\"CRS S2: {Proj_crs_S2}\")\n",
    "\n",
    "# Process if needed\n",
    "if Proj_crs_ZY != Proj_crs_S2:\n",
    "    file_S2_new = Path(S2_gs2_path).stem[:-4] + '_reproj' + Path(S2_gs2_path).stem[-4:]\n",
    "    out_path = Path(S2_gs2_path).parent.joinpath(file_S2_new)\n",
    "\n",
    "    cmd_line = \"gdalwarp -s_srs \"+str(Proj_crs_S2)+\" -t_srs \"+str(Proj_crs_ZY)+\" \"+S2_gs2_path+\" \"+str(out_path)+\".tif\"\n",
    "    print(cmd_line)\n",
    "\n",
    "    prog = subprocess.Popen(cmd_line, stdout=subprocess.PIPE, stderr=subprocess.PIPE)\n",
    "    (output, err) = prog.communicate()\n",
    "\n",
    "    # This makes the wait possible\n",
    "    prog_status = prog.wait()\n",
    "\n",
    "    # Display Output\n",
    "    print(f\"Error raised from command: {err} \\n\")\n",
    "else:\n",
    "    print(\"S2 already in the same projection system\")"
   ],
   "metadata": {
    "collapsed": false
   }
  },
  {
   "cell_type": "markdown",
   "source": [
    "### Radiometry analysis"
   ],
   "metadata": {
    "collapsed": false
   }
  },
  {
   "cell_type": "code",
   "execution_count": null,
   "outputs": [],
   "source": [
    "# search image to calibrate\n",
    "if sensor == 'JILIN':\n",
    "    struct_name = \"JL*gs2.tif\"\n",
    "elif sensor == 'ZY1':\n",
    "    struct_name = \"ZY1*gs2.tif\"\n",
    "else:\n",
    "    print(f\"Error on sensor definition: {sensor} doesn't exist\")\n",
    "\n",
    "list_sensor = cross_cal.get_list_dataset_sensor(struct_name)\n",
    "print(list_sensor)"
   ],
   "metadata": {
    "collapsed": false
   }
  },
  {
   "cell_type": "code",
   "execution_count": null,
   "outputs": [],
   "source": [
    "# search reference image\n",
    "struct_name = \"S2*gs2.tif\"\n",
    "list_ref = cross_cal.get_list_dataset_reference(struct_name)\n",
    "print(list_ref)"
   ],
   "metadata": {
    "collapsed": false
   }
  },
  {
   "cell_type": "code",
   "execution_count": null,
   "metadata": {},
   "outputs": [],
   "source": [
    "# test read dates reference\n",
    "all_dates = []\n",
    "for im_name in list_ref:\n",
    "    dateim = im_name.split(\"_\")\n",
    "    dateim = datetime.strptime(dateim[cross_cal.item_date_ref][0:8], \"%Y%m%d\")\n",
    "\n",
    "    all_dates.append(dateim)\n",
    "all_dates"
   ]
  },
  {
   "cell_type": "code",
   "execution_count": null,
   "metadata": {},
   "outputs": [],
   "source": [
    "# test read dates sensor\n",
    "all_dates = []\n",
    "for im_name in list_sensor:\n",
    "    dateim = im_name.split(\"_\")\n",
    "    dateim = datetime.strptime(dateim[cross_cal.item_date_sensor], \"%Y%m%d\")\n",
    "    all_dates.append(dateim)\n",
    "all_dates"
   ]
  },
  {
   "cell_type": "markdown",
   "metadata": {},
   "source": [
    "## recherche de paire d'images"
   ]
  },
  {
   "cell_type": "code",
   "execution_count": null,
   "metadata": {},
   "outputs": [],
   "source": [
    "# coverage same area same aquisition date (~3days)\n",
    "# need => same projection\n",
    "#df = cross_cal.identify_pair_images(list_sensor,list_ref)\n",
    "COLUMN_NAMES = [\"sensor\",\"mask_sensor\",\"reference\",\"mask_reference\",\"overlap\"]\n",
    "df = pd.DataFrame(columns=COLUMN_NAMES)\n",
    "\n",
    "df['sensor'] =list_sensor\n",
    "df['mask_sensor'] =''\n",
    "df['reference'] =list_ref\n",
    "df['mask_reference'] =''\n",
    "df['overlap'] = 100\n",
    "df['delta_days'] = 1"
   ]
  },
  {
   "cell_type": "code",
   "execution_count": null,
   "metadata": {},
   "outputs": [],
   "source": [
    "df.sort_values(['sensor','delta_days','overlap'],ascending=[True,True,False],inplace=True)\n",
    "df.drop_duplicates(subset=['sensor'], keep='first',inplace=True)"
   ]
  },
  {
   "cell_type": "code",
   "execution_count": null,
   "metadata": {
    "scrolled": false
   },
   "outputs": [],
   "source": [
    "import os\n",
    "import warnings\n",
    "warnings.filterwarnings('ignore')\n",
    "\n",
    "# decalib, 0 or 1 (false or true)\n",
    "# 0 : not apply the lut (calibration coefficients)\n",
    "# 1 : apply lut to obtain gs2 before calibration (upside down table app)\n",
    "\n",
    "decalib = 0\n",
    "block_size = 50 # The integer block size along each axis to resample image per average method, default value : 50\n",
    "\n",
    "for im in range(0,len(df)):\n",
    "    df = cross_cal.process_pair_image_WithoutMask(df,df.index[im],block_size,decalib)\n",
    "\n",
    "df.to_csv(os.path.join(path_plt,sensor + '.csv'),sep=';')"
   ]
  },
  {
   "cell_type": "markdown",
   "metadata": {},
   "source": [
    "# Calcul du score pour chaque pair d'image"
   ]
  },
  {
   "cell_type": "code",
   "execution_count": null,
   "metadata": {},
   "outputs": [],
   "source": [
    "import os\n",
    "\n",
    "df_score = cross_cal.classify_df(df)\n",
    "df.to_csv(os.path.join(path_plt,sensor + '_score.csv'),sep=';')"
   ]
  },
  {
   "cell_type": "code",
   "execution_count": null,
   "metadata": {},
   "outputs": [],
   "source": [
    "df.keys()"
   ]
  },
  {
   "cell_type": "markdown",
   "metadata": {},
   "source": [
    "## apres selection, calcul des coefficients"
   ]
  },
  {
   "cell_type": "code",
   "execution_count": null,
   "metadata": {
    "scrolled": true
   },
   "outputs": [],
   "source": [
    "all_0_im_reduced,all_1_im_reduced,all_2_im_reduced,all_3_im_reduced, \\\n",
    "    all_0_ref_reduced,all_1_ref_reduced,all_2_ref_reduced,all_3_ref_reduced = cross_cal.compute_coeff(df.loc[[0,0]],30,0)\n",
    "#    all_0_ref_reduced,all_1_ref_reduced,all_2_ref_reduced,all_3_ref_reduced = cross_cal.compute_coeff(df.loc[[1,3]],30,0)\n",
    "\n",
    "# selection des meilleures pairs d'images (une pair d'image selectionnée par image tasking)\n",
    "df_to_coeff = df.dropna()\n",
    "df_to_coeff.sort_values(['sensor','ndvi_r2','ndvi_pourcoutrange'],ascending=[True,True,False],inplace=True)\n",
    "df_to_coeff.drop_duplicates(subset=['sensor'], keep='first',inplace=True)\n",
    "df_to_coeff"
   ]
  },
  {
   "cell_type": "code",
   "execution_count": null,
   "metadata": {
    "scrolled": false
   },
   "outputs": [],
   "source": [
    "import numpy as np\n",
    "from matplotlib import pyplot as plt\n",
    "import sklearn.metrics as metrics\n",
    "\n",
    "num_band = 0\n",
    "list_index = [0,1,2,3]#np.arange(len(df_to_coeff2.index))\n",
    "#list_index = [0,1]#np.arange(len(df_to_coeff2.index))\n",
    "fig = plt.figure(figsize=(8,8))\n",
    "all_im_reduced = []\n",
    "all_ref_reduced = []\n",
    "for im in list_index:\n",
    "    \n",
    "    num_band = im\n",
    "    #x = all_0_im_reduced[im].flatten()\n",
    "    #y = all_0_ref_reduced[im].flatten()\n",
    "    \n",
    "    if im==0:\n",
    "        x = all_0_im_reduced[0].flatten()\n",
    "        y = all_0_ref_reduced[0].flatten()\n",
    "    elif im==1:\n",
    "        x = all_1_im_reduced[0].flatten()\n",
    "        y = all_1_ref_reduced[0].flatten()\n",
    "    elif im==2:\n",
    "        x = all_2_im_reduced[0].flatten()\n",
    "        y = all_2_ref_reduced[0].flatten()\n",
    "    elif im==3:\n",
    "        x = all_3_im_reduced[0].flatten()\n",
    "        y = all_3_ref_reduced[0].flatten()\n",
    "    else:\n",
    "        print('im>3')\n",
    "\n",
    "    idx_nonan = ~np.isnan(x) & ~np.isnan(y)\n",
    "    m, b = np.polyfit(x[idx_nonan], y[idx_nonan], 1)\n",
    "    std = np.nanstd(abs((m * x[idx_nonan] + b) - y[idx_nonan]))\n",
    "    sigma2 = std*2\n",
    "    idx_model = abs((m * x[idx_nonan] + b) - y[idx_nonan])<=sigma2\n",
    "\n",
    "    plt.plot(x[idx_nonan][idx_model],y[idx_nonan][idx_model],'.')\n",
    "    all_im_reduced = np.append(all_im_reduced,x[idx_nonan][idx_model])\n",
    "    all_ref_reduced = np.append(all_ref_reduced,y[idx_nonan][idx_model])              \n",
    "##\n",
    "    plt.xlabel(cross_cal.sensor_name,fontsize=14)\n",
    "    plt.ylabel(cross_cal.ref_name,fontsize=14)\n",
    "            \n",
    "    idx = np.isfinite(x) & np.isfinite(y)\n",
    "    if np.count_nonzero(idx)>10:\n",
    "        m, b = np.polyfit(x[idx], y[idx], 1)\n",
    "        plt.plot(x,x, label='x=y')\n",
    "        plt.plot(x, m*x+b, label='model')\n",
    "        plt.title(f\"{cross_cal.band_ranking[num_band]} band gain={m} offset={b}\",fontsize=16)\n",
    "        plt.legend()\n",
    "        pngfile = cross_cal.sensor_name + \"_\" + cross_cal.band_ranking[num_band] + \".png\"\n",
    "        outfileName = os.path.join(pngfile)\n",
    "        plt.savefig(outfileName)\n",
    "\n",
    "        x = all_im_reduced.flatten()\n",
    "        y = all_ref_reduced.flatten()  \n",
    "        fig = plt.figure(figsize=(8,8))\n",
    "        idx_nonan = ~np.isnan(x) & ~np.isnan(y)\n",
    "        m, b = np.polyfit(x[idx_nonan], y[idx_nonan], 1)\n",
    "        std = np.nanstd(abs((m * x[idx_nonan] + b) - y[idx_nonan]))\n",
    "        sigma2 = std*2\n",
    "        idx_model = abs((m * x[idx_nonan] + b) - y[idx_nonan])<=sigma2\n",
    "        idx_model_out = abs((m * x[idx_nonan] + b) - y[idx_nonan])>sigma2\n",
    "        pourcoutrange = np.count_nonzero(abs((m * x[idx_nonan] + b)-y[idx_nonan])>sigma2)/len(abs((m * x[idx_nonan] + b)-y[idx_nonan])>sigma2)*100\n",
    "\n",
    "        if np.count_nonzero(idx_model) > 10:\n",
    "            plt.plot(x[idx_nonan][idx_model], y[idx_nonan][idx_model], \".\",label='data analyzed')\n",
    "            plt.plot(x[idx_nonan][idx_model_out], y[idx_nonan][idx_model_out], \".\",label='out of range 2sigma')\n",
    "\n",
    "            m, b = np.polyfit(x[idx_nonan][idx_model], y[idx_nonan][idx_model], 1)\n",
    "            mse = metrics.mean_squared_error(x[idx_nonan][idx_model], m * x[idx_nonan][idx_model] + b)\n",
    "            rmse = np.sqrt(mse) # or mse**(0.5)  \n",
    "            r2 = metrics.r2_score(x[idx_nonan][idx_model],m * x[idx_nonan][idx_model] + b)\n",
    "\n",
    "            diffm = np.nanmean(x[idx_nonan][idx_model]-y[idx_nonan][idx_model])\n",
    "            diffmed = np.nanmedian(x[idx_nonan][idx_model]-y[idx_nonan][idx_model])\n",
    "            plt.title(f'{cross_cal.band_ranking[num_band]} band\\n gain={np.round(m,3)} offset={np.round(b,3)} \\n std={np.round(std,3)}\\\n",
    "                rmse={np.round(rmse,3)} r2={np.round(r2,3)} \\n diff mean={np.round(diffm,3)} diff med={np.round(diffmed,3)}\\\n",
    "                    \\n %pixel out of range={np.round(pourcoutrange,3)}', fontsize=16)\n",
    "            plt.plot(x[idx_nonan], x[idx_nonan], label=\"x=y\")\n",
    "            plt.plot(x[idx_nonan], m * x[idx_nonan] + b, label=\"model\")\n",
    "            plt.legend()\n",
    "            plt.xlabel(cross_cal.sensor_name,fontsize=14)\n",
    "            plt.ylabel(cross_cal.ref_name,fontsize=14)\n",
    "            pngfile = cross_cal.sensor_name + \"_\" + cross_cal.band_ranking[num_band] + \"_2.png\"\n",
    "            outfileName = os.path.join(pngfile)\n",
    "            plt.savefig(outfileName)\n",
    "\n",
    "    fileName = 'Inter_' + cross_cal.sensor_name + '_' + band_ranking[num_band] + '.txt'\n",
    "    outfileName = fileName\n",
    "    cross_cal.write_lut(np.round(m,3),np.round(b,3),outfileName)"
   ]
  },
  {
   "cell_type": "code",
   "execution_count": null,
   "metadata": {},
   "outputs": [],
   "source": []
  }
 ],
 "metadata": {
  "kernelspec": {
   "name": "geo_env",
   "language": "python",
   "display_name": "geo_env"
  },
  "language_info": {
   "codemirror_mode": {
    "name": "ipython",
    "version": 3
   },
   "file_extension": ".py",
   "mimetype": "text/x-python",
   "name": "python",
   "nbconvert_exporter": "python",
   "pygments_lexer": "ipython3",
   "version": "3.8.15"
  },
  "vscode": {
   "interpreter": {
    "hash": "dd480b3b63006a502a0d6bb12d31b70cb2dbab1d2dfb706100089fa48c0a276c"
   }
  }
 },
 "nbformat": 4,
 "nbformat_minor": 2
}
