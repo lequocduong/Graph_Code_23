{
 "cells": [
  {
   "cell_type": "code",
   "execution_count": 1,
   "metadata": {},
   "outputs": [],
   "source": [
    "import matplotlib.pyplot as plt\n",
    "import numpy as np\n",
    "# import IPython.display as disp\n",
    "import geopandas as gpd\n",
    "from geemap import geopandas_to_ee\n",
    "import pandas as pd\n",
    "import requests\n",
    "import logging\n",
    "import ee\n",
    "import xarray as xr\n",
    "import numpy as np\n",
    "import rasterio\n",
    "from datetime import datetime\n",
    "from pygeosys.util.dataframe import chunk_dataframe\n",
    "import folium"
   ]
  },
  {
   "cell_type": "code",
   "execution_count": 48,
   "metadata": {},
   "outputs": [],
   "source": [
    "    # -------------------------------------------------------------------------\n",
    "\n",
    "    # GEE logging & initialization\n",
    "    # -------------------------------------------------------------------------\n",
    "\n",
    "service_account = 'aubin-allies-sandbox@earthengine-185413.iam.gserviceaccount.com'\n",
    "credentials = ee.ServiceAccountCredentials(service_account, '/home/lwh/Documents/aubin-allies-sandbox-earthengine-185413-d486e9739448.json')\n",
    "ee.Initialize(credentials)\n",
    "logger = logging.getLogger()\n",
    "    # "
   ]
  },
  {
   "cell_type": "markdown",
   "metadata": {},
   "source": [
    "# Sentinel-2"
   ]
  },
  {
   "cell_type": "code",
   "execution_count": 22,
   "metadata": {},
   "outputs": [],
   "source": [
    "# Constants\n",
    "# -----------------------------------------------------------------------------\n",
    "\n",
    "# Parameters for cloud masking\n",
    "CLOUD_FILTER = 60\n",
    "CLD_PRB_THRESH = 50\n",
    "NIR_DRK_THRESH = 0.15\n",
    "CLD_PRJ_DIST = 1\n",
    "BUFFER = 50\n",
    "\n",
    "# Year of extraction\n",
    "year=2020"
   ]
  },
  {
   "cell_type": "code",
   "execution_count": 23,
   "metadata": {},
   "outputs": [],
   "source": [
    "# S2 collection with cloud probability\n",
    "def get_s2_sr_cld_col(aoi, start_date, end_date):\n",
    "    # Import and filter S2 SR.\n",
    "    s2_sr_col = (ee.ImageCollection('COPERNICUS/S2_SR')\n",
    "        .filterBounds(aoi)\n",
    "        .filterDate(start_date, end_date)\n",
    "        .filter(ee.Filter.lte('CLOUDY_PIXEL_PERCENTAGE', CLOUD_FILTER)))\n",
    "\n",
    "    # Import and filter s2cloudless.\n",
    "    s2_cloudless_col = (ee.ImageCollection('COPERNICUS/S2_CLOUD_PROBABILITY')\n",
    "        .filterBounds(aoi)\n",
    "        .filterDate(start_date, end_date))\n",
    "\n",
    "    # Join the filtered s2cloudless collection to the SR collection by the 'system:index' property.\n",
    "    return ee.ImageCollection(ee.Join.saveFirst('s2cloudless').apply(**{\n",
    "        'primary': s2_sr_col,\n",
    "        'secondary': s2_cloudless_col,\n",
    "        'condition': ee.Filter.equals(**{\n",
    "            'leftField': 'system:index',\n",
    "            'rightField': 'system:index'\n",
    "        })\n",
    "    }))"
   ]
  },
  {
   "cell_type": "code",
   "execution_count": 24,
   "metadata": {},
   "outputs": [],
   "source": [
    "# Add clouds band\n",
    "def add_cloud_bands(img):\n",
    "    # Get s2cloudless image, subset the probability band.\n",
    "    cld_prb = ee.Image(img.get('s2cloudless')).select('probability')\n",
    "\n",
    "    # Condition s2cloudless by the probability threshold value.\n",
    "    is_cloud = cld_prb.gt(CLD_PRB_THRESH).rename('clouds')\n",
    "\n",
    "    # Add the cloud probability layer and cloud mask as image bands.\n",
    "    return img.addBands(ee.Image([cld_prb, is_cloud]))"
   ]
  },
  {
   "cell_type": "code",
   "execution_count": 25,
   "metadata": {},
   "outputs": [],
   "source": [
    "# Add clouds shadows band\n",
    "def add_shadow_bands(img):\n",
    "    # Identify water pixels from the SCL band.\n",
    "    not_water = img.select('SCL').neq(6)\n",
    "\n",
    "    # Identify dark NIR pixels that are not water (potential cloud shadow pixels).\n",
    "    SR_BAND_SCALE = 1e4\n",
    "    dark_pixels = img.select('B8').lt(NIR_DRK_THRESH*SR_BAND_SCALE).multiply(not_water).rename('dark_pixels')\n",
    "\n",
    "    # Determine the direction to project cloud shadow from clouds (assumes UTM projection).\n",
    "    shadow_azimuth = ee.Number(90).subtract(ee.Number(img.get('MEAN_SOLAR_AZIMUTH_ANGLE')));\n",
    "\n",
    "    # Project shadows from clouds for the distance specified by the CLD_PRJ_DIST input.\n",
    "    cld_proj = (img.select('clouds').directionalDistanceTransform(shadow_azimuth, CLD_PRJ_DIST*10)\n",
    "        .reproject(**{'crs': img.select(0).projection(), 'scale': 100})\n",
    "        .select('distance')\n",
    "        .mask()\n",
    "        .rename('cloud_transform'))\n",
    "\n",
    "    # Identify the intersection of dark pixels with cloud shadow projection.\n",
    "    shadows = cld_proj.multiply(dark_pixels).rename('shadows')\n",
    "\n",
    "    # Add dark pixels, cloud projection, and identified shadows as image bands.\n",
    "    return img.addBands(ee.Image([dark_pixels, cld_proj, shadows]))"
   ]
  },
  {
   "cell_type": "code",
   "execution_count": 26,
   "metadata": {},
   "outputs": [],
   "source": [
    "def add_cld_shdw_mask(img):\n",
    "    # Add cloud component bands.\n",
    "    img_cloud = add_cloud_bands(img)\n",
    "\n",
    "    # Add cloud shadow component bands.\n",
    "    img_cloud_shadow = add_shadow_bands(img_cloud)\n",
    "\n",
    "    # Combine cloud and shadow mask, set cloud and shadow as value 1, else 0.\n",
    "    is_cld_shdw = img_cloud_shadow.select('clouds').add(img_cloud_shadow.select('shadows')).gt(0)\n",
    "\n",
    "    # Remove small cloud-shadow patches and dilate remaining pixels by BUFFER input.\n",
    "    # 20 m scale is for speed, and assumes clouds don't require 10 m precision.\n",
    "    is_cld_shdw = (is_cld_shdw.focalMin(2).focalMax(BUFFER*2/20)\n",
    "        .reproject(**{'crs': img.select([0]).projection(), 'scale': 20})\n",
    "        .rename('cloudmask'))\n",
    "\n",
    "    # Add the final cloud-shadow mask to the image.\n",
    "    return img_cloud_shadow.addBands(is_cld_shdw)"
   ]
  },
  {
   "cell_type": "code",
   "execution_count": 27,
   "metadata": {},
   "outputs": [],
   "source": [
    "def apply_cld_shdw_mask(img):\n",
    "    # Subset the cloudmask band and invert it so clouds/shadow are 0, else 1.\n",
    "    not_cld_shdw = img.select('cloudmask').Not()\n",
    "\n",
    "    # Subset reflectance bands and update their masks, return the result.\n",
    "    return img.select('B.*').updateMask(not_cld_shdw)"
   ]
  },
  {
   "cell_type": "code",
   "execution_count": 28,
   "metadata": {},
   "outputs": [],
   "source": [
    "# Functions GEE display with folium\n",
    "# -----------------------------------------------------------------------------\n",
    "# Define a method for displaying Earth Engine image tiles to a folium map.\n",
    "def add_ee_layer(self, ee_image_object, vis_params, name, show=True, opacity=1, min_zoom=0):\n",
    "    map_id_dict = ee.Image(ee_image_object).getMapId(vis_params)\n",
    "    folium.raster_layers.TileLayer(\n",
    "        tiles=map_id_dict['tile_fetcher'].url_format,\n",
    "        attr='Map Data © <a href=\"https://earthengine.google.com/\">Google Earth Engine</a>',\n",
    "        name=name,\n",
    "        show=show,\n",
    "        opacity=opacity,\n",
    "        min_zoom=min_zoom,\n",
    "        overlay=True,\n",
    "        control=True\n",
    "        ).add_to(self)\n",
    "\n",
    "# Add the Earth Engine layer method to folium.\n",
    "folium.Map.add_ee_layer = add_ee_layer"
   ]
  },
  {
   "cell_type": "code",
   "execution_count": 10,
   "metadata": {},
   "outputs": [],
   "source": [
    "def NDVI(image):\n",
    "  return image.addBands(image.normalizedDifference(['B8', 'B4']).rename('NDVI'))\n",
    "def NBR2(image):\n",
    "    return image.addBands(image.normalizedDifference(['B11', 'B12']).rename('NBR2'))"
   ]
  },
  {
   "cell_type": "code",
   "execution_count": 34,
   "metadata": {},
   "outputs": [],
   "source": [
    "# ee.Initialize()\n",
    "# logger = logging.getLogger()\n",
    "# -----------------------------------------------------------------------------\n",
    "\n",
    "# Define input parameters\n",
    "# -----------------------------------------------------------------------------\n",
    "root='/home/lwh/Documents/PROJECTS/Bare_soil_detection/bare_soil_detection_test/data/00_external/test_Pierre/'\n",
    "input_filepath = root+'G78/G78.shp'\n",
    "chunk_size = 1\n",
    "\n",
    "\n",
    "# load input vector dataset\n",
    "logger.info('Loading FeatureCollection')\n",
    "geometry_collection = gpd.read_file(input_filepath)\n",
    "\n",
    "if chunk_size is None:\n",
    "    geometry_collections = [geometry_collection]\n",
    "else:\n",
    "    geometry_collections = list(chunk_dataframe(geometry_collection, chunk_size))\n",
    "\n",
    "logger.info(f'Chunks: {len(geometry_collections)}')\n",
    "filename_prefixes = []\n",
    "\n",
    "output_folder='/home/lwh/Documents/PROJECTS/Bare_soil_detection/bare_soil_detection_test/data/04_features/'\n",
    "year=2021\n",
    "\n",
    "# loop on chunks\n",
    "for chunk_id,  gc in enumerate(geometry_collections):\n",
    "    logger.info(\n",
    "        f'Processing chunk {chunk_id} / {len(geometry_collections)}')\n",
    "    logger.info(\n",
    "        f'Uploading FeatureCollection ({len(gc)} Features) on server side')\n",
    "    feature_collection_ee = geopandas_to_ee(gc)\n",
    "\n",
    "    logger.info('Creating Task')\n",
    "\n",
    "    feature = feature_collection_ee.first()\n",
    "    \n",
    "    s2_sr_cld_col = get_s2_sr_cld_col(feature.geometry(), f'{year}-06-01', f'{year}-06-15')\n",
    "    s2_sr_cld_col=s2_sr_cld_col.map(add_cld_shdw_mask).map(apply_cld_shdw_mask).map(NDVI).map(NBR2)\n",
    "    im1 = ee.Image(s2_sr_cld_col.filterDate(f'{year}-06-06', f'{year}-06-10').select('NDVI').median())\n",
    "    im2 = ee.Image(s2_sr_cld_col.filterDate(f'{year}-06-06', f'{year}-06-10').select('NBR2').median())\n",
    "    Im_final=im1.addBands(im2)\n",
    "    output_filename = f\"bare_soil_detection/S2image_{year}_06_15\"\n",
    "    fullName=f\"bare_soil_detection_test_Pierre_S2\"\n",
    "    \n",
    "    task=ee.batch.Export.image.toCloudStorage(**{\n",
    "        'image': Im_final,\n",
    "        'description': fullName,\n",
    "        'bucket': 'gri_geosys',\n",
    "        'fileNamePrefix':output_filename,\n",
    "        'scale': 10,\n",
    "        'region':feature.geometry(),\n",
    "        'maxPixels': 15000000000,\n",
    "        'skipEmptyTiles': True\n",
    "        })\n",
    "    task.start()\n",
    "    \n"
   ]
  },
  {
   "cell_type": "code",
   "execution_count": 31,
   "metadata": {},
   "outputs": [],
   "source": [
    "import time\n",
    "acq_times = s2_sr_cld_col=s2_sr_cld_col.map(add_cld_shdw_mask).map(apply_cld_shdw_mask).map(NDVI).map(NBR2).aggregate_array('GENERATION_TIME').getInfo()\n",
    "# [time.strftime('%x', time.gmtime(acq_time/1000)) for acq_time in acq_times]\n"
   ]
  },
  {
   "cell_type": "code",
   "execution_count": 32,
   "metadata": {},
   "outputs": [
    {
     "data": {
      "text/plain": [
       "['06/04/21', '06/09/21', '06/14/21']"
      ]
     },
     "execution_count": 32,
     "metadata": {},
     "output_type": "execute_result"
    }
   ],
   "source": [
    "[time.strftime('%x', time.gmtime(acq_time/1000)) for acq_time in acq_times]"
   ]
  },
  {
   "cell_type": "code",
   "execution_count": 33,
   "metadata": {},
   "outputs": [
    {
     "ename": "NameError",
     "evalue": "name 'col' is not defined",
     "output_type": "error",
     "traceback": [
      "\u001b[0;31m---------------------------------------------------------------------------\u001b[0m",
      "\u001b[0;31mNameError\u001b[0m                                 Traceback (most recent call last)",
      "Cell \u001b[0;32mIn[33], line 1\u001b[0m\n\u001b[0;32m----> 1\u001b[0m im1 \u001b[39m=\u001b[39m ee\u001b[39m.\u001b[39mImage(col\u001b[39m.\u001b[39mfilterDate(\u001b[39mf\u001b[39m\u001b[39m'\u001b[39m\u001b[39m{\u001b[39;00myear\u001b[39m}\u001b[39;00m\u001b[39m-06-07\u001b[39m\u001b[39m'\u001b[39m, \u001b[39mf\u001b[39m\u001b[39m'\u001b[39m\u001b[39m{\u001b[39;00myear\u001b[39m}\u001b[39;00m\u001b[39m-06-09\u001b[39m\u001b[39m'\u001b[39m)\u001b[39m.\u001b[39mselect(\u001b[39m'\u001b[39m\u001b[39mNDVI\u001b[39m\u001b[39m'\u001b[39m)\u001b[39m.\u001b[39mselect(\u001b[39m'\u001b[39m\u001b[39mNBR2\u001b[39m\u001b[39m'\u001b[39m)\u001b[39m.\u001b[39mmedian())\n",
      "\u001b[0;31mNameError\u001b[0m: name 'col' is not defined"
     ]
    }
   ],
   "source": [
    "im1 = ee.Image(col.filterDate(f'{year}-06-07', f'{year}-06-09').select('NDVI').select('NBR2').median())"
   ]
  },
  {
   "cell_type": "code",
   "execution_count": null,
   "metadata": {},
   "outputs": [],
   "source": [
    "    "
   ]
  },
  {
   "cell_type": "markdown",
   "metadata": {},
   "source": [
    "# Landsat-8"
   ]
  },
  {
   "cell_type": "code",
   "execution_count": 35,
   "metadata": {},
   "outputs": [],
   "source": [
    "def clearNDVI_L8(image):\n",
    "  ndvi = image.normalizedDifference(['SR_B5', 'SR_B4']).rename('NDVI')\n",
    "  #  CloudMask\n",
    "  cloudShadowBitMask = (1 << 3)\n",
    "  cloudsBitMask = (1 << 5)\n",
    "  #  Get the pixel QA band.\n",
    "  qa = image.select('QA_PIXEL')\n",
    "  #  Both flags should be set to zero, indicating clear conditions.\n",
    "  mask = qa.bitwiseAnd(cloudShadowBitMask).eq(0).bitwiseAnd(cloudsBitMask).eq(0)\n",
    "  return image.addBands(ndvi.updateMask(mask));#.updateMask(qual)\n",
    "\n",
    "def clearNBR2_L8(image):\n",
    "  \n",
    "  #  CloudMask\n",
    "  cloudShadowBitMask = (1 << 3)\n",
    "  cloudsBitMask = (1 << 5)\n",
    "  #  Get the pixel QA band.\n",
    "  qa = image.select('QA_PIXEL')\n",
    "  #  Both flags should be set to zero, indicating clear conditions.\n",
    "  mask = qa.bitwiseAnd(cloudShadowBitMask).eq(0).bitwiseAnd(cloudsBitMask).eq(0)\n",
    "  image=image.updateMask(mask)\n",
    "  nbr2 =  image.addBands(image.normalizedDifference(['SR_B6', 'SR_B7']).rename('NBR2'))\n",
    "  ndvi =  nbr2.addBands(nbr2.normalizedDifference(['SR_B5', 'SR_B4']).rename('NDVI'))\n",
    "  return ndvi;#.updateMask(qual)\n",
    "\n",
    "band_red = 'SR_B4'\n",
    "band_nir = 'SR_B5'\n",
    "band_swir1='SR_B6'\n",
    "band_swir2='SR_B7'\n",
    "col = ee.ImageCollection('LANDSAT/LC08/C02/T1_L2').filterDate(f'{year}-05-15', f'{year}-06-15').filterBounds(feature_collection_ee).select(band_red, band_nir,band_swir1,band_swir2, 'QA_PIXEL', 'QA_RADSAT')\n",
    "ndvi2 = col.map(clearNBR2_L8)\n",
    "output_filename = f\"bare_soil_detection/L8image_{year}_06_15\"\n",
    "fullName=f\"bare_soil_detection_test_Pierre_L8_2021\"\n",
    "\n"
   ]
  },
  {
   "cell_type": "code",
   "execution_count": 36,
   "metadata": {},
   "outputs": [
    {
     "data": {
      "text/plain": [
       "['05/29/21', '06/15/21', '06/08/21', '06/22/21', '06/22/21']"
      ]
     },
     "execution_count": 36,
     "metadata": {},
     "output_type": "execute_result"
    }
   ],
   "source": [
    "import time\n",
    "acq_times = col.aggregate_array('DATE_PRODUCT_GENERATED').getInfo()\n",
    "[time.strftime('%x', time.gmtime(acq_time/1000)) for acq_time in acq_times]\n"
   ]
  },
  {
   "cell_type": "code",
   "execution_count": 37,
   "metadata": {},
   "outputs": [],
   "source": [
    "im1 = ee.Image(ndvi2.filterDate(f'{year}-06-07', f'{year}-06-10').select('NDVI').median())\n",
    "im2 = ee.Image(ndvi2.filterDate(f'{year}-06-07', f'{year}-06-10').select('NBR2').median())\n",
    "Im_final=im1.addBands(im2)"
   ]
  },
  {
   "cell_type": "code",
   "execution_count": 38,
   "metadata": {},
   "outputs": [
    {
     "data": {
      "text/plain": [
       "['NDVI', 'NBR2']"
      ]
     },
     "execution_count": 38,
     "metadata": {},
     "output_type": "execute_result"
    }
   ],
   "source": [
    "Im_final.bandNames().getInfo()"
   ]
  },
  {
   "cell_type": "code",
   "execution_count": 39,
   "metadata": {},
   "outputs": [],
   "source": [
    "task=ee.batch.Export.image.toCloudStorage(**{\n",
    "    'image': Im_final,\n",
    "    'description': fullName,\n",
    "    'bucket': 'gri_geosys',\n",
    "    'fileNamePrefix':output_filename,\n",
    "    'scale': 10,\n",
    "    'region':feature.geometry(),\n",
    "    'maxPixels': 15000000000,\n",
    "    'skipEmptyTiles': True\n",
    "    })\n",
    "task.start()"
   ]
  },
  {
   "cell_type": "markdown",
   "metadata": {},
   "source": [
    "# Sentinel 1 "
   ]
  },
  {
   "cell_type": "code",
   "execution_count": 40,
   "metadata": {},
   "outputs": [],
   "source": [
    "import matplotlib.pyplot as plt\n",
    "import numpy as np\n",
    "from scipy.stats import norm, gamma, f, chi2\n",
    "import IPython.display as disp\n",
    "%matplotlib inline\n",
    "#Pandas modules to interact with spatial data\n",
    "import geopandas as gpd\n",
    "import pandas as pd\n",
    "from geopandas import GeoDataFrame\n",
    "from shapely.geometry import Point,Polygon\n",
    "from geemap import geopandas_to_ee\n",
    "\n",
    "from pygeosys.util.dataframe import chunk_dataframe\n",
    "#import numpy\n",
    "import numpy as np\n",
    "from functools import reduce"
   ]
  },
  {
   "cell_type": "code",
   "execution_count": 41,
   "metadata": {},
   "outputs": [
    {
     "ename": "EEException",
     "evalue": "Please authorize access to your Earth Engine account by running\n\nearthengine authenticate\n\nin your command line, and then retry.",
     "output_type": "error",
     "traceback": [
      "\u001b[0;31m---------------------------------------------------------------------------\u001b[0m",
      "\u001b[0;31mFileNotFoundError\u001b[0m                         Traceback (most recent call last)",
      "File \u001b[0;32m~/anaconda3/envs/crop-id-mamba/envs/bare_soil_detection/lib/python3.9/site-packages/ee/data.py:222\u001b[0m, in \u001b[0;36mget_persistent_credentials\u001b[0;34m()\u001b[0m\n\u001b[1;32m    221\u001b[0m \u001b[39mtry\u001b[39;00m:\n\u001b[0;32m--> 222\u001b[0m   \u001b[39mreturn\u001b[39;00m Credentials(\u001b[39mNone\u001b[39;00m, \u001b[39m*\u001b[39m\u001b[39m*\u001b[39moauth\u001b[39m.\u001b[39;49mget_credentials_arguments())\n\u001b[1;32m    223\u001b[0m \u001b[39mexcept\u001b[39;00m \u001b[39mIOError\u001b[39;00m:\n",
      "File \u001b[0;32m~/anaconda3/envs/crop-id-mamba/envs/bare_soil_detection/lib/python3.9/site-packages/ee/oauth.py:72\u001b[0m, in \u001b[0;36mget_credentials_arguments\u001b[0;34m()\u001b[0m\n\u001b[1;32m     71\u001b[0m \u001b[39mdef\u001b[39;00m \u001b[39mget_credentials_arguments\u001b[39m():\n\u001b[0;32m---> 72\u001b[0m   \u001b[39mwith\u001b[39;00m \u001b[39mopen\u001b[39;49m(get_credentials_path()) \u001b[39mas\u001b[39;00m creds:\n\u001b[1;32m     73\u001b[0m     stored \u001b[39m=\u001b[39m json\u001b[39m.\u001b[39mload(creds)\n",
      "\u001b[0;31mFileNotFoundError\u001b[0m: [Errno 2] No such file or directory: '/home/lwh/.config/earthengine/credentials'",
      "\nDuring handling of the above exception, another exception occurred:\n",
      "\u001b[0;31mEEException\u001b[0m                               Traceback (most recent call last)",
      "Cell \u001b[0;32mIn[41], line 3\u001b[0m\n\u001b[1;32m      1\u001b[0m \u001b[39m# Import the Folium library.\u001b[39;00m\n\u001b[1;32m      2\u001b[0m \u001b[39mimport\u001b[39;00m \u001b[39mfolium\u001b[39;00m\n\u001b[0;32m----> 3\u001b[0m \u001b[39mfrom\u001b[39;00m \u001b[39mchange_detection_tools\u001b[39;00m \u001b[39mimport\u001b[39;00m add_ee_layer\n\u001b[1;32m      4\u001b[0m \u001b[39m# Define a method for displaying Earth Engine image tiles to folium map.\u001b[39;00m\n\u001b[1;32m      5\u001b[0m \u001b[39m# def add_ee_layer(self, ee_image_object, vis_params, name):\u001b[39;00m\n\u001b[1;32m      6\u001b[0m \u001b[39m#   map_id_dict = ee.Image(ee_image_object).getMapId(vis_params)\u001b[39;00m\n\u001b[0;32m   (...)\u001b[0m\n\u001b[1;32m     14\u001b[0m \n\u001b[1;32m     15\u001b[0m \u001b[39m# Add EE drawing method to folium.\u001b[39;00m\n\u001b[1;32m     16\u001b[0m folium\u001b[39m.\u001b[39mMap\u001b[39m.\u001b[39madd_ee_layer \u001b[39m=\u001b[39m add_ee_layer\n",
      "File \u001b[0;32m~/Documents/PROJECTS/Bare_soil_detection/bare_soil_detection_test/src/bare_soil_detection_test/data/change_detection_tools.py:2\u001b[0m\n\u001b[1;32m      1\u001b[0m \u001b[39mimport\u001b[39;00m \u001b[39mee\u001b[39;00m\n\u001b[0;32m----> 2\u001b[0m ee\u001b[39m.\u001b[39;49mInitialize()\n\u001b[1;32m      3\u001b[0m \u001b[39mimport\u001b[39;00m \u001b[39mmatplotlib\u001b[39;00m\u001b[39m.\u001b[39;00m\u001b[39mpyplot\u001b[39;00m \u001b[39mas\u001b[39;00m \u001b[39mplt\u001b[39;00m\n\u001b[1;32m      4\u001b[0m \u001b[39mimport\u001b[39;00m \u001b[39mnumpy\u001b[39;00m \u001b[39mas\u001b[39;00m \u001b[39mnp\u001b[39;00m\n",
      "File \u001b[0;32m~/anaconda3/envs/crop-id-mamba/envs/bare_soil_detection/lib/python3.9/site-packages/ee/__init__.py:130\u001b[0m, in \u001b[0;36mInitialize\u001b[0;34m(credentials, opt_url, cloud_api_key, http_transport, project)\u001b[0m\n\u001b[1;32m    113\u001b[0m \u001b[39m\"\"\"Initialize the EE library.\u001b[39;00m\n\u001b[1;32m    114\u001b[0m \n\u001b[1;32m    115\u001b[0m \u001b[39mIf this hasn't been called by the time any object constructor is used,\u001b[39;00m\n\u001b[0;32m   (...)\u001b[0m\n\u001b[1;32m    127\u001b[0m \u001b[39m  project: The client project ID or number to use when making API calls.\u001b[39;00m\n\u001b[1;32m    128\u001b[0m \u001b[39m\"\"\"\u001b[39;00m\n\u001b[1;32m    129\u001b[0m \u001b[39mif\u001b[39;00m credentials \u001b[39m==\u001b[39m \u001b[39m'\u001b[39m\u001b[39mpersistent\u001b[39m\u001b[39m'\u001b[39m:\n\u001b[0;32m--> 130\u001b[0m   credentials \u001b[39m=\u001b[39m data\u001b[39m.\u001b[39;49mget_persistent_credentials()\n\u001b[1;32m    131\u001b[0m data\u001b[39m.\u001b[39minitialize(\n\u001b[1;32m    132\u001b[0m     credentials\u001b[39m=\u001b[39mcredentials,\n\u001b[1;32m    133\u001b[0m     api_base_url\u001b[39m=\u001b[39m(opt_url \u001b[39m+\u001b[39m \u001b[39m'\u001b[39m\u001b[39m/api\u001b[39m\u001b[39m'\u001b[39m \u001b[39mif\u001b[39;00m opt_url \u001b[39melse\u001b[39;00m \u001b[39mNone\u001b[39;00m),\n\u001b[0;32m   (...)\u001b[0m\n\u001b[1;32m    137\u001b[0m     project\u001b[39m=\u001b[39mproject,\n\u001b[1;32m    138\u001b[0m     http_transport\u001b[39m=\u001b[39mhttp_transport)\n\u001b[1;32m    139\u001b[0m \u001b[39m# Initialize the dynamically loaded functions on the objects that want them.\u001b[39;00m\n",
      "File \u001b[0;32m~/anaconda3/envs/crop-id-mamba/envs/bare_soil_detection/lib/python3.9/site-packages/ee/data.py:224\u001b[0m, in \u001b[0;36mget_persistent_credentials\u001b[0;34m()\u001b[0m\n\u001b[1;32m    222\u001b[0m   \u001b[39mreturn\u001b[39;00m Credentials(\u001b[39mNone\u001b[39;00m, \u001b[39m*\u001b[39m\u001b[39m*\u001b[39moauth\u001b[39m.\u001b[39mget_credentials_arguments())\n\u001b[1;32m    223\u001b[0m \u001b[39mexcept\u001b[39;00m \u001b[39mIOError\u001b[39;00m:\n\u001b[0;32m--> 224\u001b[0m   \u001b[39mraise\u001b[39;00m ee_exception\u001b[39m.\u001b[39mEEException(\n\u001b[1;32m    225\u001b[0m       \u001b[39m'\u001b[39m\u001b[39mPlease authorize access to your Earth Engine account by \u001b[39m\u001b[39m'\u001b[39m\n\u001b[1;32m    226\u001b[0m       \u001b[39m'\u001b[39m\u001b[39mrunning\u001b[39m\u001b[39m\\n\u001b[39;00m\u001b[39m\\n\u001b[39;00m\u001b[39mearthengine authenticate\u001b[39m\u001b[39m\\n\u001b[39;00m\u001b[39m\\n\u001b[39;00m\u001b[39m'\u001b[39m\n\u001b[1;32m    227\u001b[0m       \u001b[39m'\u001b[39m\u001b[39min your command line, and then retry.\u001b[39m\u001b[39m'\u001b[39m)\n",
      "\u001b[0;31mEEException\u001b[0m: Please authorize access to your Earth Engine account by running\n\nearthengine authenticate\n\nin your command line, and then retry."
     ]
    }
   ],
   "source": [
    " # Import the Folium library.\n",
    "import folium\n",
    "from change_detection_tools import add_ee_layer\n",
    "# Define a method for displaying Earth Engine image tiles to folium map.\n",
    "# def add_ee_layer(self, ee_image_object, vis_params, name):\n",
    "#   map_id_dict = ee.Image(ee_image_object).getMapId(vis_params)\n",
    "#   folium.raster_layers.TileLayer(\n",
    "#     tiles = map_id_dict['tile_fetcher'].url_format,\n",
    "#     attr = 'Map Data © <a href=\"https://earthengine.google.com/\">Google Earth Engine</a>',\n",
    "#     name = name,\n",
    "#     overlay = True,\n",
    "#     control = True\n",
    "#   ).add_to(self)\n",
    "\n",
    "# Add EE drawing method to folium.\n",
    "folium.Map.add_ee_layer = add_ee_layer"
   ]
  },
  {
   "cell_type": "code",
   "execution_count": 45,
   "metadata": {},
   "outputs": [
    {
     "name": "stdout",
     "output_type": "stream",
     "text": [
      "Chunks: 1\n",
      "Processing chunk 0 / 1\n",
      "Uploading FeatureCollection (1 Features) on server side\n"
     ]
    }
   ],
   "source": [
    "year=2021\n",
    "date_start = f'{year}-05-10' # fall tillage : 08-01 to 11-01 ; spring tillage : 02-01 to 05-01\n",
    "date_end = f'{year}-06-12'\n",
    "\n",
    "chunk_size=3\n",
    "if chunk_size is None:\n",
    "    geometry_collections = [geometry_collection]\n",
    "else:\n",
    "    geometry_collections = list(chunk_dataframe(geometry_collection, chunk_size))\n",
    "\n",
    "print(f'Chunks: {len(geometry_collections)}')\n",
    "filename_prefixes = []\n",
    "for chunk_id,  gc in enumerate(geometry_collections):\n",
    "    print(\n",
    "            f'Processing chunk {chunk_id} / {len(geometry_collections)}')\n",
    "    print(\n",
    "            f'Uploading FeatureCollection ({len(gc)} Features) on server side')\n",
    "    table = geopandas_to_ee(gc)\n",
    "\n",
    "\n",
    "aoi = table.geometry()\n",
    "aoi_sub=table.first().geometry()"
   ]
  },
  {
   "cell_type": "code",
   "execution_count": 49,
   "metadata": {},
   "outputs": [
    {
     "ename": "EEException",
     "evalue": "Please authorize access to your Earth Engine account by running\n\nearthengine authenticate\n\nin your command line, and then retry.",
     "output_type": "error",
     "traceback": [
      "\u001b[0;31m---------------------------------------------------------------------------\u001b[0m",
      "\u001b[0;31mFileNotFoundError\u001b[0m                         Traceback (most recent call last)",
      "File \u001b[0;32m~/anaconda3/envs/crop-id-mamba/envs/bare_soil_detection/lib/python3.9/site-packages/ee/data.py:222\u001b[0m, in \u001b[0;36mget_persistent_credentials\u001b[0;34m()\u001b[0m\n\u001b[1;32m    221\u001b[0m \u001b[39mtry\u001b[39;00m:\n\u001b[0;32m--> 222\u001b[0m   \u001b[39mreturn\u001b[39;00m Credentials(\u001b[39mNone\u001b[39;00m, \u001b[39m*\u001b[39m\u001b[39m*\u001b[39moauth\u001b[39m.\u001b[39;49mget_credentials_arguments())\n\u001b[1;32m    223\u001b[0m \u001b[39mexcept\u001b[39;00m \u001b[39mIOError\u001b[39;00m:\n",
      "File \u001b[0;32m~/anaconda3/envs/crop-id-mamba/envs/bare_soil_detection/lib/python3.9/site-packages/ee/oauth.py:72\u001b[0m, in \u001b[0;36mget_credentials_arguments\u001b[0;34m()\u001b[0m\n\u001b[1;32m     71\u001b[0m \u001b[39mdef\u001b[39;00m \u001b[39mget_credentials_arguments\u001b[39m():\n\u001b[0;32m---> 72\u001b[0m   \u001b[39mwith\u001b[39;00m \u001b[39mopen\u001b[39;49m(get_credentials_path()) \u001b[39mas\u001b[39;00m creds:\n\u001b[1;32m     73\u001b[0m     stored \u001b[39m=\u001b[39m json\u001b[39m.\u001b[39mload(creds)\n",
      "\u001b[0;31mFileNotFoundError\u001b[0m: [Errno 2] No such file or directory: '/home/lwh/.config/earthengine/credentials'",
      "\nDuring handling of the above exception, another exception occurred:\n",
      "\u001b[0;31mEEException\u001b[0m                               Traceback (most recent call last)",
      "Cell \u001b[0;32mIn[49], line 1\u001b[0m\n\u001b[0;32m----> 1\u001b[0m \u001b[39mfrom\u001b[39;00m \u001b[39mchange_detection_tools\u001b[39;00m \u001b[39mimport\u001b[39;00m get_available_orbits\n\u001b[1;32m      2\u001b[0m \u001b[39m# Test fpr available orbit\u001b[39;00m\n\u001b[1;32m      3\u001b[0m im_coll \u001b[39m=\u001b[39m (ee\u001b[39m.\u001b[39mImageCollection(\u001b[39m'\u001b[39m\u001b[39mCOPERNICUS/S1_GRD_FLOAT\u001b[39m\u001b[39m'\u001b[39m)\n\u001b[1;32m      4\u001b[0m            \u001b[39m.\u001b[39mfilterBounds(aoi)\n\u001b[1;32m      5\u001b[0m            \u001b[39m.\u001b[39mfilterDate(ee\u001b[39m.\u001b[39mDate(date_start),ee\u001b[39m.\u001b[39mDate(date_end))\n\u001b[1;32m      6\u001b[0m            \u001b[39m.\u001b[39mfilter(ee\u001b[39m.\u001b[39mFilter\u001b[39m.\u001b[39meq(\u001b[39m'\u001b[39m\u001b[39morbitProperties_pass\u001b[39m\u001b[39m'\u001b[39m, \u001b[39m'\u001b[39m\u001b[39mASCENDING\u001b[39m\u001b[39m'\u001b[39m)))\n",
      "File \u001b[0;32m~/Documents/PROJECTS/Bare_soil_detection/bare_soil_detection_test/src/bare_soil_detection_test/data/change_detection_tools.py:2\u001b[0m\n\u001b[1;32m      1\u001b[0m \u001b[39mimport\u001b[39;00m \u001b[39mee\u001b[39;00m\n\u001b[0;32m----> 2\u001b[0m ee\u001b[39m.\u001b[39;49mInitialize()\n\u001b[1;32m      3\u001b[0m \u001b[39mimport\u001b[39;00m \u001b[39mmatplotlib\u001b[39;00m\u001b[39m.\u001b[39;00m\u001b[39mpyplot\u001b[39;00m \u001b[39mas\u001b[39;00m \u001b[39mplt\u001b[39;00m\n\u001b[1;32m      4\u001b[0m \u001b[39mimport\u001b[39;00m \u001b[39mnumpy\u001b[39;00m \u001b[39mas\u001b[39;00m \u001b[39mnp\u001b[39;00m\n",
      "File \u001b[0;32m~/anaconda3/envs/crop-id-mamba/envs/bare_soil_detection/lib/python3.9/site-packages/ee/__init__.py:130\u001b[0m, in \u001b[0;36mInitialize\u001b[0;34m(credentials, opt_url, cloud_api_key, http_transport, project)\u001b[0m\n\u001b[1;32m    113\u001b[0m \u001b[39m\"\"\"Initialize the EE library.\u001b[39;00m\n\u001b[1;32m    114\u001b[0m \n\u001b[1;32m    115\u001b[0m \u001b[39mIf this hasn't been called by the time any object constructor is used,\u001b[39;00m\n\u001b[0;32m   (...)\u001b[0m\n\u001b[1;32m    127\u001b[0m \u001b[39m  project: The client project ID or number to use when making API calls.\u001b[39;00m\n\u001b[1;32m    128\u001b[0m \u001b[39m\"\"\"\u001b[39;00m\n\u001b[1;32m    129\u001b[0m \u001b[39mif\u001b[39;00m credentials \u001b[39m==\u001b[39m \u001b[39m'\u001b[39m\u001b[39mpersistent\u001b[39m\u001b[39m'\u001b[39m:\n\u001b[0;32m--> 130\u001b[0m   credentials \u001b[39m=\u001b[39m data\u001b[39m.\u001b[39;49mget_persistent_credentials()\n\u001b[1;32m    131\u001b[0m data\u001b[39m.\u001b[39minitialize(\n\u001b[1;32m    132\u001b[0m     credentials\u001b[39m=\u001b[39mcredentials,\n\u001b[1;32m    133\u001b[0m     api_base_url\u001b[39m=\u001b[39m(opt_url \u001b[39m+\u001b[39m \u001b[39m'\u001b[39m\u001b[39m/api\u001b[39m\u001b[39m'\u001b[39m \u001b[39mif\u001b[39;00m opt_url \u001b[39melse\u001b[39;00m \u001b[39mNone\u001b[39;00m),\n\u001b[0;32m   (...)\u001b[0m\n\u001b[1;32m    137\u001b[0m     project\u001b[39m=\u001b[39mproject,\n\u001b[1;32m    138\u001b[0m     http_transport\u001b[39m=\u001b[39mhttp_transport)\n\u001b[1;32m    139\u001b[0m \u001b[39m# Initialize the dynamically loaded functions on the objects that want them.\u001b[39;00m\n",
      "File \u001b[0;32m~/anaconda3/envs/crop-id-mamba/envs/bare_soil_detection/lib/python3.9/site-packages/ee/data.py:224\u001b[0m, in \u001b[0;36mget_persistent_credentials\u001b[0;34m()\u001b[0m\n\u001b[1;32m    222\u001b[0m   \u001b[39mreturn\u001b[39;00m Credentials(\u001b[39mNone\u001b[39;00m, \u001b[39m*\u001b[39m\u001b[39m*\u001b[39moauth\u001b[39m.\u001b[39mget_credentials_arguments())\n\u001b[1;32m    223\u001b[0m \u001b[39mexcept\u001b[39;00m \u001b[39mIOError\u001b[39;00m:\n\u001b[0;32m--> 224\u001b[0m   \u001b[39mraise\u001b[39;00m ee_exception\u001b[39m.\u001b[39mEEException(\n\u001b[1;32m    225\u001b[0m       \u001b[39m'\u001b[39m\u001b[39mPlease authorize access to your Earth Engine account by \u001b[39m\u001b[39m'\u001b[39m\n\u001b[1;32m    226\u001b[0m       \u001b[39m'\u001b[39m\u001b[39mrunning\u001b[39m\u001b[39m\\n\u001b[39;00m\u001b[39m\\n\u001b[39;00m\u001b[39mearthengine authenticate\u001b[39m\u001b[39m\\n\u001b[39;00m\u001b[39m\\n\u001b[39;00m\u001b[39m'\u001b[39m\n\u001b[1;32m    227\u001b[0m       \u001b[39m'\u001b[39m\u001b[39min your command line, and then retry.\u001b[39m\u001b[39m'\u001b[39m)\n",
      "\u001b[0;31mEEException\u001b[0m: Please authorize access to your Earth Engine account by running\n\nearthengine authenticate\n\nin your command line, and then retry."
     ]
    }
   ],
   "source": [
    "from change_detection_tools import get_available_orbits\n",
    "# Test fpr available orbit\n",
    "im_coll = (ee.ImageCollection('COPERNICUS/S1_GRD_FLOAT')\n",
    "           .filterBounds(aoi)\n",
    "           .filterDate(ee.Date(date_start),ee.Date(date_end))\n",
    "           .filter(ee.Filter.eq('orbitProperties_pass', 'ASCENDING')))\n",
    "\n",
    "# im_coll.aggregate_array('relativeOrbitNumber_start').getInfo()\n",
    "print (get_available_orbits(im_coll))"
   ]
  },
  {
   "cell_type": "code",
   "execution_count": 50,
   "metadata": {},
   "outputs": [],
   "source": [
    "dataset=ee.ImageCollection('COPERNICUS/S1_GRD')\n",
    "im_coll = dataset.filterBounds(\n",
    "    aoi_sub).filterDate(ee.Date(date_start),ee.Date(date_end)\n",
    "    ).filter(ee.Filter.eq('orbitProperties_pass', 'ASCENDING')\n",
    "    ).sort('system:time_start')"
   ]
  },
  {
   "cell_type": "code",
   "execution_count": 51,
   "metadata": {},
   "outputs": [
    {
     "data": {
      "text/html": [
       "<div><style>:root {\n",
       "  --font-color-primary: var(--jp-content-font-color0, rgba(0, 0, 0, 1));\n",
       "  --font-color-secondary: var(--jp-content-font-color2, rgba(0, 0, 0, 0.6));\n",
       "  --font-color-accent: rgba(123, 31, 162, 1);\n",
       "  --border-color: var(--jp-border-color2, #e0e0e0);\n",
       "  --background-color: var(--jp-layout-color0, white);\n",
       "  --background-color-row-even: var(--jp-layout-color1, white);\n",
       "  --background-color-row-odd: var(--jp-layout-color2, #eeeeee);\n",
       "}\n",
       "\n",
       "html[theme=\"dark\"],\n",
       "body[data-theme=\"dark\"],\n",
       "body.vscode-dark {\n",
       "  --font-color-primary: rgba(255, 255, 255, 1);\n",
       "  --font-color-secondary: rgba(255, 255, 255, 0.6);\n",
       "  --font-color-accent: rgb(173, 132, 190);\n",
       "  --border-color: #2e2e2e;\n",
       "  --background-color: #111111;\n",
       "  --background-color-row-even: #111111;\n",
       "  --background-color-row-odd: #313131;\n",
       "}\n",
       "\n",
       ".ee {\n",
       "  padding: 1em;\n",
       "  line-height: 1.5em;\n",
       "  min-width: 300px;\n",
       "  max-width: 1200px;\n",
       "  overflow-y: scroll;\n",
       "  max-height: 600px;\n",
       "  border: 1px solid var(--border-color);\n",
       "  font-family: monospace;\n",
       "}\n",
       "\n",
       ".ee li {\n",
       "  list-style-type: none;\n",
       "}\n",
       "\n",
       ".ee ul {\n",
       "  padding-left: 1.5em !important;\n",
       "  margin: 0;\n",
       "}\n",
       "\n",
       ".ee > ul {\n",
       "  padding-left: 0 !important;\n",
       "}\n",
       "\n",
       ".ee-open,\n",
       ".ee-shut {\n",
       "  color: var(--font-color-secondary);\n",
       "  cursor: pointer;\n",
       "  margin: 0;\n",
       "}\n",
       "\n",
       ".ee-open:hover,\n",
       ".ee-shut:hover {\n",
       "  color: var(--font-color-primary);\n",
       "}\n",
       "\n",
       ".ee-k {\n",
       "  color: var(--font-color-accent);\n",
       "  margin-right: 6px;\n",
       "}\n",
       "\n",
       ".ee-v {\n",
       "  color: var(--font-color-primary);\n",
       "}\n",
       "\n",
       ".ee-toggle {\n",
       "  display: none;\n",
       "}\n",
       "\n",
       ".ee-shut + ul {\n",
       "  display: none;\n",
       "}\n",
       "\n",
       ".ee-open + ul {\n",
       "  display: block;\n",
       "}\n",
       "\n",
       ".ee-shut::before {\n",
       "  display: inline-block;\n",
       "  content: \"▼\";\n",
       "  margin-right: 6px;\n",
       "  transform: rotate(-90deg);\n",
       "  transition: transform 0.2s;\n",
       "}\n",
       "\n",
       ".ee-open::before {\n",
       "  transform: rotate(0deg);\n",
       "  display: inline-block;\n",
       "  content: \"▼\";\n",
       "  margin-right: 6px;\n",
       "  transition: transform 0.2s;\n",
       "}\n",
       "</style><div class='ee'><ul><li><label class='ee-shut'>Image COPERNICUS/S1_GRD/S1B_IW_GRDH_1SDV_20210510T003050_20210510T003115_026835_0334AF_11A6 (3 bands)<input type='checkbox' class='ee-toggle'></label><ul><li><span class='ee-k'>type:</span><span class='ee-v'>Image</span></li><li><span class='ee-k'>id:</span><span class='ee-v'>COPERNICUS/S1_GRD/S1B_IW_GRDH_1SDV_20210510T003050_20210510T003115_026835_0334AF_11A6</span></li><li><span class='ee-k'>version:</span><span class='ee-v'>1678289307697128</span></li><li><label class='ee-shut'>bands: List (3 elements)<input type='checkbox' class='ee-toggle'></label><ul><li><label class='ee-shut'>0: \"VV\", double, EPSG:32614, 28647x21361 px<input type='checkbox' class='ee-toggle'></label><ul><li><span class='ee-k'>id:</span><span class='ee-v'>VV</span></li><li><span class='ee-k'>crs:</span><span class='ee-v'>EPSG:32614</span></li><li><label class='ee-shut'>crs_transform: List (6 elements)<input type='checkbox' class='ee-toggle'></label><ul><li><span class='ee-k'>0:</span><span class='ee-v'>10</span></li><li><span class='ee-k'>1:</span><span class='ee-v'>0</span></li><li><span class='ee-k'>2:</span><span class='ee-v'>294108.50925677636</span></li><li><span class='ee-k'>3:</span><span class='ee-v'>0</span></li><li><span class='ee-k'>4:</span><span class='ee-v'>-10</span></li><li><span class='ee-k'>5:</span><span class='ee-v'>5272900.117018786</span></li></ul></li><li><label class='ee-shut'>data_type: double<input type='checkbox' class='ee-toggle'></label><ul><li><span class='ee-k'>type:</span><span class='ee-v'>PixelType</span></li><li><span class='ee-k'>precision:</span><span class='ee-v'>double</span></li></ul></li><li><label class='ee-shut'>dimensions: [28647, 21361]<input type='checkbox' class='ee-toggle'></label><ul><li><span class='ee-k'>0:</span><span class='ee-v'>28647</span></li><li><span class='ee-k'>1:</span><span class='ee-v'>21361</span></li></ul></li></ul></li><li><label class='ee-shut'>1: \"VH\", double, EPSG:32614, 28647x21361 px<input type='checkbox' class='ee-toggle'></label><ul><li><span class='ee-k'>id:</span><span class='ee-v'>VH</span></li><li><span class='ee-k'>crs:</span><span class='ee-v'>EPSG:32614</span></li><li><label class='ee-shut'>crs_transform: List (6 elements)<input type='checkbox' class='ee-toggle'></label><ul><li><span class='ee-k'>0:</span><span class='ee-v'>10</span></li><li><span class='ee-k'>1:</span><span class='ee-v'>0</span></li><li><span class='ee-k'>2:</span><span class='ee-v'>294108.50925677636</span></li><li><span class='ee-k'>3:</span><span class='ee-v'>0</span></li><li><span class='ee-k'>4:</span><span class='ee-v'>-10</span></li><li><span class='ee-k'>5:</span><span class='ee-v'>5272900.117018786</span></li></ul></li><li><label class='ee-shut'>data_type: double<input type='checkbox' class='ee-toggle'></label><ul><li><span class='ee-k'>type:</span><span class='ee-v'>PixelType</span></li><li><span class='ee-k'>precision:</span><span class='ee-v'>double</span></li></ul></li><li><label class='ee-shut'>dimensions: [28647, 21361]<input type='checkbox' class='ee-toggle'></label><ul><li><span class='ee-k'>0:</span><span class='ee-v'>28647</span></li><li><span class='ee-k'>1:</span><span class='ee-v'>21361</span></li></ul></li></ul></li><li><label class='ee-shut'>2: \"angle\", float, EPSG:32614, 21x10 px<input type='checkbox' class='ee-toggle'></label><ul><li><span class='ee-k'>id:</span><span class='ee-v'>angle</span></li><li><span class='ee-k'>crs:</span><span class='ee-v'>EPSG:32614</span></li><li><label class='ee-shut'>crs_transform: List (6 elements)<input type='checkbox' class='ee-toggle'></label><ul><li><span class='ee-k'>0:</span><span class='ee-v'>12568.97285672999</span></li><li><span class='ee-k'>1:</span><span class='ee-v'>-3302.831963928533</span></li><li><span class='ee-k'>2:</span><span class='ee-v'>327602.0686595312</span></li><li><span class='ee-k'>3:</span><span class='ee-v'>2088.3251163987443</span></li><li><span class='ee-k'>4:</span><span class='ee-v'>20103.39581066277</span></li><li><span class='ee-k'>5:</span><span class='ee-v'>5061661.9392018905</span></li></ul></li><li><label class='ee-shut'>data_type: float<input type='checkbox' class='ee-toggle'></label><ul><li><span class='ee-k'>type:</span><span class='ee-v'>PixelType</span></li><li><span class='ee-k'>precision:</span><span class='ee-v'>float</span></li></ul></li><li><label class='ee-shut'>dimensions: [21, 10]<input type='checkbox' class='ee-toggle'></label><ul><li><span class='ee-k'>0:</span><span class='ee-v'>21</span></li><li><span class='ee-k'>1:</span><span class='ee-v'>10</span></li></ul></li></ul></li></ul></li><li><label class='ee-shut'>properties: Object (54 properties)<input type='checkbox' class='ee-toggle'></label><ul><li><span class='ee-k'>GRD_Post_Processing_facility_country:</span><span class='ee-v'>France</span></li><li><span class='ee-k'>GRD_Post_Processing_facility_name:</span><span class='ee-v'>Copernicus S1 Core Ground Segment - TLS</span></li><li><span class='ee-k'>GRD_Post_Processing_facility_org:</span><span class='ee-v'>ESA</span></li><li><span class='ee-k'>GRD_Post_Processing_facility_site:</span><span class='ee-v'>Airbus Defence and Space-Toulouse</span></li><li><span class='ee-k'>GRD_Post_Processing_software_name:</span><span class='ee-v'>Sentinel-1 IPF</span></li><li><span class='ee-k'>GRD_Post_Processing_software_version:</span><span class='ee-v'>003.31</span></li><li><span class='ee-k'>GRD_Post_Processing_start:</span><span class='ee-v'>1620641151521</span></li><li><span class='ee-k'>GRD_Post_Processing_stop:</span><span class='ee-v'>1620642175000</span></li><li><span class='ee-k'>S1TBX_Calibration_vers:</span><span class='ee-v'>8.0.3</span></li><li><span class='ee-k'>S1TBX_SAR_Processing_vers:</span><span class='ee-v'>8.0.3</span></li><li><span class='ee-k'>SLC_Processing_facility_country:</span><span class='ee-v'>France</span></li><li><span class='ee-k'>SLC_Processing_facility_name:</span><span class='ee-v'>Copernicus S1 Core Ground Segment - TLS</span></li><li><span class='ee-k'>SLC_Processing_facility_org:</span><span class='ee-v'>ESA</span></li><li><span class='ee-k'>SLC_Processing_facility_site:</span><span class='ee-v'>Airbus Defence and Space-Toulouse</span></li><li><span class='ee-k'>SLC_Processing_software_name:</span><span class='ee-v'>Sentinel-1 IPF</span></li><li><span class='ee-k'>SLC_Processing_software_version:</span><span class='ee-v'>003.31</span></li><li><span class='ee-k'>SLC_Processing_start:</span><span class='ee-v'>1620641301000</span></li><li><span class='ee-k'>SLC_Processing_stop:</span><span class='ee-v'>1620641809000</span></li><li><span class='ee-k'>SNAP_Graph_Processing_Framework_GPF_vers:</span><span class='ee-v'>8.0.3</span></li><li><span class='ee-k'>cycleNumber:</span><span class='ee-v'>160</span></li><li><span class='ee-k'>familyName:</span><span class='ee-v'>SENTINEL-1</span></li><li><span class='ee-k'>instrument:</span><span class='ee-v'>Synthetic Aperture Radar</span></li><li><span class='ee-k'>instrumentConfigurationID:</span><span class='ee-v'>1</span></li><li><span class='ee-k'>instrumentMode:</span><span class='ee-v'>IW</span></li><li><span class='ee-k'>instrumentSwath:</span><span class='ee-v'>IW</span></li><li><span class='ee-k'>missionDataTakeID:</span><span class='ee-v'>210095</span></li><li><span class='ee-k'>nssdcIdentifier:</span><span class='ee-v'>2016-025A</span></li><li><span class='ee-k'>orbitNumber_start:</span><span class='ee-v'>26835</span></li><li><span class='ee-k'>orbitNumber_stop:</span><span class='ee-v'>26835</span></li><li><span class='ee-k'>orbitProperties_ascendingNodeTime:</span><span class='ee-v'>1620605904912</span></li><li><span class='ee-k'>orbitProperties_pass:</span><span class='ee-v'>ASCENDING</span></li><li><span class='ee-k'>phaseIdentifier:</span><span class='ee-v'>1</span></li><li><span class='ee-k'>platform_number:</span><span class='ee-v'>B</span></li><li><span class='ee-k'>productClass:</span><span class='ee-v'>S</span></li><li><span class='ee-k'>productClassDescription:</span><span class='ee-v'>SAR Standard L1 Product</span></li><li><span class='ee-k'>productComposition:</span><span class='ee-v'>Slice</span></li><li><span class='ee-k'>productTimelinessCategory:</span><span class='ee-v'>Fast-24h</span></li><li><span class='ee-k'>productType:</span><span class='ee-v'>GRD</span></li><li><span class='ee-k'>relativeOrbitNumber_start:</span><span class='ee-v'>34</span></li><li><span class='ee-k'>relativeOrbitNumber_stop:</span><span class='ee-v'>34</span></li><li><span class='ee-k'>resolution:</span><span class='ee-v'>H</span></li><li><span class='ee-k'>resolution_meters:</span><span class='ee-v'>10</span></li><li><span class='ee-k'>segmentStartTime:</span><span class='ee-v'>1620606597030</span></li><li><span class='ee-k'>sliceNumber:</span><span class='ee-v'>3</span></li><li><span class='ee-k'>sliceProductFlag:</span><span class='ee-v'>true</span></li><li><span class='ee-k'>startTimeANX:</span><span class='ee-v'>745819.8</span></li><li><span class='ee-k'>stopTimeANX:</span><span class='ee-v'>770817.6</span></li><li><span class='ee-k'>system:asset_size:</span><span class='ee-v'>4047397463</span></li><li><label class='ee-shut'>system:footprint: LinearRing (20 vertices)<input type='checkbox' class='ee-toggle'></label><ul><li><span class='ee-k'>type:</span><span class='ee-v'>LinearRing</span></li><li><label class='ee-shut'>coordinates: List (20 elements)<input type='checkbox' class='ee-toggle'></label><ul><li><label class='ee-shut'>0: [-98.34807370099789, 47.574543099869416]<input type='checkbox' class='ee-toggle'></label><ul><li><span class='ee-k'>0:</span><span class='ee-v'>-98.34807370099789</span></li><li><span class='ee-k'>1:</span><span class='ee-v'>47.574543099869416</span></li></ul></li><li><label class='ee-shut'>1: [-98.35079942974691, 47.57455852548515]<input type='checkbox' class='ee-toggle'></label><ul><li><span class='ee-k'>0:</span><span class='ee-v'>-98.35079942974691</span></li><li><span class='ee-k'>1:</span><span class='ee-v'>47.57455852548515</span></li></ul></li><li><label class='ee-shut'>2: [-101.00643294643324, 47.26809834838802]<input type='checkbox' class='ee-toggle'></label><ul><li><span class='ee-k'>0:</span><span class='ee-v'>-101.00643294643324</span></li><li><span class='ee-k'>1:</span><span class='ee-v'>47.26809834838802</span></li></ul></li><li><label class='ee-shut'>3: [-101.56122973567226, 47.1958206003781]<input type='checkbox' class='ee-toggle'></label><ul><li><span class='ee-k'>0:</span><span class='ee-v'>-101.56122973567226</span></li><li><span class='ee-k'>1:</span><span class='ee-v'>47.1958206003781</span></li></ul></li><li><label class='ee-shut'>4: [-101.62425864731398, 47.187418533177635]<input type='checkbox' class='ee-toggle'></label><ul><li><span class='ee-k'>0:</span><span class='ee-v'>-101.62425864731398</span></li><li><span class='ee-k'>1:</span><span class='ee-v'>47.187418533177635</span></li></ul></li><li><label class='ee-shut'>5: [-101.62153579519556, 47.17646653911867]<input type='checkbox' class='ee-toggle'></label><ul><li><span class='ee-k'>0:</span><span class='ee-v'>-101.62153579519556</span></li><li><span class='ee-k'>1:</span><span class='ee-v'>47.17646653911867</span></li></ul></li><li><label class='ee-shut'>6: [-101.53012668220791, 46.84347615246585]<input type='checkbox' class='ee-toggle'></label><ul><li><span class='ee-k'>0:</span><span class='ee-v'>-101.53012668220791</span></li><li><span class='ee-k'>1:</span><span class='ee-v'>46.84347615246585</span></li></ul></li><li><label class='ee-shut'>7: [-101.50700153674022, 46.760828522840185]<input type='checkbox' class='ee-toggle'></label><ul><li><span class='ee-k'>0:</span><span class='ee-v'>-101.50700153674022</span></li><li><span class='ee-k'>1:</span><span class='ee-v'>46.760828522840185</span></li></ul></li><li><label class='ee-shut'>8: [-101.49527126391183, 46.719506257842326]<input type='checkbox' class='ee-toggle'></label><ul><li><span class='ee-k'>0:</span><span class='ee-v'>-101.49527126391183</span></li><li><span class='ee-k'>1:</span><span class='ee-v'>46.719506257842326</span></li></ul></li><li><label class='ee-shut'>9: [-101.46119776878942, 46.60036743750881]<input type='checkbox' class='ee-toggle'></label><ul><li><span class='ee-k'>0:</span><span class='ee-v'>-101.46119776878942</span></li><li><span class='ee-k'>1:</span><span class='ee-v'>46.60036743750881</span></li></ul></li><li><label class='ee-shut'>10: [-101.32501103501856, 46.12558162547901]<input type='checkbox' class='ee-toggle'></label><ul><li><span class='ee-k'>0:</span><span class='ee-v'>-101.32501103501856</span></li><li><span class='ee-k'>1:</span><span class='ee-v'>46.12558162547901</span></li></ul></li><li><label class='ee-shut'>11: [-101.21050058451469, 45.720776857110984]<input type='checkbox' class='ee-toggle'></label><ul><li><span class='ee-k'>0:</span><span class='ee-v'>-101.21050058451469</span></li><li><span class='ee-k'>1:</span><span class='ee-v'>45.720776857110984</span></li></ul></li><li><label class='ee-shut'>12: [-101.20000996712062, 45.68892573769574]<input type='checkbox' class='ee-toggle'></label><ul><li><span class='ee-k'>0:</span><span class='ee-v'>-101.20000996712062</span></li><li><span class='ee-k'>1:</span><span class='ee-v'>45.68892573769574</span></li></ul></li><li><label class='ee-shut'>13: [-101.10528577586672, 45.701786170247104]<input type='checkbox' class='ee-toggle'></label><ul><li><span class='ee-k'>0:</span><span class='ee-v'>-101.10528577586672</span></li><li><span class='ee-k'>1:</span><span class='ee-v'>45.701786170247104</span></li></ul></li><li><label class='ee-shut'>14: [-99.36213967096889, 45.92366769460728]<input type='checkbox' class='ee-toggle'></label><ul><li><span class='ee-k'>0:</span><span class='ee-v'>-99.36213967096889</span></li><li><span class='ee-k'>1:</span><span class='ee-v'>45.92366769460728</span></li></ul></li><li><label class='ee-shut'>15: [-98.01740412071537, 46.075617869489676]<input type='checkbox' class='ee-toggle'></label><ul><li><span class='ee-k'>0:</span><span class='ee-v'>-98.01740412071537</span></li><li><span class='ee-k'>1:</span><span class='ee-v'>46.075617869489676</span></li></ul></li><li><label class='ee-shut'>16: [-98.02016954931885, 46.10374781324252]<input type='checkbox' class='ee-toggle'></label><ul><li><span class='ee-k'>0:</span><span class='ee-v'>-98.02016954931885</span></li><li><span class='ee-k'>1:</span><span class='ee-v'>46.10374781324252</span></li></ul></li><li><label class='ee-shut'>17: [-98.02375581285935, 46.12052248279019]<input type='checkbox' class='ee-toggle'></label><ul><li><span class='ee-k'>0:</span><span class='ee-v'>-98.02375581285935</span></li><li><span class='ee-k'>1:</span><span class='ee-v'>46.12052248279019</span></li></ul></li><li><label class='ee-shut'>18: [-98.18305838836822, 46.8443972411218]<input type='checkbox' class='ee-toggle'></label><ul><li><span class='ee-k'>0:</span><span class='ee-v'>-98.18305838836822</span></li><li><span class='ee-k'>1:</span><span class='ee-v'>46.8443972411218</span></li></ul></li><li><label class='ee-shut'>19: [-98.34807370099789, 47.574543099869416]<input type='checkbox' class='ee-toggle'></label><ul><li><span class='ee-k'>0:</span><span class='ee-v'>-98.34807370099789</span></li><li><span class='ee-k'>1:</span><span class='ee-v'>47.574543099869416</span></li></ul></li></ul></li></ul></li><li><span class='ee-k'>system:index:</span><span class='ee-v'>S1B_IW_GRDH_1SDV_20210510T003050_20210510T003115_026835_0334AF_11A6</span></li><li><span class='ee-k'>system:time_end:</span><span class='ee-v'>1620606650000</span></li><li><span class='ee-k'>system:time_start:</span><span class='ee-v'>1620606650000</span></li><li><span class='ee-k'>totalSlices:</span><span class='ee-v'>9</span></li><li><label class='ee-shut'>transmitterReceiverPolarisation: ['VV', 'VH']<input type='checkbox' class='ee-toggle'></label><ul><li><span class='ee-k'>0:</span><span class='ee-v'>VV</span></li><li><span class='ee-k'>1:</span><span class='ee-v'>VH</span></li></ul></li></ul></li></ul></li></ul></div><script>function toggleHeader() {\n",
       "    const parent = this.parentElement;\n",
       "    parent.className = parent.className === \"ee-open\" ? \"ee-shut\" : \"ee-open\";\n",
       "}\n",
       "\n",
       "for (let c of document.getElementsByClassName(\"ee-toggle\")) {\n",
       "    c.onclick = toggleHeader;\n",
       "}</script></div>"
      ],
      "text/plain": [
       "<ee.computedobject.ComputedObject at 0x7f01f50cbd60>"
      ]
     },
     "execution_count": 51,
     "metadata": {},
     "output_type": "execute_result"
    }
   ],
   "source": [
    "im_list = im_coll.toList(im_coll.size())\n",
    "im_list.get(0)"
   ]
  },
  {
   "cell_type": "code",
   "execution_count": 52,
   "metadata": {},
   "outputs": [
    {
     "data": {
      "text/plain": [
       "[34, 136, 34, 136, 34, 136]"
      ]
     },
     "execution_count": 52,
     "metadata": {},
     "output_type": "execute_result"
    }
   ],
   "source": [
    "im_coll.aggregate_array('relativeOrbitNumber_start').getInfo()\n"
   ]
  },
  {
   "cell_type": "code",
   "execution_count": 53,
   "metadata": {},
   "outputs": [
    {
     "data": {
      "text/plain": [
       "['05/10/21', '05/17/21', '05/22/21', '05/29/21', '06/03/21', '06/10/21']"
      ]
     },
     "execution_count": 53,
     "metadata": {},
     "output_type": "execute_result"
    }
   ],
   "source": [
    "import time\n",
    "acq_times = im_coll.aggregate_array('system:time_start').getInfo()\n",
    "[time.strftime('%x', time.gmtime(acq_time/1000)) for acq_time in acq_times]"
   ]
  },
  {
   "cell_type": "code",
   "execution_count": 54,
   "metadata": {},
   "outputs": [],
   "source": [
    "def RVI(image):\n",
    "    return image.addBands(image.expression('4*(10**(VH/10))/((10**(VH/10))+(10**(VV/10)))', {\n",
    "                'VH': image.select('VH'),\n",
    "                'VV': image.select('VV'), }).rename('RVI'))"
   ]
  },
  {
   "cell_type": "code",
   "execution_count": 55,
   "metadata": {},
   "outputs": [],
   "source": [
    "im_coll=im_coll.map(RVI)\n",
    "im_list = im_coll.toList(im_coll.size())\n",
    "im1 = ee.Image(im_list.get(4)).select('RVI').clip(aoi_sub)\n",
    "# im2 = ee.Image(im_list.get(6)).select('VV').clip(aoi_sub)"
   ]
  },
  {
   "cell_type": "code",
   "execution_count": 56,
   "metadata": {},
   "outputs": [
    {
     "data": {
      "text/html": [
       "<div style=\"width:100%;\"><div style=\"position:relative;width:100%;height:0;padding-bottom:60%;\"><span style=\"color:#565656\">Make this Notebook Trusted to load map: File -> Trust Notebook</span><iframe srcdoc=\"&lt;!DOCTYPE html&gt;\n",
       "&lt;html&gt;\n",
       "&lt;head&gt;\n",
       "    \n",
       "    &lt;meta http-equiv=&quot;content-type&quot; content=&quot;text/html; charset=UTF-8&quot; /&gt;\n",
       "    \n",
       "        &lt;script&gt;\n",
       "            L_NO_TOUCH = false;\n",
       "            L_DISABLE_3D = false;\n",
       "        &lt;/script&gt;\n",
       "    \n",
       "    &lt;style&gt;html, body {width: 100%;height: 100%;margin: 0;padding: 0;}&lt;/style&gt;\n",
       "    &lt;style&gt;#map {position:absolute;top:0;bottom:0;right:0;left:0;}&lt;/style&gt;\n",
       "    &lt;script src=&quot;https://cdn.jsdelivr.net/npm/leaflet@1.9.3/dist/leaflet.js&quot;&gt;&lt;/script&gt;\n",
       "    &lt;script src=&quot;https://code.jquery.com/jquery-1.12.4.min.js&quot;&gt;&lt;/script&gt;\n",
       "    &lt;script src=&quot;https://cdn.jsdelivr.net/npm/bootstrap@5.2.2/dist/js/bootstrap.bundle.min.js&quot;&gt;&lt;/script&gt;\n",
       "    &lt;script src=&quot;https://cdnjs.cloudflare.com/ajax/libs/Leaflet.awesome-markers/2.0.2/leaflet.awesome-markers.js&quot;&gt;&lt;/script&gt;\n",
       "    &lt;link rel=&quot;stylesheet&quot; href=&quot;https://cdn.jsdelivr.net/npm/leaflet@1.9.3/dist/leaflet.css&quot;/&gt;\n",
       "    &lt;link rel=&quot;stylesheet&quot; href=&quot;https://cdn.jsdelivr.net/npm/bootstrap@5.2.2/dist/css/bootstrap.min.css&quot;/&gt;\n",
       "    &lt;link rel=&quot;stylesheet&quot; href=&quot;https://netdna.bootstrapcdn.com/bootstrap/3.0.0/css/bootstrap.min.css&quot;/&gt;\n",
       "    &lt;link rel=&quot;stylesheet&quot; href=&quot;https://cdn.jsdelivr.net/npm/@fortawesome/fontawesome-free@6.2.0/css/all.min.css&quot;/&gt;\n",
       "    &lt;link rel=&quot;stylesheet&quot; href=&quot;https://cdnjs.cloudflare.com/ajax/libs/Leaflet.awesome-markers/2.0.2/leaflet.awesome-markers.css&quot;/&gt;\n",
       "    &lt;link rel=&quot;stylesheet&quot; href=&quot;https://cdn.jsdelivr.net/gh/python-visualization/folium/folium/templates/leaflet.awesome.rotate.min.css&quot;/&gt;\n",
       "    \n",
       "            &lt;meta name=&quot;viewport&quot; content=&quot;width=device-width,\n",
       "                initial-scale=1.0, maximum-scale=1.0, user-scalable=no&quot; /&gt;\n",
       "            &lt;style&gt;\n",
       "                #map_99f145e91902de510904e89415799fce {\n",
       "                    position: relative;\n",
       "                    width: 100.0%;\n",
       "                    height: 100.0%;\n",
       "                    left: 0.0%;\n",
       "                    top: 0.0%;\n",
       "                }\n",
       "                .leaflet-container { font-size: 1rem; }\n",
       "            &lt;/style&gt;\n",
       "        \n",
       "&lt;/head&gt;\n",
       "&lt;body&gt;\n",
       "    \n",
       "    \n",
       "            &lt;div class=&quot;folium-map&quot; id=&quot;map_99f145e91902de510904e89415799fce&quot; &gt;&lt;/div&gt;\n",
       "        \n",
       "&lt;/body&gt;\n",
       "&lt;script&gt;\n",
       "    \n",
       "    \n",
       "            var map_99f145e91902de510904e89415799fce = L.map(\n",
       "                &quot;map_99f145e91902de510904e89415799fce&quot;,\n",
       "                {\n",
       "                    center: [46.583717106601526, -98.61526791597586],\n",
       "                    crs: L.CRS.EPSG3857,\n",
       "                    zoom: 20,\n",
       "                    zoomControl: true,\n",
       "                    preferCanvas: false,\n",
       "                }\n",
       "            );\n",
       "\n",
       "            \n",
       "\n",
       "        \n",
       "    \n",
       "            var tile_layer_2edae77a89b3ff2b0dd5b0695b77cb6a = L.tileLayer(\n",
       "                &quot;https://{s}.tile.openstreetmap.org/{z}/{x}/{y}.png&quot;,\n",
       "                {&quot;attribution&quot;: &quot;Data by \\u0026copy; \\u003ca target=\\&quot;_blank\\&quot; href=\\&quot;http://openstreetmap.org\\&quot;\\u003eOpenStreetMap\\u003c/a\\u003e, under \\u003ca target=\\&quot;_blank\\&quot; href=\\&quot;http://www.openstreetmap.org/copyright\\&quot;\\u003eODbL\\u003c/a\\u003e.&quot;, &quot;detectRetina&quot;: false, &quot;maxNativeZoom&quot;: 18, &quot;maxZoom&quot;: 18, &quot;minZoom&quot;: 0, &quot;noWrap&quot;: false, &quot;opacity&quot;: 1, &quot;subdomains&quot;: &quot;abc&quot;, &quot;tms&quot;: false}\n",
       "            ).addTo(map_99f145e91902de510904e89415799fce);\n",
       "        \n",
       "    \n",
       "            var tile_layer_94c7c7747bef9f71db68624b115edf23 = L.tileLayer(\n",
       "                &quot;https://earthengine.googleapis.com/v1alpha/projects/earthengine-legacy/maps/3a60577606826097d89e4a899e8f80a4-c28f1e1c94f3f39c92ae97d3fc51c245/tiles/{z}/{x}/{y}&quot;,\n",
       "                {&quot;attribution&quot;: &quot;Map Data \\u00a9 \\u003ca href=\\&quot;https://earthengine.google.com/\\&quot;\\u003eGoogle Earth Engine\\u003c/a\\u003e&quot;, &quot;detectRetina&quot;: false, &quot;maxNativeZoom&quot;: 18, &quot;maxZoom&quot;: 18, &quot;minZoom&quot;: 0, &quot;noWrap&quot;: false, &quot;opacity&quot;: 1, &quot;subdomains&quot;: &quot;abc&quot;, &quot;tms&quot;: false}\n",
       "            ).addTo(map_99f145e91902de510904e89415799fce);\n",
       "        \n",
       "    \n",
       "            var layer_control_00cda95389fffb2227d214816946f0e6 = {\n",
       "                base_layers : {\n",
       "                    &quot;openstreetmap&quot; : tile_layer_2edae77a89b3ff2b0dd5b0695b77cb6a,\n",
       "                },\n",
       "                overlays :  {\n",
       "                    &quot;Ratio&quot; : tile_layer_94c7c7747bef9f71db68624b115edf23,\n",
       "                },\n",
       "            };\n",
       "            L.control.layers(\n",
       "                layer_control_00cda95389fffb2227d214816946f0e6.base_layers,\n",
       "                layer_control_00cda95389fffb2227d214816946f0e6.overlays,\n",
       "                {&quot;autoZIndex&quot;: true, &quot;collapsed&quot;: true, &quot;position&quot;: &quot;topright&quot;}\n",
       "            ).addTo(map_99f145e91902de510904e89415799fce);\n",
       "        \n",
       "&lt;/script&gt;\n",
       "&lt;/html&gt;\" style=\"position:absolute;width:100%;height:100%;left:0;top:0;border:none !important;\" allowfullscreen webkitallowfullscreen mozallowfullscreen></iframe></div></div>"
      ],
      "text/plain": [
       "<folium.folium.Map at 0x7f01f51710a0>"
      ]
     },
     "metadata": {},
     "output_type": "display_data"
    },
    {
     "data": {
      "text/html": [
       "<img src=\"https://earthengine.googleapis.com/v1alpha/projects/earthengine-legacy/thumbnails/4a82998cd1a203f62785beb9182b031e-accf25f5aa29c5080c55ea70835079ad:getPixels\" width=\"800\"/>"
      ],
      "text/plain": [
       "<IPython.core.display.Image object>"
      ]
     },
     "execution_count": 56,
     "metadata": {},
     "output_type": "execute_result"
    }
   ],
   "source": [
    "location = aoi.centroid().coordinates().getInfo()[::-1]\n",
    "mp = folium.Map(location=location, zoom_start=20)\n",
    "mp.add_ee_layer(im1,\n",
    "                {'min': 0, 'max': 10, 'palette': ['black', 'white']}, 'Ratio')\n",
    "mp.add_child(folium.LayerControl())\n",
    "\n",
    "display(mp)\n",
    "url = im1.getThumbURL({'min': 0, 'max': 10})\n",
    "disp.Image(url=url, width=800)"
   ]
  },
  {
   "cell_type": "code",
   "execution_count": 57,
   "metadata": {},
   "outputs": [],
   "source": [
    "output_filename = f\"bare_soil_detection/S1image_{year}_06_15\"\n",
    "fullName=f\"bare_soil_detection_test_Pierre_S1_2021\"\n",
    "task=ee.batch.Export.image.toCloudStorage(**{\n",
    "    'image': im1,\n",
    "    'description': fullName,\n",
    "    'bucket': 'gri_geosys',\n",
    "    'fileNamePrefix':output_filename,\n",
    "    'scale': 10,\n",
    "    'region':feature.geometry(),\n",
    "    'maxPixels': 15000000000,\n",
    "    'skipEmptyTiles': True\n",
    "    })\n",
    "task.start()"
   ]
  },
  {
   "cell_type": "code",
   "execution_count": null,
   "metadata": {},
   "outputs": [],
   "source": []
  }
 ],
 "metadata": {
  "kernelspec": {
   "display_name": "Python 3 (ipykernel)",
   "language": "python",
   "name": "python3"
  },
  "language_info": {
   "codemirror_mode": {
    "name": "ipython",
    "version": 3
   },
   "file_extension": ".py",
   "mimetype": "text/x-python",
   "name": "python",
   "nbconvert_exporter": "python",
   "pygments_lexer": "ipython3",
   "version": "3.11.0"
  },
  "vscode": {
   "interpreter": {
    "hash": "e8dd5d7dea1d432df401259b1c2a929100ec24d3248b88c55906a5b7354228eb"
   }
  }
 },
 "nbformat": 4,
 "nbformat_minor": 4
}
