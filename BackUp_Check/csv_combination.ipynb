{
 "cells": [
  {
   "cell_type": "code",
   "execution_count": 2,
   "id": "7dc0e824-4cb1-4851-a34f-3df3a78f0c92",
   "metadata": {
    "tags": []
   },
   "outputs": [
    {
     "name": "stderr",
     "output_type": "stream",
     "text": [
      "C:\\Users\\qle\\AppData\\Local\\miniconda3\\envs\\text\\Lib\\site-packages\\numpy\\_distributor_init.py:30: UserWarning: loaded more than 1 DLL from .libs:\n",
      "C:\\Users\\qle\\AppData\\Local\\miniconda3\\envs\\text\\Lib\\site-packages\\numpy\\.libs\\libopenblas.FB5AE2TYXYH2IJRDKGDGQ3XBKLKTF43H.gfortran-win_amd64.dll\n",
      "C:\\Users\\qle\\AppData\\Local\\miniconda3\\envs\\text\\Lib\\site-packages\\numpy\\.libs\\libopenblas64__v0.3.21-gcc_10_3_0.dll\n",
      "  warnings.warn(\"loaded more than 1 DLL from .libs:\"\n"
     ]
    },
    {
     "name": "stdout",
     "output_type": "stream",
     "text": [
      "Importing the dtw module. When using in academic works please cite:\n",
      "  T. Giorgino. Computing and Visualizing Dynamic Time Warping Alignments in R: The dtw Package.\n",
      "  J. Stat. Soft., doi:10.18637/jss.v031.i07.\n",
      "\n"
     ]
    }
   ],
   "source": [
    "from library import *"
   ]
  },
  {
   "cell_type": "code",
   "execution_count": 3,
   "id": "3fcf00ac-d35e-42c1-86ac-52696e093b2b",
   "metadata": {
    "tags": []
   },
   "outputs": [],
   "source": [
    "data_path = 'data/'  # path for image time series, each stocked in a file folder named with the sfd_id\n",
    "modis= 'MODIS/'\n",
    "image= 'MultiSpectral/'\n",
    "sar = 'SAR' # with VH-VV\n",
    "data_modis = data_path + modis\n",
    "data_image = data_path + image\n",
    "data_sar = data_path + sar"
   ]
  },
  {
   "cell_type": "code",
   "execution_count": 1,
   "id": "b034b540-135c-4894-ad91-518a58d6f5c9",
   "metadata": {
    "tags": []
   },
   "outputs": [
    {
     "ename": "NameError",
     "evalue": "name 'pd' is not defined",
     "output_type": "error",
     "traceback": [
      "\u001b[1;31m---------------------------------------------------------------------------\u001b[0m",
      "\u001b[1;31mNameError\u001b[0m                                 Traceback (most recent call last)",
      "Cell \u001b[1;32mIn[1], line 11\u001b[0m\n\u001b[0;32m      5\u001b[0m usecols \u001b[38;5;241m=\u001b[39m [\u001b[38;5;124m'\u001b[39m\u001b[38;5;124msfd_id\u001b[39m\u001b[38;5;124m'\u001b[39m,\u001b[38;5;124m'\u001b[39m\u001b[38;5;124mWKT\u001b[39m\u001b[38;5;124m'\u001b[39m]\n\u001b[0;32m      6\u001b[0m rename \u001b[38;5;241m=\u001b[39m {\n\u001b[0;32m      7\u001b[0m             \u001b[38;5;124m'\u001b[39m\u001b[38;5;124mWKT\u001b[39m\u001b[38;5;124m'\u001b[39m: \u001b[38;5;124m'\u001b[39m\u001b[38;5;124mgeometry\u001b[39m\u001b[38;5;124m'\u001b[39m,\n\u001b[0;32m      8\u001b[0m             \u001b[38;5;124m'\u001b[39m\u001b[38;5;124msfd_id\u001b[39m\u001b[38;5;124m'\u001b[39m: \u001b[38;5;124m'\u001b[39m\u001b[38;5;124mSfd_id\u001b[39m\u001b[38;5;124m'\u001b[39m\n\u001b[0;32m      9\u001b[0m }\n\u001b[1;32m---> 11\u001b[0m data1 \u001b[38;5;241m=\u001b[39m \u001b[43mpd\u001b[49m\u001b[38;5;241m.\u001b[39mread_csv(dataPath\u001b[38;5;241m+\u001b[39mfile1, sep\u001b[38;5;241m=\u001b[39m\u001b[38;5;124m'\u001b[39m\u001b[38;5;124m;\u001b[39m\u001b[38;5;124m'\u001b[39m)\n\u001b[0;32m     12\u001b[0m data1 \u001b[38;5;241m=\u001b[39m pd\u001b[38;5;241m.\u001b[39mDataFrame(data1)\n\u001b[0;32m     13\u001b[0m data1 \u001b[38;5;241m=\u001b[39m data1[usecols]\n",
      "\u001b[1;31mNameError\u001b[0m: name 'pd' is not defined"
     ]
    }
   ],
   "source": [
    "dataPath = 'CSV_Data/'\n",
    "file1 = 'SoyExRains_11.csv'\n",
    "# file2 = 'SoyExRain_Non.csv'\n",
    "\n",
    "usecols = ['sfd_id','WKT']\n",
    "rename = {\n",
    "            'WKT': 'geometry',\n",
    "            'sfd_id': 'Sfd_id'\n",
    "}\n",
    "\n",
    "data1 = pd.read_csv(dataPath+file1, sep=';')\n",
    "data1 = pd.DataFrame(data1)\n",
    "data1 = data1[usecols]\n",
    "data1.rename(columns=rename, inplace=True)\n",
    "\n",
    "data2 = pd.read_csv(dataPath+file2, sep=';')\n",
    "data2 = pd.DataFrame(data2)\n",
    "data2 = data2[usecols]\n",
    "data2.rename(columns=rename, inplace=True)\n",
    "\n",
    "data = pd.concat([data1,data2]).reset_index(drop=True)\n",
    "file_name = f'CSV_Data/SoyExRains_11.csv'\n",
    "data.to_csv(file_name,index=False,sep=';')"
   ]
  },
  {
   "cell_type": "code",
   "execution_count": 4,
   "id": "93454838-f9d5-4243-a794-abed20ac8014",
   "metadata": {
    "tags": []
   },
   "outputs": [
    {
     "data": {
      "text/html": [
       "<div>\n",
       "<style scoped>\n",
       "    .dataframe tbody tr th:only-of-type {\n",
       "        vertical-align: middle;\n",
       "    }\n",
       "\n",
       "    .dataframe tbody tr th {\n",
       "        vertical-align: top;\n",
       "    }\n",
       "\n",
       "    .dataframe thead th {\n",
       "        text-align: right;\n",
       "    }\n",
       "</style>\n",
       "<table border=\"1\" class=\"dataframe\">\n",
       "  <thead>\n",
       "    <tr style=\"text-align: right;\">\n",
       "      <th></th>\n",
       "      <th>Sfd_id</th>\n",
       "      <th>geometry</th>\n",
       "    </tr>\n",
       "  </thead>\n",
       "  <tbody>\n",
       "    <tr>\n",
       "      <th>0</th>\n",
       "      <td>104839603</td>\n",
       "      <td>MULTIPOLYGON (((-50.28868413 -21.21892931,-50....</td>\n",
       "    </tr>\n",
       "    <tr>\n",
       "      <th>1</th>\n",
       "      <td>104851010</td>\n",
       "      <td>MULTIPOLYGON (((-51.64726684 -23.30727236,-51....</td>\n",
       "    </tr>\n",
       "    <tr>\n",
       "      <th>2</th>\n",
       "      <td>104851011</td>\n",
       "      <td>MULTIPOLYGON (((-51.64079547 -23.29584802,-51....</td>\n",
       "    </tr>\n",
       "    <tr>\n",
       "      <th>3</th>\n",
       "      <td>104856056</td>\n",
       "      <td>MULTIPOLYGON (((-51.2694129 -23.23388657,-51.2...</td>\n",
       "    </tr>\n",
       "    <tr>\n",
       "      <th>4</th>\n",
       "      <td>104856307</td>\n",
       "      <td>MULTIPOLYGON (((-51.86434054 -22.80493581,-51....</td>\n",
       "    </tr>\n",
       "    <tr>\n",
       "      <th>5</th>\n",
       "      <td>104838039</td>\n",
       "      <td>MULTIPOLYGON (((-54.15842318 -25.22023698,-54....</td>\n",
       "    </tr>\n",
       "    <tr>\n",
       "      <th>6</th>\n",
       "      <td>104856508</td>\n",
       "      <td>MULTIPOLYGON (((-54.2316334 -20.94611016,-54.2...</td>\n",
       "    </tr>\n",
       "    <tr>\n",
       "      <th>7</th>\n",
       "      <td>104852841</td>\n",
       "      <td>MULTIPOLYGON (((-49.32213409 -23.02007774,-49....</td>\n",
       "    </tr>\n",
       "    <tr>\n",
       "      <th>8</th>\n",
       "      <td>104838047</td>\n",
       "      <td>MULTIPOLYGON (((-53.43387019 -24.72777911,-53....</td>\n",
       "    </tr>\n",
       "    <tr>\n",
       "      <th>9</th>\n",
       "      <td>104838025</td>\n",
       "      <td>MULTIPOLYGON (((-53.42127654 -24.74428141,-53....</td>\n",
       "    </tr>\n",
       "    <tr>\n",
       "      <th>10</th>\n",
       "      <td>104860517</td>\n",
       "      <td>MULTIPOLYGON (((-53.95225449 -23.26701195,-53....</td>\n",
       "    </tr>\n",
       "  </tbody>\n",
       "</table>\n",
       "</div>"
      ],
      "text/plain": [
       "       Sfd_id                                           geometry\n",
       "0   104839603  MULTIPOLYGON (((-50.28868413 -21.21892931,-50....\n",
       "1   104851010  MULTIPOLYGON (((-51.64726684 -23.30727236,-51....\n",
       "2   104851011  MULTIPOLYGON (((-51.64079547 -23.29584802,-51....\n",
       "3   104856056  MULTIPOLYGON (((-51.2694129 -23.23388657,-51.2...\n",
       "4   104856307  MULTIPOLYGON (((-51.86434054 -22.80493581,-51....\n",
       "5   104838039  MULTIPOLYGON (((-54.15842318 -25.22023698,-54....\n",
       "6   104856508  MULTIPOLYGON (((-54.2316334 -20.94611016,-54.2...\n",
       "7   104852841  MULTIPOLYGON (((-49.32213409 -23.02007774,-49....\n",
       "8   104838047  MULTIPOLYGON (((-53.43387019 -24.72777911,-53....\n",
       "9   104838025  MULTIPOLYGON (((-53.42127654 -24.74428141,-53....\n",
       "10  104860517  MULTIPOLYGON (((-53.95225449 -23.26701195,-53...."
      ]
     },
     "execution_count": 4,
     "metadata": {},
     "output_type": "execute_result"
    }
   ],
   "source": [
    "data"
   ]
  },
  {
   "cell_type": "code",
   "execution_count": null,
   "id": "fe2faef7-beca-42dd-9f93-72089ea9b72f",
   "metadata": {},
   "outputs": [],
   "source": []
  }
 ],
 "metadata": {
  "kernelspec": {
   "display_name": "Python 3 (ipykernel)",
   "language": "python",
   "name": "python3"
  },
  "language_info": {
   "codemirror_mode": {
    "name": "ipython",
    "version": 3
   },
   "file_extension": ".py",
   "mimetype": "text/x-python",
   "name": "python",
   "nbconvert_exporter": "python",
   "pygments_lexer": "ipython3",
   "version": "3.11.0"
  }
 },
 "nbformat": 4,
 "nbformat_minor": 5
}
