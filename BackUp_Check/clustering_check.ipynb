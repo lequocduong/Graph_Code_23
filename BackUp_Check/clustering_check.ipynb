{
 "cells": [
  {
   "cell_type": "markdown",
   "metadata": {},
   "source": [
    "# Change detection by clustering over all fields (pinnotes data)"
   ]
  },
  {
   "cell_type": "markdown",
   "metadata": {},
   "source": [
    "We have already processed all fields from step 1 to step 5 of the workflow. With saved variables, we analyze them by clustering"
   ]
  },
  {
   "cell_type": "code",
   "execution_count": 1,
   "metadata": {},
   "outputs": [
    {
     "name": "stdout",
     "output_type": "stream",
     "text": [
      "Importing the dtw module. When using in academic works please cite:\n",
      "  T. Giorgino. Computing and Visualizing Dynamic Time Warping Alignments in R: The dtw Package.\n",
      "  J. Stat. Soft., doi:10.18637/jss.v031.i07.\n",
      "\n"
     ]
    }
   ],
   "source": [
    "%matplotlib widget\n",
    "import os, time, datetime\n",
    "import numpy as np\n",
    "import pandas as pd\n",
    "import geopandas as gpd\n",
    "from dtw import *\n",
    "from preprocess import data_extractor\n",
    "import operator\n",
    "\n",
    "import matplotlib as mpl\n",
    "import matplotlib.dates as mdates\n",
    "from matplotlib.pyplot import cm\n",
    "from matplotlib import pyplot as plt\n",
    "from scipy.cluster.hierarchy import linkage, dendrogram, fcluster, set_link_color_palette\n",
    "\n",
    "from utilefunc.get_palette import get_palette\n",
    "from evolution_graph import evolution_graph_to_synopsis"
   ]
  },
  {
   "cell_type": "code",
   "execution_count": 2,
   "metadata": {},
   "outputs": [],
   "source": [
    "# Parameter settings\n",
    "## segmentation parameters \n",
    "scale=5        # controls the number of produced segments as well as their size. Higher scale means less and larger segments. \n",
    "sigma=0          # diameter of a Gaussian kernel, used for smoothing the image prior to segmentation.\n",
    "min_size=5      # minimum size of the segment\n",
    "\n",
    "## BB selection and graph construction parameters\n",
    "alpha = 0.4\n",
    "t1 = 0.1\n",
    "t2 = 0\n",
    "direction=1  # 0 : from small to big; 1: from big to small"
   ]
  },
  {
   "cell_type": "code",
   "execution_count": 3,
   "metadata": {},
   "outputs": [],
   "source": [
    "## general data informations\n",
    "fields_data_fpath = 'pinnote_anomaly_info/annotations_valid_dates_final.csv'\n",
    "fields_data = pd.read_csv(fields_data_fpath, sep=';', )   # a list of season field ids\n",
    "sfd_ids = fields_data['sfd_id'].unique()  # all season field ids to process\n",
    "data_path = 'data_images_2017_2020/'  # path for image time series, each stocked in a file folder named with the sfd_id\n",
    "\n",
    "# save paths\n",
    "save_path_df = 'variables/raster_df/scale_{0}/'.format(scale)\n",
    "if direction == 0:\n",
    "    save_path_bb = 'variables/BB_evolution_graph/BB_small2big/scale_{0}_alpha_{1}_t1_{2}_t2_{3}/'.format(scale, alpha, t1, t2)\n",
    "    save_path_shp = 'variables/sfd_bbs_cover/BB_small2big/scale_{0}_alpha_{1}_t1_{2}_t2_{3}/'.format(scale, alpha, t1, t2)\n",
    "if direction == 1:\n",
    "    save_path_bb = 'variables/BB_evolution_graph/BB_big2small/scale_{0}_alpha_{1}_t1_{2}_t2_{3}/'.format(scale, alpha, t1, t2)\n",
    "    save_path_shp = 'variables/sfd_bbs_cover/BB_big2small/scale_{0}_alpha_{1}_t1_{2}_t2_{3}/'.format(scale, alpha, t1, t2)"
   ]
  },
  {
   "cell_type": "markdown",
   "metadata": {},
   "source": [
    "## Extract all synopsis "
   ]
  },
  {
   "cell_type": "code",
   "execution_count": 4,
   "metadata": {},
   "outputs": [],
   "source": [
    "fld_year_synopsis = []\n",
    "\n",
    "for sfd_id_choice in sfd_ids:\n",
    "    year_choice = fields_data[fields_data.sfd_id == sfd_id_choice].year.unique()[0]\n",
    "    raster_df = pd.read_pickle(save_path_df+'{0}_{1}_scale_{2}_raster_seg_df.pkl'.format(sfd_id_choice,year_choice,scale))\n",
    "    \n",
    "    dico_year_synopsis = {}\n",
    "    dico_year_num_bb = {}\n",
    "    \n",
    "    segments_test = raster_df['segments_fz'].iloc[(raster_df.index >= datetime.datetime(year_choice,1,1)) & (raster_df.index <= datetime.datetime(year_choice,12,31))]\n",
    "    raster_ndvi_numpy_test = raster_df['raster_ndvi_numpy'].iloc[(raster_df.index >= datetime.datetime(year_choice,1,1)) & (raster_df.index <= datetime.datetime(year_choice,12,31))]\n",
    "\n",
    "    bb_final_list = np.load(save_path_bb+'{0}_{1}_scale_{2}_alpha_{3}_t1_{4}_t2_{5}_final_bb.npy'.format(sfd_id_choice,year_choice,scale,alpha,t1,t2), allow_pickle=True)\n",
    "\n",
    "    ## Evolution graph of each BB given the (fld_id, year)\n",
    "    dico_year_synopsis[year_choice] = evolution_graph_to_synopsis(sfd_id_choice, year_choice, bb_final_list, segments_test, raster_ndvi_numpy_test, alpha, t1, t2)\n",
    "\n",
    "    fld_year_synopsis.append(dico_year_synopsis)\n",
    "fld_year_synopsis_df = pd.DataFrame(fld_year_synopsis, index=sfd_ids)"
   ]
  },
  {
   "cell_type": "code",
   "execution_count": 5,
   "metadata": {
    "jupyter": {
     "source_hidden": true
    }
   },
   "outputs": [
    {
     "data": {
      "application/vnd.jupyter.widget-view+json": {
       "model_id": "73404ff9d83d4347a03493e8f9403da4",
       "version_major": 2,
       "version_minor": 0
      },
      "text/plain": [
       "Canvas(toolbar=Toolbar(toolitems=[('Home', 'Reset original view', 'home', 'home'), ('Back', 'Back to previous …"
      ]
     },
     "metadata": {},
     "output_type": "display_data"
    }
   ],
   "source": [
    "def func(pct, allvals):\n",
    "    absolute = int(round(pct/100.*np.sum(allvals)))\n",
    "    return \"{:.1f}%\\n({:d})\".format(pct, absolute)\n",
    "\n",
    "data = fields_data.groupby('year').count()['sfd_id']\n",
    "labels = fields_data.groupby('year').count().index\n",
    "explode = np.ones((len(labels)))*0.1\n",
    "\n",
    "plt.figure(figsize=(6,4))\n",
    "wedges, texts, autotexts = plt.pie(data, autopct=lambda pct: func(pct, data), textprops=dict(color=\"k\"), explode=explode)\n",
    "plt.legend(wedges, labels, title=\"Year\", loc=\"center left\", bbox_to_anchor=(1, 0, 0.5, 1))\n",
    "plt.setp(autotexts, size=8, weight=\"bold\")\n",
    "plt.show()"
   ]
  },
  {
   "cell_type": "code",
   "execution_count": 12,
   "metadata": {
    "jupyter": {
     "source_hidden": true
    }
   },
   "outputs": [
    {
     "data": {
      "application/vnd.jupyter.widget-view+json": {
       "model_id": "0e7aa3890a03456999701e49e82efe3a",
       "version_major": 2,
       "version_minor": 0
      },
      "text/plain": [
       "Canvas(toolbar=Toolbar(toolitems=[('Home', 'Reset original view', 'home', 'home'), ('Back', 'Back to previous …"
      ]
     },
     "metadata": {},
     "output_type": "display_data"
    }
   ],
   "source": [
    "data = fields_data.groupby('croptype').count()['spn_id']\n",
    "labels = fields_data.groupby('croptype').count().index\n",
    "explode = np.ones((len(labels)))*0.1\n",
    "\n",
    "plt.figure(figsize=(10,6))\n",
    "wedges, texts, autotexts = plt.pie(data, autopct=lambda pct: func(pct, data), textprops=dict(color=\"k\"), explode=explode)\n",
    "plt.legend(wedges, labels, title=\"Crop type\", loc=\"center left\", bbox_to_anchor=(1, 0, 0.5, 1))\n",
    "plt.setp(autotexts, size=8, weight=\"bold\")\n",
    "plt.show()"
   ]
  },
  {
   "cell_type": "code",
   "execution_count": 13,
   "metadata": {
    "jupyter": {
     "source_hidden": true
    }
   },
   "outputs": [
    {
     "data": {
      "application/vnd.jupyter.widget-view+json": {
       "model_id": "071eb4dd99fa4cf2a9753fa4873255e9",
       "version_major": 2,
       "version_minor": 0
      },
      "text/plain": [
       "Canvas(toolbar=Toolbar(toolitems=[('Home', 'Reset original view', 'home', 'home'), ('Back', 'Back to previous …"
      ]
     },
     "metadata": {},
     "output_type": "display_data"
    }
   ],
   "source": [
    "year_choice = 2018\n",
    "data = fields_data[fields_data.year == year_choice].groupby('croptype').count()['spn_id']\n",
    "labels = fields_data[fields_data.year == year_choice].groupby('croptype').count().index\n",
    "explode = np.ones((len(labels)))*0.1\n",
    "plt.figure(figsize=(10,6))\n",
    "wedges, texts, autotexts = plt.pie(data, labels=labels, autopct=lambda pct: func(pct, data), textprops=dict(color=\"k\"), explode=explode)\n",
    "plt.setp(autotexts, size=8, weight=\"bold\")\n",
    "plt.show()"
   ]
  },
  {
   "cell_type": "code",
   "execution_count": null,
   "metadata": {
    "jupyter": {
     "source_hidden": true
    }
   },
   "outputs": [],
   "source": [
    "fields_data.groupby(['year', 'croptype']).count().index"
   ]
  },
  {
   "cell_type": "code",
   "execution_count": null,
   "metadata": {
    "jupyter": {
     "source_hidden": true
    }
   },
   "outputs": [],
   "source": [
    "data = fields_data.groupby(['year', 'croptype']).count()['sfd_id']\n",
    "labels = fields_data.groupby(['year', 'croptype']).count().index\n",
    "plt.figure()\n",
    "plt.bar(range(len(labels)), data)\n",
    "plt.xticks(ticks=range(len(labels)), labels=labels, rotation=90)\n",
    "plt.show()"
   ]
  },
  {
   "cell_type": "markdown",
   "metadata": {},
   "source": [
    "### Choose synopsis by (year, croptype) for clustering"
   ]
  },
  {
   "cell_type": "code",
   "execution_count": 5,
   "metadata": {},
   "outputs": [
    {
     "name": "stdout",
     "output_type": "stream",
     "text": [
      "n_synopsis size : 280\n"
     ]
    }
   ],
   "source": [
    "year_choice = 2018\n",
    "crop_type = 'Corn'\n",
    "\n",
    "all_dates = []\n",
    "\n",
    "n_synopsis = 0\n",
    "for sfd_id_choice in sfd_ids:\n",
    "    if type(fld_year_synopsis_df.loc[sfd_id_choice][year_choice]) != type(np.nan) and fields_data[fields_data.sfd_id == sfd_id_choice].croptype.values[0] == crop_type:\n",
    "        all_dates+=[t.dayofyear for x in fld_year_synopsis_df.loc[sfd_id_choice][year_choice] for t in x[0]]\n",
    "        n_synopsis += len(fld_year_synopsis_df.loc[sfd_id_choice][year_choice])\n",
    "\n",
    "uni_dates = np.unique(all_dates)\n",
    "\n",
    "############################\n",
    "all_synopsis_list = []\n",
    "all_date_list = []\n",
    "data_uniform_array = np.ones((n_synopsis, len(uni_dates)))*1000\n",
    "\n",
    "update = 0\n",
    "syn_label = []\n",
    "\n",
    "for sfd_id_choice in sfd_ids:\n",
    "    if type(fld_year_synopsis_df.loc[sfd_id_choice][year_choice]) != type(np.nan) and fields_data[fields_data.sfd_id == sfd_id_choice].croptype.values[0] == crop_type:\n",
    "        date_list = []\n",
    "        synopsis_list = []\n",
    "        bb_ids = []\n",
    "        for x in fld_year_synopsis_df.loc[sfd_id_choice][year_choice]:\n",
    "            date_list.append(x[0])\n",
    "            synopsis_list.append(x[1])\n",
    "            bb_ids.append(str(x[2][0]) + '_' + str(x[2][1]))\n",
    "        helper = pd.DataFrame({'date':[pd.to_datetime(uni_dates[i]-1, unit='D', origin=str(year_choice)) for i in range(len(uni_dates))]})\n",
    "        \n",
    "        for i in range(len(date_list)):\n",
    "            df = pd.DataFrame({'date':date_list[i], 'val':synopsis_list[i]})\n",
    "            df = pd.merge(df, helper, on='date', how='outer').sort_values('date')\n",
    "            df.interpolate(method='linear', limit_area='inside', inplace=True)\n",
    "            data_uniform_array[update] = df['val'].values\n",
    "            update += 1\n",
    "            \n",
    "            syn_label.append(str(sfd_id_choice)+':'+bb_ids[i])\n",
    "\n",
    "        all_date_list += date_list\n",
    "        all_synopsis_list += synopsis_list\n",
    "\n",
    "data_uniform_array[data_uniform_array==1000] = np.nan\n",
    "print(f'n_synopsis size : {n_synopsis}')"
   ]
  },
  {
   "cell_type": "code",
   "execution_count": 7,
   "metadata": {},
   "outputs": [
    {
     "data": {
      "text/plain": [
       "['102112829',\n",
       " '102008580',\n",
       " '102006104',\n",
       " '102252397',\n",
       " '102536577',\n",
       " '102403591',\n",
       " '102009130',\n",
       " '102328550',\n",
       " '102203873',\n",
       " '102424640',\n",
       " '102103879']"
      ]
     },
     "execution_count": 7,
     "metadata": {},
     "output_type": "execute_result"
    }
   ],
   "source": [
    "clustered_sfd_ids = list(set([el.split(':')[0] for el in syn_label]))\n",
    "clustered_sfd_ids"
   ]
  },
  {
   "cell_type": "code",
   "execution_count": 6,
   "metadata": {},
   "outputs": [],
   "source": [
    "def dtw_normalized_dist(a, b):\n",
    "    # find dates where both of the two time series have data\n",
    "    common = ~np.isnan(a) & ~np.isnan(b)\n",
    "    a_c = a[common]\n",
    "    b_c = b[common]\n",
    "    if a_c.size == 0 or b_c.size == 0: # if one of them is empty, it means they have non dates in common\n",
    "        distance = 1   #10\n",
    "    else:\n",
    "        # delete NANs in the beginning and the end of the time series\n",
    "        a = a[~np.isnan(a)]\n",
    "        b = b[~np.isnan(b)]\n",
    "        alignment = dtw(a, b, keep_internals=True)\n",
    "        distance = alignment.normalizedDistance  # normalised by the sum of lengths of the two series\n",
    "    return distance"
   ]
  },
  {
   "cell_type": "markdown",
   "metadata": {},
   "source": [
    "### DTW distance matrix"
   ]
  },
  {
   "cell_type": "code",
   "execution_count": 7,
   "metadata": {},
   "outputs": [],
   "source": [
    "matrix_dist = np.zeros((data_uniform_array.shape[0], data_uniform_array.shape[0]))\n",
    "for i in range(data_uniform_array.shape[0]):\n",
    "    for j in range(i, data_uniform_array.shape[0]):\n",
    "        matrix_dist[i][j] = dtw_normalized_dist(data_uniform_array[i], data_uniform_array[j])\n",
    "        matrix_dist[j][i] = matrix_dist[i][j]"
   ]
  },
  {
   "cell_type": "markdown",
   "metadata": {},
   "source": [
    "### Method 1 - OPTICS"
   ]
  },
  {
   "cell_type": "code",
   "execution_count": 8,
   "metadata": {},
   "outputs": [],
   "source": [
    "from sklearn.cluster import OPTICS, cluster_optics_dbscan"
   ]
  },
  {
   "cell_type": "code",
   "execution_count": 9,
   "metadata": {},
   "outputs": [],
   "source": [
    "clust = OPTICS(min_samples=10, xi=.05, cluster_method='xi', metric='precomputed').fit(matrix_dist)\n",
    "\n",
    "# labels_050 = cluster_optics_dbscan(reachability=clust.reachability_,\n",
    "#                                    core_distances=clust.core_distances_,\n",
    "#                                    ordering=clust.ordering_, eps=0.5)\n",
    "# labels_200 = cluster_optics_dbscan(reachability=clust.reachability_,\n",
    "#                                    core_distances=clust.core_distances_,\n",
    "#                                    ordering=clust.ordering_, eps=2)\n",
    "\n"
   ]
  },
  {
   "cell_type": "code",
   "execution_count": 10,
   "metadata": {},
   "outputs": [
    {
     "data": {
      "application/vnd.jupyter.widget-view+json": {
       "model_id": "dd56256df0a647e29d4ba0c609b5a45d",
       "version_major": 2,
       "version_minor": 0
      },
      "text/plain": [
       "Canvas(toolbar=Toolbar(toolitems=[('Home', 'Reset original view', 'home', 'home'), ('Back', 'Back to previous …"
      ]
     },
     "metadata": {},
     "output_type": "display_data"
    }
   ],
   "source": [
    "space = np.arange(len(matrix_dist))\n",
    "reachability = clust.reachability_[clust.ordering_]\n",
    "labels = clust.labels_[clust.ordering_]\n",
    "\n",
    "plt.figure(figsize=(10,6))\n",
    "colors = ['g.', 'r.', 'b.', 'y.', 'c.', 'o.']\n",
    "# colors = iter([plt.cm.tab10(i) for i in range(10)])\n",
    "for klass, color in zip(range(0, 5), colors):\n",
    "    Xk = space[labels == klass]\n",
    "    Rk = reachability[labels == klass]\n",
    "    plt.plot(Xk, Rk, color, alpha=0.3)\n",
    "plt.plot(space[labels == -1], reachability[labels == -1], 'k.', alpha=0.3)\n",
    "plt.plot(space, np.full_like(space, 0.01, dtype=float), 'k-', alpha=0.5)\n",
    "plt.plot(space, np.full_like(space, 0.015, dtype=float), 'k-.', alpha=0.5)\n",
    "plt.ylabel('Reachability (epsilon distance)')\n",
    "plt.title('Reachability Plot')\n",
    "plt.show()"
   ]
  },
  {
   "cell_type": "markdown",
   "metadata": {},
   "source": [
    "### Method 2 - DBSCAN"
   ]
  },
  {
   "cell_type": "code",
   "execution_count": 12,
   "metadata": {},
   "outputs": [],
   "source": [
    "from sklearn.cluster import DBSCAN"
   ]
  },
  {
   "cell_type": "code",
   "execution_count": 20,
   "metadata": {},
   "outputs": [],
   "source": [
    "clustering = DBSCAN(eps=0.015, min_samples=10, metric='precomputed').fit(matrix_dist)"
   ]
  },
  {
   "cell_type": "code",
   "execution_count": 21,
   "metadata": {},
   "outputs": [
    {
     "data": {
      "application/vnd.jupyter.widget-view+json": {
       "model_id": "5a7210436e644990b1f2cf7cd906b1d2",
       "version_major": 2,
       "version_minor": 0
      },
      "text/plain": [
       "Canvas(toolbar=Toolbar(toolitems=[('Home', 'Reset original view', 'home', 'home'), ('Back', 'Back to previous …"
      ]
     },
     "metadata": {},
     "output_type": "display_data"
    }
   ],
   "source": [
    "_, ax1 = plt.subplots(figsize=(10,6))\n",
    "ax1.grid(True)\n",
    "\n",
    "colors = iter([plt.cm.tab10(i) for i in range(10)])\n",
    "color = dict()\n",
    "cluster_color = dict()\n",
    "for label in np.unique(clustering.labels_):\n",
    "    color[label] = next(colors)\n",
    "    cluster_color[label] = np.where(clustering.labels_ == label)[0]\n",
    "\n",
    "for i in range(data_uniform_array.shape[0]):\n",
    "    ax1.plot(helper, data_uniform_array[i], color=color[clustering.labels_[i]])\n",
    "\n",
    "box = ax1.get_position()\n",
    "ax1.set_position([box.x0, box.y0, box.width*0.8, box.height])\n",
    "legend_element = [plt.Line2D([0], [0], color=c, linestyle='-') for c in color.values()]\n",
    "legend_label = ['outliers'] + ['cluster_'+str(i+1) for i in range(len(color.values())-1)]\n",
    "\n",
    "ax1.legend(legend_element, legend_label, bbox_to_anchor=(0.75, 0.7), bbox_transform=plt.gcf().transFigure)\n",
    "plt.title(\"Clustering results of the synopsis vectors of evolution graphs of all fields\")\n",
    "plt.show()"
   ]
  },
  {
   "cell_type": "code",
   "execution_count": 17,
   "metadata": {},
   "outputs": [
    {
     "data": {
      "application/vnd.jupyter.widget-view+json": {
       "model_id": "f487f82af3b94fc2b65db6ebe89a588b",
       "version_major": 2,
       "version_minor": 0
      },
      "text/plain": [
       "Canvas(toolbar=Toolbar(toolitems=[('Home', 'Reset original view', 'home', 'home'), ('Back', 'Back to previous …"
      ]
     },
     "metadata": {},
     "output_type": "display_data"
    }
   ],
   "source": [
    "# Séparer les courbes de synopsis par cluster\n",
    "\n",
    "_, ax = plt.subplots(figsize=(5*2,5*3), nrows=4, ncols=2)\n",
    "axis = ax.flatten()\n",
    "\n",
    "axis[0].grid(True)\n",
    "for i in range(len(all_synopsis_list)):\n",
    "    axis[0].plot(all_date_list[i], all_synopsis_list[i], color=color[clustering.labels_[i]])\n",
    "axis[0].set_ylim([0, 1])\n",
    "plt.setp(axis[0].get_xticklabels(), rotation=90, fontsize=8)\n",
    "\n",
    "x_l = mdates.date2num(helper.iloc[0].values)\n",
    "x_r = mdates.date2num(helper.iloc[-1].values)\n",
    "for idx, (k, v) in enumerate(color.items()):\n",
    "    l = np.where(clustering.labels_ == k)[0]\n",
    "    axis[idx+1].grid(True)\n",
    "    for j in l:\n",
    "        axis[idx+1].plot(all_date_list[j], all_synopsis_list[j], color=v)\n",
    "    axis[idx+1].set_xlim([x_l, x_r])\n",
    "    axis[idx+1].set_ylim([0, 1])\n",
    "    axis[idx+1].set_title(legend_label[k+1])\n",
    "    plt.setp(axis[idx+1].get_xticklabels(), rotation=90, fontsize=8)\n",
    "\n",
    "plt.tight_layout()\n",
    "plt.show()"
   ]
  },
  {
   "cell_type": "code",
   "execution_count": null,
   "metadata": {},
   "outputs": [],
   "source": [
    "data_uniform_array[clustering.labels_ == 0].shape"
   ]
  },
  {
   "cell_type": "code",
   "execution_count": null,
   "metadata": {},
   "outputs": [],
   "source": [
    "# Z = linkage(data_uniform_array[clustering.labels_ == -1], method='complete', metric=dtw_normalized_dist)"
   ]
  },
  {
   "cell_type": "markdown",
   "metadata": {},
   "source": [
    "### Spectral clustering"
   ]
  },
  {
   "cell_type": "code",
   "execution_count": null,
   "metadata": {},
   "outputs": [],
   "source": [
    "from sklearn.cluster import SpectralClustering"
   ]
  },
  {
   "cell_type": "code",
   "execution_count": null,
   "metadata": {},
   "outputs": [],
   "source": [
    "clustering = SpectralClustering(n_clusters=20, \n",
    "                                assign_labels='discretize',\n",
    "                                random_state=0,\n",
    "                                affinity='precomputed').fit(matrix_dist)"
   ]
  },
  {
   "cell_type": "code",
   "execution_count": null,
   "metadata": {},
   "outputs": [],
   "source": [
    "# Séparer les courbes de synopsis par cluster\n",
    "colors = iter([plt.cm.tab20(i) for i in range(20)])\n",
    "color = dict()\n",
    "cluster_color = dict()\n",
    "for label in np.unique(clustering.labels_):\n",
    "    color[label] = next(colors)\n",
    "    cluster_color[label] = np.where(clustering.labels_ == label)[0]\n",
    "    \n",
    "nrows=7\n",
    "ncols=3\n",
    "_, ax = plt.subplots(figsize=(4*ncols,4*nrows), nrows=nrows, ncols=ncols)\n",
    "axis = ax.flatten()\n",
    "\n",
    "axis[0].grid(True)\n",
    "for i in range(len(all_synopsis_list)):\n",
    "    axis[0].plot(all_date_list[i], all_synopsis_list[i], color=color[clustering.labels_[i]])\n",
    "axis[0].set_ylim([0, 1])\n",
    "plt.setp(axis[0].get_xticklabels(), rotation=90, fontsize=8)\n",
    "\n",
    "x_l = mdates.date2num(helper.iloc[0].values)\n",
    "x_r = mdates.date2num(helper.iloc[-1].values)\n",
    "for idx, (k, v) in enumerate(color.items()):\n",
    "    l = np.where(clustering.labels_ == k)[0]\n",
    "    axis[idx+1].grid(True)\n",
    "    for j in l:\n",
    "        axis[idx+1].plot(all_date_list[j], all_synopsis_list[j], color=v)\n",
    "    axis[idx+1].set_xlim([x_l, x_r])\n",
    "    axis[idx+1].set_ylim([0, 1])\n",
    "    plt.setp(axis[idx+1].get_xticklabels(), rotation=90, fontsize=8)\n",
    "\n",
    "plt.tight_layout()\n",
    "plt.show()"
   ]
  },
  {
   "cell_type": "code",
   "execution_count": null,
   "metadata": {},
   "outputs": [],
   "source": [
    "#### old version of DTW distance for synopsis\n",
    "\n",
    "def dtw_normalized_dist(a, b):\n",
    "    # prendre les dates où les deux séries ont toutes les deux des données\n",
    "    common = ~np.isnan(a) & ~np.isnan(b)\n",
    "    a = a[common]\n",
    "    b = b[common]\n",
    "    # si l'un des deux est nul, c'est à dire qu'il n'y a pas de dates en communes\n",
    "    if a.size == 0 or b.size == 0:\n",
    "        distance = 1   #10\n",
    "    else:\n",
    "        # enlever les patterns du début et/ou de la fin de la série avec des NANs\n",
    "        a = a[~np.isnan(a)]\n",
    "        b = b[~np.isnan(b)]\n",
    "\n",
    "        alignment = dtw(a, b, keep_internals=True)\n",
    "        distance = alignment.normalizedDistance\n",
    "    return distance"
   ]
  },
  {
   "cell_type": "markdown",
   "metadata": {},
   "source": [
    "### CAH"
   ]
  },
  {
   "cell_type": "code",
   "execution_count": 12,
   "metadata": {},
   "outputs": [],
   "source": [
    "def get_cluster_color(dendrogram):\n",
    "    cluster_idxs = dict()\n",
    "    for c, pi in zip(dendrogram['color_list'], dendrogram['icoord']):\n",
    "        l = []\n",
    "        for leg in pi[1:3]:\n",
    "            i = (leg - 5.0) / 10.0\n",
    "            if abs(i - int(i)) < 1e-5:\n",
    "                l.append(int(i))\n",
    "        cluster_idxs[c] = cluster_idxs.get(c, []) + l\n",
    "    cluster_classes = dict()\n",
    "    for c, l in cluster_idxs.items():\n",
    "        i_l = [dendrogram['ivl'][i] for i in l]\n",
    "        cluster_classes[c] = np.unique(i_l)\n",
    "    return cluster_classes"
   ]
  },
  {
   "cell_type": "code",
   "execution_count": 43,
   "metadata": {},
   "outputs": [],
   "source": [
    "plt.close('all')"
   ]
  },
  {
   "cell_type": "code",
   "execution_count": null,
   "metadata": {},
   "outputs": [],
   "source": []
  },
  {
   "cell_type": "code",
   "execution_count": null,
   "metadata": {},
   "outputs": [],
   "source": [
    "dates_dispo = np.ones(data_uniform_array.shape)\n",
    "dates_dispo[np.isnan(data_uniform_array)] = 0\n",
    "dates_dispo"
   ]
  },
  {
   "cell_type": "code",
   "execution_count": null,
   "metadata": {},
   "outputs": [],
   "source": [
    "data_diff = np.diff(data_uniform_array)\n",
    "day_diff = [(helper['date'].iloc[i]-helper['date'].iloc[i-1]).days for i in range(1, len(helper['date']))]\n",
    "grad = np.zeros(data_diff.shape)\n",
    "for i in range(len(day_diff)):\n",
    "    grad[:,i] = data_diff[:, i]/day_diff[i]"
   ]
  },
  {
   "cell_type": "code",
   "execution_count": null,
   "metadata": {},
   "outputs": [],
   "source": [
    "bbs_size = []\n",
    "for x in np.array(syn_label).tolist():\n",
    "    sfd_id_choice = x.split(':')[0]\n",
    "    bb_img = int(x.split(':')[1].split('_')[0])\n",
    "    bb_seg = int(x.split(':')[1].split('_')[1])\n",
    "    bb_final_list = np.load(bb_save_path+str(sfd_id_choice)+'_'+str(year_choice)+'_alpha_'+str(alpha)+'_t1_'+str(t1)+'_t2_'+str(t2)+'_final_bb.npy', allow_pickle=True)\n",
    "    bb_size = bb_final_list[(bb_final_list[:,0]==bb_img) & (bb_final_list[:,1]==bb_seg), 2].all()\n",
    "    raster_df = pd.read_pickle(raster_df_save_path + str(sfd_id_choice) + '_' + str(year_choice) + '_raster_seg_df.pkl')\n",
    "    bb_cover_rate = bb_size/raster_df['raster_ndvi_numpy'][0].size\n",
    "    bbs_size.append([bb_cover_rate])\n",
    "bbs_size = np.array(bbs_size)"
   ]
  },
  {
   "cell_type": "code",
   "execution_count": 89,
   "metadata": {
    "collapsed": true,
    "jupyter": {
     "outputs_hidden": true
    }
   },
   "outputs": [
    {
     "ename": "NameError",
     "evalue": "name 'bbs_size' is not defined",
     "output_type": "error",
     "traceback": [
      "\u001b[1;31m---------------------------------------------------------------------------\u001b[0m",
      "\u001b[1;31mNameError\u001b[0m                                 Traceback (most recent call last)",
      "\u001b[1;32m<ipython-input-89-cda419e67347>\u001b[0m in \u001b[0;36m<module>\u001b[1;34m\u001b[0m\n\u001b[1;32m----> 1\u001b[1;33m \u001b[0mdata_uniform_array_weighted\u001b[0m \u001b[1;33m=\u001b[0m \u001b[0mbbs_size\u001b[0m \u001b[1;33m*\u001b[0m \u001b[0mdata_uniform_array\u001b[0m\u001b[1;33m\u001b[0m\u001b[1;33m\u001b[0m\u001b[0m\n\u001b[0m",
      "\u001b[1;31mNameError\u001b[0m: name 'bbs_size' is not defined"
     ]
    }
   ],
   "source": [
    "data_uniform_array_weighted = bbs_size * data_uniform_array"
   ]
  },
  {
   "cell_type": "code",
   "execution_count": null,
   "metadata": {},
   "outputs": [],
   "source": [
    "np.set_printoptions(suppress=True)"
   ]
  },
  {
   "cell_type": "code",
   "execution_count": null,
   "metadata": {},
   "outputs": [],
   "source": [
    "# Z = linkage(dates_dispo, method='single', metric='cityblock')\n",
    "# Z = linkage(data_uniform_array_weighted, method='complete', metric=dtw_normalized_dist)\n",
    "# Z = linkage(grad, method='average', metric=dtw_normalized_dist)\n",
    "# np.set_printoptions(suppress=True)"
   ]
  },
  {
   "cell_type": "code",
   "execution_count": null,
   "metadata": {},
   "outputs": [],
   "source": []
  },
  {
   "cell_type": "code",
   "execution_count": 68,
   "metadata": {},
   "outputs": [],
   "source": [
    "method = 'average'\n",
    "Z = linkage(data_uniform_array, method=method, metric=dtw_normalized_dist)"
   ]
  },
  {
   "cell_type": "code",
   "execution_count": 52,
   "metadata": {},
   "outputs": [],
   "source": [
    "cmap = cm.gist_rainbow(np.linspace(0, 1, 50))\n",
    "set_link_color_palette([mpl.colors.rgb2hex(rgb[:3]) for rgb in cmap])"
   ]
  },
  {
   "cell_type": "markdown",
   "metadata": {},
   "source": [
    "### To choose a better threshold for dendrogram cut"
   ]
  },
  {
   "cell_type": "code",
   "execution_count": null,
   "metadata": {},
   "outputs": [],
   "source": [
    "xthreshold = np.arange(0.1,0,-0.005)\n",
    "\n",
    "intra_std = []\n",
    "intra_mean = []\n",
    "inter = []\n",
    "num_cluster = []\n",
    "x = []\n",
    "plt.figure()\n",
    "for threshold in xthreshold:\n",
    "    d = dendrogram(Z, orientation='right', truncate_mode='level', p=n_synopsis, color_threshold=threshold, above_threshold_color='grey')\n",
    "\n",
    "    cluster_color = get_cluster_color(d)\n",
    "    if len(cluster_color.keys())>50:\n",
    "        break\n",
    "    else:\n",
    "        centers = []\n",
    "        # inertie intra d'un cluster\n",
    "        intra_k = []\n",
    "        for idx, (k, v) in enumerate(cluster_color.items()):\n",
    "            l = [int(i) for i in v]\n",
    "\n",
    "            if len(l) != 0:\n",
    "                center = np.nanmean(data_uniform_array[l, :], axis=0)\n",
    "                centers.append(center)\n",
    "\n",
    "                inertie_intra = 0\n",
    "                for j in l:\n",
    "                    inertie_intra += dtw_normalized_dist(data_uniform_array[j, :], center)**2\n",
    "                inertie_intra = inertie_intra/len(l)\n",
    "            else:\n",
    "                continue\n",
    "            intra_k.append(inertie_intra)\n",
    "    #         print(f'inertie intra cluster : {k} - {inertie_intra}')\n",
    "        intra_std.append(np.nanstd(intra_k))\n",
    "        intra_mean.append(np.nanmean(intra_k))\n",
    "\n",
    "        # inertie inter des clusters (variance des centres des clusters)\n",
    "        inertie_inter = 0\n",
    "        c = np.nanmean(np.array(centers), axis=0)\n",
    "        for center in centers:\n",
    "            inertie_inter += dtw_normalized_dist(c, center)**2\n",
    "            inertie_inter = inertie_inter/len(centers)\n",
    "        inter.append(inertie_inter)\n",
    "        num_cluster.append(len(centers))\n",
    "#     print(f'inertie inter cluster : {inertie_inter}')\n",
    "        x.append(threshold)\n",
    "plt.close()"
   ]
  },
  {
   "cell_type": "code",
   "execution_count": 53,
   "metadata": {},
   "outputs": [],
   "source": [
    "plt.close('all')"
   ]
  },
  {
   "cell_type": "code",
   "execution_count": null,
   "metadata": {},
   "outputs": [],
   "source": [
    "fig = plt.figure(figsize=(10,7))\n",
    "plt.grid(True)\n",
    "ax1 = fig.add_subplot(111)\n",
    "\n",
    "ax2 = ax1.twinx()\n",
    "# ax2.plot(x, num_cluster, '--g', label='Nombre de clusters')\n",
    "# ax2.set_ylabel('Nombre de clusters')\n",
    "\n",
    "ax1.plot(x, inter, label='Inertie inter-cluster')\n",
    "ax1.set_ylabel('Inertie')\n",
    "\n",
    "ax1.errorbar(x, intra_mean, yerr=intra_std, fmt='--.r', ecolor='grey', elinewidth=2, capsize=2, label='Inertie intra cluster')\n",
    "ax1.plot(x, intra_std, '--o', label='Std intra cluster')\n",
    "ax2.plot(x, [intra_mean[i]/inter[i] for i in range(len(x))], '--r', label='Ratio intra/inter')\n",
    "lines, labels = ax1.get_legend_handles_labels()\n",
    "lines2, labels2 = ax2.get_legend_handles_labels()\n",
    "ax2.legend(lines + lines2, labels + labels2, loc=0)\n",
    "\n",
    "plt.show()"
   ]
  },
  {
   "cell_type": "markdown",
   "metadata": {},
   "source": [
    "#### Optimal threshold"
   ]
  },
  {
   "cell_type": "code",
   "execution_count": 69,
   "metadata": {},
   "outputs": [
    {
     "data": {
      "application/vnd.jupyter.widget-view+json": {
       "model_id": "03277d5168cd4176be1dce5cd5d84820",
       "version_major": 2,
       "version_minor": 0
      },
      "text/plain": [
       "Canvas(toolbar=Toolbar(toolitems=[('Home', 'Reset original view', 'home', 'home'), ('Back', 'Back to previous …"
      ]
     },
     "metadata": {},
     "output_type": "display_data"
    },
    {
     "data": {
      "text/plain": [
       "24"
      ]
     },
     "execution_count": 69,
     "metadata": {},
     "output_type": "execute_result"
    }
   ],
   "source": [
    "threshold = 0.015\n",
    "\n",
    "labels = fcluster(Z, t=threshold, criterion='distance')\n",
    "\n",
    "# set_link_color_palette(None)\n",
    "\n",
    "plt.figure(figsize=(10, 6.5))\n",
    "d = dendrogram(Z, orientation='right', truncate_mode='level', p=n_synopsis, color_threshold=threshold, above_threshold_color='grey')\n",
    "\n",
    "plt.axvline(x=threshold, c='r', lw=2, linestyle='dashed')\n",
    "plt.title(f\"Dendrogram result of fields with {crop_type} in {year_choice} : {method}, cut level at {threshold}\")\n",
    "plt.show()\n",
    "\n",
    "cluster_color = get_cluster_color(d)\n",
    "label_color = {label:k for k,v in cluster_color.items() for label in v}\n",
    "len(cluster_color.keys())"
   ]
  },
  {
   "cell_type": "code",
   "execution_count": 13,
   "metadata": {},
   "outputs": [],
   "source": [
    "plt.close('all')"
   ]
  },
  {
   "cell_type": "code",
   "execution_count": null,
   "metadata": {},
   "outputs": [],
   "source": [
    "# _, ax1 = plt.subplots(figsize=(10,6))\n",
    "# ax1.grid(True)\n",
    "# for i in range(len(all_synopsis_list)):\n",
    "#     ax1.plot(all_date_list[i], all_synopsis_list[i], color=label_color[str(i)])\n",
    "\n",
    "# box = ax1.get_position()\n",
    "# ax1.set_position([box.x0, box.y0, box.width*0.8, box.height])\n",
    "\n",
    "# legend_element = [plt.Line2D([0], [0], color=c, linestyle='-') for c in cluster_color.keys()]\n",
    "# legend_label = [i for i in cluster_color.keys()]\n",
    "\n",
    "# ax1.legend(legend_element, legend_label, bbox_to_anchor=(0.75, 0.7), bbox_transform=plt.gcf().transFigure)\n",
    "# plt.title(f\"Clustering results of the synopsis vectors of evolution graphs of all fields in {year_choice}\")\n",
    "# plt.show()"
   ]
  },
  {
   "cell_type": "code",
   "execution_count": 70,
   "metadata": {},
   "outputs": [
    {
     "data": {
      "application/vnd.jupyter.widget-view+json": {
       "model_id": "25208ff1161b4a78b556efe77ad37a16",
       "version_major": 2,
       "version_minor": 0
      },
      "text/plain": [
       "Canvas(toolbar=Toolbar(toolitems=[('Home', 'Reset original view', 'home', 'home'), ('Back', 'Back to previous …"
      ]
     },
     "metadata": {},
     "output_type": "display_data"
    }
   ],
   "source": [
    "nrows=9\n",
    "ncols=3\n",
    "_, ax = plt.subplots(figsize=(4*ncols,4*nrows), nrows=nrows, ncols=ncols)\n",
    "axis = ax.flatten()\n",
    "\n",
    "x_l = mdates.date2num(helper.iloc[0].values)\n",
    "x_r = mdates.date2num(helper.iloc[-1].values)\n",
    "\n",
    "axis[0].grid(True)\n",
    "for i in range(len(all_synopsis_list)):\n",
    "    axis[0].plot(all_date_list[i], all_synopsis_list[i], color=label_color[str(i)])\n",
    "#     axis[0].plot(helper, data_uniform_array[i], color=label_color[str(i)])\n",
    "\n",
    "axis[0].set_xlim([x_l, x_r])\n",
    "axis[0].set_ylim([0, 1])\n",
    "axis[0].set_title(f'all synopsis with cluster color')\n",
    "plt.setp(axis[0].get_xticklabels(), rotation=90, fontsize=8)\n",
    "\n",
    "for idx, (k, v) in enumerate(cluster_color.items()):\n",
    "    l = np.unique([int(i) for i in v])\n",
    "    axis[idx+1].grid(True)\n",
    "    for j in l:\n",
    "        axis[idx+1].plot(all_date_list[j], all_synopsis_list[j], color=k)\n",
    "#         axis[idx+1].plot(helper, data_uniform_array[j], color=k)\n",
    "    axis[idx+1].set_xlim([x_l, x_r])\n",
    "    axis[idx+1].set_ylim([0, 1])\n",
    "    axis[idx+1].set_title(f'{idx} - {k} ({len(l)} BBs)')\n",
    "    plt.setp(axis[idx+1].get_xticklabels(), rotation=90, fontsize=8)\n",
    "plt.tight_layout()\n",
    "plt.suptitle(f'Clustering results by {method} at cut level {threshold} : fields with {crop_type} in {year_choice}', y=1)\n",
    "\n",
    "plt.show()"
   ]
  },
  {
   "cell_type": "code",
   "execution_count": 71,
   "metadata": {},
   "outputs": [
    {
     "data": {
      "application/vnd.jupyter.widget-view+json": {
       "model_id": "caf22ff060234735a5462c0e6eed4cac",
       "version_major": 2,
       "version_minor": 0
      },
      "text/plain": [
       "Canvas(toolbar=Toolbar(toolitems=[('Home', 'Reset original view', 'home', 'home'), ('Back', 'Back to previous …"
      ]
     },
     "metadata": {},
     "output_type": "display_data"
    }
   ],
   "source": [
    "fig = plt.figure(figsize=(10, 6.5))\n",
    "d_id = dendrogram(Z, orientation='right', truncate_mode='level', p=n_synopsis, labels=syn_label, color_threshold=threshold, above_threshold_color='grey')\n",
    "\n",
    "\n",
    "plt.axvline(x=threshold, c='r', lw=2, linestyle='dashed')\n",
    "plt.title(f\"Dendrogram result of fields with {crop_type} in {year_choice} : cut level at {threshold}\")\n",
    "plt.show()\n",
    "cluster_color_id = get_cluster_color(d_id)\n",
    "label_color_id = {label:k for k,v in cluster_color_id.items() for label in v}"
   ]
  },
  {
   "cell_type": "code",
   "execution_count": 72,
   "metadata": {},
   "outputs": [
    {
     "name": "stderr",
     "output_type": "stream",
     "text": [
      "<ipython-input-72-ea2d01fdd8ff>:56: RuntimeWarning: invalid value encountered in double_scalars\n",
      "  F_measure = 2*precision*recall/(precision+recall)\n",
      "<ipython-input-72-ea2d01fdd8ff>:56: RuntimeWarning: invalid value encountered in double_scalars\n",
      "  F_measure = 2*precision*recall/(precision+recall)\n",
      "<ipython-input-72-ea2d01fdd8ff>:56: RuntimeWarning: invalid value encountered in double_scalars\n",
      "  F_measure = 2*precision*recall/(precision+recall)\n",
      "<ipython-input-72-ea2d01fdd8ff>:56: RuntimeWarning: invalid value encountered in double_scalars\n",
      "  F_measure = 2*precision*recall/(precision+recall)\n",
      "<ipython-input-72-ea2d01fdd8ff>:56: RuntimeWarning: invalid value encountered in double_scalars\n",
      "  F_measure = 2*precision*recall/(precision+recall)\n",
      "<ipython-input-72-ea2d01fdd8ff>:56: RuntimeWarning: invalid value encountered in double_scalars\n",
      "  F_measure = 2*precision*recall/(precision+recall)\n",
      "<ipython-input-72-ea2d01fdd8ff>:56: RuntimeWarning: invalid value encountered in double_scalars\n",
      "  F_measure = 2*precision*recall/(precision+recall)\n",
      "<ipython-input-72-ea2d01fdd8ff>:56: RuntimeWarning: invalid value encountered in double_scalars\n",
      "  F_measure = 2*precision*recall/(precision+recall)\n",
      "<ipython-input-72-ea2d01fdd8ff>:56: RuntimeWarning: invalid value encountered in double_scalars\n",
      "  F_measure = 2*precision*recall/(precision+recall)\n",
      "<ipython-input-72-ea2d01fdd8ff>:56: RuntimeWarning: invalid value encountered in double_scalars\n",
      "  F_measure = 2*precision*recall/(precision+recall)\n",
      "<ipython-input-72-ea2d01fdd8ff>:56: RuntimeWarning: invalid value encountered in double_scalars\n",
      "  F_measure = 2*precision*recall/(precision+recall)\n"
     ]
    }
   ],
   "source": [
    "cluster_anomaly_bb = {k:[] for k in cluster_color_id.keys()}\n",
    "cluster_anomaly_precision = {k:[] for k in cluster_color_id.keys()}\n",
    "cluster_anomaly_recall = {k:[] for k in cluster_color_id.keys()}\n",
    "cluster_anomaly_p_r = {k:[] for k in cluster_color_id.keys()}\n",
    "\n",
    "sfd_bb_precision = dict()\n",
    "sfd_bb_recall = dict()\n",
    "sfd_bb_p_r = dict()\n",
    "sfd_bb_F = dict()\n",
    "\n",
    "for sfd_id_choice in clustered_sfd_ids:\n",
    "#     year_choice = annotations_info[annotations_info.sfd_id == sfd_id_choice].year.values[0]\n",
    "    annotation_df = pd.read_pickle(f'variables/annotation_df/{sfd_id_choice}_{year_choice}_annotation_df.pkl')\n",
    "\n",
    "    raster_df = pd.read_pickle(save_path_df+'{0}_{1}_scale_{2}_raster_seg_df.pkl'.format(sfd_id_choice,year_choice,scale))\n",
    "    segments_test = raster_df['segments_fz'].iloc[(raster_df.index >= datetime.datetime(year_choice,1,1)) & (raster_df.index <= datetime.datetime(year_choice,12,31))]\n",
    "    raster_ndvi_numpy_test = raster_df['raster_ndvi_numpy'].iloc[(raster_df.index >= datetime.datetime(year_choice,1,1)) & (raster_df.index <= datetime.datetime(year_choice,12,31))]\n",
    "\n",
    "    bb_final_list = np.load(save_path_bb+'{0}_{1}_scale_{2}_alpha_{3}_t1_{4}_t2_{5}_final_bb.npy'.format(sfd_id_choice,year_choice,scale,alpha,t1,t2), allow_pickle=True)\n",
    "\n",
    "    criterion_1 = []\n",
    "    criterion_2 = []\n",
    "    criterion_3 = []\n",
    "    criterion_4 = []\n",
    "    n = []\n",
    "    anomaly_bb_ids = []\n",
    "    for i in range(bb_final_list.shape[0]):\n",
    "        dico_bb = dict()\n",
    "        for el in bb_final_list[i,4]:\n",
    "            dico_bb[el[0]] = dico_bb.get(el[0], []) + [el[1]]\n",
    "        dico_bb[bb_final_list[i,0]] = [bb_final_list[i,1]]\n",
    "        dico_bb = dict(sorted(dico_bb.items(), key=operator.itemgetter(0)))\n",
    "        commun_dates = segments_test.index[list(dico_bb.keys())].intersection(annotation_df.index)\n",
    "        commun_dates_idx = segments_test.index.get_indexer(commun_dates)\n",
    "        dates_in_graph = len(commun_dates)/len(annotation_df.index)*100\n",
    "        graph_not_anomaly = (1-len(commun_dates)/len(dico_bb))*100\n",
    "\n",
    "        precision_avg = []\n",
    "        recall_avg = []\n",
    "        F_measure_avg = []\n",
    "        accuracy_avg = []\n",
    "        p_r_avg = []\n",
    "        for idx, j in enumerate(commun_dates_idx):\n",
    "            bb_cover = np.ma.zeros(segments_test.iloc[j].shape)\n",
    "            for el in dico_bb[j]:\n",
    "                bb_cover[segments_test.iloc[j] == el] = 1\n",
    "            bb_cover.mask = raster_ndvi_numpy_test.iloc[j].mask\n",
    "            annotation = annotation_df[annotation_df.index == commun_dates[idx]]['annotes_numpy'][0]\n",
    "            TP = (bb_cover*annotation).sum()\n",
    "            FP = (bb_cover*(annotation == 0)).sum()\n",
    "            TN = ((bb_cover == 0)*(annotation == 0)).sum()\n",
    "            FN = ((bb_cover == 0)*annotation).sum()\n",
    "            \n",
    "            precision = TP/(TP+FP) \n",
    "            recall = TP/(TP+FN)\n",
    "            F_measure = 2*precision*recall/(precision+recall)\n",
    "            accuracy = (TP+TN)/(TP+TN+FP+FN)\n",
    "            p_r = precision*recall\n",
    "            \n",
    "            precision_avg.append(precision)\n",
    "            recall_avg.append(recall)\n",
    "            F_measure_avg.append(F_measure)\n",
    "            accuracy_avg.append(accuracy)\n",
    "            p_r_avg.append(p_r)\n",
    "        # performance over annotation for each BB\n",
    "        precision_avg = np.nansum(precision_avg)/len(annotation_df)\n",
    "        recall_avg = np.nansum(recall_avg)/len(annotation_df)\n",
    "        F_measure_avg = np.nansum(F_measure_avg)/len(annotation_df)\n",
    "        accuracy_avg = np.nansum(accuracy_avg)/len(annotation_df)\n",
    "        p_r_avg = np.nansum(p_r_avg)/len(annotation_df)\n",
    "        \n",
    "        if precision_avg > 0 and recall_avg > 0:  # if BB covers the annotated pixels\n",
    "            criterion_1.append(precision_avg)\n",
    "            criterion_2.append(recall_avg)\n",
    "            criterion_3.append(p_r_avg)\n",
    "            criterion_4.append(F_measure_avg)\n",
    "            n.append(i)\n",
    "            anomaly_bb_ids.append(f'{bb_final_list[i,0]}_{bb_final_list[i,1]}')\n",
    "\n",
    "#     sfd_bb_precision[sfd_id_choice] = sfd_bb_precision.get(sfd_id_choice, []) + criterion_1\n",
    "#     sfd_bb_recall[sfd_id_choice] = sfd_bb_recall.get(sfd_id_choice, []) + criterion_2\n",
    "#     sfd_bb_p_r[sfd_id_choice] = sfd_bb_p_r.get(sfd_id_choice, []) + criterion_3\n",
    "#     sfd_bb_F[sfd_id_choice] = sfd_bb_F.get(sfd_id_choice, []) + criterion_4\n",
    "    \n",
    "    # save sfd:bb_id, corresponding precision, recall by cluster\n",
    "    sfd_anomaly_bb = ['{0}:{1}'.format(str(sfd_id_choice), el) for el in anomaly_bb_ids]\n",
    "    for idx, el in enumerate(sfd_anomaly_bb):\n",
    "        cluster_anomaly_bb[label_color_id[el]] += [el]    \n",
    "        cluster_anomaly_precision[label_color_id[el]] += [criterion_1[idx]]\n",
    "        cluster_anomaly_recall[label_color_id[el]] += [criterion_2[idx]]\n",
    "        cluster_anomaly_p_r[label_color_id[el]] += [criterion_2[idx]]"
   ]
  },
  {
   "cell_type": "code",
   "execution_count": 80,
   "metadata": {
    "collapsed": true,
    "jupyter": {
     "outputs_hidden": true
    }
   },
   "outputs": [
    {
     "data": {
      "application/vnd.jupyter.widget-view+json": {
       "model_id": "77cd2645f05142abbbb8dbb359d63eaf",
       "version_major": 2,
       "version_minor": 0
      },
      "text/plain": [
       "Canvas(toolbar=Toolbar(toolitems=[('Home', 'Reset original view', 'home', 'home'), ('Back', 'Back to previous …"
      ]
     },
     "metadata": {},
     "output_type": "display_data"
    },
    {
     "ename": "IndexError",
     "evalue": "index 24 is out of bounds for axis 0 with size 24",
     "output_type": "error",
     "traceback": [
      "\u001b[1;31m---------------------------------------------------------------------------\u001b[0m",
      "\u001b[1;31mIndexError\u001b[0m                                Traceback (most recent call last)",
      "\u001b[1;32m<ipython-input-80-5aa2e720c022>\u001b[0m in \u001b[0;36m<module>\u001b[1;34m\u001b[0m\n\u001b[0;32m     23\u001b[0m \u001b[1;32mfor\u001b[0m \u001b[0midx\u001b[0m\u001b[1;33m,\u001b[0m \u001b[1;33m(\u001b[0m\u001b[0mk\u001b[0m\u001b[1;33m,\u001b[0m \u001b[0mv\u001b[0m\u001b[1;33m)\u001b[0m \u001b[1;32min\u001b[0m \u001b[0menumerate\u001b[0m\u001b[1;33m(\u001b[0m\u001b[0mcluster_color\u001b[0m\u001b[1;33m.\u001b[0m\u001b[0mitems\u001b[0m\u001b[1;33m(\u001b[0m\u001b[1;33m)\u001b[0m\u001b[1;33m)\u001b[0m\u001b[1;33m:\u001b[0m\u001b[1;33m\u001b[0m\u001b[1;33m\u001b[0m\u001b[0m\n\u001b[0;32m     24\u001b[0m     \u001b[0ml\u001b[0m \u001b[1;33m=\u001b[0m \u001b[0mnp\u001b[0m\u001b[1;33m.\u001b[0m\u001b[0munique\u001b[0m\u001b[1;33m(\u001b[0m\u001b[1;33m[\u001b[0m\u001b[0mint\u001b[0m\u001b[1;33m(\u001b[0m\u001b[0mi\u001b[0m\u001b[1;33m)\u001b[0m \u001b[1;32mfor\u001b[0m \u001b[0mi\u001b[0m \u001b[1;32min\u001b[0m \u001b[0mv\u001b[0m\u001b[1;33m]\u001b[0m\u001b[1;33m)\u001b[0m\u001b[1;33m\u001b[0m\u001b[1;33m\u001b[0m\u001b[0m\n\u001b[1;32m---> 25\u001b[1;33m     \u001b[0maxis\u001b[0m\u001b[1;33m[\u001b[0m\u001b[0midx\u001b[0m\u001b[1;33m+\u001b[0m\u001b[1;36m1\u001b[0m\u001b[1;33m]\u001b[0m\u001b[1;33m.\u001b[0m\u001b[0mgrid\u001b[0m\u001b[1;33m(\u001b[0m\u001b[1;32mTrue\u001b[0m\u001b[1;33m)\u001b[0m\u001b[1;33m\u001b[0m\u001b[1;33m\u001b[0m\u001b[0m\n\u001b[0m\u001b[0;32m     26\u001b[0m     \u001b[1;32mfor\u001b[0m \u001b[0mj\u001b[0m \u001b[1;32min\u001b[0m \u001b[0ml\u001b[0m\u001b[1;33m:\u001b[0m\u001b[1;33m\u001b[0m\u001b[1;33m\u001b[0m\u001b[0m\n\u001b[0;32m     27\u001b[0m         \u001b[0maxis\u001b[0m\u001b[1;33m[\u001b[0m\u001b[0midx\u001b[0m\u001b[1;33m+\u001b[0m\u001b[1;36m1\u001b[0m\u001b[1;33m]\u001b[0m\u001b[1;33m.\u001b[0m\u001b[0mplot\u001b[0m\u001b[1;33m(\u001b[0m\u001b[0mall_date_list\u001b[0m\u001b[1;33m[\u001b[0m\u001b[0mj\u001b[0m\u001b[1;33m]\u001b[0m\u001b[1;33m,\u001b[0m \u001b[0mall_synopsis_list\u001b[0m\u001b[1;33m[\u001b[0m\u001b[0mj\u001b[0m\u001b[1;33m]\u001b[0m\u001b[1;33m,\u001b[0m \u001b[0mcolor\u001b[0m\u001b[1;33m=\u001b[0m\u001b[0mk\u001b[0m\u001b[1;33m)\u001b[0m\u001b[1;33m\u001b[0m\u001b[1;33m\u001b[0m\u001b[0m\n",
      "\u001b[1;31mIndexError\u001b[0m: index 24 is out of bounds for axis 0 with size 24"
     ]
    }
   ],
   "source": [
    "dico_cluster_anomaly_rate = {k:len(cluster_anomaly_bb[k])/len(v)*100 for k,v in cluster_color_id.items() if len(v)>0}\n",
    "dico_cluster_anomaly_type = {k:[fields_data[fields_data.sfd_id == int(el.split(':')[0])].anomaly_class.values[0] for el in v] \n",
    "                             if len(v) > 0 else [] for k,v in cluster_anomaly_bb.items()}\n",
    "\n",
    "# nrows=8\n",
    "# ncols=3\n",
    "_, ax = plt.subplots(figsize=(4*ncols,4*nrows), nrows=nrows, ncols=ncols)\n",
    "axis = ax.flatten()\n",
    "\n",
    "x_l = mdates.date2num(helper.iloc[0].values)\n",
    "x_r = mdates.date2num(helper.iloc[-1].values)\n",
    "\n",
    "axis[0].grid(True)\n",
    "for i in range(len(all_synopsis_list)):\n",
    "    axis[0].plot(all_date_list[i], all_synopsis_list[i], color=label_color[str(i)])\n",
    "#     axis[0].plot(helper, data_uniform_array[i], color=label_color[str(i)])\n",
    "axis[0].set_xlim([x_l, x_r])\n",
    "axis[0].set_ylim([0, 1])\n",
    "axis[0].set_title(f'all synopsis with cluster color', fontsize=8)\n",
    "plt.setp(axis[0].get_xticklabels(), rotation=90, fontsize=8)\n",
    "plt.setp(axis[0].get_yticklabels(), fontsize=8)\n",
    "\n",
    "for idx, (k, v) in enumerate(cluster_color.items()):\n",
    "    \n",
    "    l = np.unique([int(i) for i in v])\n",
    "    axis[idx+1].grid(True)\n",
    "    for j in l:\n",
    "        axis[idx+1].plot(all_date_list[j], all_synopsis_list[j], color=k)\n",
    "#         axis[idx+1].plot(helper, data_uniform_array[j], color=k)\n",
    "    axis[idx+1].set_xlim([x_l, x_r])\n",
    "    axis[idx+1].set_ylim([0, 1])\n",
    "    if len(set(dico_cluster_anomaly_type[k])) > 0:\n",
    "        a = round(dico_cluster_anomaly_rate[k],2)\n",
    "        b = set(dico_cluster_anomaly_type[k])\n",
    "        c = round(np.mean(cluster_anomaly_precision[k]),2)\n",
    "        d = round(np.max(cluster_anomaly_precision[k]),2)\n",
    "        e = round(np.mean(cluster_anomaly_recall[k]),2)\n",
    "        f = round(np.max(cluster_anomaly_recall[k]),2)\n",
    "        title = f'{idx} - {k} ({len(l)} BBs)\\n {a}% anomaly BBs with type {b}\\n precision: mean={c} max={d} recall: mean={e} max={f}'\n",
    "\n",
    "        axis[idx+1].set_title(title, fontsize=8)\n",
    "    else:\n",
    "        axis[idx+1].set_title(f'{idx} - {k} ({len(l)} BBs)\\n no anomaly BBs', fontsize=8)\n",
    "\n",
    "    plt.setp(axis[idx+1].get_xticklabels(), rotation=90, fontsize=8)\n",
    "    plt.setp(axis[idx+1].get_yticklabels(), fontsize=8)\n",
    "\n",
    "plt.tight_layout()\n",
    "plt.suptitle(f'Clustering results by {method} at cut level {threshold} : fields with {crop_type} in {year_choice}', y=1)\n",
    "plt.show()"
   ]
  },
  {
   "cell_type": "code",
   "execution_count": 73,
   "metadata": {
    "collapsed": true,
    "jupyter": {
     "outputs_hidden": true,
     "source_hidden": true
    }
   },
   "outputs": [
    {
     "data": {
      "application/vnd.jupyter.widget-view+json": {
       "model_id": "7aa28b81c29b43afaa9f38c4cb8c8904",
       "version_major": 2,
       "version_minor": 0
      },
      "text/plain": [
       "Canvas(toolbar=Toolbar(toolitems=[('Home', 'Reset original view', 'home', 'home'), ('Back', 'Back to previous …"
      ]
     },
     "metadata": {},
     "output_type": "display_data"
    },
    {
     "ename": "ValueError",
     "evalue": "Dimensions of labels and X must be compatible",
     "output_type": "error",
     "traceback": [
      "\u001b[1;31m---------------------------------------------------------------------------\u001b[0m",
      "\u001b[1;31mValueError\u001b[0m                                Traceback (most recent call last)",
      "\u001b[1;32m<ipython-input-73-7ffb5c046c10>\u001b[0m in \u001b[0;36m<module>\u001b[1;34m\u001b[0m\n\u001b[0;32m      2\u001b[0m \u001b[0mplt\u001b[0m\u001b[1;33m.\u001b[0m\u001b[0msubplot\u001b[0m\u001b[1;33m(\u001b[0m\u001b[1;36m1\u001b[0m\u001b[1;33m,\u001b[0m\u001b[1;36m2\u001b[0m\u001b[1;33m,\u001b[0m\u001b[1;36m1\u001b[0m\u001b[1;33m)\u001b[0m\u001b[1;33m\u001b[0m\u001b[1;33m\u001b[0m\u001b[0m\n\u001b[0;32m      3\u001b[0m \u001b[0mplt\u001b[0m\u001b[1;33m.\u001b[0m\u001b[0mgrid\u001b[0m\u001b[1;33m(\u001b[0m\u001b[1;32mTrue\u001b[0m\u001b[1;33m)\u001b[0m\u001b[1;33m\u001b[0m\u001b[1;33m\u001b[0m\u001b[0m\n\u001b[1;32m----> 4\u001b[1;33m \u001b[0mplt\u001b[0m\u001b[1;33m.\u001b[0m\u001b[0mboxplot\u001b[0m\u001b[1;33m(\u001b[0m\u001b[0msfd_bb_precision\u001b[0m\u001b[1;33m.\u001b[0m\u001b[0mvalues\u001b[0m\u001b[1;33m(\u001b[0m\u001b[1;33m)\u001b[0m\u001b[1;33m,\u001b[0m \u001b[0mlabels\u001b[0m\u001b[1;33m=\u001b[0m\u001b[0msfd_bb_precision\u001b[0m\u001b[1;33m.\u001b[0m\u001b[0mkeys\u001b[0m\u001b[1;33m(\u001b[0m\u001b[1;33m)\u001b[0m\u001b[1;33m)\u001b[0m\u001b[1;33m\u001b[0m\u001b[1;33m\u001b[0m\u001b[0m\n\u001b[0m\u001b[0;32m      5\u001b[0m \u001b[0mdata_x\u001b[0m \u001b[1;33m=\u001b[0m \u001b[1;33m[\u001b[0m\u001b[0mi\u001b[0m \u001b[1;32mfor\u001b[0m \u001b[0mi\u001b[0m\u001b[1;33m,\u001b[0m\u001b[0mk\u001b[0m \u001b[1;32min\u001b[0m \u001b[0menumerate\u001b[0m\u001b[1;33m(\u001b[0m\u001b[0msfd_bb_precision\u001b[0m\u001b[1;33m.\u001b[0m\u001b[0mkeys\u001b[0m\u001b[1;33m(\u001b[0m\u001b[1;33m)\u001b[0m\u001b[1;33m)\u001b[0m \u001b[1;32mif\u001b[0m \u001b[0mlen\u001b[0m\u001b[1;33m(\u001b[0m\u001b[0msfd_bb_precision\u001b[0m\u001b[1;33m[\u001b[0m\u001b[0mk\u001b[0m\u001b[1;33m]\u001b[0m\u001b[1;33m)\u001b[0m \u001b[1;33m>\u001b[0m \u001b[1;36m0\u001b[0m \u001b[1;32mfor\u001b[0m \u001b[0mel\u001b[0m \u001b[1;32min\u001b[0m \u001b[0msfd_bb_precision\u001b[0m\u001b[1;33m[\u001b[0m\u001b[0mk\u001b[0m\u001b[1;33m]\u001b[0m\u001b[1;33m]\u001b[0m\u001b[1;33m\u001b[0m\u001b[1;33m\u001b[0m\u001b[0m\n\u001b[0;32m      6\u001b[0m \u001b[0mdata_y\u001b[0m \u001b[1;33m=\u001b[0m \u001b[1;33m[\u001b[0m\u001b[0mel\u001b[0m \u001b[1;32mfor\u001b[0m \u001b[0mv\u001b[0m \u001b[1;32min\u001b[0m \u001b[0mlist\u001b[0m\u001b[1;33m(\u001b[0m\u001b[0msfd_bb_precision\u001b[0m\u001b[1;33m.\u001b[0m\u001b[0mvalues\u001b[0m\u001b[1;33m(\u001b[0m\u001b[1;33m)\u001b[0m\u001b[1;33m)\u001b[0m \u001b[1;32mif\u001b[0m \u001b[0mlen\u001b[0m\u001b[1;33m(\u001b[0m\u001b[0mv\u001b[0m\u001b[1;33m)\u001b[0m \u001b[1;33m>\u001b[0m \u001b[1;36m0\u001b[0m \u001b[1;32mfor\u001b[0m \u001b[0mel\u001b[0m \u001b[1;32min\u001b[0m \u001b[0mv\u001b[0m\u001b[1;33m]\u001b[0m\u001b[1;33m\u001b[0m\u001b[1;33m\u001b[0m\u001b[0m\n",
      "\u001b[1;32m~\\Anaconda3\\lib\\site-packages\\matplotlib\\pyplot.py\u001b[0m in \u001b[0;36mboxplot\u001b[1;34m(x, notch, sym, vert, whis, positions, widths, patch_artist, bootstrap, usermedians, conf_intervals, meanline, showmeans, showcaps, showbox, showfliers, boxprops, labels, flierprops, medianprops, meanprops, capprops, whiskerprops, manage_ticks, autorange, zorder, data)\u001b[0m\n\u001b[0;32m   2515\u001b[0m         \u001b[0mwhiskerprops\u001b[0m\u001b[1;33m=\u001b[0m\u001b[1;32mNone\u001b[0m\u001b[1;33m,\u001b[0m \u001b[0mmanage_ticks\u001b[0m\u001b[1;33m=\u001b[0m\u001b[1;32mTrue\u001b[0m\u001b[1;33m,\u001b[0m \u001b[0mautorange\u001b[0m\u001b[1;33m=\u001b[0m\u001b[1;32mFalse\u001b[0m\u001b[1;33m,\u001b[0m\u001b[1;33m\u001b[0m\u001b[1;33m\u001b[0m\u001b[0m\n\u001b[0;32m   2516\u001b[0m         zorder=None, *, data=None):\n\u001b[1;32m-> 2517\u001b[1;33m     return gca().boxplot(\n\u001b[0m\u001b[0;32m   2518\u001b[0m         \u001b[0mx\u001b[0m\u001b[1;33m,\u001b[0m \u001b[0mnotch\u001b[0m\u001b[1;33m=\u001b[0m\u001b[0mnotch\u001b[0m\u001b[1;33m,\u001b[0m \u001b[0msym\u001b[0m\u001b[1;33m=\u001b[0m\u001b[0msym\u001b[0m\u001b[1;33m,\u001b[0m \u001b[0mvert\u001b[0m\u001b[1;33m=\u001b[0m\u001b[0mvert\u001b[0m\u001b[1;33m,\u001b[0m \u001b[0mwhis\u001b[0m\u001b[1;33m=\u001b[0m\u001b[0mwhis\u001b[0m\u001b[1;33m,\u001b[0m\u001b[1;33m\u001b[0m\u001b[1;33m\u001b[0m\u001b[0m\n\u001b[0;32m   2519\u001b[0m         \u001b[0mpositions\u001b[0m\u001b[1;33m=\u001b[0m\u001b[0mpositions\u001b[0m\u001b[1;33m,\u001b[0m \u001b[0mwidths\u001b[0m\u001b[1;33m=\u001b[0m\u001b[0mwidths\u001b[0m\u001b[1;33m,\u001b[0m \u001b[0mpatch_artist\u001b[0m\u001b[1;33m=\u001b[0m\u001b[0mpatch_artist\u001b[0m\u001b[1;33m,\u001b[0m\u001b[1;33m\u001b[0m\u001b[1;33m\u001b[0m\u001b[0m\n",
      "\u001b[1;32m~\\Anaconda3\\lib\\site-packages\\matplotlib\\__init__.py\u001b[0m in \u001b[0;36minner\u001b[1;34m(ax, data, *args, **kwargs)\u001b[0m\n\u001b[0;32m   1436\u001b[0m     \u001b[1;32mdef\u001b[0m \u001b[0minner\u001b[0m\u001b[1;33m(\u001b[0m\u001b[0max\u001b[0m\u001b[1;33m,\u001b[0m \u001b[1;33m*\u001b[0m\u001b[0margs\u001b[0m\u001b[1;33m,\u001b[0m \u001b[0mdata\u001b[0m\u001b[1;33m=\u001b[0m\u001b[1;32mNone\u001b[0m\u001b[1;33m,\u001b[0m \u001b[1;33m**\u001b[0m\u001b[0mkwargs\u001b[0m\u001b[1;33m)\u001b[0m\u001b[1;33m:\u001b[0m\u001b[1;33m\u001b[0m\u001b[1;33m\u001b[0m\u001b[0m\n\u001b[0;32m   1437\u001b[0m         \u001b[1;32mif\u001b[0m \u001b[0mdata\u001b[0m \u001b[1;32mis\u001b[0m \u001b[1;32mNone\u001b[0m\u001b[1;33m:\u001b[0m\u001b[1;33m\u001b[0m\u001b[1;33m\u001b[0m\u001b[0m\n\u001b[1;32m-> 1438\u001b[1;33m             \u001b[1;32mreturn\u001b[0m \u001b[0mfunc\u001b[0m\u001b[1;33m(\u001b[0m\u001b[0max\u001b[0m\u001b[1;33m,\u001b[0m \u001b[1;33m*\u001b[0m\u001b[0mmap\u001b[0m\u001b[1;33m(\u001b[0m\u001b[0msanitize_sequence\u001b[0m\u001b[1;33m,\u001b[0m \u001b[0margs\u001b[0m\u001b[1;33m)\u001b[0m\u001b[1;33m,\u001b[0m \u001b[1;33m**\u001b[0m\u001b[0mkwargs\u001b[0m\u001b[1;33m)\u001b[0m\u001b[1;33m\u001b[0m\u001b[1;33m\u001b[0m\u001b[0m\n\u001b[0m\u001b[0;32m   1439\u001b[0m \u001b[1;33m\u001b[0m\u001b[0m\n\u001b[0;32m   1440\u001b[0m         \u001b[0mbound\u001b[0m \u001b[1;33m=\u001b[0m \u001b[0mnew_sig\u001b[0m\u001b[1;33m.\u001b[0m\u001b[0mbind\u001b[0m\u001b[1;33m(\u001b[0m\u001b[0max\u001b[0m\u001b[1;33m,\u001b[0m \u001b[1;33m*\u001b[0m\u001b[0margs\u001b[0m\u001b[1;33m,\u001b[0m \u001b[1;33m**\u001b[0m\u001b[0mkwargs\u001b[0m\u001b[1;33m)\u001b[0m\u001b[1;33m\u001b[0m\u001b[1;33m\u001b[0m\u001b[0m\n",
      "\u001b[1;32m~\\Anaconda3\\lib\\site-packages\\matplotlib\\axes\\_axes.py\u001b[0m in \u001b[0;36mboxplot\u001b[1;34m(self, x, notch, sym, vert, whis, positions, widths, patch_artist, bootstrap, usermedians, conf_intervals, meanline, showmeans, showcaps, showbox, showfliers, boxprops, labels, flierprops, medianprops, meanprops, capprops, whiskerprops, manage_ticks, autorange, zorder)\u001b[0m\n\u001b[0;32m   3681\u001b[0m             \u001b[0mbootstrap\u001b[0m \u001b[1;33m=\u001b[0m \u001b[0mrcParams\u001b[0m\u001b[1;33m[\u001b[0m\u001b[1;34m'boxplot.bootstrap'\u001b[0m\u001b[1;33m]\u001b[0m\u001b[1;33m\u001b[0m\u001b[1;33m\u001b[0m\u001b[0m\n\u001b[0;32m   3682\u001b[0m \u001b[1;33m\u001b[0m\u001b[0m\n\u001b[1;32m-> 3683\u001b[1;33m         bxpstats = cbook.boxplot_stats(x, whis=whis, bootstrap=bootstrap,\n\u001b[0m\u001b[0;32m   3684\u001b[0m                                        labels=labels, autorange=autorange)\n\u001b[0;32m   3685\u001b[0m         \u001b[1;32mif\u001b[0m \u001b[0mnotch\u001b[0m \u001b[1;32mis\u001b[0m \u001b[1;32mNone\u001b[0m\u001b[1;33m:\u001b[0m\u001b[1;33m\u001b[0m\u001b[1;33m\u001b[0m\u001b[0m\n",
      "\u001b[1;32m~\\Anaconda3\\lib\\site-packages\\matplotlib\\cbook\\__init__.py\u001b[0m in \u001b[0;36mboxplot_stats\u001b[1;34m(X, whis, bootstrap, labels, autorange)\u001b[0m\n\u001b[0;32m   1141\u001b[0m         \u001b[0mlabels\u001b[0m \u001b[1;33m=\u001b[0m \u001b[0mitertools\u001b[0m\u001b[1;33m.\u001b[0m\u001b[0mrepeat\u001b[0m\u001b[1;33m(\u001b[0m\u001b[1;32mNone\u001b[0m\u001b[1;33m)\u001b[0m\u001b[1;33m\u001b[0m\u001b[1;33m\u001b[0m\u001b[0m\n\u001b[0;32m   1142\u001b[0m     \u001b[1;32melif\u001b[0m \u001b[0mlen\u001b[0m\u001b[1;33m(\u001b[0m\u001b[0mlabels\u001b[0m\u001b[1;33m)\u001b[0m \u001b[1;33m!=\u001b[0m \u001b[0mncols\u001b[0m\u001b[1;33m:\u001b[0m\u001b[1;33m\u001b[0m\u001b[1;33m\u001b[0m\u001b[0m\n\u001b[1;32m-> 1143\u001b[1;33m         \u001b[1;32mraise\u001b[0m \u001b[0mValueError\u001b[0m\u001b[1;33m(\u001b[0m\u001b[1;34m\"Dimensions of labels and X must be compatible\"\u001b[0m\u001b[1;33m)\u001b[0m\u001b[1;33m\u001b[0m\u001b[1;33m\u001b[0m\u001b[0m\n\u001b[0m\u001b[0;32m   1144\u001b[0m \u001b[1;33m\u001b[0m\u001b[0m\n\u001b[0;32m   1145\u001b[0m     \u001b[0minput_whis\u001b[0m \u001b[1;33m=\u001b[0m \u001b[0mwhis\u001b[0m\u001b[1;33m\u001b[0m\u001b[1;33m\u001b[0m\u001b[0m\n",
      "\u001b[1;31mValueError\u001b[0m: Dimensions of labels and X must be compatible"
     ]
    }
   ],
   "source": [
    "plt.figure(figsize=(12,8))\n",
    "plt.subplot(1,2,1)\n",
    "plt.grid(True)\n",
    "plt.boxplot(sfd_bb_precision.values(), labels=sfd_bb_precision.keys())\n",
    "data_x = [i for i,k in enumerate(sfd_bb_precision.keys()) if len(sfd_bb_precision[k]) > 0 for el in sfd_bb_precision[k]]\n",
    "data_y = [el for v in list(sfd_bb_precision.values()) if len(v) > 0 for el in v]\n",
    "for x, y in zip(data_x, data_y):\n",
    "    plt.scatter(x+1, y, alpha=0.4, c='r')\n",
    "plt.xlabel('sfd_id')\n",
    "plt.ylabel('average precision of all annotations per BB')\n",
    "plt.xticks(rotation=45)\n",
    "plt.ylim(top=1.1)\n",
    "\n",
    "plt.subplot(1,2,2)\n",
    "plt.grid(True)\n",
    "plt.boxplot(sfd_bb_recall.values(), labels=sfd_bb_recall.keys())\n",
    "data_x = [i for i,k in enumerate(sfd_bb_recall.keys()) if len(sfd_bb_recall[k]) > 0 for el in sfd_bb_recall[k]]\n",
    "data_y = [el for v in list(sfd_bb_recall.values()) if len(v) > 0 for el in v]\n",
    "for x, y in zip(data_x, data_y):\n",
    "    plt.scatter(x+1, y, alpha=0.4, c='r')\n",
    "plt.xlabel('sfd_id')\n",
    "plt.ylabel('average recall of all annotations per BB')\n",
    "plt.xticks(rotation=45)\n",
    "plt.ylim(top=1.1)\n",
    "\n",
    "plt.suptitle(f'Performance over fields with {crop_type} in {year_choice}')\n",
    "plt.tight_layout()\n",
    "\n",
    "plt.show()"
   ]
  },
  {
   "cell_type": "code",
   "execution_count": 89,
   "metadata": {},
   "outputs": [
    {
     "data": {
      "application/vnd.jupyter.widget-view+json": {
       "model_id": "8c07daf50b614597a1d86bcf0fec9da2",
       "version_major": 2,
       "version_minor": 0
      },
      "text/plain": [
       "Canvas(toolbar=Toolbar(toolitems=[('Home', 'Reset original view', 'home', 'home'), ('Back', 'Back to previous …"
      ]
     },
     "metadata": {},
     "output_type": "display_data"
    }
   ],
   "source": [
    "dico_cluster_anomaly_rate = {k:len(cluster_anomaly_bb[k])/len(v)*100 for k,v in cluster_color_id.items() if len(v)>0}\n",
    "dico_cluster_anomaly_type = {k:[fields_data[fields_data.sfd_id == int(el.split(':')[0])].anomaly_class.values[0] for el in v] \n",
    "                             if len(v) > 0 else [] for k,v in cluster_anomaly_bb.items()}\n",
    "\n",
    "nrows=8\n",
    "ncols=3\n",
    "_, ax = plt.subplots(figsize=(4*ncols,4*nrows), nrows=nrows, ncols=ncols)\n",
    "axis = ax.flatten()\n",
    "\n",
    "x_l = mdates.date2num(helper.iloc[0].values)\n",
    "x_r = mdates.date2num(helper.iloc[-1].values)\n",
    "\n",
    "# axis[0].grid(True)\n",
    "# for i in range(len(all_synopsis_list)):\n",
    "#     axis[0].plot(all_date_list[i], all_synopsis_list[i], color=label_color[str(i)])\n",
    "# #     axis[0].plot(helper, data_uniform_array[i], color=label_color[str(i)])\n",
    "# axis[0].set_xlim([x_l, x_r])\n",
    "# axis[0].set_ylim([0, 1])\n",
    "# axis[0].set_title(f'all synopsis with cluster color', fontsize=8)\n",
    "# plt.setp(axis[0].get_xticklabels(), rotation=90, fontsize=8)\n",
    "# plt.setp(axis[0].get_yticklabels(), fontsize=8)\n",
    "\n",
    "for idx, (k, v) in enumerate(cluster_color.items()):\n",
    "    idx -= 1\n",
    "    l = np.unique([int(i) for i in v])\n",
    "    axis[idx+1].grid(True)\n",
    "    for j in l:\n",
    "        axis[idx+1].plot(all_date_list[j], all_synopsis_list[j], color='tab:cyan')\n",
    "#         axis[idx+1].plot(helper, data_uniform_array[j], color=k)\n",
    "    axis[idx+1].set_xlim([x_l, x_r])\n",
    "    axis[idx+1].set_ylim([0, 1])\n",
    "    if len(set(dico_cluster_anomaly_type[k])) > 0:\n",
    "        a = round(dico_cluster_anomaly_rate[k],2)\n",
    "        b = set(dico_cluster_anomaly_type[k])\n",
    "        c = round(np.mean(cluster_anomaly_precision[k]),2)\n",
    "        d = round(np.max(cluster_anomaly_precision[k]),2)\n",
    "        e = round(np.mean(cluster_anomaly_recall[k]),2)\n",
    "        f = round(np.max(cluster_anomaly_recall[k]),2)\n",
    "#         title = f'{idx} - {k} ({len(l)} BBs)\\n {a}% anomaly BBs with type {b}\\n precision: mean={c} max={d} recall: mean={e} max={f}'\n",
    "        title = f'cluster ({idx+1}) - {len(l)} BBs avec {a}% anormales \\n classe {b}\\n précision: moy={c}, max={d} \\n rappel: moy={e}, max={f}'\n",
    "\n",
    "        axis[idx+1].set_title(title, fontsize=12)\n",
    "    else:\n",
    "#         axis[idx+1].set_title(f'{idx} - {k} ({len(l)} BBs)\\n no anomaly BBs', fontsize=8)\n",
    "        axis[idx+1].set_title(f'cluster ({idx+1}) - {len(l)} BBs\\n aucune BB anormale', fontsize=12)\n",
    "\n",
    "    plt.setp(axis[idx+1].get_xticklabels(), rotation=90, fontsize=12)\n",
    "    plt.setp(axis[idx+1].get_yticklabels(), fontsize=12)\n",
    "\n",
    "plt.tight_layout()\n",
    "# plt.suptitle(f'Clustering results by {method} at cut level {threshold} : fields with {crop_type} in {year_choice}', y=1)\n",
    "plt.show()"
   ]
  },
  {
   "cell_type": "code",
   "execution_count": 87,
   "metadata": {},
   "outputs": [],
   "source": [
    "plt.close('all')"
   ]
  },
  {
   "cell_type": "code",
   "execution_count": 18,
   "metadata": {},
   "outputs": [],
   "source": [
    "import collections\n",
    "import math"
   ]
  },
  {
   "cell_type": "markdown",
   "metadata": {},
   "source": [
    "### purity"
   ]
  },
  {
   "cell_type": "code",
   "execution_count": 62,
   "metadata": {},
   "outputs": [
    {
     "name": "stdout",
     "output_type": "stream",
     "text": [
      "multi class purity : 0.75\n"
     ]
    }
   ],
   "source": [
    "dict_multi_labels = dict()\n",
    "for k,v in cluster_color_id.items():\n",
    "    for el in v:\n",
    "        if el in cluster_anomaly_bb[k]:\n",
    "            dict_multi_labels[k] = dict_multi_labels.get(k, []) + [fields_data[fields_data.sfd_id == int(el.split(':')[0])].anomaly_class.values[0]]\n",
    "        else:\n",
    "            dict_multi_labels[k] = dict_multi_labels.get(k, []) + ['normal']\n",
    "multi_purity = dict()\n",
    "for k,v in dict_multi_labels.items():\n",
    "    multi_purity[k] = collections.Counter(v).most_common(1)[0][1]\n",
    "purity = sum(list(multi_purity.values()))/n_synopsis\n",
    "print(f'multi class purity : {purity}')"
   ]
  },
  {
   "cell_type": "code",
   "execution_count": 63,
   "metadata": {},
   "outputs": [
    {
     "name": "stdout",
     "output_type": "stream",
     "text": [
      "binary class purity : 0.75\n"
     ]
    }
   ],
   "source": [
    "dict_binary_labels = dict()\n",
    "for k,v in cluster_color_id.items():\n",
    "    for el in v:\n",
    "        if el in cluster_anomaly_bb[k]:\n",
    "            dict_binary_labels[k] = dict_binary_labels.get(k, []) + ['anomaly']\n",
    "        else:\n",
    "            dict_binary_labels[k] = dict_binary_labels.get(k, []) + ['normal']\n",
    "binary_purity = dict()\n",
    "for k,v in dict_multi_labels.items():\n",
    "    binary_purity[k] = collections.Counter(v).most_common(1)[0][1]\n",
    "purity = sum(list(binary_purity.values()))/n_synopsis\n",
    "print(f'binary class purity : {purity}')"
   ]
  },
  {
   "cell_type": "markdown",
   "metadata": {},
   "source": [
    "### normalized mutual information "
   ]
  },
  {
   "cell_type": "code",
   "execution_count": 46,
   "metadata": {},
   "outputs": [],
   "source": [
    "def entropy(p):\n",
    "    return p*math.log2(p)"
   ]
  },
  {
   "cell_type": "code",
   "execution_count": 64,
   "metadata": {},
   "outputs": [
    {
     "name": "stdout",
     "output_type": "stream",
     "text": [
      "multi class Normalized Mutual Information (NMI) : 0.12839000045692578\n"
     ]
    }
   ],
   "source": [
    "n = sum([len(v) for v in cluster_color_id.values()])\n",
    "tmp = [el for v in dict_multi_labels.values() for el in v]\n",
    "\n",
    "P_class = {k:v/n for k, v in dict(collections.Counter(tmp)).items()}\n",
    "H_class = sum([- entropy(v) for v in P_class.values()])\n",
    "\n",
    "P_cluster = {k:len(v)/n for k,v in cluster_color_id.items()}\n",
    "H_cluster = sum([- entropy(v) for v in P_cluster.values()])\n",
    "\n",
    "H_class_cluster = 0\n",
    "for k,v in dict_multi_labels.items():\n",
    "    tmp = {i:j/len(v) for i,j in dict(collections.Counter(v)).items()}\n",
    "    H_class_cluster +=  P_cluster[k] *sum([- entropy(el) for el in tmp.values()])\n",
    "\n",
    "I_class_cluster = H_class - H_class_cluster\n",
    "NMI = 2 * I_class_cluster/(H_class + H_cluster)\n",
    "print(f'multi class Normalized Mutual Information (NMI) : {NMI}')"
   ]
  },
  {
   "cell_type": "code",
   "execution_count": 65,
   "metadata": {},
   "outputs": [
    {
     "name": "stdout",
     "output_type": "stream",
     "text": [
      "binary class Normalized Mutual Information (NMI) : 0.06834154650464223\n"
     ]
    }
   ],
   "source": [
    "n = sum([len(v) for v in cluster_color_id.values()])\n",
    "tmp = [el for v in dict_binary_labels.values() for el in v]\n",
    "\n",
    "P_class = {k:v/n for k, v in dict(collections.Counter(tmp)).items()}\n",
    "H_class = sum([- entropy(v) for v in P_class.values()])\n",
    "\n",
    "P_cluster = {k:len(v)/n for k,v in cluster_color_id.items()}\n",
    "H_cluster = sum([- entropy(v) for v in P_cluster.values()])\n",
    "\n",
    "H_class_cluster = 0\n",
    "for k,v in dict_binary_labels.items():\n",
    "    tmp = {i:j/len(v) for i,j in dict(collections.Counter(v)).items()}\n",
    "    H_class_cluster +=  P_cluster[k] *sum([- entropy(el) for el in tmp.values()])\n",
    "\n",
    "I_class_cluster = H_class - H_class_cluster\n",
    "NMI = 2 * I_class_cluster/(H_class + H_cluster)\n",
    "print(f'binary class Normalized Mutual Information (NMI) : {NMI}')"
   ]
  },
  {
   "cell_type": "markdown",
   "metadata": {},
   "source": [
    "### Rand index"
   ]
  },
  {
   "cell_type": "code",
   "execution_count": 66,
   "metadata": {},
   "outputs": [
    {
     "name": "stdout",
     "output_type": "stream",
     "text": [
      "multi class Rand index : 0.47565026197604793\n"
     ]
    }
   ],
   "source": [
    "tmp = {k:dict(collections.Counter(v)) for k,v in dict_multi_labels.items()}\n",
    "class_type = set([el for v in dict_multi_labels.values() for el in v])\n",
    "    \n",
    "TP_r = 0\n",
    "for el in tmp.values():\n",
    "    for v in el.values():\n",
    "        TP_r += v*(v-1)/2\n",
    "FP_r = sum([len(v)*(len(v)-1)/2 for k,v in dict_multi_labels.items()]) - TP_r \n",
    "\n",
    "TN_r = 0\n",
    "FN_r = 0\n",
    "keys = list(tmp.keys())\n",
    "for i in range(len(keys)-1):\n",
    "    for j in range(i+1, len(keys)):\n",
    "        FN_r += sum([tmp[keys[i]].get(k,0)*tmp[keys[j]].get(k,0) for k in class_type])\n",
    "TN_r = n*(n-1)/2 - FN_r\n",
    "        \n",
    "print(f'multi class Rand index : {(TP_r + TN_r)/(TP_r + FP_r + TN_r + FN_r)}')"
   ]
  },
  {
   "cell_type": "code",
   "execution_count": 67,
   "metadata": {},
   "outputs": [
    {
     "name": "stdout",
     "output_type": "stream",
     "text": [
      "binary class Rand index : 0.41347229283172343\n"
     ]
    }
   ],
   "source": [
    "tmp = {k:dict(collections.Counter(v)) for k,v in dict_binary_labels.items()}\n",
    "class_type = set([el for v in dict_binary_labels.values() for el in v])\n",
    "    \n",
    "TP_r = 0\n",
    "for el in tmp.values():\n",
    "    for v in el.values():\n",
    "        TP_r += v*(v-1)/2\n",
    "FP_r = sum([len(v)*(len(v)-1)/2 for k,v in dict_binary_labels.items()]) - TP_r \n",
    "\n",
    "FN_r = 0\n",
    "keys = list(tmp.keys())\n",
    "for i in range(len(keys)-1):\n",
    "    for j in range(i+1, len(keys)):\n",
    "        FN_r += sum([tmp[keys[i]].get(k,0)*tmp[keys[j]].get(k,0) for k in class_type])\n",
    "TN_r = n*(n-1)/2 - (TP_r + FP_r + FN_r)\n",
    "\n",
    "print(f'binary class Rand index : {(TP_r + TN_r)/(TP_r + FP_r + TN_r + FN_r)}')"
   ]
  },
  {
   "cell_type": "markdown",
   "metadata": {},
   "source": [
    "### homogenity, completeness, v-measure\n",
    "not adapted to our clustering case"
   ]
  },
  {
   "cell_type": "code",
   "execution_count": 85,
   "metadata": {},
   "outputs": [],
   "source": [
    "from sklearn import metrics"
   ]
  },
  {
   "cell_type": "code",
   "execution_count": 100,
   "metadata": {},
   "outputs": [
    {
     "name": "stdout",
     "output_type": "stream",
     "text": [
      "homogenity : 0.16890831686961605\n",
      "completeness : 0.047284646414671\n",
      "v-measure : 0.09093869549829062\n"
     ]
    }
   ],
   "source": [
    "labels_true = [0 if el == 'normal' else 1 for v in dict_binary_labels.values() for el in v]\n",
    "labels_pred = [i for i, (k,v) in enumerate(dict_binary_labels.items()) for el in v]\n",
    "# labels_pred = [0 if dico_cluster_anomaly_rate[k]<=50 else 1 for k, v in dict_binary_labels.items() for el in v]\n",
    "print(f'homogenity : {metrics.homogeneity_score(labels_true, labels_pred)}')\n",
    "print(f'completeness : {metrics.completeness_score(labels_true, labels_pred)}')\n",
    "print(f'v-measure : {metrics.v_measure_score(labels_true, labels_pred, beta=0.5)}')"
   ]
  },
  {
   "cell_type": "code",
   "execution_count": 103,
   "metadata": {},
   "outputs": [
    {
     "data": {
      "text/plain": [
       "-0.034617235141413114"
      ]
     },
     "execution_count": 103,
     "metadata": {},
     "output_type": "execute_result"
    }
   ],
   "source": [
    "metrics.adjusted_rand_score(labels_true, labels_pred)"
   ]
  },
  {
   "cell_type": "code",
   "execution_count": 104,
   "metadata": {
    "collapsed": true,
    "jupyter": {
     "outputs_hidden": true
    }
   },
   "outputs": [
    {
     "ename": "ValueError",
     "evalue": "Target is multiclass but average='binary'. Please choose another average setting, one of [None, 'micro', 'macro', 'weighted'].",
     "output_type": "error",
     "traceback": [
      "\u001b[1;31m---------------------------------------------------------------------------\u001b[0m",
      "\u001b[1;31mValueError\u001b[0m                                Traceback (most recent call last)",
      "\u001b[1;32m<ipython-input-104-917b8f0e1946>\u001b[0m in \u001b[0;36m<module>\u001b[1;34m\u001b[0m\n\u001b[1;32m----> 1\u001b[1;33m \u001b[0mmetrics\u001b[0m\u001b[1;33m.\u001b[0m\u001b[0mjaccard_score\u001b[0m\u001b[1;33m(\u001b[0m\u001b[0mlabels_true\u001b[0m\u001b[1;33m,\u001b[0m \u001b[0mlabels_pred\u001b[0m\u001b[1;33m)\u001b[0m\u001b[1;33m\u001b[0m\u001b[1;33m\u001b[0m\u001b[0m\n\u001b[0m",
      "\u001b[1;32m~\\Anaconda3\\lib\\site-packages\\sklearn\\utils\\validation.py\u001b[0m in \u001b[0;36minner_f\u001b[1;34m(*args, **kwargs)\u001b[0m\n\u001b[0;32m     70\u001b[0m                           FutureWarning)\n\u001b[0;32m     71\u001b[0m         \u001b[0mkwargs\u001b[0m\u001b[1;33m.\u001b[0m\u001b[0mupdate\u001b[0m\u001b[1;33m(\u001b[0m\u001b[1;33m{\u001b[0m\u001b[0mk\u001b[0m\u001b[1;33m:\u001b[0m \u001b[0marg\u001b[0m \u001b[1;32mfor\u001b[0m \u001b[0mk\u001b[0m\u001b[1;33m,\u001b[0m \u001b[0marg\u001b[0m \u001b[1;32min\u001b[0m \u001b[0mzip\u001b[0m\u001b[1;33m(\u001b[0m\u001b[0msig\u001b[0m\u001b[1;33m.\u001b[0m\u001b[0mparameters\u001b[0m\u001b[1;33m,\u001b[0m \u001b[0margs\u001b[0m\u001b[1;33m)\u001b[0m\u001b[1;33m}\u001b[0m\u001b[1;33m)\u001b[0m\u001b[1;33m\u001b[0m\u001b[1;33m\u001b[0m\u001b[0m\n\u001b[1;32m---> 72\u001b[1;33m         \u001b[1;32mreturn\u001b[0m \u001b[0mf\u001b[0m\u001b[1;33m(\u001b[0m\u001b[1;33m**\u001b[0m\u001b[0mkwargs\u001b[0m\u001b[1;33m)\u001b[0m\u001b[1;33m\u001b[0m\u001b[1;33m\u001b[0m\u001b[0m\n\u001b[0m\u001b[0;32m     73\u001b[0m     \u001b[1;32mreturn\u001b[0m \u001b[0minner_f\u001b[0m\u001b[1;33m\u001b[0m\u001b[1;33m\u001b[0m\u001b[0m\n\u001b[0;32m     74\u001b[0m \u001b[1;33m\u001b[0m\u001b[0m\n",
      "\u001b[1;32m~\\Anaconda3\\lib\\site-packages\\sklearn\\metrics\\_classification.py\u001b[0m in \u001b[0;36mjaccard_score\u001b[1;34m(y_true, y_pred, labels, pos_label, average, sample_weight)\u001b[0m\n\u001b[0;32m    733\u001b[0m     \u001b[0marray\u001b[0m\u001b[1;33m(\u001b[0m\u001b[1;33m[\u001b[0m\u001b[1;36m1.\u001b[0m \u001b[1;33m,\u001b[0m \u001b[1;36m0.\u001b[0m \u001b[1;33m,\u001b[0m \u001b[1;36m0.33\u001b[0m\u001b[1;33m...\u001b[0m\u001b[1;33m]\u001b[0m\u001b[1;33m)\u001b[0m\u001b[1;33m\u001b[0m\u001b[1;33m\u001b[0m\u001b[0m\n\u001b[0;32m    734\u001b[0m     \"\"\"\n\u001b[1;32m--> 735\u001b[1;33m     labels = _check_set_wise_labels(y_true, y_pred, average, labels,\n\u001b[0m\u001b[0;32m    736\u001b[0m                                     pos_label)\n\u001b[0;32m    737\u001b[0m     \u001b[0msamplewise\u001b[0m \u001b[1;33m=\u001b[0m \u001b[0maverage\u001b[0m \u001b[1;33m==\u001b[0m \u001b[1;34m'samples'\u001b[0m\u001b[1;33m\u001b[0m\u001b[1;33m\u001b[0m\u001b[0m\n",
      "\u001b[1;32m~\\Anaconda3\\lib\\site-packages\\sklearn\\metrics\\_classification.py\u001b[0m in \u001b[0;36m_check_set_wise_labels\u001b[1;34m(y_true, y_pred, average, labels, pos_label)\u001b[0m\n\u001b[0;32m   1261\u001b[0m             \u001b[1;32mif\u001b[0m \u001b[0my_type\u001b[0m \u001b[1;33m==\u001b[0m \u001b[1;34m'multiclass'\u001b[0m\u001b[1;33m:\u001b[0m\u001b[1;33m\u001b[0m\u001b[1;33m\u001b[0m\u001b[0m\n\u001b[0;32m   1262\u001b[0m                 \u001b[0maverage_options\u001b[0m\u001b[1;33m.\u001b[0m\u001b[0mremove\u001b[0m\u001b[1;33m(\u001b[0m\u001b[1;34m'samples'\u001b[0m\u001b[1;33m)\u001b[0m\u001b[1;33m\u001b[0m\u001b[1;33m\u001b[0m\u001b[0m\n\u001b[1;32m-> 1263\u001b[1;33m             raise ValueError(\"Target is %s but average='binary'. Please \"\n\u001b[0m\u001b[0;32m   1264\u001b[0m                              \u001b[1;34m\"choose another average setting, one of %r.\"\u001b[0m\u001b[1;33m\u001b[0m\u001b[1;33m\u001b[0m\u001b[0m\n\u001b[0;32m   1265\u001b[0m                              % (y_type, average_options))\n",
      "\u001b[1;31mValueError\u001b[0m: Target is multiclass but average='binary'. Please choose another average setting, one of [None, 'micro', 'macro', 'weighted']."
     ]
    }
   ],
   "source": [
    "metrics.jaccard_score(labels_true, labels_pred)"
   ]
  },
  {
   "cell_type": "code",
   "execution_count": 105,
   "metadata": {},
   "outputs": [
    {
     "data": {
      "text/plain": [
       "0.03843639521020682"
      ]
     },
     "execution_count": 105,
     "metadata": {},
     "output_type": "execute_result"
    }
   ],
   "source": [
    "metrics.adjusted_mutual_info_score(labels_true, labels_pred)"
   ]
  },
  {
   "cell_type": "code",
   "execution_count": null,
   "metadata": {},
   "outputs": [],
   "source": []
  },
  {
   "cell_type": "code",
   "execution_count": null,
   "metadata": {},
   "outputs": [],
   "source": []
  },
  {
   "cell_type": "code",
   "execution_count": null,
   "metadata": {},
   "outputs": [],
   "source": []
  },
  {
   "cell_type": "code",
   "execution_count": null,
   "metadata": {},
   "outputs": [],
   "source": [
    "dico_sfd_freq = dict()\n",
    "for el in cluster_anomaly_bb.values():\n",
    "    if len(el)>0:\n",
    "        for v in el:\n",
    "            dico_sfd_freq[v.split(':')[0]] = dico_sfd_freq.get(v.split(':')[0], 0)+1\n",
    "dico_sfd_freq"
   ]
  },
  {
   "cell_type": "code",
   "execution_count": null,
   "metadata": {},
   "outputs": [],
   "source": [
    "anomaly_synopsis_idx = sorted([syn_label.index(el) for v in cluster_anomaly_bb.values() for el in v])\n",
    "anomaly_synopsis = {syn_label.index(el):fields_data[fields_data.sfd_id == int(el.split(':')[0])].anomaly_class.values[0] for k,v in cluster_anomaly_bb.items() if len(v)>0 for el in v}\n",
    "color=iter(cm.tab10(np.linspace(0,1,10)))\n",
    "c = {el:next(color) for el in list(set(fields_data.anomaly_class))}\n",
    "\n",
    "_, ax = plt.subplots(figsize=(12,6), nrows=1, ncols=2)\n",
    "axis = ax.flatten()\n",
    "\n",
    "x_l = mdates.date2num(helper.iloc[0].values)\n",
    "x_r = mdates.date2num(helper.iloc[-1].values)\n",
    "\n",
    "axis[0].grid(True)\n",
    "axis[1].grid(True)\n",
    "for i in range(len(all_synopsis_list)):\n",
    "    if i in anomaly_synopsis_idx:\n",
    "        axis[1].plot(all_date_list[i], all_synopsis_list[i], color=c[anomaly_synopsis[i]]) #label_color[str(i)])#\n",
    "    else:\n",
    "        axis[0].plot(all_date_list[i], all_synopsis_list[i], color=label_color[str(i)])\n",
    "axis[0].set_xlim([x_l, x_r])\n",
    "axis[0].set_ylim([0, 1])\n",
    "axis[0].set_title(f'All synopsis not covering anomaly with cluster color')\n",
    "plt.setp(axis[0].get_xticklabels(), rotation=90, fontsize=8)\n",
    "\n",
    "axis[1].set_xlim([x_l, x_r])\n",
    "axis[1].set_ylim([0, 1])\n",
    "axis[1].set_title(f'Synopsis covering anomaly : crop={crop_type} , year={year_choice}')\n",
    "plt.setp(axis[1].get_xticklabels(), rotation=90, fontsize=8)\n",
    "\n",
    "plt.tight_layout()\n",
    "plt.show()"
   ]
  },
  {
   "cell_type": "markdown",
   "metadata": {},
   "source": [
    "la précision est tellement faible......."
   ]
  },
  {
   "cell_type": "code",
   "execution_count": null,
   "metadata": {},
   "outputs": [],
   "source": [
    "cluster_color_id['#ffd500']"
   ]
  },
  {
   "cell_type": "code",
   "execution_count": null,
   "metadata": {},
   "outputs": [],
   "source": [
    "cluster_anomaly_bb['#ffd500']"
   ]
  },
  {
   "cell_type": "code",
   "execution_count": null,
   "metadata": {},
   "outputs": [],
   "source": [
    "interest = [1]\n",
    "\n",
    "cover = np.ma.zeros((raster_ndvi_numpy_test[0].shape))\n",
    "for i in range(bb_final_list.shape[0]):\n",
    "    if i in interest:\n",
    "        bb_pos = bb_final_list[i,0]\n",
    "        bb_seg = bb_final_list[i,1]\n",
    "        segments_fz = segments_test.iloc[bb_pos]\n",
    "        cover[segments_fz == bb_seg] += 1\n",
    "cover.mask = raster_ndvi_numpy_test[0].mask\n",
    "plt.figure(figsize=(10,6))\n",
    "plt.subplot(1,2,1)\n",
    "f1 = plt.imshow(cover)\n",
    "plt.colorbar(f1)\n",
    "\n",
    "plt.subplot(1,2,2)\n",
    "f2 = plt.imshow(annotation_df.iloc[0]['annotes_numpy'])\n",
    "plt.colorbar(f2)\n",
    "plt.show()\n",
    "\n",
    "print(annotation_df.index)"
   ]
  },
  {
   "cell_type": "code",
   "execution_count": null,
   "metadata": {},
   "outputs": [],
   "source": []
  },
  {
   "cell_type": "code",
   "execution_count": null,
   "metadata": {},
   "outputs": [],
   "source": [
    "plt.close('all')"
   ]
  },
  {
   "cell_type": "markdown",
   "metadata": {},
   "source": [
    "## Save cluster results in .shp file"
   ]
  },
  {
   "cell_type": "code",
   "execution_count": 93,
   "metadata": {},
   "outputs": [
    {
     "data": {
      "text/html": [
       "<div>\n",
       "<style scoped>\n",
       "    .dataframe tbody tr th:only-of-type {\n",
       "        vertical-align: middle;\n",
       "    }\n",
       "\n",
       "    .dataframe tbody tr th {\n",
       "        vertical-align: top;\n",
       "    }\n",
       "\n",
       "    .dataframe thead th {\n",
       "        text-align: right;\n",
       "    }\n",
       "</style>\n",
       "<table border=\"1\" class=\"dataframe\">\n",
       "  <thead>\n",
       "    <tr style=\"text-align: right;\">\n",
       "      <th></th>\n",
       "      <th>sfd_id</th>\n",
       "      <th>BB_id</th>\n",
       "      <th>BB_date</th>\n",
       "      <th>BB_pos_img</th>\n",
       "      <th>BB_seg_id</th>\n",
       "      <th>EPSG</th>\n",
       "      <th>layer</th>\n",
       "      <th>path</th>\n",
       "      <th>geometry</th>\n",
       "      <th>cluster_id</th>\n",
       "      <th>cluster_color</th>\n",
       "    </tr>\n",
       "  </thead>\n",
       "  <tbody>\n",
       "    <tr>\n",
       "      <th>0</th>\n",
       "      <td>102006104</td>\n",
       "      <td>18_2</td>\n",
       "      <td>20181020</td>\n",
       "      <td>102006104_Bands_20181020_Sentinel2_Clear_112.tif</td>\n",
       "      <td>2</td>\n",
       "      <td>32614</td>\n",
       "      <td>102006104_2018_scale_5_alpha_0</td>\n",
       "      <td>C:/Users/zwg/Stage GEOSYS/Codes/pinnot_data/va...</td>\n",
       "      <td>MULTIPOLYGON (((-99.72163 39.87525, -99.72127 ...</td>\n",
       "      <td>21.0</td>\n",
       "      <td>#00ff0b</td>\n",
       "    </tr>\n",
       "    <tr>\n",
       "      <th>1</th>\n",
       "      <td>102006104</td>\n",
       "      <td>9_30</td>\n",
       "      <td>20180615</td>\n",
       "      <td>102006104_Bands_20180615_Landsat8_Clear_121.tif</td>\n",
       "      <td>30</td>\n",
       "      <td>32614</td>\n",
       "      <td>102006104_2018_scale_5_alpha_0</td>\n",
       "      <td>C:/Users/zwg/Stage GEOSYS/Codes/pinnot_data/va...</td>\n",
       "      <td>MULTIPOLYGON (((-99.72826 39.87187, -99.72814 ...</td>\n",
       "      <td>21.0</td>\n",
       "      <td>#00ff0b</td>\n",
       "    </tr>\n",
       "    <tr>\n",
       "      <th>2</th>\n",
       "      <td>102006104</td>\n",
       "      <td>3_14</td>\n",
       "      <td>20180322</td>\n",
       "      <td>102006104_Bands_20180322_Sentinel2_Clear_127.tif</td>\n",
       "      <td>14</td>\n",
       "      <td>32614</td>\n",
       "      <td>102006104_2018_scale_5_alpha_0</td>\n",
       "      <td>C:/Users/zwg/Stage GEOSYS/Codes/pinnot_data/va...</td>\n",
       "      <td>POLYGON ((-99.72477 39.87369, -99.72465 39.873...</td>\n",
       "      <td>21.0</td>\n",
       "      <td>#00ff0b</td>\n",
       "    </tr>\n",
       "    <tr>\n",
       "      <th>3</th>\n",
       "      <td>102006104</td>\n",
       "      <td>0_121</td>\n",
       "      <td>20180302</td>\n",
       "      <td>102006104_Bands_20180302_Sentinel2_Clear_130.tif</td>\n",
       "      <td>121</td>\n",
       "      <td>32614</td>\n",
       "      <td>102006104_2018_scale_5_alpha_0</td>\n",
       "      <td>C:/Users/zwg/Stage GEOSYS/Codes/pinnot_data/va...</td>\n",
       "      <td>POLYGON ((-99.72656 39.86657, -99.72621 39.866...</td>\n",
       "      <td>21.0</td>\n",
       "      <td>#00ff0b</td>\n",
       "    </tr>\n",
       "    <tr>\n",
       "      <th>4</th>\n",
       "      <td>102006104</td>\n",
       "      <td>5_80</td>\n",
       "      <td>20180428</td>\n",
       "      <td>102006104_Bands_20180428_Landsat8_Clear_125.tif</td>\n",
       "      <td>80</td>\n",
       "      <td>32614</td>\n",
       "      <td>102006104_2018_scale_5_alpha_0</td>\n",
       "      <td>C:/Users/zwg/Stage GEOSYS/Codes/pinnot_data/va...</td>\n",
       "      <td>POLYGON ((-99.72785 39.86665, -99.72762 39.866...</td>\n",
       "      <td>21.0</td>\n",
       "      <td>#00ff0b</td>\n",
       "    </tr>\n",
       "    <tr>\n",
       "      <th>...</th>\n",
       "      <td>...</td>\n",
       "      <td>...</td>\n",
       "      <td>...</td>\n",
       "      <td>...</td>\n",
       "      <td>...</td>\n",
       "      <td>...</td>\n",
       "      <td>...</td>\n",
       "      <td>...</td>\n",
       "      <td>...</td>\n",
       "      <td>...</td>\n",
       "      <td>...</td>\n",
       "    </tr>\n",
       "    <tr>\n",
       "      <th>275</th>\n",
       "      <td>102536577</td>\n",
       "      <td>15_21</td>\n",
       "      <td>20181031</td>\n",
       "      <td>102536577_Bands_20181031_Sentinel2_Clear_59.tif</td>\n",
       "      <td>21</td>\n",
       "      <td>32617</td>\n",
       "      <td>102536577_2018_scale_5_alpha_0</td>\n",
       "      <td>C:/Users/zwg/Stage GEOSYS/Codes/pinnot_data/va...</td>\n",
       "      <td>POLYGON ((-79.20299 34.54109, -79.20245 34.541...</td>\n",
       "      <td>2.0</td>\n",
       "      <td>grey</td>\n",
       "    </tr>\n",
       "    <tr>\n",
       "      <th>276</th>\n",
       "      <td>102536577</td>\n",
       "      <td>17_76</td>\n",
       "      <td>20181110</td>\n",
       "      <td>102536577_Bands_20181110_Sentinel2_Clear_57.tif</td>\n",
       "      <td>76</td>\n",
       "      <td>32617</td>\n",
       "      <td>102536577_2018_scale_5_alpha_0</td>\n",
       "      <td>C:/Users/zwg/Stage GEOSYS/Codes/pinnot_data/va...</td>\n",
       "      <td>POLYGON ((-79.20414 34.53813, -79.20393 34.538...</td>\n",
       "      <td>2.0</td>\n",
       "      <td>grey</td>\n",
       "    </tr>\n",
       "    <tr>\n",
       "      <th>277</th>\n",
       "      <td>102536577</td>\n",
       "      <td>5_31</td>\n",
       "      <td>20180309</td>\n",
       "      <td>102536577_Bands_20180309_Landsat8_Clear_69.tif</td>\n",
       "      <td>31</td>\n",
       "      <td>32617</td>\n",
       "      <td>102536577_2018_scale_5_alpha_0</td>\n",
       "      <td>C:/Users/zwg/Stage GEOSYS/Codes/pinnot_data/va...</td>\n",
       "      <td>MULTIPOLYGON (((-79.20563 34.53996, -79.20541 ...</td>\n",
       "      <td>2.0</td>\n",
       "      <td>grey</td>\n",
       "    </tr>\n",
       "    <tr>\n",
       "      <th>278</th>\n",
       "      <td>102536577</td>\n",
       "      <td>12_15</td>\n",
       "      <td>20181012</td>\n",
       "      <td>102536577_Bands_20181012_Landsat8_Clear_62.tif</td>\n",
       "      <td>15</td>\n",
       "      <td>32617</td>\n",
       "      <td>102536577_2018_scale_5_alpha_0</td>\n",
       "      <td>C:/Users/zwg/Stage GEOSYS/Codes/pinnot_data/va...</td>\n",
       "      <td>MULTIPOLYGON (((-79.20484 34.54121, -79.20462 ...</td>\n",
       "      <td>2.0</td>\n",
       "      <td>grey</td>\n",
       "    </tr>\n",
       "    <tr>\n",
       "      <th>279</th>\n",
       "      <td>102536577</td>\n",
       "      <td>1_19</td>\n",
       "      <td>20180124</td>\n",
       "      <td>102536577_Bands_20180124_Sentinel2_Clear_73.tif</td>\n",
       "      <td>19</td>\n",
       "      <td>32617</td>\n",
       "      <td>102536577_2018_scale_5_alpha_0</td>\n",
       "      <td>C:/Users/zwg/Stage GEOSYS/Codes/pinnot_data/va...</td>\n",
       "      <td>MULTIPOLYGON (((-79.20223 34.54117, -79.20168 ...</td>\n",
       "      <td>2.0</td>\n",
       "      <td>grey</td>\n",
       "    </tr>\n",
       "  </tbody>\n",
       "</table>\n",
       "<p>280 rows × 11 columns</p>\n",
       "</div>"
      ],
      "text/plain": [
       "        sfd_id  BB_id   BB_date  \\\n",
       "0    102006104   18_2  20181020   \n",
       "1    102006104   9_30  20180615   \n",
       "2    102006104   3_14  20180322   \n",
       "3    102006104  0_121  20180302   \n",
       "4    102006104   5_80  20180428   \n",
       "..         ...    ...       ...   \n",
       "275  102536577  15_21  20181031   \n",
       "276  102536577  17_76  20181110   \n",
       "277  102536577   5_31  20180309   \n",
       "278  102536577  12_15  20181012   \n",
       "279  102536577   1_19  20180124   \n",
       "\n",
       "                                           BB_pos_img  BB_seg_id   EPSG  \\\n",
       "0    102006104_Bands_20181020_Sentinel2_Clear_112.tif          2  32614   \n",
       "1     102006104_Bands_20180615_Landsat8_Clear_121.tif         30  32614   \n",
       "2    102006104_Bands_20180322_Sentinel2_Clear_127.tif         14  32614   \n",
       "3    102006104_Bands_20180302_Sentinel2_Clear_130.tif        121  32614   \n",
       "4     102006104_Bands_20180428_Landsat8_Clear_125.tif         80  32614   \n",
       "..                                                ...        ...    ...   \n",
       "275   102536577_Bands_20181031_Sentinel2_Clear_59.tif         21  32617   \n",
       "276   102536577_Bands_20181110_Sentinel2_Clear_57.tif         76  32617   \n",
       "277    102536577_Bands_20180309_Landsat8_Clear_69.tif         31  32617   \n",
       "278    102536577_Bands_20181012_Landsat8_Clear_62.tif         15  32617   \n",
       "279   102536577_Bands_20180124_Sentinel2_Clear_73.tif         19  32617   \n",
       "\n",
       "                              layer  \\\n",
       "0    102006104_2018_scale_5_alpha_0   \n",
       "1    102006104_2018_scale_5_alpha_0   \n",
       "2    102006104_2018_scale_5_alpha_0   \n",
       "3    102006104_2018_scale_5_alpha_0   \n",
       "4    102006104_2018_scale_5_alpha_0   \n",
       "..                              ...   \n",
       "275  102536577_2018_scale_5_alpha_0   \n",
       "276  102536577_2018_scale_5_alpha_0   \n",
       "277  102536577_2018_scale_5_alpha_0   \n",
       "278  102536577_2018_scale_5_alpha_0   \n",
       "279  102536577_2018_scale_5_alpha_0   \n",
       "\n",
       "                                                  path  \\\n",
       "0    C:/Users/zwg/Stage GEOSYS/Codes/pinnot_data/va...   \n",
       "1    C:/Users/zwg/Stage GEOSYS/Codes/pinnot_data/va...   \n",
       "2    C:/Users/zwg/Stage GEOSYS/Codes/pinnot_data/va...   \n",
       "3    C:/Users/zwg/Stage GEOSYS/Codes/pinnot_data/va...   \n",
       "4    C:/Users/zwg/Stage GEOSYS/Codes/pinnot_data/va...   \n",
       "..                                                 ...   \n",
       "275  C:/Users/zwg/Stage GEOSYS/Codes/pinnot_data/va...   \n",
       "276  C:/Users/zwg/Stage GEOSYS/Codes/pinnot_data/va...   \n",
       "277  C:/Users/zwg/Stage GEOSYS/Codes/pinnot_data/va...   \n",
       "278  C:/Users/zwg/Stage GEOSYS/Codes/pinnot_data/va...   \n",
       "279  C:/Users/zwg/Stage GEOSYS/Codes/pinnot_data/va...   \n",
       "\n",
       "                                              geometry  cluster_id  \\\n",
       "0    MULTIPOLYGON (((-99.72163 39.87525, -99.72127 ...        21.0   \n",
       "1    MULTIPOLYGON (((-99.72826 39.87187, -99.72814 ...        21.0   \n",
       "2    POLYGON ((-99.72477 39.87369, -99.72465 39.873...        21.0   \n",
       "3    POLYGON ((-99.72656 39.86657, -99.72621 39.866...        21.0   \n",
       "4    POLYGON ((-99.72785 39.86665, -99.72762 39.866...        21.0   \n",
       "..                                                 ...         ...   \n",
       "275  POLYGON ((-79.20299 34.54109, -79.20245 34.541...         2.0   \n",
       "276  POLYGON ((-79.20414 34.53813, -79.20393 34.538...         2.0   \n",
       "277  MULTIPOLYGON (((-79.20563 34.53996, -79.20541 ...         2.0   \n",
       "278  MULTIPOLYGON (((-79.20484 34.54121, -79.20462 ...         2.0   \n",
       "279  MULTIPOLYGON (((-79.20223 34.54117, -79.20168 ...         2.0   \n",
       "\n",
       "    cluster_color  \n",
       "0         #00ff0b  \n",
       "1         #00ff0b  \n",
       "2         #00ff0b  \n",
       "3         #00ff0b  \n",
       "4         #00ff0b  \n",
       "..            ...  \n",
       "275          grey  \n",
       "276          grey  \n",
       "277          grey  \n",
       "278          grey  \n",
       "279          grey  \n",
       "\n",
       "[280 rows x 11 columns]"
      ]
     },
     "execution_count": 93,
     "metadata": {},
     "output_type": "execute_result"
    }
   ],
   "source": [
    "all_sfd_bb_df = gpd.read_file(save_path_shp+'clustered/all_sfd_bb_cover_clustered.shp')\n",
    "all_sfd_bb_df['cluster_id'] = np.nan\n",
    "all_sfd_bb_df['cluster_color'] = np.nan\n",
    "\n",
    "cluster_id = {k:i for i, k in enumerate(cluster_color_id.keys())}\n",
    "for key in label_color_id.keys():\n",
    "    sfd_id = int(key.split(':')[0])\n",
    "    BB_id = key.split(':')[1]\n",
    "    x = all_sfd_bb_df[(all_sfd_bb_df.sfd_id == sfd_id) & (all_sfd_bb_df.BB_id == BB_id)].index[0]\n",
    "    all_sfd_bb_df.loc[x, 'cluster_color'] = label_color_id[key]\n",
    "    all_sfd_bb_df.loc[x, 'cluster_id'] = cluster_id[label_color_id[key]]\n",
    "all_sfd_bb_df"
   ]
  },
  {
   "cell_type": "code",
   "execution_count": 94,
   "metadata": {},
   "outputs": [
    {
     "data": {
      "text/html": [
       "<div>\n",
       "<style scoped>\n",
       "    .dataframe tbody tr th:only-of-type {\n",
       "        vertical-align: middle;\n",
       "    }\n",
       "\n",
       "    .dataframe tbody tr th {\n",
       "        vertical-align: top;\n",
       "    }\n",
       "\n",
       "    .dataframe thead th {\n",
       "        text-align: right;\n",
       "    }\n",
       "</style>\n",
       "<table border=\"1\" class=\"dataframe\">\n",
       "  <thead>\n",
       "    <tr style=\"text-align: right;\">\n",
       "      <th></th>\n",
       "      <th>sfd_id</th>\n",
       "      <th>BB_id</th>\n",
       "      <th>BB_date</th>\n",
       "      <th>BB_pos_img</th>\n",
       "      <th>BB_seg_id</th>\n",
       "      <th>EPSG</th>\n",
       "      <th>layer</th>\n",
       "      <th>path</th>\n",
       "      <th>geometry</th>\n",
       "      <th>cluster_id</th>\n",
       "      <th>cluster_color</th>\n",
       "    </tr>\n",
       "  </thead>\n",
       "  <tbody>\n",
       "    <tr>\n",
       "      <th>0</th>\n",
       "      <td>102006104</td>\n",
       "      <td>18_2</td>\n",
       "      <td>20181020</td>\n",
       "      <td>102006104_Bands_20181020_Sentinel2_Clear_112.tif</td>\n",
       "      <td>2</td>\n",
       "      <td>32614</td>\n",
       "      <td>102006104_2018_scale_5_alpha_0</td>\n",
       "      <td>C:/Users/zwg/Stage GEOSYS/Codes/pinnot_data/va...</td>\n",
       "      <td>MULTIPOLYGON (((-99.72163 39.87525, -99.72127 ...</td>\n",
       "      <td>21.0</td>\n",
       "      <td>#00ff0b</td>\n",
       "    </tr>\n",
       "    <tr>\n",
       "      <th>1</th>\n",
       "      <td>102006104</td>\n",
       "      <td>9_30</td>\n",
       "      <td>20180615</td>\n",
       "      <td>102006104_Bands_20180615_Landsat8_Clear_121.tif</td>\n",
       "      <td>30</td>\n",
       "      <td>32614</td>\n",
       "      <td>102006104_2018_scale_5_alpha_0</td>\n",
       "      <td>C:/Users/zwg/Stage GEOSYS/Codes/pinnot_data/va...</td>\n",
       "      <td>MULTIPOLYGON (((-99.72826 39.87187, -99.72814 ...</td>\n",
       "      <td>21.0</td>\n",
       "      <td>#00ff0b</td>\n",
       "    </tr>\n",
       "    <tr>\n",
       "      <th>2</th>\n",
       "      <td>102006104</td>\n",
       "      <td>3_14</td>\n",
       "      <td>20180322</td>\n",
       "      <td>102006104_Bands_20180322_Sentinel2_Clear_127.tif</td>\n",
       "      <td>14</td>\n",
       "      <td>32614</td>\n",
       "      <td>102006104_2018_scale_5_alpha_0</td>\n",
       "      <td>C:/Users/zwg/Stage GEOSYS/Codes/pinnot_data/va...</td>\n",
       "      <td>POLYGON ((-99.72477 39.87369, -99.72465 39.873...</td>\n",
       "      <td>21.0</td>\n",
       "      <td>#00ff0b</td>\n",
       "    </tr>\n",
       "    <tr>\n",
       "      <th>3</th>\n",
       "      <td>102006104</td>\n",
       "      <td>0_121</td>\n",
       "      <td>20180302</td>\n",
       "      <td>102006104_Bands_20180302_Sentinel2_Clear_130.tif</td>\n",
       "      <td>121</td>\n",
       "      <td>32614</td>\n",
       "      <td>102006104_2018_scale_5_alpha_0</td>\n",
       "      <td>C:/Users/zwg/Stage GEOSYS/Codes/pinnot_data/va...</td>\n",
       "      <td>POLYGON ((-99.72656 39.86657, -99.72621 39.866...</td>\n",
       "      <td>21.0</td>\n",
       "      <td>#00ff0b</td>\n",
       "    </tr>\n",
       "    <tr>\n",
       "      <th>4</th>\n",
       "      <td>102006104</td>\n",
       "      <td>5_80</td>\n",
       "      <td>20180428</td>\n",
       "      <td>102006104_Bands_20180428_Landsat8_Clear_125.tif</td>\n",
       "      <td>80</td>\n",
       "      <td>32614</td>\n",
       "      <td>102006104_2018_scale_5_alpha_0</td>\n",
       "      <td>C:/Users/zwg/Stage GEOSYS/Codes/pinnot_data/va...</td>\n",
       "      <td>POLYGON ((-99.72785 39.86665, -99.72762 39.866...</td>\n",
       "      <td>21.0</td>\n",
       "      <td>#00ff0b</td>\n",
       "    </tr>\n",
       "    <tr>\n",
       "      <th>...</th>\n",
       "      <td>...</td>\n",
       "      <td>...</td>\n",
       "      <td>...</td>\n",
       "      <td>...</td>\n",
       "      <td>...</td>\n",
       "      <td>...</td>\n",
       "      <td>...</td>\n",
       "      <td>...</td>\n",
       "      <td>...</td>\n",
       "      <td>...</td>\n",
       "      <td>...</td>\n",
       "    </tr>\n",
       "    <tr>\n",
       "      <th>275</th>\n",
       "      <td>102536577</td>\n",
       "      <td>15_21</td>\n",
       "      <td>20181031</td>\n",
       "      <td>102536577_Bands_20181031_Sentinel2_Clear_59.tif</td>\n",
       "      <td>21</td>\n",
       "      <td>32617</td>\n",
       "      <td>102536577_2018_scale_5_alpha_0</td>\n",
       "      <td>C:/Users/zwg/Stage GEOSYS/Codes/pinnot_data/va...</td>\n",
       "      <td>POLYGON ((-79.20299 34.54109, -79.20245 34.541...</td>\n",
       "      <td>2.0</td>\n",
       "      <td>grey</td>\n",
       "    </tr>\n",
       "    <tr>\n",
       "      <th>276</th>\n",
       "      <td>102536577</td>\n",
       "      <td>17_76</td>\n",
       "      <td>20181110</td>\n",
       "      <td>102536577_Bands_20181110_Sentinel2_Clear_57.tif</td>\n",
       "      <td>76</td>\n",
       "      <td>32617</td>\n",
       "      <td>102536577_2018_scale_5_alpha_0</td>\n",
       "      <td>C:/Users/zwg/Stage GEOSYS/Codes/pinnot_data/va...</td>\n",
       "      <td>POLYGON ((-79.20414 34.53813, -79.20393 34.538...</td>\n",
       "      <td>2.0</td>\n",
       "      <td>grey</td>\n",
       "    </tr>\n",
       "    <tr>\n",
       "      <th>277</th>\n",
       "      <td>102536577</td>\n",
       "      <td>5_31</td>\n",
       "      <td>20180309</td>\n",
       "      <td>102536577_Bands_20180309_Landsat8_Clear_69.tif</td>\n",
       "      <td>31</td>\n",
       "      <td>32617</td>\n",
       "      <td>102536577_2018_scale_5_alpha_0</td>\n",
       "      <td>C:/Users/zwg/Stage GEOSYS/Codes/pinnot_data/va...</td>\n",
       "      <td>MULTIPOLYGON (((-79.20563 34.53996, -79.20541 ...</td>\n",
       "      <td>2.0</td>\n",
       "      <td>grey</td>\n",
       "    </tr>\n",
       "    <tr>\n",
       "      <th>278</th>\n",
       "      <td>102536577</td>\n",
       "      <td>12_15</td>\n",
       "      <td>20181012</td>\n",
       "      <td>102536577_Bands_20181012_Landsat8_Clear_62.tif</td>\n",
       "      <td>15</td>\n",
       "      <td>32617</td>\n",
       "      <td>102536577_2018_scale_5_alpha_0</td>\n",
       "      <td>C:/Users/zwg/Stage GEOSYS/Codes/pinnot_data/va...</td>\n",
       "      <td>MULTIPOLYGON (((-79.20484 34.54121, -79.20462 ...</td>\n",
       "      <td>2.0</td>\n",
       "      <td>grey</td>\n",
       "    </tr>\n",
       "    <tr>\n",
       "      <th>279</th>\n",
       "      <td>102536577</td>\n",
       "      <td>1_19</td>\n",
       "      <td>20180124</td>\n",
       "      <td>102536577_Bands_20180124_Sentinel2_Clear_73.tif</td>\n",
       "      <td>19</td>\n",
       "      <td>32617</td>\n",
       "      <td>102536577_2018_scale_5_alpha_0</td>\n",
       "      <td>C:/Users/zwg/Stage GEOSYS/Codes/pinnot_data/va...</td>\n",
       "      <td>MULTIPOLYGON (((-79.20223 34.54117, -79.20168 ...</td>\n",
       "      <td>2.0</td>\n",
       "      <td>grey</td>\n",
       "    </tr>\n",
       "  </tbody>\n",
       "</table>\n",
       "<p>280 rows × 11 columns</p>\n",
       "</div>"
      ],
      "text/plain": [
       "        sfd_id  BB_id   BB_date  \\\n",
       "0    102006104   18_2  20181020   \n",
       "1    102006104   9_30  20180615   \n",
       "2    102006104   3_14  20180322   \n",
       "3    102006104  0_121  20180302   \n",
       "4    102006104   5_80  20180428   \n",
       "..         ...    ...       ...   \n",
       "275  102536577  15_21  20181031   \n",
       "276  102536577  17_76  20181110   \n",
       "277  102536577   5_31  20180309   \n",
       "278  102536577  12_15  20181012   \n",
       "279  102536577   1_19  20180124   \n",
       "\n",
       "                                           BB_pos_img  BB_seg_id   EPSG  \\\n",
       "0    102006104_Bands_20181020_Sentinel2_Clear_112.tif          2  32614   \n",
       "1     102006104_Bands_20180615_Landsat8_Clear_121.tif         30  32614   \n",
       "2    102006104_Bands_20180322_Sentinel2_Clear_127.tif         14  32614   \n",
       "3    102006104_Bands_20180302_Sentinel2_Clear_130.tif        121  32614   \n",
       "4     102006104_Bands_20180428_Landsat8_Clear_125.tif         80  32614   \n",
       "..                                                ...        ...    ...   \n",
       "275   102536577_Bands_20181031_Sentinel2_Clear_59.tif         21  32617   \n",
       "276   102536577_Bands_20181110_Sentinel2_Clear_57.tif         76  32617   \n",
       "277    102536577_Bands_20180309_Landsat8_Clear_69.tif         31  32617   \n",
       "278    102536577_Bands_20181012_Landsat8_Clear_62.tif         15  32617   \n",
       "279   102536577_Bands_20180124_Sentinel2_Clear_73.tif         19  32617   \n",
       "\n",
       "                              layer  \\\n",
       "0    102006104_2018_scale_5_alpha_0   \n",
       "1    102006104_2018_scale_5_alpha_0   \n",
       "2    102006104_2018_scale_5_alpha_0   \n",
       "3    102006104_2018_scale_5_alpha_0   \n",
       "4    102006104_2018_scale_5_alpha_0   \n",
       "..                              ...   \n",
       "275  102536577_2018_scale_5_alpha_0   \n",
       "276  102536577_2018_scale_5_alpha_0   \n",
       "277  102536577_2018_scale_5_alpha_0   \n",
       "278  102536577_2018_scale_5_alpha_0   \n",
       "279  102536577_2018_scale_5_alpha_0   \n",
       "\n",
       "                                                  path  \\\n",
       "0    C:/Users/zwg/Stage GEOSYS/Codes/pinnot_data/va...   \n",
       "1    C:/Users/zwg/Stage GEOSYS/Codes/pinnot_data/va...   \n",
       "2    C:/Users/zwg/Stage GEOSYS/Codes/pinnot_data/va...   \n",
       "3    C:/Users/zwg/Stage GEOSYS/Codes/pinnot_data/va...   \n",
       "4    C:/Users/zwg/Stage GEOSYS/Codes/pinnot_data/va...   \n",
       "..                                                 ...   \n",
       "275  C:/Users/zwg/Stage GEOSYS/Codes/pinnot_data/va...   \n",
       "276  C:/Users/zwg/Stage GEOSYS/Codes/pinnot_data/va...   \n",
       "277  C:/Users/zwg/Stage GEOSYS/Codes/pinnot_data/va...   \n",
       "278  C:/Users/zwg/Stage GEOSYS/Codes/pinnot_data/va...   \n",
       "279  C:/Users/zwg/Stage GEOSYS/Codes/pinnot_data/va...   \n",
       "\n",
       "                                              geometry  cluster_id  \\\n",
       "0    MULTIPOLYGON (((-99.72163 39.87525, -99.72127 ...        21.0   \n",
       "1    MULTIPOLYGON (((-99.72826 39.87187, -99.72814 ...        21.0   \n",
       "2    POLYGON ((-99.72477 39.87369, -99.72465 39.873...        21.0   \n",
       "3    POLYGON ((-99.72656 39.86657, -99.72621 39.866...        21.0   \n",
       "4    POLYGON ((-99.72785 39.86665, -99.72762 39.866...        21.0   \n",
       "..                                                 ...         ...   \n",
       "275  POLYGON ((-79.20299 34.54109, -79.20245 34.541...         2.0   \n",
       "276  POLYGON ((-79.20414 34.53813, -79.20393 34.538...         2.0   \n",
       "277  MULTIPOLYGON (((-79.20563 34.53996, -79.20541 ...         2.0   \n",
       "278  MULTIPOLYGON (((-79.20484 34.54121, -79.20462 ...         2.0   \n",
       "279  MULTIPOLYGON (((-79.20223 34.54117, -79.20168 ...         2.0   \n",
       "\n",
       "    cluster_color  \n",
       "0         #00ff0b  \n",
       "1         #00ff0b  \n",
       "2         #00ff0b  \n",
       "3         #00ff0b  \n",
       "4         #00ff0b  \n",
       "..            ...  \n",
       "275          grey  \n",
       "276          grey  \n",
       "277          grey  \n",
       "278          grey  \n",
       "279          grey  \n",
       "\n",
       "[280 rows x 11 columns]"
      ]
     },
     "execution_count": 94,
     "metadata": {},
     "output_type": "execute_result"
    }
   ],
   "source": [
    "all_sfd_bb_df.dropna(axis='rows', inplace=True)\n",
    "all_sfd_bb_df"
   ]
  },
  {
   "cell_type": "code",
   "execution_count": 95,
   "metadata": {},
   "outputs": [],
   "source": [
    "all_sfd_bb_df.to_file(save_path_shp+'clustered/all_sfd_bb_cover_clustered.geojson', driver='GeoJSON')   "
   ]
  },
  {
   "cell_type": "code",
   "execution_count": 96,
   "metadata": {},
   "outputs": [],
   "source": [
    "plt.close('all')"
   ]
  },
  {
   "cell_type": "markdown",
   "metadata": {},
   "source": [
    "## Visualize evolution graph"
   ]
  },
  {
   "cell_type": "code",
   "execution_count": 102,
   "metadata": {},
   "outputs": [],
   "source": [
    "import operator\n",
    "import copy\n",
    "from utilefunc.get_palette import get_palette\n",
    "from evolution_graph import evolution_graph_ndvi"
   ]
  },
  {
   "cell_type": "code",
   "execution_count": 97,
   "metadata": {},
   "outputs": [],
   "source": [
    "# Parameter settings\n",
    "## segmentation parameters \n",
    "scale=5        # controls the number of produced segments as well as their size. Higher scale means less and larger segments. \n",
    "sigma=0          # diameter of a Gaussian kernel, used for smoothing the image prior to segmentation.\n",
    "min_size=5      # minimum size of the segment\n",
    "\n",
    "## BB selection and graph construction parameters\n",
    "alpha = 0.4\n",
    "t1 = 0.1\n",
    "t2 = 0\n",
    "direction=1  # 0 : from small to big; 1: from big to small"
   ]
  },
  {
   "cell_type": "code",
   "execution_count": 98,
   "metadata": {},
   "outputs": [],
   "source": [
    "## general data informations\n",
    "fields_data_fpath = 'pinnote_anomaly_info/annotations_valid_dates_final.csv'\n",
    "fields_data = pd.read_csv(fields_data_fpath, sep=';', )\n",
    "sfd_ids = fields_data['sfd_id'].unique()  # all season field ids to process\n",
    "data_path = 'data_images_2017_2020/'  # path for image time series, each stocked in a file folder named with the sfd_id\n",
    "\n",
    "# save paths\n",
    "save_path_df = 'variables/raster_df/scale_{0}/'.format(scale)\n",
    "if direction == 0:\n",
    "    save_path_bb = 'variables/BB_evolution_graph/BB_small2big/scale_{0}_alpha_{1}_t1_{2}_t2_{3}/'.format(scale, alpha, t1, t2)\n",
    "    save_path_shp = 'variables/sfd_bbs_cover/BB_small2big/scale_{0}_alpha_{1}_t1_{2}_t2_{3}/'.format(scale, alpha, t1, t2)\n",
    "if direction == 1:\n",
    "    save_path_bb = 'variables/BB_evolution_graph/BB_big2small/scale_{0}_alpha_{1}_t1_{2}_t2_{3}/'.format(scale, alpha, t1, t2)\n",
    "    save_path_shp = 'variables/sfd_bbs_cover/BB_big2small/scale_{0}_alpha_{1}_t1_{2}_t2_{3}/'.format(scale, alpha, t1, t2)"
   ]
  },
  {
   "cell_type": "code",
   "execution_count": 99,
   "metadata": {},
   "outputs": [],
   "source": [
    "sfd_id_choice = 102424640"
   ]
  },
  {
   "cell_type": "code",
   "execution_count": 100,
   "metadata": {},
   "outputs": [],
   "source": [
    "year_choice = fields_data[fields_data.sfd_id == sfd_id_choice].year.unique()[0]\n",
    "raster_df = pd.read_pickle(save_path_df+'{0}_{1}_scale_{2}_raster_seg_df.pkl'.format(sfd_id_choice,year_choice,scale))\n",
    "\n",
    "segments_test = raster_df['segments_fz'].iloc[(raster_df.index >= datetime.datetime(year_choice,1,1)) & (raster_df.index <= datetime.datetime(year_choice,12,31))]\n",
    "raster_ndvi_numpy_test = raster_df['raster_ndvi_numpy'].iloc[(raster_df.index >= datetime.datetime(year_choice,1,1)) & (raster_df.index <= datetime.datetime(year_choice,12,31))]\n",
    "\n",
    "bb_final_list = np.load(save_path_bb+'{0}_{1}_scale_{2}_alpha_{3}_t1_{4}_t2_{5}_final_bb.npy'.format(sfd_id_choice,year_choice,scale,alpha,t1,t2), allow_pickle=True)"
   ]
  },
  {
   "cell_type": "code",
   "execution_count": 103,
   "metadata": {},
   "outputs": [
    {
     "data": {
      "application/vnd.jupyter.widget-view+json": {
       "model_id": "b59d3e72339d494d8e3f0ecdb14e53c0",
       "version_major": 2,
       "version_minor": 0
      },
      "text/plain": [
       "Canvas(toolbar=Toolbar(toolitems=[('Home', 'Reset original view', 'home', 'home'), ('Back', 'Back to previous …"
      ]
     },
     "metadata": {},
     "output_type": "display_data"
    }
   ],
   "source": [
    "## Evolution graph of each BB\n",
    "evolution_graph_ndvi(sfd_id_choice, year_choice, bb_final_list, segments_test, raster_ndvi_numpy_test, alpha, t1, t2)"
   ]
  },
  {
   "cell_type": "code",
   "execution_count": 28,
   "metadata": {},
   "outputs": [
    {
     "data": {
      "application/vnd.jupyter.widget-view+json": {
       "model_id": "6fac5a7ef49a42a285bc39786b749eec",
       "version_major": 2,
       "version_minor": 0
      },
      "text/plain": [
       "Canvas(toolbar=Toolbar(toolitems=[('Home', 'Reset original view', 'home', 'home'), ('Back', 'Back to previous …"
      ]
     },
     "metadata": {},
     "output_type": "display_data"
    }
   ],
   "source": [
    "plt.close('all')\n",
    "## Evolution graph temporal coverage with NDVI values\n",
    "fig = plt.figure(figsize=(3*(bb_final_list.shape[0]+1),3*len(segments_test))) #figsize=(20,50))\n",
    "\n",
    "for j in range(len(segments_test)):\n",
    "    date_choice = segments_test.index[j].strftime('%Y-%m-%d')\n",
    "    raster_ndvi_numpy = raster_df.loc[date_choice, 'raster_ndvi_numpy']\n",
    "    \n",
    "    plt.subplot(len(segments_test), bb_final_list.shape[0]+1, j*(bb_final_list.shape[0]+1)+bb_final_list.shape[0]+1)\n",
    "    cmap, norm = get_palette(raster_ndvi_numpy)\n",
    "    f2 = plt.imshow(raster_ndvi_numpy, cmap=cmap, norm=norm)\n",
    "    plt.colorbar(f2, label='NDVI value')\n",
    "    plt.title(f\"NDVI image : {date_choice}\",fontsize=6)   \n",
    "        \n",
    "for i in range(bb_final_list.shape[0]):\n",
    "    dico_bb = dict()\n",
    "    for x in bb_final_list[i,4]:\n",
    "        dico_bb[x[0]] = dico_bb.get(x[0], []) + [x[1]]\n",
    "    dico_bb[bb_final_list[i,0]] = [bb_final_list[i,1]]\n",
    "    dico_bb = dict(sorted(dico_bb.items(), key=operator.itemgetter(0)))\n",
    "    BB_date = segments_test.index[bb_final_list[i,0]].strftime('%Y-%m-%d')\n",
    "\n",
    "    for idx in range(len(segments_test)):\n",
    "\n",
    "        date_choice = segments_test.index[idx].strftime('%Y-%m-%d')\n",
    "        segments_fz = raster_df.loc[date_choice, 'segments_fz']\n",
    "        raster_ndvi_numpy = raster_df.loc[date_choice, 'raster_ndvi_numpy']\n",
    "        bb_ndvi = copy.deepcopy(raster_ndvi_numpy)\n",
    "        coordinate = np.ma.zeros(segments_fz.shape)\n",
    "\n",
    "        if idx in dico_bb.keys():\n",
    "            for ind in dico_bb[idx]:\n",
    "                coordinate.mask += (segments_fz == ind)\n",
    "            bb_ndvi.mask = bb_ndvi.mask + ~(coordinate.mask)\n",
    "\n",
    "            title = f\"{date_choice} \\n Covered by BB {bb_final_list[i,0]}-{bb_final_list[i,1]} ({BB_date})\"\n",
    "            if np.all(bb_ndvi.mask):\n",
    "                title = f\"{date_choice} \\n Totally covered by BB {bb_final_list[i,0]}-{bb_final_list[i,1]} ({BB_date})\"\n",
    "                bb_ndvi.mask = raster_ndvi_numpy.mask\n",
    "            plt.subplot(len(segments_test),bb_final_list.shape[0]+1, idx*(bb_final_list.shape[0]+1)+i+1)\n",
    "            cmap, norm = get_palette(raster_ndvi_numpy)\n",
    "            f = plt.imshow(bb_ndvi, cmap=cmap, norm=norm)\n",
    "            plt.title(title, fontsize=6, y=1.0)\n",
    "\n",
    "plt.suptitle(f'BB segment of the field {sfd_id_choice} - {year_choice}', y=1)        \n",
    "plt.tight_layout()\n",
    "plt.savefig(f'image_results/evolution_graph/scale_{scale}_alpha_{alpha}_t1_{t1}_t2_{t2}/{sfd_id_choice}_{year_choice}_evolution_graph_alpha_{alpha}_t1_{t1}_t2_{t2}.png', format='png')\n",
    "plt.show()\n"
   ]
  },
  {
   "cell_type": "code",
   "execution_count": 66,
   "metadata": {},
   "outputs": [
    {
     "data": {
      "application/vnd.jupyter.widget-view+json": {
       "model_id": "6276794718f64aea9671050c89dde800",
       "version_major": 2,
       "version_minor": 0
      },
      "text/plain": [
       "Canvas(toolbar=Toolbar(toolitems=[('Home', 'Reset original view', 'home', 'home'), ('Back', 'Back to previous …"
      ]
     },
     "metadata": {},
     "output_type": "display_data"
    }
   ],
   "source": [
    "fig = plt.figure(figsize=(3*(bb_final_list.shape[0]+1),3*len(segments_test))) \n",
    "\n",
    "for j in range(len(segments_test)):\n",
    "    date_choice = segments_test.index[j].strftime('%Y-%m-%d')\n",
    "    raster_ndvi_numpy = raster_df.loc[date_choice, 'raster_ndvi_numpy']\n",
    "    \n",
    "    plt.subplot(len(segments_test), bb_final_list.shape[0]+1, j*(bb_final_list.shape[0]+1)+bb_final_list.shape[0]+1)\n",
    "    cmap, norm = get_palette(raster_ndvi_numpy)\n",
    "    f2 = plt.imshow(raster_ndvi_numpy, cmap=cmap, norm=norm)\n",
    "    plt.colorbar(f2, label='NDVI value')\n",
    "    plt.title(f\"NDVI image : {date_choice}\",fontsize=6)   \n",
    "        \n",
    "for i in range(bb_final_list.shape[0]):\n",
    "    dico_bb = dict()\n",
    "    for x in bb_final_list[i,4]:\n",
    "        dico_bb[x[0]] = dico_bb.get(x[0], []) + [x[1]]\n",
    "    dico_bb[bb_final_list[i,0]] = [bb_final_list[i,1]]\n",
    "    dico_bb = dict(sorted(dico_bb.items(), key=operator.itemgetter(0)))\n",
    "    BB_date = segments_test.index[bb_final_list[i,0]].strftime('%Y-%m-%d')\n",
    "\n",
    "    for idx in range(len(segments_test)):\n",
    "\n",
    "        date_choice = segments_test.index[idx].strftime('%Y-%m-%d')\n",
    "        segments_fz = raster_df.loc[date_choice, 'segments_fz']\n",
    "        raster_ndvi_numpy = raster_df.loc[date_choice, 'raster_ndvi_numpy']\n",
    "        coordinate = np.ma.zeros(segments_fz.shape)\n",
    "\n",
    "        if idx in dico_bb.keys():\n",
    "            for ind in dico_bb[idx]:\n",
    "                coordinate[segments_fz == ind] =100\n",
    "            coordinate.mask = raster_ndvi_numpy.mask\n",
    "\n",
    "            title = f\"Covered by BB {bb_final_list[i,0]}-{bb_final_list[i,1]} ({BB_date})\"\n",
    "            cmap = 'RdYlGn'\n",
    "            if coordinate.min() == 100:\n",
    "                title = f\"Totally covered by BB {bb_final_list[i,0]}-{bb_final_list[i,1]} ({BB_date})\"\n",
    "                cmap = colors.ListedColormap(['green'])\n",
    "            plt.subplot(len(segments_test),bb_final_list.shape[0]+1, idx*(bb_final_list.shape[0]+1)+i+1)\n",
    "            plt.imshow(coordinate, cmap=cmap)\n",
    "            plt.title(title, fontsize=6, y=1.0)\n",
    "            \n",
    "plt.tight_layout()\n",
    "plt.suptitle(f'BB segment of the field {sfd_id_choice} - {year_choice}', y=1)\n",
    "\n",
    "plt.show()"
   ]
  },
  {
   "cell_type": "markdown",
   "metadata": {},
   "source": [
    "### Generate and save all evolution graphs"
   ]
  },
  {
   "cell_type": "code",
   "execution_count": 5,
   "metadata": {
    "collapsed": true,
    "jupyter": {
     "outputs_hidden": true
    }
   },
   "outputs": [
    {
     "data": {
      "application/vnd.jupyter.widget-view+json": {
       "model_id": "549c57781c884f7ba6707eb9b6d955fc",
       "version_major": 2,
       "version_minor": 0
      },
      "text/plain": [
       "Canvas(toolbar=Toolbar(toolitems=[('Home', 'Reset original view', 'home', 'home'), ('Back', 'Back to previous …"
      ]
     },
     "metadata": {},
     "output_type": "display_data"
    },
    {
     "data": {
      "application/vnd.jupyter.widget-view+json": {
       "model_id": "513a5814a67e4c769875135712c212d1",
       "version_major": 2,
       "version_minor": 0
      },
      "text/plain": [
       "Canvas(toolbar=Toolbar(toolitems=[('Home', 'Reset original view', 'home', 'home'), ('Back', 'Back to previous …"
      ]
     },
     "metadata": {},
     "output_type": "display_data"
    },
    {
     "data": {
      "application/vnd.jupyter.widget-view+json": {
       "model_id": "d0ecc4eebfc04471b8675419f3dc5cea",
       "version_major": 2,
       "version_minor": 0
      },
      "text/plain": [
       "Canvas(toolbar=Toolbar(toolitems=[('Home', 'Reset original view', 'home', 'home'), ('Back', 'Back to previous …"
      ]
     },
     "metadata": {},
     "output_type": "display_data"
    },
    {
     "data": {
      "application/vnd.jupyter.widget-view+json": {
       "model_id": "eb96451000024669aa3088c7121b36fa",
       "version_major": 2,
       "version_minor": 0
      },
      "text/plain": [
       "Canvas(toolbar=Toolbar(toolitems=[('Home', 'Reset original view', 'home', 'home'), ('Back', 'Back to previous …"
      ]
     },
     "metadata": {},
     "output_type": "display_data"
    },
    {
     "data": {
      "application/vnd.jupyter.widget-view+json": {
       "model_id": "a65003b3234746ec876d86a617f3760d",
       "version_major": 2,
       "version_minor": 0
      },
      "text/plain": [
       "Canvas(toolbar=Toolbar(toolitems=[('Home', 'Reset original view', 'home', 'home'), ('Back', 'Back to previous …"
      ]
     },
     "metadata": {},
     "output_type": "display_data"
    },
    {
     "data": {
      "application/vnd.jupyter.widget-view+json": {
       "model_id": "a004eca215064a9eaf62220a648ae3fa",
       "version_major": 2,
       "version_minor": 0
      },
      "text/plain": [
       "Canvas(toolbar=Toolbar(toolitems=[('Home', 'Reset original view', 'home', 'home'), ('Back', 'Back to previous …"
      ]
     },
     "metadata": {},
     "output_type": "display_data"
    },
    {
     "data": {
      "application/vnd.jupyter.widget-view+json": {
       "model_id": "5e52b5cf9b6647719e4491161b0363f7",
       "version_major": 2,
       "version_minor": 0
      },
      "text/plain": [
       "Canvas(toolbar=Toolbar(toolitems=[('Home', 'Reset original view', 'home', 'home'), ('Back', 'Back to previous …"
      ]
     },
     "metadata": {},
     "output_type": "display_data"
    },
    {
     "data": {
      "application/vnd.jupyter.widget-view+json": {
       "model_id": "5811ef9292be423a8162f1e267a82bda",
       "version_major": 2,
       "version_minor": 0
      },
      "text/plain": [
       "Canvas(toolbar=Toolbar(toolitems=[('Home', 'Reset original view', 'home', 'home'), ('Back', 'Back to previous …"
      ]
     },
     "metadata": {},
     "output_type": "display_data"
    },
    {
     "data": {
      "application/vnd.jupyter.widget-view+json": {
       "model_id": "fe147849dc9141dfa53ed4e93018d97f",
       "version_major": 2,
       "version_minor": 0
      },
      "text/plain": [
       "Canvas(toolbar=Toolbar(toolitems=[('Home', 'Reset original view', 'home', 'home'), ('Back', 'Back to previous …"
      ]
     },
     "metadata": {},
     "output_type": "display_data"
    },
    {
     "data": {
      "application/vnd.jupyter.widget-view+json": {
       "model_id": "0fcd9e5f921b426bb94093d63331064e",
       "version_major": 2,
       "version_minor": 0
      },
      "text/plain": [
       "Canvas(toolbar=Toolbar(toolitems=[('Home', 'Reset original view', 'home', 'home'), ('Back', 'Back to previous …"
      ]
     },
     "metadata": {},
     "output_type": "display_data"
    },
    {
     "data": {
      "application/vnd.jupyter.widget-view+json": {
       "model_id": "66feabc2db4845df8d37619a3466afe8",
       "version_major": 2,
       "version_minor": 0
      },
      "text/plain": [
       "Canvas(toolbar=Toolbar(toolitems=[('Home', 'Reset original view', 'home', 'home'), ('Back', 'Back to previous …"
      ]
     },
     "metadata": {},
     "output_type": "display_data"
    },
    {
     "data": {
      "application/vnd.jupyter.widget-view+json": {
       "model_id": "78fa32a2ce5d45e0822dab79947d5967",
       "version_major": 2,
       "version_minor": 0
      },
      "text/plain": [
       "Canvas(toolbar=Toolbar(toolitems=[('Home', 'Reset original view', 'home', 'home'), ('Back', 'Back to previous …"
      ]
     },
     "metadata": {},
     "output_type": "display_data"
    },
    {
     "data": {
      "application/vnd.jupyter.widget-view+json": {
       "model_id": "9d905008189b4b7faccc0cfe036295cf",
       "version_major": 2,
       "version_minor": 0
      },
      "text/plain": [
       "Canvas(toolbar=Toolbar(toolitems=[('Home', 'Reset original view', 'home', 'home'), ('Back', 'Back to previous …"
      ]
     },
     "metadata": {},
     "output_type": "display_data"
    },
    {
     "data": {
      "application/vnd.jupyter.widget-view+json": {
       "model_id": "5852d44c88a045d39e79e4ad38c892a4",
       "version_major": 2,
       "version_minor": 0
      },
      "text/plain": [
       "Canvas(toolbar=Toolbar(toolitems=[('Home', 'Reset original view', 'home', 'home'), ('Back', 'Back to previous …"
      ]
     },
     "metadata": {},
     "output_type": "display_data"
    },
    {
     "data": {
      "application/vnd.jupyter.widget-view+json": {
       "model_id": "4d5cf1a42dc944cebe4e265a115ffdbe",
       "version_major": 2,
       "version_minor": 0
      },
      "text/plain": [
       "Canvas(toolbar=Toolbar(toolitems=[('Home', 'Reset original view', 'home', 'home'), ('Back', 'Back to previous …"
      ]
     },
     "metadata": {},
     "output_type": "display_data"
    },
    {
     "data": {
      "application/vnd.jupyter.widget-view+json": {
       "model_id": "7398e762f8e647958964e0373379166a",
       "version_major": 2,
       "version_minor": 0
      },
      "text/plain": [
       "Canvas(toolbar=Toolbar(toolitems=[('Home', 'Reset original view', 'home', 'home'), ('Back', 'Back to previous …"
      ]
     },
     "metadata": {},
     "output_type": "display_data"
    },
    {
     "data": {
      "application/vnd.jupyter.widget-view+json": {
       "model_id": "9f179c8515e74754a424a54bb52d78b4",
       "version_major": 2,
       "version_minor": 0
      },
      "text/plain": [
       "Canvas(toolbar=Toolbar(toolitems=[('Home', 'Reset original view', 'home', 'home'), ('Back', 'Back to previous …"
      ]
     },
     "metadata": {},
     "output_type": "display_data"
    },
    {
     "data": {
      "application/vnd.jupyter.widget-view+json": {
       "model_id": "ab2b69dea1a24cc6baf0ac4b76b0fa40",
       "version_major": 2,
       "version_minor": 0
      },
      "text/plain": [
       "Canvas(toolbar=Toolbar(toolitems=[('Home', 'Reset original view', 'home', 'home'), ('Back', 'Back to previous …"
      ]
     },
     "metadata": {},
     "output_type": "display_data"
    },
    {
     "data": {
      "application/vnd.jupyter.widget-view+json": {
       "model_id": "2e9f034426f64f399a5ba87af445593e",
       "version_major": 2,
       "version_minor": 0
      },
      "text/plain": [
       "Canvas(toolbar=Toolbar(toolitems=[('Home', 'Reset original view', 'home', 'home'), ('Back', 'Back to previous …"
      ]
     },
     "metadata": {},
     "output_type": "display_data"
    },
    {
     "data": {
      "application/vnd.jupyter.widget-view+json": {
       "model_id": "995c00038884424eb494c61900c6e80b",
       "version_major": 2,
       "version_minor": 0
      },
      "text/plain": [
       "Canvas(toolbar=Toolbar(toolitems=[('Home', 'Reset original view', 'home', 'home'), ('Back', 'Back to previous …"
      ]
     },
     "metadata": {},
     "output_type": "display_data"
    },
    {
     "data": {
      "application/vnd.jupyter.widget-view+json": {
       "model_id": "e5ae2662c2c54f7ca44ecb6fd86d495f",
       "version_major": 2,
       "version_minor": 0
      },
      "text/plain": [
       "Canvas(toolbar=Toolbar(toolitems=[('Home', 'Reset original view', 'home', 'home'), ('Back', 'Back to previous …"
      ]
     },
     "metadata": {},
     "output_type": "display_data"
    },
    {
     "data": {
      "application/vnd.jupyter.widget-view+json": {
       "model_id": "c8ada8f3ffe84eb5a6d785bd72be1d82",
       "version_major": 2,
       "version_minor": 0
      },
      "text/plain": [
       "Canvas(toolbar=Toolbar(toolitems=[('Home', 'Reset original view', 'home', 'home'), ('Back', 'Back to previous …"
      ]
     },
     "metadata": {},
     "output_type": "display_data"
    },
    {
     "data": {
      "application/vnd.jupyter.widget-view+json": {
       "model_id": "9f78cb2b8bb4470a978d63a3425e99ab",
       "version_major": 2,
       "version_minor": 0
      },
      "text/plain": [
       "Canvas(toolbar=Toolbar(toolitems=[('Home', 'Reset original view', 'home', 'home'), ('Back', 'Back to previous …"
      ]
     },
     "metadata": {},
     "output_type": "display_data"
    },
    {
     "data": {
      "application/vnd.jupyter.widget-view+json": {
       "model_id": "8e2def9ff35347958bfc3ac2b212fd26",
       "version_major": 2,
       "version_minor": 0
      },
      "text/plain": [
       "Canvas(toolbar=Toolbar(toolitems=[('Home', 'Reset original view', 'home', 'home'), ('Back', 'Back to previous …"
      ]
     },
     "metadata": {},
     "output_type": "display_data"
    },
    {
     "data": {
      "application/vnd.jupyter.widget-view+json": {
       "model_id": "e43f034aa4cc4f5b988ce5cf810f1110",
       "version_major": 2,
       "version_minor": 0
      },
      "text/plain": [
       "Canvas(toolbar=Toolbar(toolitems=[('Home', 'Reset original view', 'home', 'home'), ('Back', 'Back to previous …"
      ]
     },
     "metadata": {},
     "output_type": "display_data"
    },
    {
     "data": {
      "application/vnd.jupyter.widget-view+json": {
       "model_id": "8a84b7f153c6453dad5d46cfec5aa117",
       "version_major": 2,
       "version_minor": 0
      },
      "text/plain": [
       "Canvas(toolbar=Toolbar(toolitems=[('Home', 'Reset original view', 'home', 'home'), ('Back', 'Back to previous …"
      ]
     },
     "metadata": {},
     "output_type": "display_data"
    },
    {
     "data": {
      "application/vnd.jupyter.widget-view+json": {
       "model_id": "4c83060f0ad44728b1c4fbdc7a0298a0",
       "version_major": 2,
       "version_minor": 0
      },
      "text/plain": [
       "Canvas(toolbar=Toolbar(toolitems=[('Home', 'Reset original view', 'home', 'home'), ('Back', 'Back to previous …"
      ]
     },
     "metadata": {},
     "output_type": "display_data"
    },
    {
     "data": {
      "application/vnd.jupyter.widget-view+json": {
       "model_id": "b2c8032140224504b7d184854a136406",
       "version_major": 2,
       "version_minor": 0
      },
      "text/plain": [
       "Canvas(toolbar=Toolbar(toolitems=[('Home', 'Reset original view', 'home', 'home'), ('Back', 'Back to previous …"
      ]
     },
     "metadata": {},
     "output_type": "display_data"
    },
    {
     "data": {
      "application/vnd.jupyter.widget-view+json": {
       "model_id": "bc9636bd095f4a30a001044a73cc621f",
       "version_major": 2,
       "version_minor": 0
      },
      "text/plain": [
       "Canvas(toolbar=Toolbar(toolitems=[('Home', 'Reset original view', 'home', 'home'), ('Back', 'Back to previous …"
      ]
     },
     "metadata": {},
     "output_type": "display_data"
    },
    {
     "data": {
      "application/vnd.jupyter.widget-view+json": {
       "model_id": "fc73b2717221456286d6b47232c0d59d",
       "version_major": 2,
       "version_minor": 0
      },
      "text/plain": [
       "Canvas(toolbar=Toolbar(toolitems=[('Home', 'Reset original view', 'home', 'home'), ('Back', 'Back to previous …"
      ]
     },
     "metadata": {},
     "output_type": "display_data"
    },
    {
     "data": {
      "application/vnd.jupyter.widget-view+json": {
       "model_id": "14b0eb8631e349d8a009d46595013c1a",
       "version_major": 2,
       "version_minor": 0
      },
      "text/plain": [
       "Canvas(toolbar=Toolbar(toolitems=[('Home', 'Reset original view', 'home', 'home'), ('Back', 'Back to previous …"
      ]
     },
     "metadata": {},
     "output_type": "display_data"
    },
    {
     "data": {
      "application/vnd.jupyter.widget-view+json": {
       "model_id": "835f6f8fc65a4c0982fe632095c801b5",
       "version_major": 2,
       "version_minor": 0
      },
      "text/plain": [
       "Canvas(toolbar=Toolbar(toolitems=[('Home', 'Reset original view', 'home', 'home'), ('Back', 'Back to previous …"
      ]
     },
     "metadata": {},
     "output_type": "display_data"
    },
    {
     "data": {
      "application/vnd.jupyter.widget-view+json": {
       "model_id": "44f1b34099e440b3a54e973b2a285d50",
       "version_major": 2,
       "version_minor": 0
      },
      "text/plain": [
       "Canvas(toolbar=Toolbar(toolitems=[('Home', 'Reset original view', 'home', 'home'), ('Back', 'Back to previous …"
      ]
     },
     "metadata": {},
     "output_type": "display_data"
    },
    {
     "data": {
      "application/vnd.jupyter.widget-view+json": {
       "model_id": "ce8e328cbad44d98872cd28091b6ff21",
       "version_major": 2,
       "version_minor": 0
      },
      "text/plain": [
       "Canvas(toolbar=Toolbar(toolitems=[('Home', 'Reset original view', 'home', 'home'), ('Back', 'Back to previous …"
      ]
     },
     "metadata": {},
     "output_type": "display_data"
    },
    {
     "data": {
      "application/vnd.jupyter.widget-view+json": {
       "model_id": "b8abf250c6cd439ea23cbc931dc71990",
       "version_major": 2,
       "version_minor": 0
      },
      "text/plain": [
       "Canvas(toolbar=Toolbar(toolitems=[('Home', 'Reset original view', 'home', 'home'), ('Back', 'Back to previous …"
      ]
     },
     "metadata": {},
     "output_type": "display_data"
    },
    {
     "data": {
      "application/vnd.jupyter.widget-view+json": {
       "model_id": "7ce0c83cc528482fa6d859d0c2d17fc8",
       "version_major": 2,
       "version_minor": 0
      },
      "text/plain": [
       "Canvas(toolbar=Toolbar(toolitems=[('Home', 'Reset original view', 'home', 'home'), ('Back', 'Back to previous …"
      ]
     },
     "metadata": {},
     "output_type": "display_data"
    },
    {
     "data": {
      "application/vnd.jupyter.widget-view+json": {
       "model_id": "1206caab002e44da935839b55139e57b",
       "version_major": 2,
       "version_minor": 0
      },
      "text/plain": [
       "Canvas(toolbar=Toolbar(toolitems=[('Home', 'Reset original view', 'home', 'home'), ('Back', 'Back to previous …"
      ]
     },
     "metadata": {},
     "output_type": "display_data"
    },
    {
     "data": {
      "application/vnd.jupyter.widget-view+json": {
       "model_id": "32878b32100a4346950d76caea607fd0",
       "version_major": 2,
       "version_minor": 0
      },
      "text/plain": [
       "Canvas(toolbar=Toolbar(toolitems=[('Home', 'Reset original view', 'home', 'home'), ('Back', 'Back to previous …"
      ]
     },
     "metadata": {},
     "output_type": "display_data"
    },
    {
     "data": {
      "application/vnd.jupyter.widget-view+json": {
       "model_id": "7614273eaad4436bacac20ccf942732b",
       "version_major": 2,
       "version_minor": 0
      },
      "text/plain": [
       "Canvas(toolbar=Toolbar(toolitems=[('Home', 'Reset original view', 'home', 'home'), ('Back', 'Back to previous …"
      ]
     },
     "metadata": {},
     "output_type": "display_data"
    },
    {
     "data": {
      "application/vnd.jupyter.widget-view+json": {
       "model_id": "9a390caf5d874df987f08ca471cabc0d",
       "version_major": 2,
       "version_minor": 0
      },
      "text/plain": [
       "Canvas(toolbar=Toolbar(toolitems=[('Home', 'Reset original view', 'home', 'home'), ('Back', 'Back to previous …"
      ]
     },
     "metadata": {},
     "output_type": "display_data"
    },
    {
     "data": {
      "application/vnd.jupyter.widget-view+json": {
       "model_id": "749abbf8a1fd46959cc39205bc523638",
       "version_major": 2,
       "version_minor": 0
      },
      "text/plain": [
       "Canvas(toolbar=Toolbar(toolitems=[('Home', 'Reset original view', 'home', 'home'), ('Back', 'Back to previous …"
      ]
     },
     "metadata": {},
     "output_type": "display_data"
    },
    {
     "data": {
      "application/vnd.jupyter.widget-view+json": {
       "model_id": "3f66ef296bd54ee6ba3348d76888fa0b",
       "version_major": 2,
       "version_minor": 0
      },
      "text/plain": [
       "Canvas(toolbar=Toolbar(toolitems=[('Home', 'Reset original view', 'home', 'home'), ('Back', 'Back to previous …"
      ]
     },
     "metadata": {},
     "output_type": "display_data"
    },
    {
     "data": {
      "application/vnd.jupyter.widget-view+json": {
       "model_id": "2b44e6e068f14006baae667efe5cd5bc",
       "version_major": 2,
       "version_minor": 0
      },
      "text/plain": [
       "Canvas(toolbar=Toolbar(toolitems=[('Home', 'Reset original view', 'home', 'home'), ('Back', 'Back to previous …"
      ]
     },
     "metadata": {},
     "output_type": "display_data"
    },
    {
     "data": {
      "application/vnd.jupyter.widget-view+json": {
       "model_id": "ce101a17eec4440e9822627fa372abc5",
       "version_major": 2,
       "version_minor": 0
      },
      "text/plain": [
       "Canvas(toolbar=Toolbar(toolitems=[('Home', 'Reset original view', 'home', 'home'), ('Back', 'Back to previous …"
      ]
     },
     "metadata": {},
     "output_type": "display_data"
    },
    {
     "data": {
      "application/vnd.jupyter.widget-view+json": {
       "model_id": "db15865dd9114722b95d2dac0820eb9d",
       "version_major": 2,
       "version_minor": 0
      },
      "text/plain": [
       "Canvas(toolbar=Toolbar(toolitems=[('Home', 'Reset original view', 'home', 'home'), ('Back', 'Back to previous …"
      ]
     },
     "metadata": {},
     "output_type": "display_data"
    },
    {
     "data": {
      "application/vnd.jupyter.widget-view+json": {
       "model_id": "20ac7c86ce2c4fadab5d275adbba3804",
       "version_major": 2,
       "version_minor": 0
      },
      "text/plain": [
       "Canvas(toolbar=Toolbar(toolitems=[('Home', 'Reset original view', 'home', 'home'), ('Back', 'Back to previous …"
      ]
     },
     "metadata": {},
     "output_type": "display_data"
    },
    {
     "data": {
      "application/vnd.jupyter.widget-view+json": {
       "model_id": "d40654eb02c2494e868c8742fada60d7",
       "version_major": 2,
       "version_minor": 0
      },
      "text/plain": [
       "Canvas(toolbar=Toolbar(toolitems=[('Home', 'Reset original view', 'home', 'home'), ('Back', 'Back to previous …"
      ]
     },
     "metadata": {},
     "output_type": "display_data"
    },
    {
     "data": {
      "application/vnd.jupyter.widget-view+json": {
       "model_id": "26be7d5450c64ce5b3fbd5ab47dfde0e",
       "version_major": 2,
       "version_minor": 0
      },
      "text/plain": [
       "Canvas(toolbar=Toolbar(toolitems=[('Home', 'Reset original view', 'home', 'home'), ('Back', 'Back to previous …"
      ]
     },
     "metadata": {},
     "output_type": "display_data"
    },
    {
     "data": {
      "application/vnd.jupyter.widget-view+json": {
       "model_id": "d1a2b2e5451c4dd2a0aa7bb7920cf184",
       "version_major": 2,
       "version_minor": 0
      },
      "text/plain": [
       "Canvas(toolbar=Toolbar(toolitems=[('Home', 'Reset original view', 'home', 'home'), ('Back', 'Back to previous …"
      ]
     },
     "metadata": {},
     "output_type": "display_data"
    },
    {
     "data": {
      "application/vnd.jupyter.widget-view+json": {
       "model_id": "77f05a58ed584915bd262991bc453a28",
       "version_major": 2,
       "version_minor": 0
      },
      "text/plain": [
       "Canvas(toolbar=Toolbar(toolitems=[('Home', 'Reset original view', 'home', 'home'), ('Back', 'Back to previous …"
      ]
     },
     "metadata": {},
     "output_type": "display_data"
    },
    {
     "data": {
      "application/vnd.jupyter.widget-view+json": {
       "model_id": "60cff06b79f644ed987637b0908a34c1",
       "version_major": 2,
       "version_minor": 0
      },
      "text/plain": [
       "Canvas(toolbar=Toolbar(toolitems=[('Home', 'Reset original view', 'home', 'home'), ('Back', 'Back to previous …"
      ]
     },
     "metadata": {},
     "output_type": "display_data"
    },
    {
     "data": {
      "application/vnd.jupyter.widget-view+json": {
       "model_id": "6a3ec225d92941849f7ead1fd9860e17",
       "version_major": 2,
       "version_minor": 0
      },
      "text/plain": [
       "Canvas(toolbar=Toolbar(toolitems=[('Home', 'Reset original view', 'home', 'home'), ('Back', 'Back to previous …"
      ]
     },
     "metadata": {},
     "output_type": "display_data"
    },
    {
     "data": {
      "application/vnd.jupyter.widget-view+json": {
       "model_id": "c9c548d8ed0e4b9690362839e9e8cd29",
       "version_major": 2,
       "version_minor": 0
      },
      "text/plain": [
       "Canvas(toolbar=Toolbar(toolitems=[('Home', 'Reset original view', 'home', 'home'), ('Back', 'Back to previous …"
      ]
     },
     "metadata": {},
     "output_type": "display_data"
    },
    {
     "data": {
      "application/vnd.jupyter.widget-view+json": {
       "model_id": "067438a82eb040a5871069c729b29751",
       "version_major": 2,
       "version_minor": 0
      },
      "text/plain": [
       "Canvas(toolbar=Toolbar(toolitems=[('Home', 'Reset original view', 'home', 'home'), ('Back', 'Back to previous …"
      ]
     },
     "metadata": {},
     "output_type": "display_data"
    },
    {
     "data": {
      "application/vnd.jupyter.widget-view+json": {
       "model_id": "be8664f7f88c4997b32ef273ae7afb32",
       "version_major": 2,
       "version_minor": 0
      },
      "text/plain": [
       "Canvas(toolbar=Toolbar(toolitems=[('Home', 'Reset original view', 'home', 'home'), ('Back', 'Back to previous …"
      ]
     },
     "metadata": {},
     "output_type": "display_data"
    },
    {
     "data": {
      "application/vnd.jupyter.widget-view+json": {
       "model_id": "f3eedf6dff1c43c59bb690b8fb89a327",
       "version_major": 2,
       "version_minor": 0
      },
      "text/plain": [
       "Canvas(toolbar=Toolbar(toolitems=[('Home', 'Reset original view', 'home', 'home'), ('Back', 'Back to previous …"
      ]
     },
     "metadata": {},
     "output_type": "display_data"
    },
    {
     "data": {
      "application/vnd.jupyter.widget-view+json": {
       "model_id": "44f5675afd2a4f22a76de65c001e81a1",
       "version_major": 2,
       "version_minor": 0
      },
      "text/plain": [
       "Canvas(toolbar=Toolbar(toolitems=[('Home', 'Reset original view', 'home', 'home'), ('Back', 'Back to previous …"
      ]
     },
     "metadata": {},
     "output_type": "display_data"
    },
    {
     "data": {
      "application/vnd.jupyter.widget-view+json": {
       "model_id": "59f0dfcf407f480fa2d017cafeebf1ff",
       "version_major": 2,
       "version_minor": 0
      },
      "text/plain": [
       "Canvas(toolbar=Toolbar(toolitems=[('Home', 'Reset original view', 'home', 'home'), ('Back', 'Back to previous …"
      ]
     },
     "metadata": {},
     "output_type": "display_data"
    },
    {
     "data": {
      "application/vnd.jupyter.widget-view+json": {
       "model_id": "baf67bd254a04d648770912ee1f93ee1",
       "version_major": 2,
       "version_minor": 0
      },
      "text/plain": [
       "Canvas(toolbar=Toolbar(toolitems=[('Home', 'Reset original view', 'home', 'home'), ('Back', 'Back to previous …"
      ]
     },
     "metadata": {},
     "output_type": "display_data"
    },
    {
     "data": {
      "application/vnd.jupyter.widget-view+json": {
       "model_id": "68b7de2650ee4295993f081c4cc9880c",
       "version_major": 2,
       "version_minor": 0
      },
      "text/plain": [
       "Canvas(toolbar=Toolbar(toolitems=[('Home', 'Reset original view', 'home', 'home'), ('Back', 'Back to previous …"
      ]
     },
     "metadata": {},
     "output_type": "display_data"
    },
    {
     "data": {
      "application/vnd.jupyter.widget-view+json": {
       "model_id": "07a58635dc5b449383d9dfbd79ebc5b6",
       "version_major": 2,
       "version_minor": 0
      },
      "text/plain": [
       "Canvas(toolbar=Toolbar(toolitems=[('Home', 'Reset original view', 'home', 'home'), ('Back', 'Back to previous …"
      ]
     },
     "metadata": {},
     "output_type": "display_data"
    },
    {
     "data": {
      "application/vnd.jupyter.widget-view+json": {
       "model_id": "64fe55f5a8ee4d8989879fc22287150f",
       "version_major": 2,
       "version_minor": 0
      },
      "text/plain": [
       "Canvas(toolbar=Toolbar(toolitems=[('Home', 'Reset original view', 'home', 'home'), ('Back', 'Back to previous …"
      ]
     },
     "metadata": {},
     "output_type": "display_data"
    },
    {
     "data": {
      "application/vnd.jupyter.widget-view+json": {
       "model_id": "9c2a2094bc5d435dae62ef35ea5241c0",
       "version_major": 2,
       "version_minor": 0
      },
      "text/plain": [
       "Canvas(toolbar=Toolbar(toolitems=[('Home', 'Reset original view', 'home', 'home'), ('Back', 'Back to previous …"
      ]
     },
     "metadata": {},
     "output_type": "display_data"
    },
    {
     "data": {
      "application/vnd.jupyter.widget-view+json": {
       "model_id": "b9c026843e91458ca09ff2354d6a6116",
       "version_major": 2,
       "version_minor": 0
      },
      "text/plain": [
       "Canvas(toolbar=Toolbar(toolitems=[('Home', 'Reset original view', 'home', 'home'), ('Back', 'Back to previous …"
      ]
     },
     "metadata": {},
     "output_type": "display_data"
    },
    {
     "data": {
      "application/vnd.jupyter.widget-view+json": {
       "model_id": "513a0b52bb2f4a2492ee0485f2d0c773",
       "version_major": 2,
       "version_minor": 0
      },
      "text/plain": [
       "Canvas(toolbar=Toolbar(toolitems=[('Home', 'Reset original view', 'home', 'home'), ('Back', 'Back to previous …"
      ]
     },
     "metadata": {},
     "output_type": "display_data"
    },
    {
     "data": {
      "application/vnd.jupyter.widget-view+json": {
       "model_id": "bc48e7350f9c4b3d8af07601432c241b",
       "version_major": 2,
       "version_minor": 0
      },
      "text/plain": [
       "Canvas(toolbar=Toolbar(toolitems=[('Home', 'Reset original view', 'home', 'home'), ('Back', 'Back to previous …"
      ]
     },
     "metadata": {},
     "output_type": "display_data"
    },
    {
     "data": {
      "application/vnd.jupyter.widget-view+json": {
       "model_id": "5e31faa096c0484e899a8c337c9d98d1",
       "version_major": 2,
       "version_minor": 0
      },
      "text/plain": [
       "Canvas(toolbar=Toolbar(toolitems=[('Home', 'Reset original view', 'home', 'home'), ('Back', 'Back to previous …"
      ]
     },
     "metadata": {},
     "output_type": "display_data"
    },
    {
     "data": {
      "application/vnd.jupyter.widget-view+json": {
       "model_id": "205a1f9117204127b48df97368e028f4",
       "version_major": 2,
       "version_minor": 0
      },
      "text/plain": [
       "Canvas(toolbar=Toolbar(toolitems=[('Home', 'Reset original view', 'home', 'home'), ('Back', 'Back to previous …"
      ]
     },
     "metadata": {},
     "output_type": "display_data"
    },
    {
     "data": {
      "application/vnd.jupyter.widget-view+json": {
       "model_id": "35bf34ed162d49cc8cb03c7577d8de95",
       "version_major": 2,
       "version_minor": 0
      },
      "text/plain": [
       "Canvas(toolbar=Toolbar(toolitems=[('Home', 'Reset original view', 'home', 'home'), ('Back', 'Back to previous …"
      ]
     },
     "metadata": {},
     "output_type": "display_data"
    },
    {
     "data": {
      "application/vnd.jupyter.widget-view+json": {
       "model_id": "5f99aa7a198245119a82c5e5cf8f5c15",
       "version_major": 2,
       "version_minor": 0
      },
      "text/plain": [
       "Canvas(toolbar=Toolbar(toolitems=[('Home', 'Reset original view', 'home', 'home'), ('Back', 'Back to previous …"
      ]
     },
     "metadata": {},
     "output_type": "display_data"
    },
    {
     "data": {
      "application/vnd.jupyter.widget-view+json": {
       "model_id": "2eb15af3fe2d458e85d1e313bfb8d878",
       "version_major": 2,
       "version_minor": 0
      },
      "text/plain": [
       "Canvas(toolbar=Toolbar(toolitems=[('Home', 'Reset original view', 'home', 'home'), ('Back', 'Back to previous …"
      ]
     },
     "metadata": {},
     "output_type": "display_data"
    },
    {
     "data": {
      "application/vnd.jupyter.widget-view+json": {
       "model_id": "14b25e0c093d404d96b8a23d495777d1",
       "version_major": 2,
       "version_minor": 0
      },
      "text/plain": [
       "Canvas(toolbar=Toolbar(toolitems=[('Home', 'Reset original view', 'home', 'home'), ('Back', 'Back to previous …"
      ]
     },
     "metadata": {},
     "output_type": "display_data"
    },
    {
     "data": {
      "application/vnd.jupyter.widget-view+json": {
       "model_id": "e3582c1ab40d4a18aa8942cc2716a857",
       "version_major": 2,
       "version_minor": 0
      },
      "text/plain": [
       "Canvas(toolbar=Toolbar(toolitems=[('Home', 'Reset original view', 'home', 'home'), ('Back', 'Back to previous …"
      ]
     },
     "metadata": {},
     "output_type": "display_data"
    },
    {
     "data": {
      "application/vnd.jupyter.widget-view+json": {
       "model_id": "2725527aab7c450aabd792683d2c54dc",
       "version_major": 2,
       "version_minor": 0
      },
      "text/plain": [
       "Canvas(toolbar=Toolbar(toolitems=[('Home', 'Reset original view', 'home', 'home'), ('Back', 'Back to previous …"
      ]
     },
     "metadata": {},
     "output_type": "display_data"
    },
    {
     "data": {
      "application/vnd.jupyter.widget-view+json": {
       "model_id": "39e08273682e4e07bc577a15e6137bc1",
       "version_major": 2,
       "version_minor": 0
      },
      "text/plain": [
       "Canvas(toolbar=Toolbar(toolitems=[('Home', 'Reset original view', 'home', 'home'), ('Back', 'Back to previous …"
      ]
     },
     "metadata": {},
     "output_type": "display_data"
    },
    {
     "data": {
      "application/vnd.jupyter.widget-view+json": {
       "model_id": "7f384cd9706d463487d74acb87a2178b",
       "version_major": 2,
       "version_minor": 0
      },
      "text/plain": [
       "Canvas(toolbar=Toolbar(toolitems=[('Home', 'Reset original view', 'home', 'home'), ('Back', 'Back to previous …"
      ]
     },
     "metadata": {},
     "output_type": "display_data"
    },
    {
     "data": {
      "application/vnd.jupyter.widget-view+json": {
       "model_id": "8ce8ef935e0e454abae97cb4474339c8",
       "version_major": 2,
       "version_minor": 0
      },
      "text/plain": [
       "Canvas(toolbar=Toolbar(toolitems=[('Home', 'Reset original view', 'home', 'home'), ('Back', 'Back to previous …"
      ]
     },
     "metadata": {},
     "output_type": "display_data"
    },
    {
     "data": {
      "application/vnd.jupyter.widget-view+json": {
       "model_id": "4812972d9761436f9a470967d34d9b23",
       "version_major": 2,
       "version_minor": 0
      },
      "text/plain": [
       "Canvas(toolbar=Toolbar(toolitems=[('Home', 'Reset original view', 'home', 'home'), ('Back', 'Back to previous …"
      ]
     },
     "metadata": {},
     "output_type": "display_data"
    },
    {
     "data": {
      "application/vnd.jupyter.widget-view+json": {
       "model_id": "c75eb537b5af4e1d9121255bdad191e4",
       "version_major": 2,
       "version_minor": 0
      },
      "text/plain": [
       "Canvas(toolbar=Toolbar(toolitems=[('Home', 'Reset original view', 'home', 'home'), ('Back', 'Back to previous …"
      ]
     },
     "metadata": {},
     "output_type": "display_data"
    },
    {
     "data": {
      "application/vnd.jupyter.widget-view+json": {
       "model_id": "6a04e6cb34754b0d8f571b991eae6d73",
       "version_major": 2,
       "version_minor": 0
      },
      "text/plain": [
       "Canvas(toolbar=Toolbar(toolitems=[('Home', 'Reset original view', 'home', 'home'), ('Back', 'Back to previous …"
      ]
     },
     "metadata": {},
     "output_type": "display_data"
    },
    {
     "data": {
      "application/vnd.jupyter.widget-view+json": {
       "model_id": "64d7efac2891490bb95094e16f3177c4",
       "version_major": 2,
       "version_minor": 0
      },
      "text/plain": [
       "Canvas(toolbar=Toolbar(toolitems=[('Home', 'Reset original view', 'home', 'home'), ('Back', 'Back to previous …"
      ]
     },
     "metadata": {},
     "output_type": "display_data"
    },
    {
     "data": {
      "application/vnd.jupyter.widget-view+json": {
       "model_id": "46527feebc3d45f9b1cc766746f46293",
       "version_major": 2,
       "version_minor": 0
      },
      "text/plain": [
       "Canvas(toolbar=Toolbar(toolitems=[('Home', 'Reset original view', 'home', 'home'), ('Back', 'Back to previous …"
      ]
     },
     "metadata": {},
     "output_type": "display_data"
    },
    {
     "data": {
      "application/vnd.jupyter.widget-view+json": {
       "model_id": "1c175c4af95649cea730dcfa230cfadd",
       "version_major": 2,
       "version_minor": 0
      },
      "text/plain": [
       "Canvas(toolbar=Toolbar(toolitems=[('Home', 'Reset original view', 'home', 'home'), ('Back', 'Back to previous …"
      ]
     },
     "metadata": {},
     "output_type": "display_data"
    },
    {
     "data": {
      "application/vnd.jupyter.widget-view+json": {
       "model_id": "20ee5956a1404e558a7c3e1fd01a251c",
       "version_major": 2,
       "version_minor": 0
      },
      "text/plain": [
       "Canvas(toolbar=Toolbar(toolitems=[('Home', 'Reset original view', 'home', 'home'), ('Back', 'Back to previous …"
      ]
     },
     "metadata": {},
     "output_type": "display_data"
    },
    {
     "data": {
      "application/vnd.jupyter.widget-view+json": {
       "model_id": "47afe2daa4da470ea196cb44b37e4305",
       "version_major": 2,
       "version_minor": 0
      },
      "text/plain": [
       "Canvas(toolbar=Toolbar(toolitems=[('Home', 'Reset original view', 'home', 'home'), ('Back', 'Back to previous …"
      ]
     },
     "metadata": {},
     "output_type": "display_data"
    },
    {
     "data": {
      "application/vnd.jupyter.widget-view+json": {
       "model_id": "352fc3cbbc4f4fb881d1c723eb24bd37",
       "version_major": 2,
       "version_minor": 0
      },
      "text/plain": [
       "Canvas(toolbar=Toolbar(toolitems=[('Home', 'Reset original view', 'home', 'home'), ('Back', 'Back to previous …"
      ]
     },
     "metadata": {},
     "output_type": "display_data"
    }
   ],
   "source": [
    "for sfd_id_choice in sfd_ids:\n",
    "    year_choice = fields_data[fields_data.sfd_id == sfd_id_choice].year.unique()[0]\n",
    "    raster_df = pd.read_pickle(save_path_df+'{0}_{1}_scale_{2}_raster_seg_df.pkl'.format(sfd_id_choice,year_choice,scale))\n",
    "    \n",
    "    segments_test = raster_df['segments_fz'].iloc[(raster_df.index >= datetime.datetime(year_choice,1,1)) & (raster_df.index <= datetime.datetime(year_choice,12,31))]\n",
    "    raster_ndvi_numpy_test = raster_df['raster_ndvi_numpy'].iloc[(raster_df.index >= datetime.datetime(year_choice,1,1)) & (raster_df.index <= datetime.datetime(year_choice,12,31))]\n",
    "\n",
    "    bb_final_list = np.load(save_path_bb+'{0}_{1}_scale_{2}_alpha_{3}_t1_{4}_t2_{5}_final_bb.npy'.format(sfd_id_choice,year_choice,scale,alpha,t1,t2), allow_pickle=True)\n",
    "\n",
    "    ## Evolution graph of each BB\n",
    "    evolution_graph_ndvi(sfd_id_choice, year_choice, bb_final_list, segments_test, raster_ndvi_numpy_test, alpha, t1, t2)\n",
    "    \n",
    "    ## Evolution graph temporal coverage with NDVI values\n",
    "    fig = plt.figure(figsize=(3*(bb_final_list.shape[0]+1),3*len(segments_test))) #figsize=(20,50))\n",
    "    for j in range(len(segments_test)):\n",
    "        date_choice = segments_test.index[j].strftime('%Y-%m-%d')\n",
    "        raster_ndvi_numpy = raster_df.loc[date_choice, 'raster_ndvi_numpy']\n",
    "\n",
    "        plt.subplot(len(segments_test), bb_final_list.shape[0]+1, j*(bb_final_list.shape[0]+1)+bb_final_list.shape[0]+1)\n",
    "        cmap, norm = get_palette(raster_ndvi_numpy)\n",
    "        f2 = plt.imshow(raster_ndvi_numpy, cmap=cmap, norm=norm)\n",
    "        plt.colorbar(f2, label='NDVI value')\n",
    "        plt.title(f\"NDVI image : {date_choice}\",fontsize=6)   \n",
    "\n",
    "    for i in range(bb_final_list.shape[0]):\n",
    "        dico_bb = dict()\n",
    "        for x in bb_final_list[i,4]:\n",
    "            dico_bb[x[0]] = dico_bb.get(x[0], []) + [x[1]]\n",
    "        dico_bb[bb_final_list[i,0]] = [bb_final_list[i,1]]\n",
    "        dico_bb = dict(sorted(dico_bb.items(), key=operator.itemgetter(0)))\n",
    "        BB_date = segments_test.index[bb_final_list[i,0]].strftime('%Y-%m-%d')\n",
    "\n",
    "        for idx in range(len(segments_test)):\n",
    "\n",
    "            date_choice = segments_test.index[idx].strftime('%Y-%m-%d')\n",
    "            segments_fz = raster_df.loc[date_choice, 'segments_fz']\n",
    "            raster_ndvi_numpy = raster_df.loc[date_choice, 'raster_ndvi_numpy']\n",
    "            bb_ndvi = copy.deepcopy(raster_ndvi_numpy)\n",
    "            coordinate = np.ma.zeros(segments_fz.shape)\n",
    "\n",
    "            if idx in dico_bb.keys():\n",
    "                for ind in dico_bb[idx]:\n",
    "                    coordinate.mask += (segments_fz == ind)\n",
    "                bb_ndvi.mask = bb_ndvi.mask + ~(coordinate.mask)\n",
    "\n",
    "                title = f\"{date_choice} \\n Covered by BB {bb_final_list[i,0]}-{bb_final_list[i,1]} ({BB_date})\"\n",
    "                if np.all(bb_ndvi.mask):\n",
    "                    title = f\"{date_choice} \\n Totally covered by BB {bb_final_list[i,0]}-{bb_final_list[i,1]} ({BB_date})\"\n",
    "                    bb_ndvi.mask = raster_ndvi_numpy.mask\n",
    "                plt.subplot(len(segments_test),bb_final_list.shape[0]+1, idx*(bb_final_list.shape[0]+1)+i+1)\n",
    "                cmap, norm = get_palette(raster_ndvi_numpy)\n",
    "                f = plt.imshow(bb_ndvi, cmap=cmap, norm=norm)\n",
    "                plt.title(title, fontsize=6, y=1.0)\n",
    "\n",
    "    plt.suptitle(f'BB segment of the field {sfd_id_choice} - {year_choice} (scale={scale} alpha={alpha} t1={t1} t2={t2})', y=1)\n",
    "    plt.tight_layout()\n",
    "    plt.savefig(f'image_results/evolution_graph/scale_{scale}_alpha_{alpha}_t1_{t1}_t2_{t2}/{sfd_id_choice}_{year_choice}_evolution_graph_alpha_{alpha}_t1_{t1}_t2_{t2}.png', format='png')\n",
    "    plt.show()\n",
    "    plt.close('all')"
   ]
  },
  {
   "cell_type": "code",
   "execution_count": null,
   "metadata": {},
   "outputs": [],
   "source": []
  }
 ],
 "metadata": {
  "kernelspec": {
   "display_name": "Python 3 (ipykernel)",
   "language": "python",
   "name": "python3"
  },
  "language_info": {
   "codemirror_mode": {
    "name": "ipython",
    "version": 3
   },
   "file_extension": ".py",
   "mimetype": "text/x-python",
   "name": "python",
   "nbconvert_exporter": "python",
   "pygments_lexer": "ipython3",
   "version": "3.11.0"
  }
 },
 "nbformat": 4,
 "nbformat_minor": 4
}
