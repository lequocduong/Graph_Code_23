{
 "cells": [
  {
   "cell_type": "markdown",
   "id": "7dc1633f-1260-417e-88e7-caf20bd36807",
   "metadata": {},
   "source": [
    "# SAR DOWLOADING FROM Earth Enginee"
   ]
  },
  {
   "cell_type": "code",
   "execution_count": 1,
   "id": "a2c3234c-10cf-419c-817b-c4c974c05683",
   "metadata": {
    "tags": []
   },
   "outputs": [
    {
     "name": "stderr",
     "output_type": "stream",
     "text": [
      "C:\\Users\\qle\\AppData\\Local\\miniconda3\\envs\\text\\Lib\\site-packages\\numpy\\_distributor_init.py:30: UserWarning: loaded more than 1 DLL from .libs:\n",
      "C:\\Users\\qle\\AppData\\Local\\miniconda3\\envs\\text\\Lib\\site-packages\\numpy\\.libs\\libopenblas.FB5AE2TYXYH2IJRDKGDGQ3XBKLKTF43H.gfortran-win_amd64.dll\n",
      "C:\\Users\\qle\\AppData\\Local\\miniconda3\\envs\\text\\Lib\\site-packages\\numpy\\.libs\\libopenblas64__v0.3.21-gcc_10_3_0.dll\n",
      "  warnings.warn(\"loaded more than 1 DLL from .libs:\"\n"
     ]
    },
    {
     "data": {
      "text/html": [
       "<p>To authorize access needed by Earth Engine, open the following\n",
       "        URL in a web browser and follow the instructions:</p>\n",
       "        <p><a href=https://code.earthengine.google.com/client-auth?scopes=https%3A//www.googleapis.com/auth/earthengine%20https%3A//www.googleapis.com/auth/devstorage.full_control&request_id=zvBuZASYfSxs4jZdTAJasscQ1MV_VTarUlXFGYufP44&tc=IFeUpPgq49G0LJXq8IEMLwgn8-DtQ8slX2UvTGXrl3s&cc=Wd_lrvFqn6-CgO1dOSHYDt1unmA8V0wjmCGsne4CwUg>https://code.earthengine.google.com/client-auth?scopes=https%3A//www.googleapis.com/auth/earthengine%20https%3A//www.googleapis.com/auth/devstorage.full_control&request_id=zvBuZASYfSxs4jZdTAJasscQ1MV_VTarUlXFGYufP44&tc=IFeUpPgq49G0LJXq8IEMLwgn8-DtQ8slX2UvTGXrl3s&cc=Wd_lrvFqn6-CgO1dOSHYDt1unmA8V0wjmCGsne4CwUg</a></p>\n",
       "        <p>The authorization workflow will generate a code, which you should paste in the box below.</p>\n",
       "        "
      ],
      "text/plain": [
       "<IPython.core.display.HTML object>"
      ]
     },
     "metadata": {},
     "output_type": "display_data"
    },
    {
     "name": "stdin",
     "output_type": "stream",
     "text": [
      "Enter verification code:  4/1Adeu5BXfmM7MbDWisxi_ee6RfsL3nTAs5cTCus-ntAcAxhD5dM7PfM8Zv4s\n"
     ]
    },
    {
     "name": "stdout",
     "output_type": "stream",
     "text": [
      "\n",
      "Successfully saved authorization token.\n"
     ]
    }
   ],
   "source": [
    "import geemap\n",
    "import ee\n",
    "# Trigger the authentication flow.\n",
    "ee.Authenticate()\n",
    "# Initialize the library.\n",
    "ee.Initialize()"
   ]
  },
  {
   "cell_type": "code",
   "execution_count": 2,
   "id": "75260017-e8e9-4c3b-a32d-fc4cee85d1b7",
   "metadata": {
    "tags": []
   },
   "outputs": [],
   "source": [
    "#Pandas modules to interact with spatial data\n",
    "import geopandas as gpd\n",
    "import pandas as pd\n",
    "from geopandas import GeoDataFrame\n",
    "from shapely.geometry import Point,Polygon\n",
    "from geemap import geopandas_to_ee\n",
    "import shapely.wkt\n",
    "\n",
    "from shapely.geometry import mapping\n",
    "from pygeosys.util.dataframe import chunk_dataframe\n",
    "from generate_data_ee import *\n",
    "import numpy as np\n",
    "from functools import reduce"
   ]
  },
  {
   "cell_type": "code",
   "execution_count": 4,
   "id": "051daf52-f251-4a8c-b0b3-3e3169840a85",
   "metadata": {
    "tags": []
   },
   "outputs": [
    {
     "data": {
      "text/html": [
       "<div>\n",
       "<style scoped>\n",
       "    .dataframe tbody tr th:only-of-type {\n",
       "        vertical-align: middle;\n",
       "    }\n",
       "\n",
       "    .dataframe tbody tr th {\n",
       "        vertical-align: top;\n",
       "    }\n",
       "\n",
       "    .dataframe thead th {\n",
       "        text-align: right;\n",
       "    }\n",
       "</style>\n",
       "<table border=\"1\" class=\"dataframe\">\n",
       "  <thead>\n",
       "    <tr style=\"text-align: right;\">\n",
       "      <th></th>\n",
       "      <th>sfd_id</th>\n",
       "      <th>geometry</th>\n",
       "    </tr>\n",
       "  </thead>\n",
       "  <tbody>\n",
       "    <tr>\n",
       "      <th>0</th>\n",
       "      <td>104838047</td>\n",
       "      <td>MULTIPOLYGON (((-53.43387019 -24.72777911,-53....</td>\n",
       "    </tr>\n",
       "    <tr>\n",
       "      <th>1</th>\n",
       "      <td>104838025</td>\n",
       "      <td>MULTIPOLYGON (((-53.42127654 -24.74428141,-53....</td>\n",
       "    </tr>\n",
       "    <tr>\n",
       "      <th>2</th>\n",
       "      <td>104860517</td>\n",
       "      <td>MULTIPOLYGON (((-53.95225449 -23.26701195,-53....</td>\n",
       "    </tr>\n",
       "  </tbody>\n",
       "</table>\n",
       "</div>"
      ],
      "text/plain": [
       "      sfd_id                                           geometry\n",
       "0  104838047  MULTIPOLYGON (((-53.43387019 -24.72777911,-53....\n",
       "1  104838025  MULTIPOLYGON (((-53.42127654 -24.74428141,-53....\n",
       "2  104860517  MULTIPOLYGON (((-53.95225449 -23.26701195,-53...."
      ]
     },
     "execution_count": 4,
     "metadata": {},
     "output_type": "execute_result"
    }
   ],
   "source": [
    "dataPath = 'CSV_Data/'\n",
    "# file = 'SoyExRains.csv'\n",
    "file = 'SoyExRain_Non.csv'\n",
    "data = pd.read_csv(dataPath+file, sep=';')\n",
    "data = pd.DataFrame(data)\n",
    "usecols = ['sfd_id','WKT']\n",
    "rename = {\n",
    "            'WKT': 'geometry',\n",
    "            #'sfd_id': 'Sfd_id'\n",
    "}\n",
    "data = data[usecols]\n",
    "data.rename(columns=rename, inplace=True)\n",
    "# to check the index from interupting process\n",
    "#data[data['sfd_id'] == 104845361 ]\n",
    "# data = data[72:73]\n",
    "data"
   ]
  },
  {
   "cell_type": "code",
   "execution_count": 12,
   "id": "03493620-5f28-4f6c-af6f-00dcd80eb0be",
   "metadata": {
    "tags": []
   },
   "outputs": [
    {
     "data": {
      "text/plain": [
       "'2021-01-01'"
      ]
     },
     "execution_count": 12,
     "metadata": {},
     "output_type": "execute_result"
    }
   ],
   "source": [
    "### Parameters\n",
    "'''\n",
    "#year=2021\n",
    "year=2020\n",
    "date_start = str(year)+'-10-01' # fall tillage : 08-01 to 11-01 ; spring tillage : 02-01 to 05-01\n",
    "date_end = str(year)+'-12-31'\n",
    "#''\n",
    "#year=2022\n",
    "year=2021\n",
    "date_start = str(year)+'-01-01'\n",
    "date_end = str(year)+'-02-15'\n",
    "'''\n",
    "year = 2021\n",
    "date_start = str(year)+'-01-01'\n",
    "date_end = str(year)+'-12-31'\n",
    "\n",
    "date_start"
   ]
  },
  {
   "cell_type": "code",
   "execution_count": 32,
   "id": "7c503527-8652-4b15-83db-90f43cec1f79",
   "metadata": {
    "tags": []
   },
   "outputs": [
    {
     "data": {
      "text/plain": [
       "\"\\nfrom shapely.geometry import Polygon\\n# AOI polygon \\n# Tyope this below\\npolygon = ee.Geometry.Polygon(\\n    [[[1.443458, 43.605878], [1.441913, 43.602366], [1.447449, 43.598388], [1.455345, 43.602957], [1.452212, 43.607525], [1.443458, 43.605878]]],None,False\\n)\\npolyFeature = ee.Feature(polygon, {'foo': 42, 'bar': 'tart'})\\nMap.addLayer(polyFeature, {} , 'feature')\\n#Map\\n\""
      ]
     },
     "execution_count": 32,
     "metadata": {},
     "output_type": "execute_result"
    }
   ],
   "source": [
    "'''\n",
    "from shapely.geometry import Polygon\n",
    "# AOI polygon \n",
    "# Tyope this below\n",
    "polygon = ee.Geometry.Polygon(\n",
    "    [[[1.443458, 43.605878], [1.441913, 43.602366], [1.447449, 43.598388], [1.455345, 43.602957], [1.452212, 43.607525], [1.443458, 43.605878]]],None,False\n",
    ")\n",
    "polyFeature = ee.Feature(polygon, {'foo': 42, 'bar': 'tart'})\n",
    "Map.addLayer(polyFeature, {} , 'feature')\n",
    "#Map\n",
    "'''"
   ]
  },
  {
   "cell_type": "markdown",
   "id": "dceccb36-8f07-4b2a-b654-da9566b1fadf",
   "metadata": {
    "jp-MarkdownHeadingCollapsed": true,
    "tags": []
   },
   "source": [
    "# SAR Single Dowloading"
   ]
  },
  {
   "cell_type": "code",
   "execution_count": 8,
   "id": "7675c555-a43a-43df-af0a-33d112d0eaaa",
   "metadata": {
    "tags": []
   },
   "outputs": [],
   "source": [
    "for idx,row in data.iterrows():        \n",
    "    # Convert to shapely file\n",
    "    coordinate_raw = shapely.wkt.loads(row['geometry'])\n",
    "    # Get the coordinates\n",
    "    coordinate = mapping(coordinate_raw).get('coordinates')[0]\n",
    "    polygon = ee.Geometry.Polygon(coordinate,None,False)"
   ]
  },
  {
   "cell_type": "code",
   "execution_count": 9,
   "id": "abec3df5-bd53-4be2-9ca1-729763e7ea52",
   "metadata": {
    "tags": []
   },
   "outputs": [
    {
     "data": {
      "text/html": [
       "<div><style>:root {\n",
       "  --font-color-primary: var(--jp-content-font-color0, rgba(0, 0, 0, 1));\n",
       "  --font-color-secondary: var(--jp-content-font-color2, rgba(0, 0, 0, 0.6));\n",
       "  --font-color-accent: rgba(123, 31, 162, 1);\n",
       "  --border-color: var(--jp-border-color2, #e0e0e0);\n",
       "  --background-color: var(--jp-layout-color0, white);\n",
       "  --background-color-row-even: var(--jp-layout-color1, white);\n",
       "  --background-color-row-odd: var(--jp-layout-color2, #eeeeee);\n",
       "}\n",
       "\n",
       "html[theme=\"dark\"],\n",
       "body[data-theme=\"dark\"],\n",
       "body.vscode-dark {\n",
       "  --font-color-primary: rgba(255, 255, 255, 1);\n",
       "  --font-color-secondary: rgba(255, 255, 255, 0.6);\n",
       "  --font-color-accent: rgb(173, 132, 190);\n",
       "  --border-color: #2e2e2e;\n",
       "  --background-color: #111111;\n",
       "  --background-color-row-even: #111111;\n",
       "  --background-color-row-odd: #313131;\n",
       "}\n",
       "\n",
       ".ee {\n",
       "  padding: 1em;\n",
       "  line-height: 1.5em;\n",
       "  min-width: 300px;\n",
       "  max-width: 1200px;\n",
       "  overflow-y: scroll;\n",
       "  max-height: 600px;\n",
       "  border: 1px solid var(--border-color);\n",
       "  font-family: monospace;\n",
       "}\n",
       "\n",
       ".ee li {\n",
       "  list-style-type: none;\n",
       "}\n",
       "\n",
       ".ee ul {\n",
       "  padding-left: 1.5em !important;\n",
       "  margin: 0;\n",
       "}\n",
       "\n",
       ".ee > ul {\n",
       "  padding-left: 0 !important;\n",
       "}\n",
       "\n",
       ".ee-open,\n",
       ".ee-shut {\n",
       "  color: var(--font-color-secondary);\n",
       "  cursor: pointer;\n",
       "  margin: 0;\n",
       "}\n",
       "\n",
       ".ee-open:hover,\n",
       ".ee-shut:hover {\n",
       "  color: var(--font-color-primary);\n",
       "}\n",
       "\n",
       ".ee-k {\n",
       "  color: var(--font-color-accent);\n",
       "  margin-right: 6px;\n",
       "}\n",
       "\n",
       ".ee-v {\n",
       "  color: var(--font-color-primary);\n",
       "}\n",
       "\n",
       ".ee-toggle {\n",
       "  display: none;\n",
       "}\n",
       "\n",
       ".ee-shut + ul {\n",
       "  display: none;\n",
       "}\n",
       "\n",
       ".ee-open + ul {\n",
       "  display: block;\n",
       "}\n",
       "\n",
       ".ee-shut::before {\n",
       "  display: inline-block;\n",
       "  content: \"▼\";\n",
       "  margin-right: 6px;\n",
       "  transform: rotate(-90deg);\n",
       "  transition: transform 0.2s;\n",
       "}\n",
       "\n",
       ".ee-open::before {\n",
       "  transform: rotate(0deg);\n",
       "  display: inline-block;\n",
       "  content: \"▼\";\n",
       "  margin-right: 6px;\n",
       "  transition: transform 0.2s;\n",
       "}\n",
       "</style><div class='ee'><ul><li><label class='ee-shut'>ImageCollection COPERNICUS/S1_GRD  (0 elements)<input type='checkbox' class='ee-toggle'></label><ul><li><span class='ee-k'>type:</span><span class='ee-v'>ImageCollection</span></li><li><span class='ee-k'>id:</span><span class='ee-v'>COPERNICUS/S1_GRD</span></li><li><span class='ee-k'>version:</span><span class='ee-v'>1690201504680471</span></li><li><label class='ee-shut'>bands: []<input type='checkbox' class='ee-toggle'></label><ul></ul></li><li><label class='ee-shut'>features: []<input type='checkbox' class='ee-toggle'></label><ul></ul></li></ul></li></ul></div><script>function toggleHeader() {\n",
       "    const parent = this.parentElement;\n",
       "    parent.className = parent.className === \"ee-open\" ? \"ee-shut\" : \"ee-open\";\n",
       "}\n",
       "\n",
       "for (let c of document.getElementsByClassName(\"ee-toggle\")) {\n",
       "    c.onclick = toggleHeader;\n",
       "}</script></div>"
      ],
      "text/plain": [
       "<ee.imagecollection.ImageCollection at 0x202bd315fd0>"
      ]
     },
     "execution_count": 9,
     "metadata": {},
     "output_type": "execute_result"
    }
   ],
   "source": [
    "#CHECKING The number of images before dowloading\n",
    "im_coll = (ee.ImageCollection('COPERNICUS/S1_GRD').#Datasta set for SAR image\n",
    "              filterBounds(polygon).\n",
    "              filterDate(ee.Date(date_start),ee.Date(date_end)).\n",
    "              filter(ee.Filter.eq('orbitProperties_pass', 'ASCENDING')))\n",
    "im_coll"
   ]
  },
  {
   "cell_type": "code",
   "execution_count": 18,
   "id": "b0f12b56-d843-4288-91ca-f1b1be39b441",
   "metadata": {
    "tags": []
   },
   "outputs": [
    {
     "name": "stdout",
     "output_type": "stream",
     "text": [
      "None\n"
     ]
    }
   ],
   "source": [
    "im_coll.aggregate_array('relativeOrbitNumber_start').getInfo()\n",
    "print('None')"
   ]
  },
  {
   "cell_type": "code",
   "execution_count": 19,
   "id": "1b2c2df0-e217-4b62-b2c8-eb704457a61b",
   "metadata": {
    "tags": []
   },
   "outputs": [
    {
     "data": {
      "text/plain": [
       "56"
      ]
     },
     "execution_count": 19,
     "metadata": {},
     "output_type": "execute_result"
    }
   ],
   "source": [
    "## get available dates \n",
    "import time\n",
    "acq_times = im_coll.aggregate_array('system:time_start').getInfo()\n",
    "len([time.strftime('%x', time.gmtime(acq_time/1000)) for acq_time in acq_times])"
   ]
  },
  {
   "cell_type": "code",
   "execution_count": 21,
   "id": "2c578804-37e0-4a8b-9112-0f3498aa3acf",
   "metadata": {
    "tags": []
   },
   "outputs": [
    {
     "data": {
      "text/plain": [
       "ee.image.Image"
      ]
     },
     "execution_count": 21,
     "metadata": {},
     "output_type": "execute_result"
    }
   ],
   "source": [
    "img = ee.Image(im_coll.select('VV','VH').first())#get first image of collection \n",
    "#img = ee.Image(im_coll.get(0))#get first image of collection \n",
    "#img = ee.Image(im_coll.select('VV','VH').filterDate(ee.Date(date_start),ee.Date(date_end)))\n",
    "#img = ee.Image(im_coll.get(1))#get first image of collection \n",
    "img\n",
    "type(img)"
   ]
  },
  {
   "cell_type": "code",
   "execution_count": 22,
   "id": "3e852697-6869-40d2-a392-3b612a90e6bb",
   "metadata": {
    "tags": []
   },
   "outputs": [],
   "source": [
    "task=ee.batch.Export.image.toCloudStorage(**{\n",
    "          'image': img.clip(polygon),\n",
    "          'description': 'Toulouse SAR',\n",
    "          'bucket': 'datascience-sandbox-dev', #bucket name never changes\n",
    "          'fileNamePrefix':'LE/ChangeDetection/SAR/Toulouse' ,#path to file\n",
    "          'scale': 10,#resolution\n",
    "          'region':polygon,\n",
    "          'maxPixels': 15000000000,\n",
    "          'skipEmptyTiles': True\n",
    "          })\n",
    "task.start()"
   ]
  },
  {
   "cell_type": "code",
   "execution_count": 20,
   "id": "3af5c050-3e36-47c5-a8c6-44ff7f84df56",
   "metadata": {
    "tags": []
   },
   "outputs": [
    {
     "data": {
      "text/html": [
       "<div><style>:root {\n",
       "  --font-color-primary: var(--jp-content-font-color0, rgba(0, 0, 0, 1));\n",
       "  --font-color-secondary: var(--jp-content-font-color2, rgba(0, 0, 0, 0.6));\n",
       "  --font-color-accent: rgba(123, 31, 162, 1);\n",
       "  --border-color: var(--jp-border-color2, #e0e0e0);\n",
       "  --background-color: var(--jp-layout-color0, white);\n",
       "  --background-color-row-even: var(--jp-layout-color1, white);\n",
       "  --background-color-row-odd: var(--jp-layout-color2, #eeeeee);\n",
       "}\n",
       "\n",
       "html[theme=\"dark\"],\n",
       "body[data-theme=\"dark\"],\n",
       "body.vscode-dark {\n",
       "  --font-color-primary: rgba(255, 255, 255, 1);\n",
       "  --font-color-secondary: rgba(255, 255, 255, 0.6);\n",
       "  --font-color-accent: rgb(173, 132, 190);\n",
       "  --border-color: #2e2e2e;\n",
       "  --background-color: #111111;\n",
       "  --background-color-row-even: #111111;\n",
       "  --background-color-row-odd: #313131;\n",
       "}\n",
       "\n",
       ".ee {\n",
       "  padding: 1em;\n",
       "  line-height: 1.5em;\n",
       "  min-width: 300px;\n",
       "  max-width: 1200px;\n",
       "  overflow-y: scroll;\n",
       "  max-height: 600px;\n",
       "  border: 1px solid var(--border-color);\n",
       "  font-family: monospace;\n",
       "}\n",
       "\n",
       ".ee li {\n",
       "  list-style-type: none;\n",
       "}\n",
       "\n",
       ".ee ul {\n",
       "  padding-left: 1.5em !important;\n",
       "  margin: 0;\n",
       "}\n",
       "\n",
       ".ee > ul {\n",
       "  padding-left: 0 !important;\n",
       "}\n",
       "\n",
       ".ee-open,\n",
       ".ee-shut {\n",
       "  color: var(--font-color-secondary);\n",
       "  cursor: pointer;\n",
       "  margin: 0;\n",
       "}\n",
       "\n",
       ".ee-open:hover,\n",
       ".ee-shut:hover {\n",
       "  color: var(--font-color-primary);\n",
       "}\n",
       "\n",
       ".ee-k {\n",
       "  color: var(--font-color-accent);\n",
       "  margin-right: 6px;\n",
       "}\n",
       "\n",
       ".ee-v {\n",
       "  color: var(--font-color-primary);\n",
       "}\n",
       "\n",
       ".ee-toggle {\n",
       "  display: none;\n",
       "}\n",
       "\n",
       ".ee-shut + ul {\n",
       "  display: none;\n",
       "}\n",
       "\n",
       ".ee-open + ul {\n",
       "  display: block;\n",
       "}\n",
       "\n",
       ".ee-shut::before {\n",
       "  display: inline-block;\n",
       "  content: \"▼\";\n",
       "  margin-right: 6px;\n",
       "  transform: rotate(-90deg);\n",
       "  transition: transform 0.2s;\n",
       "}\n",
       "\n",
       ".ee-open::before {\n",
       "  transform: rotate(0deg);\n",
       "  display: inline-block;\n",
       "  content: \"▼\";\n",
       "  margin-right: 6px;\n",
       "  transition: transform 0.2s;\n",
       "}\n",
       "</style><div class='ee'><ul><li><label class='ee-shut'>Image COPERNICUS/S1_GRD/S1A_IW_GRDH_1SDV_20210109T060101_20210109T060126_036057_0439C9_1B99 (3 bands)<input type='checkbox' class='ee-toggle'></label><ul><li><span class='ee-k'>type:</span><span class='ee-v'>Image</span></li><li><span class='ee-k'>id:</span><span class='ee-v'>COPERNICUS/S1_GRD/S1A_IW_GRDH_1SDV_20210109T060101_20210109T060126_036057_0439C9_1B99</span></li><li><span class='ee-k'>version:</span><span class='ee-v'>1685542961214516</span></li><li><label class='ee-shut'>bands: List (3 elements)<input type='checkbox' class='ee-toggle'></label><ul><li><label class='ee-shut'>0: \"VV\", double, EPSG:32631, 29551x21710 px<input type='checkbox' class='ee-toggle'></label><ul><li><span class='ee-k'>id:</span><span class='ee-v'>VV</span></li><li><span class='ee-k'>crs:</span><span class='ee-v'>EPSG:32631</span></li><li><label class='ee-shut'>crs_transform: List (6 elements)<input type='checkbox' class='ee-toggle'></label><ul><li><span class='ee-k'>0:</span><span class='ee-v'>10</span></li><li><span class='ee-k'>1:</span><span class='ee-v'>0</span></li><li><span class='ee-k'>2:</span><span class='ee-v'>226019.05497666373</span></li><li><span class='ee-k'>3:</span><span class='ee-v'>0</span></li><li><span class='ee-k'>4:</span><span class='ee-v'>-10</span></li><li><span class='ee-k'>5:</span><span class='ee-v'>4869181.666095114</span></li></ul></li><li><label class='ee-shut'>data_type: double<input type='checkbox' class='ee-toggle'></label><ul><li><span class='ee-k'>type:</span><span class='ee-v'>PixelType</span></li><li><span class='ee-k'>precision:</span><span class='ee-v'>double</span></li></ul></li><li><label class='ee-shut'>dimensions: [29551, 21710]<input type='checkbox' class='ee-toggle'></label><ul><li><span class='ee-k'>0:</span><span class='ee-v'>29551</span></li><li><span class='ee-k'>1:</span><span class='ee-v'>21710</span></li></ul></li></ul></li><li><label class='ee-shut'>1: \"VH\", double, EPSG:32631, 29551x21710 px<input type='checkbox' class='ee-toggle'></label><ul><li><span class='ee-k'>id:</span><span class='ee-v'>VH</span></li><li><span class='ee-k'>crs:</span><span class='ee-v'>EPSG:32631</span></li><li><label class='ee-shut'>crs_transform: List (6 elements)<input type='checkbox' class='ee-toggle'></label><ul><li><span class='ee-k'>0:</span><span class='ee-v'>10</span></li><li><span class='ee-k'>1:</span><span class='ee-v'>0</span></li><li><span class='ee-k'>2:</span><span class='ee-v'>226019.05497666373</span></li><li><span class='ee-k'>3:</span><span class='ee-v'>0</span></li><li><span class='ee-k'>4:</span><span class='ee-v'>-10</span></li><li><span class='ee-k'>5:</span><span class='ee-v'>4869181.666095114</span></li></ul></li><li><label class='ee-shut'>data_type: double<input type='checkbox' class='ee-toggle'></label><ul><li><span class='ee-k'>type:</span><span class='ee-v'>PixelType</span></li><li><span class='ee-k'>precision:</span><span class='ee-v'>double</span></li></ul></li><li><label class='ee-shut'>dimensions: [29551, 21710]<input type='checkbox' class='ee-toggle'></label><ul><li><span class='ee-k'>0:</span><span class='ee-v'>29551</span></li><li><span class='ee-k'>1:</span><span class='ee-v'>21710</span></li></ul></li></ul></li><li><label class='ee-shut'>2: \"angle\", float, EPSG:32631, 21x10 px<input type='checkbox' class='ee-toggle'></label><ul><li><span class='ee-k'>id:</span><span class='ee-v'>angle</span></li><li><span class='ee-k'>crs:</span><span class='ee-v'>EPSG:32631</span></li><li><label class='ee-shut'>crs_transform: List (6 elements)<input type='checkbox' class='ee-toggle'></label><ul><li><span class='ee-k'>0:</span><span class='ee-v'>-13151.38612778869</span></li><li><span class='ee-k'>1:</span><span class='ee-v'>-3666.734581148601</span></li><li><span class='ee-k'>2:</span><span class='ee-v'>521029.1878496815</span></li><li><span class='ee-k'>3:</span><span class='ee-v'>2505.5389518449083</span></li><li><span class='ee-k'>4:</span><span class='ee-v'>-20043.679544041865</span></li><li><span class='ee-k'>5:</span><span class='ee-v'>4818663.174318498</span></li></ul></li><li><label class='ee-shut'>data_type: float<input type='checkbox' class='ee-toggle'></label><ul><li><span class='ee-k'>type:</span><span class='ee-v'>PixelType</span></li><li><span class='ee-k'>precision:</span><span class='ee-v'>float</span></li></ul></li><li><label class='ee-shut'>dimensions: [21, 10]<input type='checkbox' class='ee-toggle'></label><ul><li><span class='ee-k'>0:</span><span class='ee-v'>21</span></li><li><span class='ee-k'>1:</span><span class='ee-v'>10</span></li></ul></li></ul></li></ul></li><li><label class='ee-shut'>properties: Object (54 properties)<input type='checkbox' class='ee-toggle'></label><ul><li><span class='ee-k'>GRD_Post_Processing_facility_country:</span><span class='ee-v'>Germany</span></li><li><span class='ee-k'>GRD_Post_Processing_facility_name:</span><span class='ee-v'>Copernicus S1 Core Ground Segment - DPA</span></li><li><span class='ee-k'>GRD_Post_Processing_facility_org:</span><span class='ee-v'>ESA</span></li><li><span class='ee-k'>GRD_Post_Processing_facility_site:</span><span class='ee-v'>DLR-Oberpfaffenhofen</span></li><li><span class='ee-k'>GRD_Post_Processing_software_name:</span><span class='ee-v'>Sentinel-1 IPF</span></li><li><span class='ee-k'>GRD_Post_Processing_software_version:</span><span class='ee-v'>003.31</span></li><li><span class='ee-k'>GRD_Post_Processing_start:</span><span class='ee-v'>1610181679551</span></li><li><span class='ee-k'>GRD_Post_Processing_stop:</span><span class='ee-v'>1610182413000</span></li><li><span class='ee-k'>S1TBX_Calibration_vers:</span><span class='ee-v'>8.0.1</span></li><li><span class='ee-k'>S1TBX_SAR_Processing_vers:</span><span class='ee-v'>8.0.1</span></li><li><span class='ee-k'>SLC_Processing_facility_country:</span><span class='ee-v'>Germany</span></li><li><span class='ee-k'>SLC_Processing_facility_name:</span><span class='ee-v'>Copernicus S1 Core Ground Segment - DPA</span></li><li><span class='ee-k'>SLC_Processing_facility_org:</span><span class='ee-v'>ESA</span></li><li><span class='ee-k'>SLC_Processing_facility_site:</span><span class='ee-v'>DLR-Oberpfaffenhofen</span></li><li><span class='ee-k'>SLC_Processing_software_name:</span><span class='ee-v'>Sentinel-1 IPF</span></li><li><span class='ee-k'>SLC_Processing_software_version:</span><span class='ee-v'>003.31</span></li><li><span class='ee-k'>SLC_Processing_start:</span><span class='ee-v'>1610181826000</span></li><li><span class='ee-k'>SLC_Processing_stop:</span><span class='ee-v'>1610182167000</span></li><li><span class='ee-k'>SNAP_Graph_Processing_Framework_GPF_vers:</span><span class='ee-v'>8.0.1</span></li><li><span class='ee-k'>cycleNumber:</span><span class='ee-v'>220</span></li><li><span class='ee-k'>familyName:</span><span class='ee-v'>SENTINEL-1</span></li><li><span class='ee-k'>instrument:</span><span class='ee-v'>Synthetic Aperture Radar</span></li><li><span class='ee-k'>instrumentConfigurationID:</span><span class='ee-v'>6</span></li><li><span class='ee-k'>instrumentMode:</span><span class='ee-v'>IW</span></li><li><span class='ee-k'>instrumentSwath:</span><span class='ee-v'>IW</span></li><li><span class='ee-k'>missionDataTakeID:</span><span class='ee-v'>276937</span></li><li><span class='ee-k'>nssdcIdentifier:</span><span class='ee-v'>2014-016A</span></li><li><span class='ee-k'>orbitNumber_start:</span><span class='ee-v'>36057</span></li><li><span class='ee-k'>orbitNumber_stop:</span><span class='ee-v'>36057</span></li><li><span class='ee-k'>orbitProperties_ascendingNodeTime:</span><span class='ee-v'>1610169813489</span></li><li><span class='ee-k'>orbitProperties_pass:</span><span class='ee-v'>DESCENDING</span></li><li><span class='ee-k'>phaseIdentifier:</span><span class='ee-v'>1</span></li><li><span class='ee-k'>platform_number:</span><span class='ee-v'>A</span></li><li><span class='ee-k'>productClass:</span><span class='ee-v'>S</span></li><li><span class='ee-k'>productClassDescription:</span><span class='ee-v'>SAR Standard L1 Product</span></li><li><span class='ee-k'>productComposition:</span><span class='ee-v'>Slice</span></li><li><span class='ee-k'>productTimelinessCategory:</span><span class='ee-v'>Fast-24h</span></li><li><span class='ee-k'>productType:</span><span class='ee-v'>GRD</span></li><li><span class='ee-k'>relativeOrbitNumber_start:</span><span class='ee-v'>110</span></li><li><span class='ee-k'>relativeOrbitNumber_stop:</span><span class='ee-v'>110</span></li><li><span class='ee-k'>resolution:</span><span class='ee-v'>H</span></li><li><span class='ee-k'>resolution_meters:</span><span class='ee-v'>10</span></li><li><span class='ee-k'>segmentStartTime:</span><span class='ee-v'>1610171557850</span></li><li><span class='ee-k'>sliceNumber:</span><span class='ee-v'>21</span></li><li><span class='ee-k'>sliceProductFlag:</span><span class='ee-v'>true</span></li><li><span class='ee-k'>startTimeANX:</span><span class='ee-v'>2248062</span></li><li><span class='ee-k'>stopTimeANX:</span><span class='ee-v'>2273060</span></li><li><span class='ee-k'>system:asset_size:</span><span class='ee-v'>4086276066</span></li><li><label class='ee-shut'>system:footprint: LinearRing (18 vertices)<input type='checkbox' class='ee-toggle'></label><ul><li><span class='ee-k'>type:</span><span class='ee-v'>LinearRing</span></li><li><label class='ee-shut'>coordinates: List (18 elements)<input type='checkbox' class='ee-toggle'></label><ul><li><label class='ee-shut'>0: [2.9936445256295054, 42.63154404827477]<input type='checkbox' class='ee-toggle'></label><ul><li><span class='ee-k'>0:</span><span class='ee-v'>2.9936445256295054</span></li><li><span class='ee-k'>1:</span><span class='ee-v'>42.63154404827477</span></li></ul></li><li><label class='ee-shut'>1: [3.007044077394067, 42.68163254317269]<input type='checkbox' class='ee-toggle'></label><ul><li><span class='ee-k'>0:</span><span class='ee-v'>3.007044077394067</span></li><li><span class='ee-k'>1:</span><span class='ee-v'>42.68163254317269</span></li></ul></li><li><label class='ee-shut'>2: [3.0441920045461353, 42.82103132903234]<input type='checkbox' class='ee-toggle'></label><ul><li><span class='ee-k'>0:</span><span class='ee-v'>3.0441920045461353</span></li><li><span class='ee-k'>1:</span><span class='ee-v'>42.82103132903234</span></li></ul></li><li><label class='ee-shut'>3: [3.1269702249329128, 43.13078965062239]<input type='checkbox' class='ee-toggle'></label><ul><li><span class='ee-k'>0:</span><span class='ee-v'>3.1269702249329128</span></li><li><span class='ee-k'>1:</span><span class='ee-v'>43.13078965062239</span></li></ul></li><li><label class='ee-shut'>4: [3.212406617415131, 43.47502849296609]<input type='checkbox' class='ee-toggle'></label><ul><li><span class='ee-k'>0:</span><span class='ee-v'>3.212406617415131</span></li><li><span class='ee-k'>1:</span><span class='ee-v'>43.47502849296609</span></li></ul></li><li><label class='ee-shut'>5: [3.2237050223630956, 43.52606312139765]<input type='checkbox' class='ee-toggle'></label><ul><li><span class='ee-k'>0:</span><span class='ee-v'>3.2237050223630956</span></li><li><span class='ee-k'>1:</span><span class='ee-v'>43.52606312139765</span></li></ul></li><li><label class='ee-shut'>6: [1.7122615364564542, 43.728068891781575]<input type='checkbox' class='ee-toggle'></label><ul><li><span class='ee-k'>0:</span><span class='ee-v'>1.7122615364564542</span></li><li><span class='ee-k'>1:</span><span class='ee-v'>43.728068891781575</span></li></ul></li><li><label class='ee-shut'>7: [0.14838115960254777, 43.91468865439968]<input type='checkbox' class='ee-toggle'></label><ul><li><span class='ee-k'>0:</span><span class='ee-v'>0.14838115960254777</span></li><li><span class='ee-k'>1:</span><span class='ee-v'>43.91468865439968</span></li></ul></li><li><label class='ee-shut'>8: [0.07759552820302389, 43.62657159050581]<input type='checkbox' class='ee-toggle'></label><ul><li><span class='ee-k'>0:</span><span class='ee-v'>0.07759552820302389</span></li><li><span class='ee-k'>1:</span><span class='ee-v'>43.62657159050581</span></li></ul></li><li><label class='ee-shut'>9: [0.007450862069360874, 43.33857387049605]<input type='checkbox' class='ee-toggle'></label><ul><li><span class='ee-k'>0:</span><span class='ee-v'>0.007450862069360874</span></li><li><span class='ee-k'>1:</span><span class='ee-v'>43.33857387049605</span></li></ul></li><li><label class='ee-shut'>10: [-0.062105533171573815, 43.050540241197744]<input type='checkbox' class='ee-toggle'></label><ul><li><span class='ee-k'>0:</span><span class='ee-v'>-0.062105533171573815</span></li><li><span class='ee-k'>1:</span><span class='ee-v'>43.050540241197744</span></li></ul></li><li><label class='ee-shut'>11: [-0.1310878404593475, 42.7624696718597]<input type='checkbox' class='ee-toggle'></label><ul><li><span class='ee-k'>0:</span><span class='ee-v'>-0.1310878404593475</span></li><li><span class='ee-k'>1:</span><span class='ee-v'>42.7624696718597</span></li></ul></li><li><label class='ee-shut'>12: [-0.17577915368781427, 42.48137450502854]<input type='checkbox' class='ee-toggle'></label><ul><li><span class='ee-k'>0:</span><span class='ee-v'>-0.17577915368781427</span></li><li><span class='ee-k'>1:</span><span class='ee-v'>42.48137450502854</span></li></ul></li><li><label class='ee-shut'>13: [-0.182083298411128, 42.440131728507694]<input type='checkbox' class='ee-toggle'></label><ul><li><span class='ee-k'>0:</span><span class='ee-v'>-0.182083298411128</span></li><li><span class='ee-k'>1:</span><span class='ee-v'>42.440131728507694</span></li></ul></li><li><label class='ee-shut'>14: [-0.181199462577963, 42.415426616572915]<input type='checkbox' class='ee-toggle'></label><ul><li><span class='ee-k'>0:</span><span class='ee-v'>-0.181199462577963</span></li><li><span class='ee-k'>1:</span><span class='ee-v'>42.415426616572915</span></li></ul></li><li><label class='ee-shut'>15: [1.5224802927378442, 42.20479900105133]<input type='checkbox' class='ee-toggle'></label><ul><li><span class='ee-k'>0:</span><span class='ee-v'>1.5224802927378442</span></li><li><span class='ee-k'>1:</span><span class='ee-v'>42.20479900105133</span></li></ul></li><li><label class='ee-shut'>16: [2.832189899107829, 42.02468699388548]<input type='checkbox' class='ee-toggle'></label><ul><li><span class='ee-k'>0:</span><span class='ee-v'>2.832189899107829</span></li><li><span class='ee-k'>1:</span><span class='ee-v'>42.02468699388548</span></li></ul></li><li><label class='ee-shut'>17: [2.9936445256295054, 42.63154404827477]<input type='checkbox' class='ee-toggle'></label><ul><li><span class='ee-k'>0:</span><span class='ee-v'>2.9936445256295054</span></li><li><span class='ee-k'>1:</span><span class='ee-v'>42.63154404827477</span></li></ul></li></ul></li></ul></li><li><span class='ee-k'>system:index:</span><span class='ee-v'>S1A_IW_GRDH_1SDV_20210109T060101_20210109T060126_036057_0439C9_1B99</span></li><li><span class='ee-k'>system:time_end:</span><span class='ee-v'>1610172061000</span></li><li><span class='ee-k'>system:time_start:</span><span class='ee-v'>1610172061000</span></li><li><span class='ee-k'>totalSlices:</span><span class='ee-v'>28</span></li><li><label class='ee-shut'>transmitterReceiverPolarisation: ['VV', 'VH']<input type='checkbox' class='ee-toggle'></label><ul><li><span class='ee-k'>0:</span><span class='ee-v'>VV</span></li><li><span class='ee-k'>1:</span><span class='ee-v'>VH</span></li></ul></li></ul></li></ul></li></ul></div><script>function toggleHeader() {\n",
       "    const parent = this.parentElement;\n",
       "    parent.className = parent.className === \"ee-open\" ? \"ee-shut\" : \"ee-open\";\n",
       "}\n",
       "\n",
       "for (let c of document.getElementsByClassName(\"ee-toggle\")) {\n",
       "    c.onclick = toggleHeader;\n",
       "}</script></div>"
      ],
      "text/plain": [
       "<ee.computedobject.ComputedObject at 0x22bc3476050>"
      ]
     },
     "execution_count": 20,
     "metadata": {},
     "output_type": "execute_result"
    }
   ],
   "source": [
    "# Get the list of image\n",
    "im_list = im_coll.toList(im_coll.size())# 56 item\n",
    "# Take the 1st image\n",
    "img=im_list.get(0)\n",
    "img"
   ]
  },
  {
   "cell_type": "code",
   "execution_count": 12,
   "id": "732f1921-60b3-4df2-9a12-2f0dfd3be0a9",
   "metadata": {
    "tags": []
   },
   "outputs": [],
   "source": [
    "# For multiple downloading SAR image\n",
    "imList=im_coll.select('VV','VH').toList(im_coll.size())\n",
    "for im in range(imList.length().getInfo()):\n",
    "    img = ee.Image(imList.get(im))\n",
    "    date = ee.Date(img.get('system:time_start'))\n",
    "    date2 = date.format('YYYYMMdd').getInfo()\n",
    "    task=ee.batch.Export.image.toCloudStorage(**{ 'image': img.clip(polygon), \n",
    "                                                 'description':'SAR_'+str(row['sfd_id'])+'_'+str(date2), \n",
    "                                                 'bucket': 'datascience-sandbox-dev', #bucket name never changes \n",
    "                                                 'fileNamePrefix':'LE/ChangeDetection/SAR/'+str(row['sfd_id'])+'/'+ str(row['sfd_id'])+'_Bands_'+str(date2)+'_S1_GRD' , #path to file\n",
    "                                                 'scale': 10,#resolution \n",
    "                                                 'region':polygon, \n",
    "                                                 'maxPixels': 15000000000, \n",
    "                                                 'skipEmptyTiles': True }) \n",
    "    task.start()"
   ]
  },
  {
   "cell_type": "markdown",
   "id": "caa71b31-c239-4218-a4ae-bbe9effa2f3b",
   "metadata": {},
   "source": [
    "# SAR Multidowloading"
   ]
  },
  {
   "cell_type": "code",
   "execution_count": 13,
   "id": "a89b54c9-b861-40dc-ae98-2604928a7c5e",
   "metadata": {
    "tags": []
   },
   "outputs": [],
   "source": [
    "def get_SAR_col(aoi, date_start, date_end):\n",
    "    '''\n",
    "    Get SAR data from dataset 'COPERNICUS/S1_GRD'\n",
    "    See more here: https://developers.google.com/earth-engine/guides/sentinel1\n",
    "    # Separate ascending and descending orbit images into distinct collections.\n",
    "    filter(ee.Filter.eq('orbitProperties_pass', 'DESCENDING')). #'ASCENDING' (no valable data)\n",
    "    # Filter to get images with VV and VH dual polarization.\n",
    "    filter(ee.Filter.listContains('transmitterReceiverPolarisation', 'VV')).\n",
    "    filter(ee.Filter.listContains('transmitterReceiverPolarisation', 'VH')).\n",
    "    # Filter to get images collected in interferometric wide swath mode.\n",
    "    filter(ee.Filter.eq('instrumentMode', 'IW')). # SM- IW-EW-WV\n",
    "    '''\n",
    "    im_coll = (ee.ImageCollection('COPERNICUS/S1_GRD').#Datasta set for SAR image\n",
    "                      filterBounds(aoi).\n",
    "                      filterDate(ee.Date(date_start),ee.Date(date_end)).                      \n",
    "                      filter(ee.Filter.listContains('transmitterReceiverPolarisation', 'VV')).\n",
    "                      filter(ee.Filter.listContains('transmitterReceiverPolarisation', 'VH')).                      \n",
    "                      filter(ee.Filter.eq('instrumentMode', 'IW')).\n",
    "                      filter(ee.Filter.eq('orbitProperties_pass','DESCENDING'))\n",
    "              )\n",
    "                      \n",
    "    return im_coll\n",
    "\n",
    "def RVI(image):\n",
    "    '''\n",
    "    Convert decibel to linear numbers\n",
    "    '''\n",
    "    return image.addBands(image.expression('4*(10**(VH/10))/((10**(VH/10))+(10**(VV/10)))', {\n",
    "                'VH': image.select('VH'),\n",
    "                'VV': image.select('VV'), }).rename('RVI'))\n",
    "\n",
    "def RVI_Chanel_List(im_coll):\n",
    "    im_coll = im_coll.map(RVI)    \n",
    "    imList = im_coll.select('RVI').toList(im_coll.size())\n",
    "    return imList\n",
    "\n",
    "def VV_VH_Chanel_Lists(im_coll):    \n",
    "    # For multiple downloading SAR image\n",
    "    imList = im_coll.select('VV','VH').toList(im_coll.size())\n",
    "    return imList\n",
    "\n",
    "\n",
    "def SAR_ImagesDowloading(dataframe, date_start,date_end):\n",
    "    for idx,row in dataframe.iterrows():        \n",
    "        # Convert to shapely file\n",
    "        coordinate_raw = shapely.wkt.loads(row['geometry'])\n",
    "        # Get the coordinates\n",
    "        coordinate = mapping(coordinate_raw).get('coordinates')[0]\n",
    "        polygon = ee.Geometry.Polygon(coordinate,None,False)\n",
    "        im_coll = get_SAR_col(polygon,date_start,date_end)\n",
    "        # imList = RVI_Chanel_List(im_coll)\n",
    "        imList = VV_VH_Chanel_Lists(im_coll)               \n",
    "        for im in range(imList.length().getInfo()):\n",
    "            img = ee.Image(imList.get(im))\n",
    "            date = ee.Date(img.get('system:time_start'))\n",
    "            date2 = date.format('YYYYMMdd').getInfo()\n",
    "            task=ee.batch.Export.image.toCloudStorage(**{ 'image': img.clip(polygon), \n",
    "                                                         'description':'SAR_'+str(row['sfd_id'])+'_'+str(date2), \n",
    "                                                         'bucket': 'datascience-sandbox-dev', #bucket name never changes \n",
    "                                                         'fileNamePrefix':'LE/ChangeDetection/SAR/'+str(row['sfd_id'])+'/'+str(year)+'/'+str(row['sfd_id'])+'_Bands_'+str(date2)+'_S1_GRD' , #path to file\n",
    "                                                         'scale': 10,#resolution 10, 25 or 40\n",
    "                                                         'region':polygon, \n",
    "                                                         'maxPixels': 15000000000, \n",
    "                                                         'skipEmptyTiles': True }) \n",
    "            task.start()"
   ]
  },
  {
   "cell_type": "code",
   "execution_count": 14,
   "id": "57f0a49e-99ae-4b22-96b2-c1104ebeb41d",
   "metadata": {
    "tags": []
   },
   "outputs": [],
   "source": [
    "SAR_ImagesDowloading(data,date_start,date_end)"
   ]
  },
  {
   "cell_type": "code",
   "execution_count": null,
   "id": "e69fb546-7695-4f92-a04e-9d2259e8d6f1",
   "metadata": {},
   "outputs": [],
   "source": []
  }
 ],
 "metadata": {
  "kernelspec": {
   "display_name": "Python 3 (ipykernel)",
   "language": "python",
   "name": "python3"
  },
  "language_info": {
   "codemirror_mode": {
    "name": "ipython",
    "version": 3
   },
   "file_extension": ".py",
   "mimetype": "text/x-python",
   "name": "python",
   "nbconvert_exporter": "python",
   "pygments_lexer": "ipython3",
   "version": "3.11.0"
  }
 },
 "nbformat": 4,
 "nbformat_minor": 5
}
