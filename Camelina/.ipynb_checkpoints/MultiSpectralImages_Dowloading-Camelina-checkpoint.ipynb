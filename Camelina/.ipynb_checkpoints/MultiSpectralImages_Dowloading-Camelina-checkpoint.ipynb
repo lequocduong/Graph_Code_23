{
 "cells": [
  {
   "cell_type": "code",
   "execution_count": 1,
   "id": "07acf6bb-3b5d-466d-8218-29d6835a7ff9",
   "metadata": {
    "tags": []
   },
   "outputs": [
    {
     "name": "stderr",
     "output_type": "stream",
     "text": [
      "C:\\Users\\qle\\AppData\\Local\\miniconda3\\envs\\text\\Lib\\site-packages\\numpy\\_distributor_init.py:30: UserWarning: loaded more than 1 DLL from .libs:\n",
      "C:\\Users\\qle\\AppData\\Local\\miniconda3\\envs\\text\\Lib\\site-packages\\numpy\\.libs\\libopenblas.FB5AE2TYXYH2IJRDKGDGQ3XBKLKTF43H.gfortran-win_amd64.dll\n",
      "C:\\Users\\qle\\AppData\\Local\\miniconda3\\envs\\text\\Lib\\site-packages\\numpy\\.libs\\libopenblas64__v0.3.21-gcc_10_3_0.dll\n",
      "  warnings.warn(\"loaded more than 1 DLL from .libs:\"\n"
     ]
    },
    {
     "data": {
      "text/html": [
       "<p>To authorize access needed by Earth Engine, open the following\n",
       "        URL in a web browser and follow the instructions:</p>\n",
       "        <p><a href=https://code.earthengine.google.com/client-auth?scopes=https%3A//www.googleapis.com/auth/earthengine%20https%3A//www.googleapis.com/auth/devstorage.full_control&request_id=HpXWTnJBikgEaZFfbPAUl8oq9n4bwjnuWJKMPPa2Lrk&tc=LmeDH_gGIAIjpblL7b8KeQUZzQ68fjIOxBs1ENzvjJ0&cc=YTKpAZYTAV35MVD_FdALI5SelPu0KXly1U4uUPvjgsY>https://code.earthengine.google.com/client-auth?scopes=https%3A//www.googleapis.com/auth/earthengine%20https%3A//www.googleapis.com/auth/devstorage.full_control&request_id=HpXWTnJBikgEaZFfbPAUl8oq9n4bwjnuWJKMPPa2Lrk&tc=LmeDH_gGIAIjpblL7b8KeQUZzQ68fjIOxBs1ENzvjJ0&cc=YTKpAZYTAV35MVD_FdALI5SelPu0KXly1U4uUPvjgsY</a></p>\n",
       "        <p>The authorization workflow will generate a code, which you should paste in the box below.</p>\n",
       "        "
      ],
      "text/plain": [
       "<IPython.core.display.HTML object>"
      ]
     },
     "metadata": {},
     "output_type": "display_data"
    },
    {
     "name": "stdin",
     "output_type": "stream",
     "text": [
      "Enter verification code:  4/1Adeu5BWb2oq1GG9rCSZmMUyGUOZOewMka3Wo06ADu3Q7EK-8z5OgN409lwE\n"
     ]
    },
    {
     "name": "stdout",
     "output_type": "stream",
     "text": [
      "\n",
      "Successfully saved authorization token.\n"
     ]
    }
   ],
   "source": [
    "import geemap\n",
    "import ee\n",
    "# Trigger the authentication flow.\n",
    "ee.Authenticate()\n",
    "# Initialize the library.\n",
    "ee.Initialize()"
   ]
  },
  {
   "cell_type": "code",
   "execution_count": 2,
   "id": "0ce4db4d-4b32-46e6-8eac-c81c8e64f3b8",
   "metadata": {
    "tags": []
   },
   "outputs": [],
   "source": [
    "#Pandas modules to interact with spatial data\n",
    "import geopandas as gpd\n",
    "import pandas as pd\n",
    "from geopandas import GeoDataFrame\n",
    "from shapely.geometry import Point,Polygon\n",
    "from geemap import geopandas_to_ee\n",
    "import shapely.wkt\n",
    "\n",
    "from shapely.geometry import mapping\n",
    "from pygeosys.util.dataframe import chunk_dataframe\n",
    "from generate_data_ee import *\n",
    "import numpy as np\n",
    "from functools import reduce"
   ]
  },
  {
   "cell_type": "markdown",
   "id": "3941980c-17a7-4f73-81ae-2e54346171fb",
   "metadata": {},
   "source": [
    "# Initial Parameters"
   ]
  },
  {
   "cell_type": "code",
   "execution_count": 3,
   "id": "2d87f508-cc84-4ac9-9f6d-92a042e892da",
   "metadata": {
    "tags": []
   },
   "outputs": [
    {
     "data": {
      "text/html": [
       "<div>\n",
       "<style scoped>\n",
       "    .dataframe tbody tr th:only-of-type {\n",
       "        vertical-align: middle;\n",
       "    }\n",
       "\n",
       "    .dataframe tbody tr th {\n",
       "        vertical-align: top;\n",
       "    }\n",
       "\n",
       "    .dataframe thead th {\n",
       "        text-align: right;\n",
       "    }\n",
       "</style>\n",
       "<table border=\"1\" class=\"dataframe\">\n",
       "  <thead>\n",
       "    <tr style=\"text-align: right;\">\n",
       "      <th></th>\n",
       "      <th>sfd_id</th>\n",
       "      <th>geometry</th>\n",
       "    </tr>\n",
       "  </thead>\n",
       "  <tbody>\n",
       "    <tr>\n",
       "      <th>0</th>\n",
       "      <td>102549367</td>\n",
       "      <td>MULTIPOLYGON(((-111.77440816 47.75602826,-111....</td>\n",
       "    </tr>\n",
       "    <tr>\n",
       "      <th>1</th>\n",
       "      <td>101809908</td>\n",
       "      <td>MULTIPOLYGON(((-111.6789661 47.75846008,-111.6...</td>\n",
       "    </tr>\n",
       "    <tr>\n",
       "      <th>2</th>\n",
       "      <td>101809909</td>\n",
       "      <td>POLYGON((-111.88110286 47.76970155,-111.881057...</td>\n",
       "    </tr>\n",
       "    <tr>\n",
       "      <th>3</th>\n",
       "      <td>102520939</td>\n",
       "      <td>POLYGON((-111.67467872 47.71215922,-111.672174...</td>\n",
       "    </tr>\n",
       "    <tr>\n",
       "      <th>4</th>\n",
       "      <td>102521048</td>\n",
       "      <td>POLYGON((-109.91401993 47.02626418,-109.919534...</td>\n",
       "    </tr>\n",
       "    <tr>\n",
       "      <th>5</th>\n",
       "      <td>102521046</td>\n",
       "      <td>POLYGON((-111.11004867 48.65354536,-111.104658...</td>\n",
       "    </tr>\n",
       "    <tr>\n",
       "      <th>6</th>\n",
       "      <td>102521049</td>\n",
       "      <td>MULTIPOLYGON(((-110.30317523 48.96458609,-110....</td>\n",
       "    </tr>\n",
       "    <tr>\n",
       "      <th>7</th>\n",
       "      <td>102521060</td>\n",
       "      <td>POLYGON((-105.28751 47.09329996,-105.28991991 ...</td>\n",
       "    </tr>\n",
       "    <tr>\n",
       "      <th>8</th>\n",
       "      <td>102521051</td>\n",
       "      <td>POLYGON((-105.3674447 47.07127294,-105.3674565...</td>\n",
       "    </tr>\n",
       "    <tr>\n",
       "      <th>9</th>\n",
       "      <td>102521059</td>\n",
       "      <td>POLYGON((-105.32846383 47.20328206,-105.328597...</td>\n",
       "    </tr>\n",
       "    <tr>\n",
       "      <th>10</th>\n",
       "      <td>102521058</td>\n",
       "      <td>POLYGON((-105.25983282 47.10784285,-105.259839...</td>\n",
       "    </tr>\n",
       "    <tr>\n",
       "      <th>11</th>\n",
       "      <td>102521052</td>\n",
       "      <td>POLYGON((-105.37449773 47.22481508,-105.374444...</td>\n",
       "    </tr>\n",
       "    <tr>\n",
       "      <th>12</th>\n",
       "      <td>102521057</td>\n",
       "      <td>POLYGON((-105.29528932 47.15110405,-105.295251...</td>\n",
       "    </tr>\n",
       "    <tr>\n",
       "      <th>13</th>\n",
       "      <td>102521061</td>\n",
       "      <td>MULTIPOLYGON(((-105.26851378 47.08559688,-105....</td>\n",
       "    </tr>\n",
       "    <tr>\n",
       "      <th>14</th>\n",
       "      <td>102521054</td>\n",
       "      <td>MULTIPOLYGON(((-105.28728982 47.09306365,-105....</td>\n",
       "    </tr>\n",
       "    <tr>\n",
       "      <th>15</th>\n",
       "      <td>102521050</td>\n",
       "      <td>POLYGON((-105.32464608 47.05666731,-105.324529...</td>\n",
       "    </tr>\n",
       "    <tr>\n",
       "      <th>16</th>\n",
       "      <td>102521053</td>\n",
       "      <td>POLYGON((-105.36709606 47.08297991,-105.367037...</td>\n",
       "    </tr>\n",
       "    <tr>\n",
       "      <th>17</th>\n",
       "      <td>102522698</td>\n",
       "      <td>POLYGON((-105.24673214 48.14324608,-105.2451 4...</td>\n",
       "    </tr>\n",
       "    <tr>\n",
       "      <th>18</th>\n",
       "      <td>102522699</td>\n",
       "      <td>POLYGON((-105.25107918 48.15122954,-105.251408...</td>\n",
       "    </tr>\n",
       "    <tr>\n",
       "      <th>19</th>\n",
       "      <td>102522694</td>\n",
       "      <td>POLYGON((-105.23301352 48.15045533,-105.226073...</td>\n",
       "    </tr>\n",
       "    <tr>\n",
       "      <th>20</th>\n",
       "      <td>102522695</td>\n",
       "      <td>POLYGON((-105.2342558 48.15045281,-105.2368508...</td>\n",
       "    </tr>\n",
       "    <tr>\n",
       "      <th>21</th>\n",
       "      <td>102522696</td>\n",
       "      <td>POLYGON((-105.27129927 48.13599487,-105.271796...</td>\n",
       "    </tr>\n",
       "    <tr>\n",
       "      <th>22</th>\n",
       "      <td>102522697</td>\n",
       "      <td>POLYGON((-105.20976647 48.17213134,-105.206067...</td>\n",
       "    </tr>\n",
       "    <tr>\n",
       "      <th>23</th>\n",
       "      <td>102594243</td>\n",
       "      <td>POLYGON((-110.49805926 48.15368732,-110.501300...</td>\n",
       "    </tr>\n",
       "    <tr>\n",
       "      <th>24</th>\n",
       "      <td>102594245</td>\n",
       "      <td>POLYGON((-96.78142896 42.53939412,-96.78147163...</td>\n",
       "    </tr>\n",
       "    <tr>\n",
       "      <th>25</th>\n",
       "      <td>102594316</td>\n",
       "      <td>POLYGON((-109.99393792 47.59185816,-109.995116...</td>\n",
       "    </tr>\n",
       "    <tr>\n",
       "      <th>26</th>\n",
       "      <td>102594462</td>\n",
       "      <td>POLYGON((-109.58522181 46.67420403,-109.585188...</td>\n",
       "    </tr>\n",
       "    <tr>\n",
       "      <th>27</th>\n",
       "      <td>102594463</td>\n",
       "      <td>POLYGON((-109.97840605 47.10590397,-109.974264...</td>\n",
       "    </tr>\n",
       "    <tr>\n",
       "      <th>28</th>\n",
       "      <td>102594464</td>\n",
       "      <td>POLYGON((-111.77440816 47.75602826,-111.774424...</td>\n",
       "    </tr>\n",
       "    <tr>\n",
       "      <th>29</th>\n",
       "      <td>102594465</td>\n",
       "      <td>MULTIPOLYGON(((-111.74367832 47.48031848,-111....</td>\n",
       "    </tr>\n",
       "  </tbody>\n",
       "</table>\n",
       "</div>"
      ],
      "text/plain": [
       "       sfd_id                                           geometry\n",
       "0   102549367  MULTIPOLYGON(((-111.77440816 47.75602826,-111....\n",
       "1   101809908  MULTIPOLYGON(((-111.6789661 47.75846008,-111.6...\n",
       "2   101809909  POLYGON((-111.88110286 47.76970155,-111.881057...\n",
       "3   102520939  POLYGON((-111.67467872 47.71215922,-111.672174...\n",
       "4   102521048  POLYGON((-109.91401993 47.02626418,-109.919534...\n",
       "5   102521046  POLYGON((-111.11004867 48.65354536,-111.104658...\n",
       "6   102521049  MULTIPOLYGON(((-110.30317523 48.96458609,-110....\n",
       "7   102521060  POLYGON((-105.28751 47.09329996,-105.28991991 ...\n",
       "8   102521051  POLYGON((-105.3674447 47.07127294,-105.3674565...\n",
       "9   102521059  POLYGON((-105.32846383 47.20328206,-105.328597...\n",
       "10  102521058  POLYGON((-105.25983282 47.10784285,-105.259839...\n",
       "11  102521052  POLYGON((-105.37449773 47.22481508,-105.374444...\n",
       "12  102521057  POLYGON((-105.29528932 47.15110405,-105.295251...\n",
       "13  102521061  MULTIPOLYGON(((-105.26851378 47.08559688,-105....\n",
       "14  102521054  MULTIPOLYGON(((-105.28728982 47.09306365,-105....\n",
       "15  102521050  POLYGON((-105.32464608 47.05666731,-105.324529...\n",
       "16  102521053  POLYGON((-105.36709606 47.08297991,-105.367037...\n",
       "17  102522698  POLYGON((-105.24673214 48.14324608,-105.2451 4...\n",
       "18  102522699  POLYGON((-105.25107918 48.15122954,-105.251408...\n",
       "19  102522694  POLYGON((-105.23301352 48.15045533,-105.226073...\n",
       "20  102522695  POLYGON((-105.2342558 48.15045281,-105.2368508...\n",
       "21  102522696  POLYGON((-105.27129927 48.13599487,-105.271796...\n",
       "22  102522697  POLYGON((-105.20976647 48.17213134,-105.206067...\n",
       "23  102594243  POLYGON((-110.49805926 48.15368732,-110.501300...\n",
       "24  102594245  POLYGON((-96.78142896 42.53939412,-96.78147163...\n",
       "25  102594316  POLYGON((-109.99393792 47.59185816,-109.995116...\n",
       "26  102594462  POLYGON((-109.58522181 46.67420403,-109.585188...\n",
       "27  102594463  POLYGON((-109.97840605 47.10590397,-109.974264...\n",
       "28  102594464  POLYGON((-111.77440816 47.75602826,-111.774424...\n",
       "29  102594465  MULTIPOLYGON(((-111.74367832 47.48031848,-111...."
      ]
     },
     "execution_count": 3,
     "metadata": {},
     "output_type": "execute_result"
    }
   ],
   "source": [
    "dataPath = 'CSV_Data/'\n",
    "file = 'Camelina_fields_US_2023.csv'\n",
    "\n",
    "usecols = ['idfield','st_astext']\n",
    "rename = {\n",
    "            'st_astext': 'geometry',\n",
    "            'idfield' : 'sfd_id'\n",
    "}\n",
    "data = pd.read_csv(dataPath+file,\n",
    "                   sep=';',\n",
    "                   usecols=usecols\n",
    "                  )\n",
    "data = data[usecols]\n",
    "data.rename(columns=rename, inplace=True)\n",
    "#data[data['sfd_id'] == 104854491 ]\n",
    "# data = data[72:73]\n",
    "data"
   ]
  },
  {
   "cell_type": "code",
   "execution_count": 15,
   "id": "d8c78626-2e67-4a0f-b9cc-11c38a5af040",
   "metadata": {
    "tags": []
   },
   "outputs": [],
   "source": [
    "#data[data['sfd_id'] == 104859351]"
   ]
  },
  {
   "cell_type": "code",
   "execution_count": 4,
   "id": "55e3512f-b2f2-4782-b80a-5157e7598eaa",
   "metadata": {
    "tags": []
   },
   "outputs": [
    {
     "data": {
      "text/plain": [
       "'2023-03-01'"
      ]
     },
     "execution_count": 4,
     "metadata": {},
     "output_type": "execute_result"
    }
   ],
   "source": [
    "### Parameters\n",
    "year = 2023\n",
    "date_start = str(year)+'-03-01'\n",
    "date_end = str(year)+'-08-31'\n",
    "date_start"
   ]
  },
  {
   "cell_type": "code",
   "execution_count": 5,
   "id": "3fa9694a-8c4d-4ae9-8cc6-13a53969fdee",
   "metadata": {
    "tags": []
   },
   "outputs": [],
   "source": [
    "#Map.user_roi.getInfo()"
   ]
  },
  {
   "cell_type": "code",
   "execution_count": 6,
   "id": "164959c5-53ca-4ca3-aaf2-f9a67993c7aa",
   "metadata": {
    "tags": []
   },
   "outputs": [
    {
     "data": {
      "text/plain": [
       "\"\\nfrom shapely.geometry import Polygon\\n\\n# AOI polygon \\n# Replace the information this below\\npolygon = ee.Geometry.Polygon(\\n    #[[[1.443458, 43.605878], [1.441913, 43.602366], [1.447449, 43.598388], [1.455345, 43.602957], [1.452212, 43.607525], [1.443458, 43.605878]]],None,False\\n     #[[[1.432664, 43.581407],[1.430217, 43.580117],[1.431183, 43.57721],[1.433415, 43.575577],[1.434853, 43.577552],[1.434939, 43.580567],[1.433007, 43.581329],[1.432664, 43.581407]]],None,False\\n    # Retrieve form the QGIS -Drought 1\\n    [[[-54.22460833,-25.36857278],[-54.22041628,-25.36727596],[-54.22000322,-25.36748923],[-54.21999249,-25.36769282],[-54.22011831,-25.36807353],[-54.21995738,-25.36860671],[-54.22328332,-25.36968277],[-54.22438839, -25.36971185],[-54.22460833,-25.36857278]]],None,False   \\n    )\\npolyFeature = ee.Feature(polygon, {'foo': 42, 'bar': 'tart'})\\nMap.addLayer(polyFeature, {} , 'feature')\\nMap.setCenter(-54, -25, 15)\\n#Map\\n\""
      ]
     },
     "execution_count": 6,
     "metadata": {},
     "output_type": "execute_result"
    }
   ],
   "source": [
    "'''\n",
    "from shapely.geometry import Polygon\n",
    "\n",
    "# AOI polygon \n",
    "# Replace the information this below\n",
    "polygon = ee.Geometry.Polygon(\n",
    "    #[[[1.443458, 43.605878], [1.441913, 43.602366], [1.447449, 43.598388], [1.455345, 43.602957], [1.452212, 43.607525], [1.443458, 43.605878]]],None,False\n",
    "     #[[[1.432664, 43.581407],[1.430217, 43.580117],[1.431183, 43.57721],[1.433415, 43.575577],[1.434853, 43.577552],[1.434939, 43.580567],[1.433007, 43.581329],[1.432664, 43.581407]]],None,False\n",
    "    # Retrieve form the QGIS -Drought 1\n",
    "    [[[-54.22460833,-25.36857278],[-54.22041628,-25.36727596],[-54.22000322,-25.36748923],[-54.21999249,-25.36769282],[-54.22011831,-25.36807353],[-54.21995738,-25.36860671],[-54.22328332,-25.36968277],[-54.22438839, -25.36971185],[-54.22460833,-25.36857278]]],None,False   \n",
    "    )\n",
    "polyFeature = ee.Feature(polygon, {'foo': 42, 'bar': 'tart'})\n",
    "Map.addLayer(polyFeature, {} , 'feature')\n",
    "Map.setCenter(-54, -25, 15)\n",
    "#Map\n",
    "'''"
   ]
  },
  {
   "cell_type": "markdown",
   "id": "96b0b0f4-7c58-464f-8bcf-e4e884f68fea",
   "metadata": {
    "jp-MarkdownHeadingCollapsed": true,
    "tags": []
   },
   "source": [
    "# Self-Generation"
   ]
  },
  {
   "cell_type": "code",
   "execution_count": 8,
   "id": "c7bdff38-b151-411e-bf16-82bfe7569c98",
   "metadata": {
    "tags": []
   },
   "outputs": [],
   "source": [
    "def maskS2clouds(image): \n",
    "    qa = image.select('QA60')  "
   ]
  },
  {
   "cell_type": "code",
   "execution_count": 9,
   "id": "102c7d0b-0cf5-4693-8806-9d39774ab34f",
   "metadata": {
    "tags": []
   },
   "outputs": [
    {
     "ename": "NameError",
     "evalue": "name 'polygon' is not defined",
     "output_type": "error",
     "traceback": [
      "\u001b[1;31m---------------------------------------------------------------------------\u001b[0m",
      "\u001b[1;31mNameError\u001b[0m                                 Traceback (most recent call last)",
      "Cell \u001b[1;32mIn[9], line 8\u001b[0m\n\u001b[0;32m      1\u001b[0m \u001b[38;5;124;03m'''\u001b[39;00m\n\u001b[0;32m      2\u001b[0m \u001b[38;5;124;03m#.filterDate('2020-01-01', '2020-01-30')\u001b[39;00m\n\u001b[0;32m      3\u001b[0m \u001b[38;5;124;03m#// Pre-filter to get less cloudy granules.\u001b[39;00m\n\u001b[0;32m      4\u001b[0m \u001b[38;5;124;03m20->75\u001b[39;00m\n\u001b[0;32m      5\u001b[0m \u001b[38;5;124;03m'''\u001b[39;00m\n\u001b[0;32m      6\u001b[0m \u001b[38;5;66;03m### Import the Collection with the selected area + the start and end date\u001b[39;00m\n\u001b[0;32m      7\u001b[0m im_col \u001b[38;5;241m=\u001b[39m ee\u001b[38;5;241m.\u001b[39mImageCollection(\u001b[38;5;124m'\u001b[39m\u001b[38;5;124mCOPERNICUS/S2_SR_HARMONIZED\u001b[39m\u001b[38;5;124m'\u001b[39m)\\\n\u001b[1;32m----> 8\u001b[0m                 \u001b[38;5;241m.\u001b[39mfilterBounds(\u001b[43mpolygon\u001b[49m)\\\n\u001b[0;32m      9\u001b[0m                 \u001b[38;5;241m.\u001b[39mfilterDate(ee\u001b[38;5;241m.\u001b[39mDate(date_start),ee\u001b[38;5;241m.\u001b[39mDate(date_end))\\\n\u001b[0;32m     10\u001b[0m                 \u001b[38;5;241m.\u001b[39mfilter(ee\u001b[38;5;241m.\u001b[39mFilter\u001b[38;5;241m.\u001b[39mlt(\u001b[38;5;124m'\u001b[39m\u001b[38;5;124mCLOUDY_PIXEL_PERCENTAGE\u001b[39m\u001b[38;5;124m'\u001b[39m,\u001b[38;5;241m75\u001b[39m))\\\n\u001b[0;32m     11\u001b[0m                 \u001b[38;5;66;03m#.map(maskS2clouds)\u001b[39;00m\n\u001b[0;32m     12\u001b[0m im_col\u001b[38;5;66;03m# ee.imagecollection.ImageCollection\u001b[39;00m\n",
      "\u001b[1;31mNameError\u001b[0m: name 'polygon' is not defined"
     ]
    }
   ],
   "source": [
    "'''\n",
    "#.filterDate('2020-01-01', '2020-01-30')\n",
    "#// Pre-filter to get less cloudy granules.\n",
    "20->75\n",
    "'''\n",
    "### Import the Collection with the selected area + the start and end date\n",
    "im_col = ee.ImageCollection('COPERNICUS/S2_SR_HARMONIZED')\\\n",
    "                .filterBounds(polygon)\\\n",
    "                .filterDate(ee.Date(date_start),ee.Date(date_end))\\\n",
    "                .filter(ee.Filter.lt('CLOUDY_PIXEL_PERCENTAGE',75))\\\n",
    "                #.map(maskS2clouds)\n",
    "im_col# ee.imagecollection.ImageCollection"
   ]
  },
  {
   "cell_type": "code",
   "execution_count": null,
   "id": "f515bb62-15f3-49b7-9976-9f54d34afa41",
   "metadata": {
    "tags": []
   },
   "outputs": [],
   "source": [
    "### Define cloud and shadow mask and apply it\n",
    "#im_col = im_col.map(add_cld_shdw_mask).map(apply_cld_shdw_mask)"
   ]
  },
  {
   "cell_type": "code",
   "execution_count": 33,
   "id": "e76bcad4-a836-49ce-8006-a5ac3192c131",
   "metadata": {
    "tags": []
   },
   "outputs": [
    {
     "ename": "NameError",
     "evalue": "name 'im_col' is not defined",
     "output_type": "error",
     "traceback": [
      "\u001b[1;31m---------------------------------------------------------------------------\u001b[0m",
      "\u001b[1;31mNameError\u001b[0m                                 Traceback (most recent call last)",
      "Cell \u001b[1;32mIn[33], line 3\u001b[0m\n\u001b[0;32m      1\u001b[0m \u001b[38;5;66;03m## get available dates \u001b[39;00m\n\u001b[0;32m      2\u001b[0m \u001b[38;5;28;01mimport\u001b[39;00m \u001b[38;5;21;01mtime\u001b[39;00m\n\u001b[1;32m----> 3\u001b[0m acq_times \u001b[38;5;241m=\u001b[39m \u001b[43mim_col\u001b[49m\u001b[38;5;241m.\u001b[39maggregate_array(\u001b[38;5;124m'\u001b[39m\u001b[38;5;124msystem:time_start\u001b[39m\u001b[38;5;124m'\u001b[39m)\u001b[38;5;241m.\u001b[39mgetInfo()\n\u001b[0;32m      4\u001b[0m \u001b[38;5;28mlen\u001b[39m([time\u001b[38;5;241m.\u001b[39mstrftime(\u001b[38;5;124m'\u001b[39m\u001b[38;5;132;01m%x\u001b[39;00m\u001b[38;5;124m'\u001b[39m, time\u001b[38;5;241m.\u001b[39mgmtime(acq_time\u001b[38;5;241m/\u001b[39m\u001b[38;5;241m1000\u001b[39m)) \u001b[38;5;28;01mfor\u001b[39;00m acq_time \u001b[38;5;129;01min\u001b[39;00m acq_times])\n",
      "\u001b[1;31mNameError\u001b[0m: name 'im_col' is not defined"
     ]
    }
   ],
   "source": [
    "## get available dates \n",
    "import time\n",
    "acq_times = im_col.aggregate_array('system:time_start').getInfo()\n",
    "len([time.strftime('%x', time.gmtime(acq_time/1000)) for acq_time in acq_times])"
   ]
  },
  {
   "cell_type": "markdown",
   "id": "3505f853-87ce-4475-b3a2-a6a58c22c0d0",
   "metadata": {
    "tags": []
   },
   "source": [
    "## Multi-image dowloading"
   ]
  },
  {
   "cell_type": "code",
   "execution_count": 147,
   "id": "08b74435-1dc3-4784-b7da-f1419ef1d2db",
   "metadata": {
    "tags": []
   },
   "outputs": [],
   "source": [
    "# For multiple downloading image\n",
    "imList=im_col.select('B4','B8A').toList(im_col.size())\n",
    "for im in range(imList.length().getInfo()):\n",
    "    img = ee.Image(imList.get(im))\n",
    "    task=ee.batch.Export.image.toCloudStorage(**{ 'image': img.clip(polygon), \n",
    "                                                 'description': 'Toulouse Multispectral', \n",
    "                                                 'bucket': 'datascience-sandbox-dev', #bucket name never changes \n",
    "                                                 'fileNamePrefix':'LE/ChangeDetection/MultiSpectral/Image' + str(im),#path to file \n",
    "                                                 'scale': 10,#resolution \n",
    "                                                 'region':polygon, \n",
    "                                                 'maxPixels': 15000000000, \n",
    "                                                 'skipEmptyTiles': True }) \n",
    "    task.start()"
   ]
  },
  {
   "cell_type": "code",
   "execution_count": 143,
   "id": "55850598-4272-4c34-ac42-75e40fe12eb9",
   "metadata": {
    "tags": []
   },
   "outputs": [
    {
     "data": {
      "text/html": [
       "<div><style>:root {\n",
       "  --font-color-primary: var(--jp-content-font-color0, rgba(0, 0, 0, 1));\n",
       "  --font-color-secondary: var(--jp-content-font-color2, rgba(0, 0, 0, 0.6));\n",
       "  --font-color-accent: rgba(123, 31, 162, 1);\n",
       "  --border-color: var(--jp-border-color2, #e0e0e0);\n",
       "  --background-color: var(--jp-layout-color0, white);\n",
       "  --background-color-row-even: var(--jp-layout-color1, white);\n",
       "  --background-color-row-odd: var(--jp-layout-color2, #eeeeee);\n",
       "}\n",
       "\n",
       "html[theme=\"dark\"],\n",
       "body[data-theme=\"dark\"],\n",
       "body.vscode-dark {\n",
       "  --font-color-primary: rgba(255, 255, 255, 1);\n",
       "  --font-color-secondary: rgba(255, 255, 255, 0.6);\n",
       "  --font-color-accent: rgb(173, 132, 190);\n",
       "  --border-color: #2e2e2e;\n",
       "  --background-color: #111111;\n",
       "  --background-color-row-even: #111111;\n",
       "  --background-color-row-odd: #313131;\n",
       "}\n",
       "\n",
       ".ee {\n",
       "  padding: 1em;\n",
       "  line-height: 1.5em;\n",
       "  min-width: 300px;\n",
       "  max-width: 1200px;\n",
       "  overflow-y: scroll;\n",
       "  max-height: 600px;\n",
       "  border: 1px solid var(--border-color);\n",
       "  font-family: monospace;\n",
       "}\n",
       "\n",
       ".ee li {\n",
       "  list-style-type: none;\n",
       "}\n",
       "\n",
       ".ee ul {\n",
       "  padding-left: 1.5em !important;\n",
       "  margin: 0;\n",
       "}\n",
       "\n",
       ".ee > ul {\n",
       "  padding-left: 0 !important;\n",
       "}\n",
       "\n",
       ".ee-open,\n",
       ".ee-shut {\n",
       "  color: var(--font-color-secondary);\n",
       "  cursor: pointer;\n",
       "  margin: 0;\n",
       "}\n",
       "\n",
       ".ee-open:hover,\n",
       ".ee-shut:hover {\n",
       "  color: var(--font-color-primary);\n",
       "}\n",
       "\n",
       ".ee-k {\n",
       "  color: var(--font-color-accent);\n",
       "  margin-right: 6px;\n",
       "}\n",
       "\n",
       ".ee-v {\n",
       "  color: var(--font-color-primary);\n",
       "}\n",
       "\n",
       ".ee-toggle {\n",
       "  display: none;\n",
       "}\n",
       "\n",
       ".ee-shut + ul {\n",
       "  display: none;\n",
       "}\n",
       "\n",
       ".ee-open + ul {\n",
       "  display: block;\n",
       "}\n",
       "\n",
       ".ee-shut::before {\n",
       "  display: inline-block;\n",
       "  content: \"▼\";\n",
       "  margin-right: 6px;\n",
       "  transform: rotate(-90deg);\n",
       "  transition: transform 0.2s;\n",
       "}\n",
       "\n",
       ".ee-open::before {\n",
       "  transform: rotate(0deg);\n",
       "  display: inline-block;\n",
       "  content: \"▼\";\n",
       "  margin-right: 6px;\n",
       "  transition: transform 0.2s;\n",
       "}\n",
       "</style><div class='ee'><ul><li><label class='ee-shut'>Image COPERNICUS/S2_SR_HARMONIZED/20201126T105401_20201126T105443_T31TCJ (2 bands)<input type='checkbox' class='ee-toggle'></label><ul><li><span class='ee-k'>type:</span><span class='ee-v'>Image</span></li><li><span class='ee-k'>id:</span><span class='ee-v'>COPERNICUS/S2_SR_HARMONIZED/20201126T105401_20201126T105443_T31TCJ</span></li><li><span class='ee-k'>version:</span><span class='ee-v'>1685611394688603</span></li><li><label class='ee-shut'>bands: List (2 elements)<input type='checkbox' class='ee-toggle'></label><ul><li><label class='ee-shut'>0: \"B4\", unsigned int16, EPSG:32631, 10980x10980 px<input type='checkbox' class='ee-toggle'></label><ul><li><span class='ee-k'>id:</span><span class='ee-v'>B4</span></li><li><span class='ee-k'>crs:</span><span class='ee-v'>EPSG:32631</span></li><li><label class='ee-shut'>crs_transform: [10, 0, 300000, 0, -10, 4900020]<input type='checkbox' class='ee-toggle'></label><ul><li><span class='ee-k'>0:</span><span class='ee-v'>10</span></li><li><span class='ee-k'>1:</span><span class='ee-v'>0</span></li><li><span class='ee-k'>2:</span><span class='ee-v'>300000</span></li><li><span class='ee-k'>3:</span><span class='ee-v'>0</span></li><li><span class='ee-k'>4:</span><span class='ee-v'>-10</span></li><li><span class='ee-k'>5:</span><span class='ee-v'>4900020</span></li></ul></li><li><label class='ee-shut'>data_type: unsigned int16<input type='checkbox' class='ee-toggle'></label><ul><li><span class='ee-k'>type:</span><span class='ee-v'>PixelType</span></li><li><span class='ee-k'>max:</span><span class='ee-v'>65535</span></li><li><span class='ee-k'>min:</span><span class='ee-v'>0</span></li><li><span class='ee-k'>precision:</span><span class='ee-v'>int</span></li></ul></li><li><label class='ee-shut'>dimensions: [10980, 10980]<input type='checkbox' class='ee-toggle'></label><ul><li><span class='ee-k'>0:</span><span class='ee-v'>10980</span></li><li><span class='ee-k'>1:</span><span class='ee-v'>10980</span></li></ul></li></ul></li><li><label class='ee-shut'>1: \"B8A\", unsigned int16, EPSG:32631, 5490x5490 px<input type='checkbox' class='ee-toggle'></label><ul><li><span class='ee-k'>id:</span><span class='ee-v'>B8A</span></li><li><span class='ee-k'>crs:</span><span class='ee-v'>EPSG:32631</span></li><li><label class='ee-shut'>crs_transform: [20, 0, 300000, 0, -20, 4900020]<input type='checkbox' class='ee-toggle'></label><ul><li><span class='ee-k'>0:</span><span class='ee-v'>20</span></li><li><span class='ee-k'>1:</span><span class='ee-v'>0</span></li><li><span class='ee-k'>2:</span><span class='ee-v'>300000</span></li><li><span class='ee-k'>3:</span><span class='ee-v'>0</span></li><li><span class='ee-k'>4:</span><span class='ee-v'>-20</span></li><li><span class='ee-k'>5:</span><span class='ee-v'>4900020</span></li></ul></li><li><label class='ee-shut'>data_type: unsigned int16<input type='checkbox' class='ee-toggle'></label><ul><li><span class='ee-k'>type:</span><span class='ee-v'>PixelType</span></li><li><span class='ee-k'>max:</span><span class='ee-v'>65535</span></li><li><span class='ee-k'>min:</span><span class='ee-v'>0</span></li><li><span class='ee-k'>precision:</span><span class='ee-v'>int</span></li></ul></li><li><label class='ee-shut'>dimensions: [5490, 5490]<input type='checkbox' class='ee-toggle'></label><ul><li><span class='ee-k'>0:</span><span class='ee-v'>5490</span></li><li><span class='ee-k'>1:</span><span class='ee-v'>5490</span></li></ul></li></ul></li></ul></li><li><label class='ee-shut'>properties: Object (81 properties)<input type='checkbox' class='ee-toggle'></label><ul><li><span class='ee-k'>AOT_RETRIEVAL_ACCURACY:</span><span class='ee-v'>0</span></li><li><span class='ee-k'>CLOUDY_PIXEL_PERCENTAGE:</span><span class='ee-v'>12.099386</span></li><li><span class='ee-k'>CLOUD_COVERAGE_ASSESSMENT:</span><span class='ee-v'>12.099386</span></li><li><span class='ee-k'>CLOUD_SHADOW_PERCENTAGE:</span><span class='ee-v'>4.416067</span></li><li><span class='ee-k'>DARK_FEATURES_PERCENTAGE:</span><span class='ee-v'>7.318489</span></li><li><span class='ee-k'>DATASTRIP_ID:</span><span class='ee-v'>S2A_OPER_MSI_L2A_DS_VGS2_20201126T134845_S20201126T105443_N02.14</span></li><li><span class='ee-k'>DATATAKE_IDENTIFIER:</span><span class='ee-v'>GS2A_20201126T105401_028362_N02.14</span></li><li><span class='ee-k'>DATATAKE_TYPE:</span><span class='ee-v'>INS-NOBS</span></li><li><span class='ee-k'>DEGRADED_MSI_DATA_PERCENTAGE:</span><span class='ee-v'>0</span></li><li><span class='ee-k'>FORMAT_CORRECTNESS:</span><span class='ee-v'>PASSED</span></li><li><span class='ee-k'>GENERAL_QUALITY:</span><span class='ee-v'>PASSED</span></li><li><span class='ee-k'>GENERATION_TIME:</span><span class='ee-v'>1606398525000</span></li><li><span class='ee-k'>GEOMETRIC_QUALITY:</span><span class='ee-v'>PASSED</span></li><li><span class='ee-k'>GRANULE_ID:</span><span class='ee-v'>L2A_T31TCJ_A028362_20201126T105443</span></li><li><span class='ee-k'>HIGH_PROBA_CLOUDS_PERCENTAGE:</span><span class='ee-v'>8.808906</span></li><li><span class='ee-k'>MEAN_INCIDENCE_AZIMUTH_ANGLE_B1:</span><span class='ee-v'>199.487464001473</span></li><li><span class='ee-k'>MEAN_INCIDENCE_AZIMUTH_ANGLE_B10:</span><span class='ee-v'>201.312721778406</span></li><li><span class='ee-k'>MEAN_INCIDENCE_AZIMUTH_ANGLE_B11:</span><span class='ee-v'>200.042859402106</span></li><li><span class='ee-k'>MEAN_INCIDENCE_AZIMUTH_ANGLE_B12:</span><span class='ee-v'>199.212033515076</span></li><li><span class='ee-k'>MEAN_INCIDENCE_AZIMUTH_ANGLE_B2:</span><span class='ee-v'>205.281185649405</span></li><li><span class='ee-k'>MEAN_INCIDENCE_AZIMUTH_ANGLE_B3:</span><span class='ee-v'>202.820399611471</span></li><li><span class='ee-k'>MEAN_INCIDENCE_AZIMUTH_ANGLE_B4:</span><span class='ee-v'>201.385887416488</span></li><li><span class='ee-k'>MEAN_INCIDENCE_AZIMUTH_ANGLE_B5:</span><span class='ee-v'>200.820885324932</span></li><li><span class='ee-k'>MEAN_INCIDENCE_AZIMUTH_ANGLE_B6:</span><span class='ee-v'>200.378600476206</span></li><li><span class='ee-k'>MEAN_INCIDENCE_AZIMUTH_ANGLE_B7:</span><span class='ee-v'>200.017055147136</span></li><li><span class='ee-k'>MEAN_INCIDENCE_AZIMUTH_ANGLE_B8:</span><span class='ee-v'>203.902470844888</span></li><li><span class='ee-k'>MEAN_INCIDENCE_AZIMUTH_ANGLE_B8A:</span><span class='ee-v'>199.737481688379</span></li><li><span class='ee-k'>MEAN_INCIDENCE_AZIMUTH_ANGLE_B9:</span><span class='ee-v'>199.301573007195</span></li><li><span class='ee-k'>MEAN_INCIDENCE_ZENITH_ANGLE_B1:</span><span class='ee-v'>3.19799621046232</span></li><li><span class='ee-k'>MEAN_INCIDENCE_ZENITH_ANGLE_B10:</span><span class='ee-v'>2.74752507138233</span></li><li><span class='ee-k'>MEAN_INCIDENCE_ZENITH_ANGLE_B11:</span><span class='ee-v'>2.92424919539838</span></li><li><span class='ee-k'>MEAN_INCIDENCE_ZENITH_ANGLE_B12:</span><span class='ee-v'>3.123960639671</span></li><li><span class='ee-k'>MEAN_INCIDENCE_ZENITH_ANGLE_B2:</span><span class='ee-v'>2.55752898194029</span></li><li><span class='ee-k'>MEAN_INCIDENCE_ZENITH_ANGLE_B3:</span><span class='ee-v'>2.66588533761312</span></li><li><span class='ee-k'>MEAN_INCIDENCE_ZENITH_ANGLE_B4:</span><span class='ee-v'>2.78754294025351</span></li><li><span class='ee-k'>MEAN_INCIDENCE_ZENITH_ANGLE_B5:</span><span class='ee-v'>2.8611821322109</span></li><li><span class='ee-k'>MEAN_INCIDENCE_ZENITH_ANGLE_B6:</span><span class='ee-v'>2.93910185494313</span></li><li><span class='ee-k'>MEAN_INCIDENCE_ZENITH_ANGLE_B7:</span><span class='ee-v'>3.02154496901852</span></li><li><span class='ee-k'>MEAN_INCIDENCE_ZENITH_ANGLE_B8:</span><span class='ee-v'>2.60821842620627</span></li><li><span class='ee-k'>MEAN_INCIDENCE_ZENITH_ANGLE_B8A:</span><span class='ee-v'>3.10735427767866</span></li><li><span class='ee-k'>MEAN_INCIDENCE_ZENITH_ANGLE_B9:</span><span class='ee-v'>3.29283006137244</span></li><li><span class='ee-k'>MEAN_SOLAR_AZIMUTH_ANGLE:</span><span class='ee-v'>168.820497377015</span></li><li><span class='ee-k'>MEAN_SOLAR_ZENITH_ANGLE:</span><span class='ee-v'>65.5815887656904</span></li><li><span class='ee-k'>MEDIUM_PROBA_CLOUDS_PERCENTAGE:</span><span class='ee-v'>3.087756</span></li><li><span class='ee-k'>MGRS_TILE:</span><span class='ee-v'>31TCJ</span></li><li><span class='ee-k'>NODATA_PIXEL_PERCENTAGE:</span><span class='ee-v'>8e-05</span></li><li><span class='ee-k'>NOT_VEGETATED_PERCENTAGE:</span><span class='ee-v'>27.350372</span></li><li><span class='ee-k'>PROCESSING_BASELINE:</span><span class='ee-v'>02.14</span></li><li><span class='ee-k'>PRODUCT_ID:</span><span class='ee-v'>S2A_MSIL2A_20201126T105401_N0214_R051_T31TCJ_20201126T134845</span></li><li><span class='ee-k'>RADIATIVE_TRANSFER_ACCURACY:</span><span class='ee-v'>0</span></li><li><span class='ee-k'>RADIOMETRIC_QUALITY:</span><span class='ee-v'>PASSED</span></li><li><span class='ee-k'>REFLECTANCE_CONVERSION_CORRECTION:</span><span class='ee-v'>1.02579914974297</span></li><li><span class='ee-k'>SATURATED_DEFECTIVE_PIXEL_PERCENTAGE:</span><span class='ee-v'>0</span></li><li><span class='ee-k'>SENSING_ORBIT_DIRECTION:</span><span class='ee-v'>DESCENDING</span></li><li><span class='ee-k'>SENSING_ORBIT_NUMBER:</span><span class='ee-v'>51</span></li><li><span class='ee-k'>SENSOR_QUALITY:</span><span class='ee-v'>PASSED</span></li><li><span class='ee-k'>SNOW_ICE_PERCENTAGE:</span><span class='ee-v'>0.011503</span></li><li><span class='ee-k'>SOLAR_IRRADIANCE_B1:</span><span class='ee-v'>1884.69</span></li><li><span class='ee-k'>SOLAR_IRRADIANCE_B10:</span><span class='ee-v'>367.15</span></li><li><span class='ee-k'>SOLAR_IRRADIANCE_B11:</span><span class='ee-v'>245.59</span></li><li><span class='ee-k'>SOLAR_IRRADIANCE_B12:</span><span class='ee-v'>85.25</span></li><li><span class='ee-k'>SOLAR_IRRADIANCE_B2:</span><span class='ee-v'>1959.66</span></li><li><span class='ee-k'>SOLAR_IRRADIANCE_B3:</span><span class='ee-v'>1823.24</span></li><li><span class='ee-k'>SOLAR_IRRADIANCE_B4:</span><span class='ee-v'>1512.06</span></li><li><span class='ee-k'>SOLAR_IRRADIANCE_B5:</span><span class='ee-v'>1424.64</span></li><li><span class='ee-k'>SOLAR_IRRADIANCE_B6:</span><span class='ee-v'>1287.61</span></li><li><span class='ee-k'>SOLAR_IRRADIANCE_B7:</span><span class='ee-v'>1162.08</span></li><li><span class='ee-k'>SOLAR_IRRADIANCE_B8:</span><span class='ee-v'>1041.63</span></li><li><span class='ee-k'>SOLAR_IRRADIANCE_B8A:</span><span class='ee-v'>955.32</span></li><li><span class='ee-k'>SOLAR_IRRADIANCE_B9:</span><span class='ee-v'>812.92</span></li><li><span class='ee-k'>SPACECRAFT_NAME:</span><span class='ee-v'>Sentinel-2A</span></li><li><span class='ee-k'>THIN_CIRRUS_PERCENTAGE:</span><span class='ee-v'>0.202723</span></li><li><span class='ee-k'>UNCLASSIFIED_PERCENTAGE:</span><span class='ee-v'>11.359351</span></li><li><span class='ee-k'>VEGETATION_PERCENTAGE:</span><span class='ee-v'>36.846042</span></li><li><span class='ee-k'>WATER_PERCENTAGE:</span><span class='ee-v'>0.598791</span></li><li><span class='ee-k'>WATER_VAPOUR_RETRIEVAL_ACCURACY:</span><span class='ee-v'>0</span></li><li><span class='ee-k'>system:asset_size:</span><span class='ee-v'>1873122794</span></li><li><label class='ee-shut'>system:footprint: LinearRing (20 vertices)<input type='checkbox' class='ee-toggle'></label><ul><li><span class='ee-k'>type:</span><span class='ee-v'>LinearRing</span></li><li><label class='ee-shut'>coordinates: List (20 elements)<input type='checkbox' class='ee-toggle'></label><ul><li><label class='ee-shut'>0: [1.8700007990228986, 44.247917636955684]<input type='checkbox' class='ee-toggle'></label><ul><li><span class='ee-k'>0:</span><span class='ee-v'>1.8700007990228986</span></li><li><span class='ee-k'>1:</span><span class='ee-v'>44.247917636955684</span></li></ul></li><li><label class='ee-shut'>1: [1.8699850855557543, 44.247918182495646]<input type='checkbox' class='ee-toggle'></label><ul><li><span class='ee-k'>0:</span><span class='ee-v'>1.8699850855557543</span></li><li><span class='ee-k'>1:</span><span class='ee-v'>44.247918182495646</span></li></ul></li><li><label class='ee-shut'>2: [0.4959247745914669, 44.22605407688938]<input type='checkbox' class='ee-toggle'></label><ul><li><span class='ee-k'>0:</span><span class='ee-v'>0.4959247745914669</span></li><li><span class='ee-k'>1:</span><span class='ee-v'>44.22605407688938</span></li></ul></li><li><label class='ee-shut'>3: [0.4958684955841922, 44.226016272731485]<input type='checkbox' class='ee-toggle'></label><ul><li><span class='ee-k'>0:</span><span class='ee-v'>0.4958684955841922</span></li><li><span class='ee-k'>1:</span><span class='ee-v'>44.226016272731485</span></li></ul></li><li><label class='ee-shut'>4: [0.4958060194942513, 44.225983848033266]<input type='checkbox' class='ee-toggle'></label><ul><li><span class='ee-k'>0:</span><span class='ee-v'>0.4958060194942513</span></li><li><span class='ee-k'>1:</span><span class='ee-v'>44.225983848033266</span></li></ul></li><li><label class='ee-shut'>5: [0.4958027767933104, 44.22596896125999]<input type='checkbox' class='ee-toggle'></label><ul><li><span class='ee-k'>0:</span><span class='ee-v'>0.4958027767933104</span></li><li><span class='ee-k'>1:</span><span class='ee-v'>44.22596896125999</span></li></ul></li><li><label class='ee-shut'>6: [0.5164820399673606, 43.732225848089264]<input type='checkbox' class='ee-toggle'></label><ul><li><span class='ee-k'>0:</span><span class='ee-v'>0.5164820399673606</span></li><li><span class='ee-k'>1:</span><span class='ee-v'>43.732225848089264</span></li></ul></li><li><label class='ee-shut'>7: [0.536641597565372, 43.23843985520848]<input type='checkbox' class='ee-toggle'></label><ul><li><span class='ee-k'>0:</span><span class='ee-v'>0.536641597565372</span></li><li><span class='ee-k'>1:</span><span class='ee-v'>43.23843985520848</span></li></ul></li><li><label class='ee-shut'>8: [0.5366934620548592, 43.23839946088399]<input type='checkbox' class='ee-toggle'></label><ul><li><span class='ee-k'>0:</span><span class='ee-v'>0.5366934620548592</span></li><li><span class='ee-k'>1:</span><span class='ee-v'>43.23839946088399</span></li></ul></li><li><label class='ee-shut'>9: [0.5367379689099058, 43.238354672381114]<input type='checkbox' class='ee-toggle'></label><ul><li><span class='ee-k'>0:</span><span class='ee-v'>0.5367379689099058</span></li><li><span class='ee-k'>1:</span><span class='ee-v'>43.238354672381114</span></li></ul></li><li><label class='ee-shut'>10: [0.536758382929768, 43.238352288869905]<input type='checkbox' class='ee-toggle'></label><ul><li><span class='ee-k'>0:</span><span class='ee-v'>0.536758382929768</span></li><li><span class='ee-k'>1:</span><span class='ee-v'>43.238352288869905</span></li></ul></li><li><label class='ee-shut'>11: [1.8884349951170036, 43.25947962731146]<input type='checkbox' class='ee-toggle'></label><ul><li><span class='ee-k'>0:</span><span class='ee-v'>1.8884349951170036</span></li><li><span class='ee-k'>1:</span><span class='ee-v'>43.25947962731146</span></li></ul></li><li><label class='ee-shut'>12: [1.8884913191267436, 43.25951668397358]<input type='checkbox' class='ee-toggle'></label><ul><li><span class='ee-k'>0:</span><span class='ee-v'>1.8884913191267436</span></li><li><span class='ee-k'>1:</span><span class='ee-v'>43.25951668397358</span></li></ul></li><li><label class='ee-shut'>13: [1.8885534544273763, 43.259548408392185]<input type='checkbox' class='ee-toggle'></label><ul><li><span class='ee-k'>0:</span><span class='ee-v'>1.8885534544273763</span></li><li><span class='ee-k'>1:</span><span class='ee-v'>43.259548408392185</span></li></ul></li><li><label class='ee-shut'>14: [1.8885570305624528, 43.25956324790792]<input type='checkbox' class='ee-toggle'></label><ul><li><span class='ee-k'>0:</span><span class='ee-v'>1.8885570305624528</span></li><li><span class='ee-k'>1:</span><span class='ee-v'>43.25956324790792</span></li></ul></li><li><label class='ee-shut'>15: [1.8794520883691612, 43.75372232193368]<input type='checkbox' class='ee-toggle'></label><ul><li><span class='ee-k'>0:</span><span class='ee-v'>1.8794520883691612</span></li><li><span class='ee-k'>1:</span><span class='ee-v'>43.75372232193368</span></li></ul></li><li><label class='ee-shut'>16: [1.8701124318254518, 44.24782944261675]<input type='checkbox' class='ee-toggle'></label><ul><li><span class='ee-k'>0:</span><span class='ee-v'>1.8701124318254518</span></li><li><span class='ee-k'>1:</span><span class='ee-v'>44.24782944261675</span></li></ul></li><li><label class='ee-shut'>17: [1.8700605996150557, 44.24787040297219]<input type='checkbox' class='ee-toggle'></label><ul><li><span class='ee-k'>0:</span><span class='ee-v'>1.8700605996150557</span></li><li><span class='ee-k'>1:</span><span class='ee-v'>44.24787040297219</span></li></ul></li><li><label class='ee-shut'>18: [1.8700162890813077, 44.247915649495006]<input type='checkbox' class='ee-toggle'></label><ul><li><span class='ee-k'>0:</span><span class='ee-v'>1.8700162890813077</span></li><li><span class='ee-k'>1:</span><span class='ee-v'>44.247915649495006</span></li></ul></li><li><label class='ee-shut'>19: [1.8700007990228986, 44.247917636955684]<input type='checkbox' class='ee-toggle'></label><ul><li><span class='ee-k'>0:</span><span class='ee-v'>1.8700007990228986</span></li><li><span class='ee-k'>1:</span><span class='ee-v'>44.247917636955684</span></li></ul></li></ul></li></ul></li><li><span class='ee-k'>system:index:</span><span class='ee-v'>20201126T105401_20201126T105443_T31TCJ</span></li><li><span class='ee-k'>system:time_end:</span><span class='ee-v'>1606388339715</span></li><li><span class='ee-k'>system:time_start:</span><span class='ee-v'>1606388339715</span></li></ul></li></ul></li></ul></div><script>function toggleHeader() {\n",
       "    const parent = this.parentElement;\n",
       "    parent.className = parent.className === \"ee-open\" ? \"ee-shut\" : \"ee-open\";\n",
       "}\n",
       "\n",
       "for (let c of document.getElementsByClassName(\"ee-toggle\")) {\n",
       "    c.onclick = toggleHeader;\n",
       "}</script></div>"
      ],
      "text/plain": [
       "<ee.image.Image at 0x200f44d7990>"
      ]
     },
     "execution_count": 143,
     "metadata": {},
     "output_type": "execute_result"
    }
   ],
   "source": [
    "img"
   ]
  },
  {
   "cell_type": "markdown",
   "id": "8cdbb020-117f-43f0-b28d-2992f0990130",
   "metadata": {
    "jp-MarkdownHeadingCollapsed": true,
    "tags": []
   },
   "source": [
    "## Single Image"
   ]
  },
  {
   "cell_type": "code",
   "execution_count": 158,
   "id": "8811e4e0-9412-4b8f-b90a-caba698d7ec9",
   "metadata": {
    "tags": []
   },
   "outputs": [
    {
     "data": {
      "text/html": [
       "<div><style>:root {\n",
       "  --font-color-primary: var(--jp-content-font-color0, rgba(0, 0, 0, 1));\n",
       "  --font-color-secondary: var(--jp-content-font-color2, rgba(0, 0, 0, 0.6));\n",
       "  --font-color-accent: rgba(123, 31, 162, 1);\n",
       "  --border-color: var(--jp-border-color2, #e0e0e0);\n",
       "  --background-color: var(--jp-layout-color0, white);\n",
       "  --background-color-row-even: var(--jp-layout-color1, white);\n",
       "  --background-color-row-odd: var(--jp-layout-color2, #eeeeee);\n",
       "}\n",
       "\n",
       "html[theme=\"dark\"],\n",
       "body[data-theme=\"dark\"],\n",
       "body.vscode-dark {\n",
       "  --font-color-primary: rgba(255, 255, 255, 1);\n",
       "  --font-color-secondary: rgba(255, 255, 255, 0.6);\n",
       "  --font-color-accent: rgb(173, 132, 190);\n",
       "  --border-color: #2e2e2e;\n",
       "  --background-color: #111111;\n",
       "  --background-color-row-even: #111111;\n",
       "  --background-color-row-odd: #313131;\n",
       "}\n",
       "\n",
       ".ee {\n",
       "  padding: 1em;\n",
       "  line-height: 1.5em;\n",
       "  min-width: 300px;\n",
       "  max-width: 1200px;\n",
       "  overflow-y: scroll;\n",
       "  max-height: 600px;\n",
       "  border: 1px solid var(--border-color);\n",
       "  font-family: monospace;\n",
       "}\n",
       "\n",
       ".ee li {\n",
       "  list-style-type: none;\n",
       "}\n",
       "\n",
       ".ee ul {\n",
       "  padding-left: 1.5em !important;\n",
       "  margin: 0;\n",
       "}\n",
       "\n",
       ".ee > ul {\n",
       "  padding-left: 0 !important;\n",
       "}\n",
       "\n",
       ".ee-open,\n",
       ".ee-shut {\n",
       "  color: var(--font-color-secondary);\n",
       "  cursor: pointer;\n",
       "  margin: 0;\n",
       "}\n",
       "\n",
       ".ee-open:hover,\n",
       ".ee-shut:hover {\n",
       "  color: var(--font-color-primary);\n",
       "}\n",
       "\n",
       ".ee-k {\n",
       "  color: var(--font-color-accent);\n",
       "  margin-right: 6px;\n",
       "}\n",
       "\n",
       ".ee-v {\n",
       "  color: var(--font-color-primary);\n",
       "}\n",
       "\n",
       ".ee-toggle {\n",
       "  display: none;\n",
       "}\n",
       "\n",
       ".ee-shut + ul {\n",
       "  display: none;\n",
       "}\n",
       "\n",
       ".ee-open + ul {\n",
       "  display: block;\n",
       "}\n",
       "\n",
       ".ee-shut::before {\n",
       "  display: inline-block;\n",
       "  content: \"▼\";\n",
       "  margin-right: 6px;\n",
       "  transform: rotate(-90deg);\n",
       "  transition: transform 0.2s;\n",
       "}\n",
       "\n",
       ".ee-open::before {\n",
       "  transform: rotate(0deg);\n",
       "  display: inline-block;\n",
       "  content: \"▼\";\n",
       "  margin-right: 6px;\n",
       "  transition: transform 0.2s;\n",
       "}\n",
       "</style><div class='ee'><ul><li><label class='ee-shut'>Image COPERNICUS/S2_SR_HARMONIZED/20210110T105329_20210110T105325_T31TCJ (2 bands)<input type='checkbox' class='ee-toggle'></label><ul><li><span class='ee-k'>type:</span><span class='ee-v'>Image</span></li><li><span class='ee-k'>id:</span><span class='ee-v'>COPERNICUS/S2_SR_HARMONIZED/20210110T105329_20210110T105325_T31TCJ</span></li><li><span class='ee-k'>version:</span><span class='ee-v'>1685611394688603</span></li><li><label class='ee-shut'>bands: List (2 elements)<input type='checkbox' class='ee-toggle'></label><ul><li><label class='ee-shut'>0: \"B4\", unsigned int16, EPSG:32631, 10980x10980 px<input type='checkbox' class='ee-toggle'></label><ul><li><span class='ee-k'>id:</span><span class='ee-v'>B4</span></li><li><span class='ee-k'>crs:</span><span class='ee-v'>EPSG:32631</span></li><li><label class='ee-shut'>crs_transform: [10, 0, 300000, 0, -10, 4900020]<input type='checkbox' class='ee-toggle'></label><ul><li><span class='ee-k'>0:</span><span class='ee-v'>10</span></li><li><span class='ee-k'>1:</span><span class='ee-v'>0</span></li><li><span class='ee-k'>2:</span><span class='ee-v'>300000</span></li><li><span class='ee-k'>3:</span><span class='ee-v'>0</span></li><li><span class='ee-k'>4:</span><span class='ee-v'>-10</span></li><li><span class='ee-k'>5:</span><span class='ee-v'>4900020</span></li></ul></li><li><label class='ee-shut'>data_type: unsigned int16<input type='checkbox' class='ee-toggle'></label><ul><li><span class='ee-k'>type:</span><span class='ee-v'>PixelType</span></li><li><span class='ee-k'>max:</span><span class='ee-v'>65535</span></li><li><span class='ee-k'>min:</span><span class='ee-v'>0</span></li><li><span class='ee-k'>precision:</span><span class='ee-v'>int</span></li></ul></li><li><label class='ee-shut'>dimensions: [10980, 10980]<input type='checkbox' class='ee-toggle'></label><ul><li><span class='ee-k'>0:</span><span class='ee-v'>10980</span></li><li><span class='ee-k'>1:</span><span class='ee-v'>10980</span></li></ul></li></ul></li><li><label class='ee-shut'>1: \"B8A\", unsigned int16, EPSG:32631, 5490x5490 px<input type='checkbox' class='ee-toggle'></label><ul><li><span class='ee-k'>id:</span><span class='ee-v'>B8A</span></li><li><span class='ee-k'>crs:</span><span class='ee-v'>EPSG:32631</span></li><li><label class='ee-shut'>crs_transform: [20, 0, 300000, 0, -20, 4900020]<input type='checkbox' class='ee-toggle'></label><ul><li><span class='ee-k'>0:</span><span class='ee-v'>20</span></li><li><span class='ee-k'>1:</span><span class='ee-v'>0</span></li><li><span class='ee-k'>2:</span><span class='ee-v'>300000</span></li><li><span class='ee-k'>3:</span><span class='ee-v'>0</span></li><li><span class='ee-k'>4:</span><span class='ee-v'>-20</span></li><li><span class='ee-k'>5:</span><span class='ee-v'>4900020</span></li></ul></li><li><label class='ee-shut'>data_type: unsigned int16<input type='checkbox' class='ee-toggle'></label><ul><li><span class='ee-k'>type:</span><span class='ee-v'>PixelType</span></li><li><span class='ee-k'>max:</span><span class='ee-v'>65535</span></li><li><span class='ee-k'>min:</span><span class='ee-v'>0</span></li><li><span class='ee-k'>precision:</span><span class='ee-v'>int</span></li></ul></li><li><label class='ee-shut'>dimensions: [5490, 5490]<input type='checkbox' class='ee-toggle'></label><ul><li><span class='ee-k'>0:</span><span class='ee-v'>5490</span></li><li><span class='ee-k'>1:</span><span class='ee-v'>5490</span></li></ul></li></ul></li></ul></li><li><label class='ee-shut'>properties: Object (81 properties)<input type='checkbox' class='ee-toggle'></label><ul><li><span class='ee-k'>AOT_RETRIEVAL_ACCURACY:</span><span class='ee-v'>0</span></li><li><span class='ee-k'>CLOUDY_PIXEL_PERCENTAGE:</span><span class='ee-v'>49.036501</span></li><li><span class='ee-k'>CLOUD_COVERAGE_ASSESSMENT:</span><span class='ee-v'>49.036501</span></li><li><span class='ee-k'>CLOUD_SHADOW_PERCENTAGE:</span><span class='ee-v'>4.152293</span></li><li><span class='ee-k'>DARK_FEATURES_PERCENTAGE:</span><span class='ee-v'>8.834434</span></li><li><span class='ee-k'>DATASTRIP_ID:</span><span class='ee-v'>S2B_OPER_MSI_L2A_DS_VGS2_20210110T133755_S20210110T105325_N02.14</span></li><li><span class='ee-k'>DATATAKE_IDENTIFIER:</span><span class='ee-v'>GS2B_20210110T105329_020097_N02.14</span></li><li><span class='ee-k'>DATATAKE_TYPE:</span><span class='ee-v'>INS-NOBS</span></li><li><span class='ee-k'>DEGRADED_MSI_DATA_PERCENTAGE:</span><span class='ee-v'>0</span></li><li><span class='ee-k'>FORMAT_CORRECTNESS:</span><span class='ee-v'>PASSED</span></li><li><span class='ee-k'>GENERAL_QUALITY:</span><span class='ee-v'>PASSED</span></li><li><span class='ee-k'>GENERATION_TIME:</span><span class='ee-v'>1610285875000</span></li><li><span class='ee-k'>GEOMETRIC_QUALITY:</span><span class='ee-v'>PASSED</span></li><li><span class='ee-k'>GRANULE_ID:</span><span class='ee-v'>L2A_T31TCJ_A020097_20210110T105325</span></li><li><span class='ee-k'>HIGH_PROBA_CLOUDS_PERCENTAGE:</span><span class='ee-v'>32.695657</span></li><li><span class='ee-k'>MEAN_INCIDENCE_AZIMUTH_ANGLE_B1:</span><span class='ee-v'>198.654915922075</span></li><li><span class='ee-k'>MEAN_INCIDENCE_AZIMUTH_ANGLE_B10:</span><span class='ee-v'>200.915237246547</span></li><li><span class='ee-k'>MEAN_INCIDENCE_AZIMUTH_ANGLE_B11:</span><span class='ee-v'>199.660926247899</span></li><li><span class='ee-k'>MEAN_INCIDENCE_AZIMUTH_ANGLE_B12:</span><span class='ee-v'>198.887464069293</span></li><li><span class='ee-k'>MEAN_INCIDENCE_AZIMUTH_ANGLE_B2:</span><span class='ee-v'>204.923903345316</span></li><li><span class='ee-k'>MEAN_INCIDENCE_AZIMUTH_ANGLE_B3:</span><span class='ee-v'>202.327599165547</span></li><li><span class='ee-k'>MEAN_INCIDENCE_AZIMUTH_ANGLE_B4:</span><span class='ee-v'>200.849848188626</span></li><li><span class='ee-k'>MEAN_INCIDENCE_AZIMUTH_ANGLE_B5:</span><span class='ee-v'>200.275794943376</span></li><li><span class='ee-k'>MEAN_INCIDENCE_AZIMUTH_ANGLE_B6:</span><span class='ee-v'>199.621751309581</span></li><li><span class='ee-k'>MEAN_INCIDENCE_AZIMUTH_ANGLE_B7:</span><span class='ee-v'>199.257455507664</span></li><li><span class='ee-k'>MEAN_INCIDENCE_AZIMUTH_ANGLE_B8:</span><span class='ee-v'>203.459529795211</span></li><li><span class='ee-k'>MEAN_INCIDENCE_AZIMUTH_ANGLE_B8A:</span><span class='ee-v'>198.971731655013</span></li><li><span class='ee-k'>MEAN_INCIDENCE_AZIMUTH_ANGLE_B9:</span><span class='ee-v'>198.474526068623</span></li><li><span class='ee-k'>MEAN_INCIDENCE_ZENITH_ANGLE_B1:</span><span class='ee-v'>3.20014061973882</span></li><li><span class='ee-k'>MEAN_INCIDENCE_ZENITH_ANGLE_B10:</span><span class='ee-v'>2.75554715766628</span></li><li><span class='ee-k'>MEAN_INCIDENCE_ZENITH_ANGLE_B11:</span><span class='ee-v'>2.93010159524733</span></li><li><span class='ee-k'>MEAN_INCIDENCE_ZENITH_ANGLE_B12:</span><span class='ee-v'>3.12966266632779</span></li><li><span class='ee-k'>MEAN_INCIDENCE_ZENITH_ANGLE_B2:</span><span class='ee-v'>2.56259772816012</span></li><li><span class='ee-k'>MEAN_INCIDENCE_ZENITH_ANGLE_B3:</span><span class='ee-v'>2.66902906232812</span></li><li><span class='ee-k'>MEAN_INCIDENCE_ZENITH_ANGLE_B4:</span><span class='ee-v'>2.78938995027092</span></li><li><span class='ee-k'>MEAN_INCIDENCE_ZENITH_ANGLE_B5:</span><span class='ee-v'>2.86241975994668</span></li><li><span class='ee-k'>MEAN_INCIDENCE_ZENITH_ANGLE_B6:</span><span class='ee-v'>2.94137278192102</span></li><li><span class='ee-k'>MEAN_INCIDENCE_ZENITH_ANGLE_B7:</span><span class='ee-v'>3.02327628501497</span></li><li><span class='ee-k'>MEAN_INCIDENCE_ZENITH_ANGLE_B8:</span><span class='ee-v'>2.6122079050085</span></li><li><span class='ee-k'>MEAN_INCIDENCE_ZENITH_ANGLE_B8A:</span><span class='ee-v'>3.10884019158187</span></li><li><span class='ee-k'>MEAN_INCIDENCE_ZENITH_ANGLE_B9:</span><span class='ee-v'>3.29496712183955</span></li><li><span class='ee-k'>MEAN_SOLAR_AZIMUTH_ANGLE:</span><span class='ee-v'>163.941367806018</span></li><li><span class='ee-k'>MEAN_SOLAR_ZENITH_ANGLE:</span><span class='ee-v'>67.2453497017041</span></li><li><span class='ee-k'>MEDIUM_PROBA_CLOUDS_PERCENTAGE:</span><span class='ee-v'>10.096869</span></li><li><span class='ee-k'>MGRS_TILE:</span><span class='ee-v'>31TCJ</span></li><li><span class='ee-k'>NODATA_PIXEL_PERCENTAGE:</span><span class='ee-v'>1e-05</span></li><li><span class='ee-k'>NOT_VEGETATED_PERCENTAGE:</span><span class='ee-v'>4.543201</span></li><li><span class='ee-k'>PROCESSING_BASELINE:</span><span class='ee-v'>02.14</span></li><li><span class='ee-k'>PRODUCT_ID:</span><span class='ee-v'>S2B_MSIL2A_20210110T105329_N0214_R051_T31TCJ_20210110T133755</span></li><li><span class='ee-k'>RADIATIVE_TRANSFER_ACCURACY:</span><span class='ee-v'>0</span></li><li><span class='ee-k'>RADIOMETRIC_QUALITY:</span><span class='ee-v'>PASSED</span></li><li><span class='ee-k'>REFLECTANCE_CONVERSION_CORRECTION:</span><span class='ee-v'>1.03425324344899</span></li><li><span class='ee-k'>SATURATED_DEFECTIVE_PIXEL_PERCENTAGE:</span><span class='ee-v'>0</span></li><li><span class='ee-k'>SENSING_ORBIT_DIRECTION:</span><span class='ee-v'>DESCENDING</span></li><li><span class='ee-k'>SENSING_ORBIT_NUMBER:</span><span class='ee-v'>51</span></li><li><span class='ee-k'>SENSOR_QUALITY:</span><span class='ee-v'>PASSED</span></li><li><span class='ee-k'>SNOW_ICE_PERCENTAGE:</span><span class='ee-v'>0.165447</span></li><li><span class='ee-k'>SOLAR_IRRADIANCE_B1:</span><span class='ee-v'>1874.3</span></li><li><span class='ee-k'>SOLAR_IRRADIANCE_B10:</span><span class='ee-v'>365.41</span></li><li><span class='ee-k'>SOLAR_IRRADIANCE_B11:</span><span class='ee-v'>247.08</span></li><li><span class='ee-k'>SOLAR_IRRADIANCE_B12:</span><span class='ee-v'>87.75</span></li><li><span class='ee-k'>SOLAR_IRRADIANCE_B2:</span><span class='ee-v'>1959.75</span></li><li><span class='ee-k'>SOLAR_IRRADIANCE_B3:</span><span class='ee-v'>1824.93</span></li><li><span class='ee-k'>SOLAR_IRRADIANCE_B4:</span><span class='ee-v'>1512.79</span></li><li><span class='ee-k'>SOLAR_IRRADIANCE_B5:</span><span class='ee-v'>1425.78</span></li><li><span class='ee-k'>SOLAR_IRRADIANCE_B6:</span><span class='ee-v'>1291.13</span></li><li><span class='ee-k'>SOLAR_IRRADIANCE_B7:</span><span class='ee-v'>1175.57</span></li><li><span class='ee-k'>SOLAR_IRRADIANCE_B8:</span><span class='ee-v'>1041.28</span></li><li><span class='ee-k'>SOLAR_IRRADIANCE_B8A:</span><span class='ee-v'>953.93</span></li><li><span class='ee-k'>SOLAR_IRRADIANCE_B9:</span><span class='ee-v'>817.58</span></li><li><span class='ee-k'>SPACECRAFT_NAME:</span><span class='ee-v'>Sentinel-2B</span></li><li><span class='ee-k'>THIN_CIRRUS_PERCENTAGE:</span><span class='ee-v'>6.243975</span></li><li><span class='ee-k'>UNCLASSIFIED_PERCENTAGE:</span><span class='ee-v'>14.678766</span></li><li><span class='ee-k'>VEGETATION_PERCENTAGE:</span><span class='ee-v'>18.093413</span></li><li><span class='ee-k'>WATER_PERCENTAGE:</span><span class='ee-v'>0.495951</span></li><li><span class='ee-k'>WATER_VAPOUR_RETRIEVAL_ACCURACY:</span><span class='ee-v'>0</span></li><li><span class='ee-k'>system:asset_size:</span><span class='ee-v'>1542794964</span></li><li><label class='ee-shut'>system:footprint: LinearRing (20 vertices)<input type='checkbox' class='ee-toggle'></label><ul><li><span class='ee-k'>type:</span><span class='ee-v'>LinearRing</span></li><li><label class='ee-shut'>coordinates: List (20 elements)<input type='checkbox' class='ee-toggle'></label><ul><li><label class='ee-shut'>0: [1.8700007990228986, 44.247917636955684]<input type='checkbox' class='ee-toggle'></label><ul><li><span class='ee-k'>0:</span><span class='ee-v'>1.8700007990228986</span></li><li><span class='ee-k'>1:</span><span class='ee-v'>44.247917636955684</span></li></ul></li><li><label class='ee-shut'>1: [1.8699850855557543, 44.247918182495646]<input type='checkbox' class='ee-toggle'></label><ul><li><span class='ee-k'>0:</span><span class='ee-v'>1.8699850855557543</span></li><li><span class='ee-k'>1:</span><span class='ee-v'>44.247918182495646</span></li></ul></li><li><label class='ee-shut'>2: [0.4959247745914669, 44.22605407688938]<input type='checkbox' class='ee-toggle'></label><ul><li><span class='ee-k'>0:</span><span class='ee-v'>0.4959247745914669</span></li><li><span class='ee-k'>1:</span><span class='ee-v'>44.22605407688938</span></li></ul></li><li><label class='ee-shut'>3: [0.4958684955841922, 44.226016272731485]<input type='checkbox' class='ee-toggle'></label><ul><li><span class='ee-k'>0:</span><span class='ee-v'>0.4958684955841922</span></li><li><span class='ee-k'>1:</span><span class='ee-v'>44.226016272731485</span></li></ul></li><li><label class='ee-shut'>4: [0.4958060194942513, 44.225983848033266]<input type='checkbox' class='ee-toggle'></label><ul><li><span class='ee-k'>0:</span><span class='ee-v'>0.4958060194942513</span></li><li><span class='ee-k'>1:</span><span class='ee-v'>44.225983848033266</span></li></ul></li><li><label class='ee-shut'>5: [0.4958027767933104, 44.22596896125999]<input type='checkbox' class='ee-toggle'></label><ul><li><span class='ee-k'>0:</span><span class='ee-v'>0.4958027767933104</span></li><li><span class='ee-k'>1:</span><span class='ee-v'>44.22596896125999</span></li></ul></li><li><label class='ee-shut'>6: [0.5164820399673606, 43.732225848089264]<input type='checkbox' class='ee-toggle'></label><ul><li><span class='ee-k'>0:</span><span class='ee-v'>0.5164820399673606</span></li><li><span class='ee-k'>1:</span><span class='ee-v'>43.732225848089264</span></li></ul></li><li><label class='ee-shut'>7: [0.536641597565372, 43.23843985520848]<input type='checkbox' class='ee-toggle'></label><ul><li><span class='ee-k'>0:</span><span class='ee-v'>0.536641597565372</span></li><li><span class='ee-k'>1:</span><span class='ee-v'>43.23843985520848</span></li></ul></li><li><label class='ee-shut'>8: [0.5366934620548592, 43.23839946088399]<input type='checkbox' class='ee-toggle'></label><ul><li><span class='ee-k'>0:</span><span class='ee-v'>0.5366934620548592</span></li><li><span class='ee-k'>1:</span><span class='ee-v'>43.23839946088399</span></li></ul></li><li><label class='ee-shut'>9: [0.5367379689099058, 43.238354672381114]<input type='checkbox' class='ee-toggle'></label><ul><li><span class='ee-k'>0:</span><span class='ee-v'>0.5367379689099058</span></li><li><span class='ee-k'>1:</span><span class='ee-v'>43.238354672381114</span></li></ul></li><li><label class='ee-shut'>10: [0.536758382929768, 43.238352288869905]<input type='checkbox' class='ee-toggle'></label><ul><li><span class='ee-k'>0:</span><span class='ee-v'>0.536758382929768</span></li><li><span class='ee-k'>1:</span><span class='ee-v'>43.238352288869905</span></li></ul></li><li><label class='ee-shut'>11: [1.8884349951170036, 43.25947962731146]<input type='checkbox' class='ee-toggle'></label><ul><li><span class='ee-k'>0:</span><span class='ee-v'>1.8884349951170036</span></li><li><span class='ee-k'>1:</span><span class='ee-v'>43.25947962731146</span></li></ul></li><li><label class='ee-shut'>12: [1.8884913191267436, 43.25951668397358]<input type='checkbox' class='ee-toggle'></label><ul><li><span class='ee-k'>0:</span><span class='ee-v'>1.8884913191267436</span></li><li><span class='ee-k'>1:</span><span class='ee-v'>43.25951668397358</span></li></ul></li><li><label class='ee-shut'>13: [1.8885534544273763, 43.259548408392185]<input type='checkbox' class='ee-toggle'></label><ul><li><span class='ee-k'>0:</span><span class='ee-v'>1.8885534544273763</span></li><li><span class='ee-k'>1:</span><span class='ee-v'>43.259548408392185</span></li></ul></li><li><label class='ee-shut'>14: [1.8885570305624528, 43.25956324790792]<input type='checkbox' class='ee-toggle'></label><ul><li><span class='ee-k'>0:</span><span class='ee-v'>1.8885570305624528</span></li><li><span class='ee-k'>1:</span><span class='ee-v'>43.25956324790792</span></li></ul></li><li><label class='ee-shut'>15: [1.8794520883691612, 43.75372232193368]<input type='checkbox' class='ee-toggle'></label><ul><li><span class='ee-k'>0:</span><span class='ee-v'>1.8794520883691612</span></li><li><span class='ee-k'>1:</span><span class='ee-v'>43.75372232193368</span></li></ul></li><li><label class='ee-shut'>16: [1.8701124318254518, 44.24782944261675]<input type='checkbox' class='ee-toggle'></label><ul><li><span class='ee-k'>0:</span><span class='ee-v'>1.8701124318254518</span></li><li><span class='ee-k'>1:</span><span class='ee-v'>44.24782944261675</span></li></ul></li><li><label class='ee-shut'>17: [1.8700605996150557, 44.24787040297219]<input type='checkbox' class='ee-toggle'></label><ul><li><span class='ee-k'>0:</span><span class='ee-v'>1.8700605996150557</span></li><li><span class='ee-k'>1:</span><span class='ee-v'>44.24787040297219</span></li></ul></li><li><label class='ee-shut'>18: [1.8700162890813077, 44.247915649495006]<input type='checkbox' class='ee-toggle'></label><ul><li><span class='ee-k'>0:</span><span class='ee-v'>1.8700162890813077</span></li><li><span class='ee-k'>1:</span><span class='ee-v'>44.247915649495006</span></li></ul></li><li><label class='ee-shut'>19: [1.8700007990228986, 44.247917636955684]<input type='checkbox' class='ee-toggle'></label><ul><li><span class='ee-k'>0:</span><span class='ee-v'>1.8700007990228986</span></li><li><span class='ee-k'>1:</span><span class='ee-v'>44.247917636955684</span></li></ul></li></ul></li></ul></li><li><span class='ee-k'>system:index:</span><span class='ee-v'>20210110T105329_20210110T105325_T31TCJ</span></li><li><span class='ee-k'>system:time_end:</span><span class='ee-v'>1610276338056</span></li><li><span class='ee-k'>system:time_start:</span><span class='ee-v'>1610276338056</span></li></ul></li></ul></li></ul></div><script>function toggleHeader() {\n",
       "    const parent = this.parentElement;\n",
       "    parent.className = parent.className === \"ee-open\" ? \"ee-shut\" : \"ee-open\";\n",
       "}\n",
       "\n",
       "for (let c of document.getElementsByClassName(\"ee-toggle\")) {\n",
       "    c.onclick = toggleHeader;\n",
       "}</script></div>"
      ],
      "text/plain": [
       "<ee.image.Image at 0x200f57d49d0>"
      ]
     },
     "execution_count": 158,
     "metadata": {},
     "output_type": "execute_result"
    }
   ],
   "source": [
    "# Get first image of collection \n",
    "img = ee.Image(im_col.select('B4','B8A').first()) \n",
    "img #ee.image.Image"
   ]
  },
  {
   "cell_type": "code",
   "execution_count": 161,
   "id": "8b41aaa8-cec2-46b4-a1b3-7e4c0a99eb2b",
   "metadata": {
    "tags": []
   },
   "outputs": [],
   "source": [
    "# Get first image of collection for dowloading - displaying\n",
    "task=ee.batch.Export.image.toCloudStorage(**{\n",
    "          'image': img.clip(polygon),\n",
    "          'description': 'Toulouse MultiSpectral Test',\n",
    "          'bucket': 'datascience-sandbox-dev', #bucket name never changes\n",
    "          'fileNamePrefix':'LE/ChangeDetection/MultiSpectral/Image_Test' ,#path to file\n",
    "          'scale': 10,#resolution\n",
    "          'region':polygon,\n",
    "          'maxPixels': 15000000000,\n",
    "          'skipEmptyTiles': True\n",
    "          })\n",
    "task.start()"
   ]
  },
  {
   "cell_type": "markdown",
   "id": "deff80ec-34a8-413f-8d11-53b8aa95926c",
   "metadata": {
    "tags": []
   },
   "source": [
    "# Generate by using \"Generate_data_ee.py\"\n",
    "- See moree at https://developers.google.com/earth-engine/tutorials/community/sentinel-2-s2cloudless"
   ]
  },
  {
   "cell_type": "code",
   "execution_count": 7,
   "id": "22018dfb-4a89-4b85-a50b-83d9ebefd720",
   "metadata": {
    "tags": []
   },
   "outputs": [
    {
     "data": {
      "text/plain": [
       "\"\\n#### Display mask component layers\\ns2_sr_cld_col_eval = get_s2_sr_cld_col(AOI, START_DATE, END_DATE)\\ns2_sr_cld_col_eval_disp = s2_sr_cld_col_eval.map(add_cld_shdw_mask)\\ndisplay_cloud_layers(s2_sr_cld_col_eval_disp)\\n\\n#### Display the cloud-free composite\\n# Create a folium map object.\\ncenter = AOI.centroid(10).coordinates().reverse().getInfo()\\nm = folium.Map(location=center, zoom_start=12)\\n\\n# Add layers to the folium map.\\nm.add_ee_layer(s2_sr_median,\\n                {'bands': ['B4', 'B3', 'B2'], 'min': 0, 'max': 2500, 'gamma': 1.1},\\n                'S2 cloud-free mosaic', True, 1, 9)\\n\\n# Add a layer control panel to the map.\\nm.add_child(folium.LayerControl())\\n\\n# Display the map.\\ndisplay(m)\\n\\n\""
      ]
     },
     "execution_count": 7,
     "metadata": {},
     "output_type": "execute_result"
    }
   ],
   "source": [
    "def get_s2_sr_cld_col(aoi, start_date, end_date):\n",
    "    # Import and filter S2 SR.\n",
    "    CLOUD_FILTER = 75\n",
    "    s2_sr_col = (ee.ImageCollection('COPERNICUS/S2_SR_HARMONIZED')\n",
    "        .filterBounds(aoi)\n",
    "        .filterDate(start_date, end_date)\n",
    "        .filter(ee.Filter.lte('CLOUDY_PIXEL_PERCENTAGE', CLOUD_FILTER)))\\\n",
    "        .select('B2','B3', 'B4','B8','QA60','SCL')\n",
    "\n",
    "    # Import and filter s2cloudless.\n",
    "    s2_cloudless_col = (ee.ImageCollection('COPERNICUS/S2_CLOUD_PROBABILITY')\n",
    "        .filterBounds(aoi)\n",
    "        .filterDate(start_date, end_date))\n",
    "\n",
    "    # Join the filtered s2cloudless collection to the SR collection by the 'system:index' property.\n",
    "    return ee.ImageCollection(ee.Join.saveFirst('s2cloudless').apply(**{\n",
    "        'primary': s2_sr_col,\n",
    "        'secondary': s2_cloudless_col,\n",
    "        'condition': ee.Filter.equals(**{\n",
    "            'leftField': 'system:index',\n",
    "            'rightField': 'system:index'\n",
    "        })\n",
    "    }))\n",
    "# Import the folium library.\n",
    "import folium\n",
    "\n",
    "#### ADD FUNCTION TO DISPLAY CLOUDMASK AND CLOUDNESS IMGAES\n",
    "# Define a method for displaying Earth Engine image tiles to a folium map.\n",
    "def add_ee_layer(self, ee_image_object, vis_params, name, show=True, opacity=1, min_zoom=0):\n",
    "    map_id_dict = ee.Image(ee_image_object).getMapId(vis_params)\n",
    "    folium.raster_layers.TileLayer(\n",
    "        tiles=map_id_dict['tile_fetcher'].url_format,\n",
    "        attr='Map Data &copy; <a href=\"https://earthengine.google.com/\">Google Earth Engine</a>',\n",
    "        name=name,\n",
    "        show=show,\n",
    "        opacity=opacity,\n",
    "        min_zoom=min_zoom,\n",
    "        overlay=True,\n",
    "        control=True\n",
    "        ).add_to(self)\n",
    "\n",
    "# Add the Earth Engine layer method to folium.\n",
    "folium.Map.add_ee_layer = add_ee_layer\n",
    "\n",
    "def display_cloud_layers(col):\n",
    "    # Mosaic the image collection.\n",
    "    img = col.mosaic()\n",
    "\n",
    "    # Subset layers and prepare them for display.\n",
    "    clouds = img.select('clouds').selfMask()\n",
    "    shadows = img.select('shadows').selfMask()\n",
    "    dark_pixels = img.select('dark_pixels').selfMask()\n",
    "    probability = img.select('probability')\n",
    "    cloudmask = img.select('cloudmask').selfMask()\n",
    "    cloud_transform = img.select('cloud_transform')\n",
    "\n",
    "    # Create a folium map object.\n",
    "    center = AOI.centroid(10).coordinates().reverse().getInfo()\n",
    "    m = folium.Map(location=center, zoom_start=12)\n",
    "\n",
    "    # Add layers to the folium map.\n",
    "    m.add_ee_layer(img,\n",
    "                   {'bands': ['B4', 'B3', 'B2'], 'min': 0, 'max': 2500, 'gamma': 1.1},\n",
    "                   'S2 image', True, 1, 9)\n",
    "    m.add_ee_layer(probability,\n",
    "                   {'min': 0, 'max': 100},\n",
    "                   'probability (cloud)', False, 1, 9)\n",
    "    m.add_ee_layer(clouds,\n",
    "                   {'palette': 'e056fd'},\n",
    "                   'clouds', False, 1, 9)\n",
    "    m.add_ee_layer(cloud_transform,\n",
    "                   {'min': 0, 'max': 1, 'palette': ['white', 'black']},\n",
    "                   'cloud_transform', False, 1, 9)\n",
    "    m.add_ee_layer(dark_pixels,\n",
    "                   {'palette': 'orange'},\n",
    "                   'dark_pixels', False, 1, 9)\n",
    "    m.add_ee_layer(shadows, {'palette': 'yellow'},\n",
    "                   'shadows', False, 1, 9)\n",
    "    m.add_ee_layer(cloudmask, {'palette': 'orange'},\n",
    "                   'cloudmask', True, 0.5, 9)\n",
    "\n",
    "    # Add a layer control panel to the map.\n",
    "    m.add_child(folium.LayerControl())\n",
    "\n",
    "    # Display the map.\n",
    "    display(m)\n",
    "'''\n",
    "#### Display mask component layers\n",
    "s2_sr_cld_col_eval = get_s2_sr_cld_col(AOI, START_DATE, END_DATE)\n",
    "s2_sr_cld_col_eval_disp = s2_sr_cld_col_eval.map(add_cld_shdw_mask)\n",
    "display_cloud_layers(s2_sr_cld_col_eval_disp)\n",
    "\n",
    "#### Display the cloud-free composite\n",
    "# Create a folium map object.\n",
    "center = AOI.centroid(10).coordinates().reverse().getInfo()\n",
    "m = folium.Map(location=center, zoom_start=12)\n",
    "\n",
    "# Add layers to the folium map.\n",
    "m.add_ee_layer(s2_sr_median,\n",
    "                {'bands': ['B4', 'B3', 'B2'], 'min': 0, 'max': 2500, 'gamma': 1.1},\n",
    "                'S2 cloud-free mosaic', True, 1, 9)\n",
    "\n",
    "# Add a layer control panel to the map.\n",
    "m.add_child(folium.LayerControl())\n",
    "\n",
    "# Display the map.\n",
    "display(m)\n",
    "\n",
    "'''"
   ]
  },
  {
   "cell_type": "markdown",
   "id": "73d5207d-0cb9-4ead-8d0d-18ecf0939e72",
   "metadata": {
    "jp-MarkdownHeadingCollapsed": true,
    "tags": []
   },
   "source": [
    "## Text code"
   ]
  },
  {
   "cell_type": "code",
   "execution_count": 65,
   "id": "95209c31-fe53-4c89-ae58-501689459170",
   "metadata": {
    "tags": []
   },
   "outputs": [
    {
     "data": {
      "text/html": [
       "<pre>&lt;ee.imagecollection.ImageCollection object at 0x00000175F2169C50&gt;</pre>"
      ],
      "text/plain": [
       "<ee.imagecollection.ImageCollection at 0x175f2169c50>"
      ]
     },
     "execution_count": 65,
     "metadata": {},
     "output_type": "execute_result"
    }
   ],
   "source": [
    "# polygon - date_start - date_end\n",
    "s2_sr_cld_col = get_s2_sr_cld_col(polygon, date_start, date_end)  # ('B2','B3', 'B4','B8','QA60','SCL')\n",
    "s2_sr_cld_col"
   ]
  },
  {
   "cell_type": "code",
   "execution_count": 66,
   "id": "be7797cc-5d4e-4937-a800-1a3c0efccf0b",
   "metadata": {
    "tags": []
   },
   "outputs": [
    {
     "data": {
      "text/html": [
       "<pre>&lt;ee.imagecollection.ImageCollection object at 0x00000175F21A3D10&gt;</pre>"
      ],
      "text/plain": [
       "<ee.imagecollection.ImageCollection at 0x175f21a3d10>"
      ]
     },
     "execution_count": 66,
     "metadata": {},
     "output_type": "execute_result"
    }
   ],
   "source": [
    "### Define cloud and shadow mask and apply it\n",
    "s2_sr_cld_col = s2_sr_cld_col.map(add_cld_shdw_mask).map(apply_cld_shdw_mask) \n",
    "s2_sr_cld_col"
   ]
  },
  {
   "cell_type": "code",
   "execution_count": 67,
   "id": "cfd7e332-c8cc-4c78-8822-cca6735e2383",
   "metadata": {
    "tags": []
   },
   "outputs": [
    {
     "data": {
      "text/html": [
       "<pre>&lt;ee.imagecollection.ImageCollection object at 0x00000175F2192DD0&gt;</pre>"
      ],
      "text/plain": [
       "<ee.imagecollection.ImageCollection at 0x175f2192dd0>"
      ]
     },
     "execution_count": 67,
     "metadata": {},
     "output_type": "execute_result"
    }
   ],
   "source": [
    "# Select the particular band for dowloading \n",
    "#red_nir_col = s2_sr_cld_col.select('B4','B8')# Red -B4 and NIR-B8A\n",
    "red_nir_col = s2_sr_cld_col.select('B2','B3','B4')\n",
    "red_nir_col"
   ]
  },
  {
   "cell_type": "code",
   "execution_count": 68,
   "id": "92bc8f4e-1294-4a71-b368-28744e953d47",
   "metadata": {
    "collapsed": true,
    "jupyter": {
     "outputs_hidden": true
    },
    "tags": []
   },
   "outputs": [
    {
     "ename": "EEException",
     "evalue": "GeometryConstructors.Polygon: Inputs must be Number, List, or Geometry. Found type 'List<List<Float>>'.",
     "output_type": "error",
     "traceback": [
      "\u001b[1;31m---------------------------------------------------------------------------\u001b[0m",
      "\u001b[1;31mHttpError\u001b[0m                                 Traceback (most recent call last)",
      "File \u001b[1;32m~\\AppData\\Local\\miniconda3\\envs\\text\\Lib\\site-packages\\ee\\data.py:337\u001b[0m, in \u001b[0;36m_execute_cloud_call\u001b[1;34m(call, num_retries)\u001b[0m\n\u001b[0;32m    336\u001b[0m \u001b[38;5;28;01mtry\u001b[39;00m:\n\u001b[1;32m--> 337\u001b[0m   \u001b[38;5;28;01mreturn\u001b[39;00m \u001b[43mcall\u001b[49m\u001b[38;5;241;43m.\u001b[39;49m\u001b[43mexecute\u001b[49m\u001b[43m(\u001b[49m\u001b[43mnum_retries\u001b[49m\u001b[38;5;241;43m=\u001b[39;49m\u001b[43mnum_retries\u001b[49m\u001b[43m)\u001b[49m\n\u001b[0;32m    338\u001b[0m \u001b[38;5;28;01mexcept\u001b[39;00m googleapiclient\u001b[38;5;241m.\u001b[39merrors\u001b[38;5;241m.\u001b[39mHttpError \u001b[38;5;28;01mas\u001b[39;00m e:\n",
      "File \u001b[1;32m~\\AppData\\Local\\miniconda3\\envs\\text\\Lib\\site-packages\\googleapiclient\\_helpers.py:130\u001b[0m, in \u001b[0;36mpositional.<locals>.positional_decorator.<locals>.positional_wrapper\u001b[1;34m(*args, **kwargs)\u001b[0m\n\u001b[0;32m    129\u001b[0m         logger\u001b[38;5;241m.\u001b[39mwarning(message)\n\u001b[1;32m--> 130\u001b[0m \u001b[38;5;28;01mreturn\u001b[39;00m \u001b[43mwrapped\u001b[49m\u001b[43m(\u001b[49m\u001b[38;5;241;43m*\u001b[39;49m\u001b[43margs\u001b[49m\u001b[43m,\u001b[49m\u001b[43m \u001b[49m\u001b[38;5;241;43m*\u001b[39;49m\u001b[38;5;241;43m*\u001b[39;49m\u001b[43mkwargs\u001b[49m\u001b[43m)\u001b[49m\n",
      "File \u001b[1;32m~\\AppData\\Local\\miniconda3\\envs\\text\\Lib\\site-packages\\googleapiclient\\http.py:938\u001b[0m, in \u001b[0;36mHttpRequest.execute\u001b[1;34m(self, http, num_retries)\u001b[0m\n\u001b[0;32m    937\u001b[0m \u001b[38;5;28;01mif\u001b[39;00m resp\u001b[38;5;241m.\u001b[39mstatus \u001b[38;5;241m>\u001b[39m\u001b[38;5;241m=\u001b[39m \u001b[38;5;241m300\u001b[39m:\n\u001b[1;32m--> 938\u001b[0m     \u001b[38;5;28;01mraise\u001b[39;00m HttpError(resp, content, uri\u001b[38;5;241m=\u001b[39m\u001b[38;5;28mself\u001b[39m\u001b[38;5;241m.\u001b[39muri)\n\u001b[0;32m    939\u001b[0m \u001b[38;5;28;01mreturn\u001b[39;00m \u001b[38;5;28mself\u001b[39m\u001b[38;5;241m.\u001b[39mpostproc(resp, content)\n",
      "\u001b[1;31mHttpError\u001b[0m: <HttpError 400 when requesting https://earthengine.googleapis.com/v1alpha/projects/earthengine-legacy/value:compute?prettyPrint=false&alt=json returned \"GeometryConstructors.Polygon: Inputs must be Number, List, or Geometry. Found type 'List<List<Float>>'.\". Details: \"GeometryConstructors.Polygon: Inputs must be Number, List, or Geometry. Found type 'List<List<Float>>'.\">",
      "\nDuring handling of the above exception, another exception occurred:\n",
      "\u001b[1;31mEEException\u001b[0m                               Traceback (most recent call last)",
      "Cell \u001b[1;32mIn[68], line 5\u001b[0m\n\u001b[0;32m      3\u001b[0m date \u001b[38;5;241m=\u001b[39m ee\u001b[38;5;241m.\u001b[39mDate(firstImage\u001b[38;5;241m.\u001b[39mget(\u001b[38;5;124m'\u001b[39m\u001b[38;5;124msystem:time_start\u001b[39m\u001b[38;5;124m'\u001b[39m))\n\u001b[0;32m      4\u001b[0m date2 \u001b[38;5;241m=\u001b[39m date\u001b[38;5;241m.\u001b[39mformat(\u001b[38;5;124m'\u001b[39m\u001b[38;5;124mYYYY-MM-dd\u001b[39m\u001b[38;5;124m'\u001b[39m)\n\u001b[1;32m----> 5\u001b[0m \u001b[38;5;28mprint\u001b[39m(\u001b[38;5;124m'\u001b[39m\u001b[38;5;124mTimestamp: \u001b[39m\u001b[38;5;124m'\u001b[39m, \u001b[43mdate2\u001b[49m\u001b[38;5;241;43m.\u001b[39;49m\u001b[43mgetInfo\u001b[49m\u001b[43m(\u001b[49m\u001b[43m)\u001b[49m)\n",
      "File \u001b[1;32m~\\AppData\\Local\\miniconda3\\envs\\text\\Lib\\site-packages\\ee\\computedobject.py:96\u001b[0m, in \u001b[0;36mComputedObject.getInfo\u001b[1;34m(self)\u001b[0m\n\u001b[0;32m     90\u001b[0m \u001b[38;5;28;01mdef\u001b[39;00m \u001b[38;5;21mgetInfo\u001b[39m(\u001b[38;5;28mself\u001b[39m):\n\u001b[0;32m     91\u001b[0m \u001b[38;5;250m  \u001b[39m\u001b[38;5;124;03m\"\"\"Fetch and return information about this object.\u001b[39;00m\n\u001b[0;32m     92\u001b[0m \n\u001b[0;32m     93\u001b[0m \u001b[38;5;124;03m  Returns:\u001b[39;00m\n\u001b[0;32m     94\u001b[0m \u001b[38;5;124;03m    The object can evaluate to anything.\u001b[39;00m\n\u001b[0;32m     95\u001b[0m \u001b[38;5;124;03m  \"\"\"\u001b[39;00m\n\u001b[1;32m---> 96\u001b[0m   \u001b[38;5;28;01mreturn\u001b[39;00m \u001b[43mdata\u001b[49m\u001b[38;5;241;43m.\u001b[39;49m\u001b[43mcomputeValue\u001b[49m\u001b[43m(\u001b[49m\u001b[38;5;28;43mself\u001b[39;49m\u001b[43m)\u001b[49m\n",
      "File \u001b[1;32m~\\AppData\\Local\\miniconda3\\envs\\text\\Lib\\site-packages\\ee\\data.py:916\u001b[0m, in \u001b[0;36mcomputeValue\u001b[1;34m(obj)\u001b[0m\n\u001b[0;32m    913\u001b[0m body \u001b[38;5;241m=\u001b[39m {\u001b[38;5;124m'\u001b[39m\u001b[38;5;124mexpression\u001b[39m\u001b[38;5;124m'\u001b[39m: serializer\u001b[38;5;241m.\u001b[39mencode(obj, for_cloud_api\u001b[38;5;241m=\u001b[39m\u001b[38;5;28;01mTrue\u001b[39;00m)}\n\u001b[0;32m    914\u001b[0m _maybe_populate_workload_tag(body)\n\u001b[1;32m--> 916\u001b[0m \u001b[38;5;28;01mreturn\u001b[39;00m \u001b[43m_execute_cloud_call\u001b[49m\u001b[43m(\u001b[49m\n\u001b[0;32m    917\u001b[0m \u001b[43m    \u001b[49m\u001b[43m_get_cloud_api_resource\u001b[49m\u001b[43m(\u001b[49m\u001b[43m)\u001b[49m\u001b[38;5;241;43m.\u001b[39;49m\u001b[43mprojects\u001b[49m\u001b[43m(\u001b[49m\u001b[43m)\u001b[49m\u001b[38;5;241;43m.\u001b[39;49m\u001b[43mvalue\u001b[49m\u001b[43m(\u001b[49m\u001b[43m)\u001b[49m\u001b[38;5;241;43m.\u001b[39;49m\u001b[43mcompute\u001b[49m\u001b[43m(\u001b[49m\n\u001b[0;32m    918\u001b[0m \u001b[43m        \u001b[49m\u001b[43mbody\u001b[49m\u001b[38;5;241;43m=\u001b[39;49m\u001b[43mbody\u001b[49m\u001b[43m,\u001b[49m\n\u001b[0;32m    919\u001b[0m \u001b[43m        \u001b[49m\u001b[43mproject\u001b[49m\u001b[38;5;241;43m=\u001b[39;49m\u001b[43m_get_projects_path\u001b[49m\u001b[43m(\u001b[49m\u001b[43m)\u001b[49m\u001b[43m,\u001b[49m\n\u001b[0;32m    920\u001b[0m \u001b[43m        \u001b[49m\u001b[43mprettyPrint\u001b[49m\u001b[38;5;241;43m=\u001b[39;49m\u001b[38;5;28;43;01mFalse\u001b[39;49;00m\u001b[43m)\u001b[49m\u001b[43m)\u001b[49m[\u001b[38;5;124m'\u001b[39m\u001b[38;5;124mresult\u001b[39m\u001b[38;5;124m'\u001b[39m]\n",
      "File \u001b[1;32m~\\AppData\\Local\\miniconda3\\envs\\text\\Lib\\site-packages\\ee\\data.py:339\u001b[0m, in \u001b[0;36m_execute_cloud_call\u001b[1;34m(call, num_retries)\u001b[0m\n\u001b[0;32m    337\u001b[0m   \u001b[38;5;28;01mreturn\u001b[39;00m call\u001b[38;5;241m.\u001b[39mexecute(num_retries\u001b[38;5;241m=\u001b[39mnum_retries)\n\u001b[0;32m    338\u001b[0m \u001b[38;5;28;01mexcept\u001b[39;00m googleapiclient\u001b[38;5;241m.\u001b[39merrors\u001b[38;5;241m.\u001b[39mHttpError \u001b[38;5;28;01mas\u001b[39;00m e:\n\u001b[1;32m--> 339\u001b[0m   \u001b[38;5;28;01mraise\u001b[39;00m _translate_cloud_exception(e)\n",
      "\u001b[1;31mEEException\u001b[0m: GeometryConstructors.Polygon: Inputs must be Number, List, or Geometry. Found type 'List<List<Float>>'."
     ]
    }
   ],
   "source": [
    "#ee.Image(imList.get(im))\n",
    "firstImage = ee.Image(red_nir_col.first())#.get('id')\n",
    "date = ee.Date(firstImage.get('system:time_start'))\n",
    "date2 = date.format('YYYY-MM-dd')\n",
    "print('Timestamp: ', date2.getInfo())"
   ]
  },
  {
   "cell_type": "code",
   "execution_count": 17,
   "id": "8b9326c9-2fdb-4bba-8f92-d5f1e4f7b11f",
   "metadata": {
    "tags": []
   },
   "outputs": [
    {
     "data": {
      "text/plain": [
       "15"
      ]
     },
     "execution_count": 17,
     "metadata": {},
     "output_type": "execute_result"
    }
   ],
   "source": [
    "## get available dates \n",
    "import time\n",
    "acq_times = red_nir_col.aggregate_array('system:time_start').getInfo()\n",
    "len([time.strftime('%x', time.gmtime(acq_time/1000)) for acq_time in acq_times])"
   ]
  },
  {
   "cell_type": "markdown",
   "id": "4f450dd7-aaaa-42b2-ac96-77e7077dacf3",
   "metadata": {
    "jp-MarkdownHeadingCollapsed": true,
    "tags": []
   },
   "source": [
    "## Single-file Dowloading"
   ]
  },
  {
   "cell_type": "code",
   "execution_count": 60,
   "id": "564ae61d-1af3-4baf-947a-a1a5966d1dc0",
   "metadata": {
    "tags": []
   },
   "outputs": [
    {
     "name": "stdout",
     "output_type": "stream",
     "text": [
      "Timestamp:  20210110\n"
     ]
    },
    {
     "data": {
      "text/html": [
       "<div><style>:root {\n",
       "  --font-color-primary: var(--jp-content-font-color0, rgba(0, 0, 0, 1));\n",
       "  --font-color-secondary: var(--jp-content-font-color2, rgba(0, 0, 0, 0.6));\n",
       "  --font-color-accent: rgba(123, 31, 162, 1);\n",
       "  --border-color: var(--jp-border-color2, #e0e0e0);\n",
       "  --background-color: var(--jp-layout-color0, white);\n",
       "  --background-color-row-even: var(--jp-layout-color1, white);\n",
       "  --background-color-row-odd: var(--jp-layout-color2, #eeeeee);\n",
       "}\n",
       "\n",
       "html[theme=\"dark\"],\n",
       "body[data-theme=\"dark\"],\n",
       "body.vscode-dark {\n",
       "  --font-color-primary: rgba(255, 255, 255, 1);\n",
       "  --font-color-secondary: rgba(255, 255, 255, 0.6);\n",
       "  --font-color-accent: rgb(173, 132, 190);\n",
       "  --border-color: #2e2e2e;\n",
       "  --background-color: #111111;\n",
       "  --background-color-row-even: #111111;\n",
       "  --background-color-row-odd: #313131;\n",
       "}\n",
       "\n",
       ".ee {\n",
       "  padding: 1em;\n",
       "  line-height: 1.5em;\n",
       "  min-width: 300px;\n",
       "  max-width: 1200px;\n",
       "  overflow-y: scroll;\n",
       "  max-height: 600px;\n",
       "  border: 1px solid var(--border-color);\n",
       "  font-family: monospace;\n",
       "}\n",
       "\n",
       ".ee li {\n",
       "  list-style-type: none;\n",
       "}\n",
       "\n",
       ".ee ul {\n",
       "  padding-left: 1.5em !important;\n",
       "  margin: 0;\n",
       "}\n",
       "\n",
       ".ee > ul {\n",
       "  padding-left: 0 !important;\n",
       "}\n",
       "\n",
       ".ee-open,\n",
       ".ee-shut {\n",
       "  color: var(--font-color-secondary);\n",
       "  cursor: pointer;\n",
       "  margin: 0;\n",
       "}\n",
       "\n",
       ".ee-open:hover,\n",
       ".ee-shut:hover {\n",
       "  color: var(--font-color-primary);\n",
       "}\n",
       "\n",
       ".ee-k {\n",
       "  color: var(--font-color-accent);\n",
       "  margin-right: 6px;\n",
       "}\n",
       "\n",
       ".ee-v {\n",
       "  color: var(--font-color-primary);\n",
       "}\n",
       "\n",
       ".ee-toggle {\n",
       "  display: none;\n",
       "}\n",
       "\n",
       ".ee-shut + ul {\n",
       "  display: none;\n",
       "}\n",
       "\n",
       ".ee-open + ul {\n",
       "  display: block;\n",
       "}\n",
       "\n",
       ".ee-shut::before {\n",
       "  display: inline-block;\n",
       "  content: \"▼\";\n",
       "  margin-right: 6px;\n",
       "  transform: rotate(-90deg);\n",
       "  transition: transform 0.2s;\n",
       "}\n",
       "\n",
       ".ee-open::before {\n",
       "  transform: rotate(0deg);\n",
       "  display: inline-block;\n",
       "  content: \"▼\";\n",
       "  margin-right: 6px;\n",
       "  transition: transform 0.2s;\n",
       "}\n",
       "</style><div class='ee'><ul><li><label class='ee-shut'>Image COPERNICUS/S2_SR_HARMONIZED/20210110T134211_20210110T134211_T21JYM (3 bands)<input type='checkbox' class='ee-toggle'></label><ul><li><span class='ee-k'>type:</span><span class='ee-v'>Image</span></li><li><span class='ee-k'>id:</span><span class='ee-v'>COPERNICUS/S2_SR_HARMONIZED/20210110T134211_20210110T134211_T21JYM</span></li><li><span class='ee-k'>version:</span><span class='ee-v'>1685694188625038</span></li><li><label class='ee-shut'>bands: List (3 elements)<input type='checkbox' class='ee-toggle'></label><ul><li><label class='ee-shut'>0: \"B2\", unsigned int16, EPSG:32721, 10980x10980 px<input type='checkbox' class='ee-toggle'></label><ul><li><span class='ee-k'>id:</span><span class='ee-v'>B2</span></li><li><span class='ee-k'>crs:</span><span class='ee-v'>EPSG:32721</span></li><li><label class='ee-shut'>crs_transform: [10, 0, 699960, 0, -10, 7200040]<input type='checkbox' class='ee-toggle'></label><ul><li><span class='ee-k'>0:</span><span class='ee-v'>10</span></li><li><span class='ee-k'>1:</span><span class='ee-v'>0</span></li><li><span class='ee-k'>2:</span><span class='ee-v'>699960</span></li><li><span class='ee-k'>3:</span><span class='ee-v'>0</span></li><li><span class='ee-k'>4:</span><span class='ee-v'>-10</span></li><li><span class='ee-k'>5:</span><span class='ee-v'>7200040</span></li></ul></li><li><label class='ee-shut'>data_type: unsigned int16<input type='checkbox' class='ee-toggle'></label><ul><li><span class='ee-k'>type:</span><span class='ee-v'>PixelType</span></li><li><span class='ee-k'>max:</span><span class='ee-v'>65535</span></li><li><span class='ee-k'>min:</span><span class='ee-v'>0</span></li><li><span class='ee-k'>precision:</span><span class='ee-v'>int</span></li></ul></li><li><label class='ee-shut'>dimensions: [10980, 10980]<input type='checkbox' class='ee-toggle'></label><ul><li><span class='ee-k'>0:</span><span class='ee-v'>10980</span></li><li><span class='ee-k'>1:</span><span class='ee-v'>10980</span></li></ul></li></ul></li><li><label class='ee-shut'>1: \"B3\", unsigned int16, EPSG:32721, 10980x10980 px<input type='checkbox' class='ee-toggle'></label><ul><li><span class='ee-k'>id:</span><span class='ee-v'>B3</span></li><li><span class='ee-k'>crs:</span><span class='ee-v'>EPSG:32721</span></li><li><label class='ee-shut'>crs_transform: [10, 0, 699960, 0, -10, 7200040]<input type='checkbox' class='ee-toggle'></label><ul><li><span class='ee-k'>0:</span><span class='ee-v'>10</span></li><li><span class='ee-k'>1:</span><span class='ee-v'>0</span></li><li><span class='ee-k'>2:</span><span class='ee-v'>699960</span></li><li><span class='ee-k'>3:</span><span class='ee-v'>0</span></li><li><span class='ee-k'>4:</span><span class='ee-v'>-10</span></li><li><span class='ee-k'>5:</span><span class='ee-v'>7200040</span></li></ul></li><li><label class='ee-shut'>data_type: unsigned int16<input type='checkbox' class='ee-toggle'></label><ul><li><span class='ee-k'>type:</span><span class='ee-v'>PixelType</span></li><li><span class='ee-k'>max:</span><span class='ee-v'>65535</span></li><li><span class='ee-k'>min:</span><span class='ee-v'>0</span></li><li><span class='ee-k'>precision:</span><span class='ee-v'>int</span></li></ul></li><li><label class='ee-shut'>dimensions: [10980, 10980]<input type='checkbox' class='ee-toggle'></label><ul><li><span class='ee-k'>0:</span><span class='ee-v'>10980</span></li><li><span class='ee-k'>1:</span><span class='ee-v'>10980</span></li></ul></li></ul></li><li><label class='ee-shut'>2: \"B4\", unsigned int16, EPSG:32721, 10980x10980 px<input type='checkbox' class='ee-toggle'></label><ul><li><span class='ee-k'>id:</span><span class='ee-v'>B4</span></li><li><span class='ee-k'>crs:</span><span class='ee-v'>EPSG:32721</span></li><li><label class='ee-shut'>crs_transform: [10, 0, 699960, 0, -10, 7200040]<input type='checkbox' class='ee-toggle'></label><ul><li><span class='ee-k'>0:</span><span class='ee-v'>10</span></li><li><span class='ee-k'>1:</span><span class='ee-v'>0</span></li><li><span class='ee-k'>2:</span><span class='ee-v'>699960</span></li><li><span class='ee-k'>3:</span><span class='ee-v'>0</span></li><li><span class='ee-k'>4:</span><span class='ee-v'>-10</span></li><li><span class='ee-k'>5:</span><span class='ee-v'>7200040</span></li></ul></li><li><label class='ee-shut'>data_type: unsigned int16<input type='checkbox' class='ee-toggle'></label><ul><li><span class='ee-k'>type:</span><span class='ee-v'>PixelType</span></li><li><span class='ee-k'>max:</span><span class='ee-v'>65535</span></li><li><span class='ee-k'>min:</span><span class='ee-v'>0</span></li><li><span class='ee-k'>precision:</span><span class='ee-v'>int</span></li></ul></li><li><label class='ee-shut'>dimensions: [10980, 10980]<input type='checkbox' class='ee-toggle'></label><ul><li><span class='ee-k'>0:</span><span class='ee-v'>10980</span></li><li><span class='ee-k'>1:</span><span class='ee-v'>10980</span></li></ul></li></ul></li></ul></li><li><label class='ee-shut'>properties: Object (82 properties)<input type='checkbox' class='ee-toggle'></label><ul><li><span class='ee-k'>AOT_RETRIEVAL_ACCURACY:</span><span class='ee-v'>0</span></li><li><span class='ee-k'>CLOUDY_PIXEL_PERCENTAGE:</span><span class='ee-v'>10.372332</span></li><li><span class='ee-k'>CLOUD_COVERAGE_ASSESSMENT:</span><span class='ee-v'>10.372332</span></li><li><span class='ee-k'>CLOUD_SHADOW_PERCENTAGE:</span><span class='ee-v'>0.194024</span></li><li><span class='ee-k'>DARK_FEATURES_PERCENTAGE:</span><span class='ee-v'>0.206025</span></li><li><span class='ee-k'>DATASTRIP_ID:</span><span class='ee-v'>S2A_OPER_MSI_L2A_DS_VGS2_20210110T160345_S20210110T134211_N02.14</span></li><li><span class='ee-k'>DATATAKE_IDENTIFIER:</span><span class='ee-v'>GS2A_20210110T134211_029007_N02.14</span></li><li><span class='ee-k'>DATATAKE_TYPE:</span><span class='ee-v'>INS-NOBS</span></li><li><span class='ee-k'>DEGRADED_MSI_DATA_PERCENTAGE:</span><span class='ee-v'>0</span></li><li><span class='ee-k'>FORMAT_CORRECTNESS:</span><span class='ee-v'>PASSED</span></li><li><span class='ee-k'>GENERAL_QUALITY:</span><span class='ee-v'>PASSED</span></li><li><span class='ee-k'>GENERATION_TIME:</span><span class='ee-v'>1610294625000</span></li><li><span class='ee-k'>GEOMETRIC_QUALITY:</span><span class='ee-v'>PASSED</span></li><li><span class='ee-k'>GRANULE_ID:</span><span class='ee-v'>L2A_T21JYM_A029007_20210110T134211</span></li><li><span class='ee-k'>HIGH_PROBA_CLOUDS_PERCENTAGE:</span><span class='ee-v'>1.743256</span></li><li><span class='ee-k'>MEAN_INCIDENCE_AZIMUTH_ANGLE_B1:</span><span class='ee-v'>108.779487344066</span></li><li><span class='ee-k'>MEAN_INCIDENCE_AZIMUTH_ANGLE_B10:</span><span class='ee-v'>110.505636169989</span></li><li><span class='ee-k'>MEAN_INCIDENCE_AZIMUTH_ANGLE_B11:</span><span class='ee-v'>109.265228750017</span></li><li><span class='ee-k'>MEAN_INCIDENCE_AZIMUTH_ANGLE_B12:</span><span class='ee-v'>108.623621472799</span></li><li><span class='ee-k'>MEAN_INCIDENCE_AZIMUTH_ANGLE_B2:</span><span class='ee-v'>113.733038111218</span></li><li><span class='ee-k'>MEAN_INCIDENCE_AZIMUTH_ANGLE_B3:</span><span class='ee-v'>111.530710008367</span></li><li><span class='ee-k'>MEAN_INCIDENCE_AZIMUTH_ANGLE_B4:</span><span class='ee-v'>110.28736364656</span></li><li><span class='ee-k'>MEAN_INCIDENCE_AZIMUTH_ANGLE_B5:</span><span class='ee-v'>109.822090429688</span></li><li><span class='ee-k'>MEAN_INCIDENCE_AZIMUTH_ANGLE_B6:</span><span class='ee-v'>109.443280189306</span></li><li><span class='ee-k'>MEAN_INCIDENCE_AZIMUTH_ANGLE_B7:</span><span class='ee-v'>109.151053141656</span></li><li><span class='ee-k'>MEAN_INCIDENCE_AZIMUTH_ANGLE_B8:</span><span class='ee-v'>112.484851076683</span></li><li><span class='ee-k'>MEAN_INCIDENCE_AZIMUTH_ANGLE_B8A:</span><span class='ee-v'>108.91447822574</span></li><li><span class='ee-k'>MEAN_INCIDENCE_AZIMUTH_ANGLE_B9:</span><span class='ee-v'>108.627816099389</span></li><li><span class='ee-k'>MEAN_INCIDENCE_ZENITH_ANGLE_B1:</span><span class='ee-v'>4.08448408558289</span></li><li><span class='ee-k'>MEAN_INCIDENCE_ZENITH_ANGLE_B10:</span><span class='ee-v'>3.69661605617595</span></li><li><span class='ee-k'>MEAN_INCIDENCE_ZENITH_ANGLE_B11:</span><span class='ee-v'>3.84438226395885</span></li><li><span class='ee-k'>MEAN_INCIDENCE_ZENITH_ANGLE_B12:</span><span class='ee-v'>4.02052225985672</span></li><li><span class='ee-k'>MEAN_INCIDENCE_ZENITH_ANGLE_B2:</span><span class='ee-v'>3.53488249713142</span></li><li><span class='ee-k'>MEAN_INCIDENCE_ZENITH_ANGLE_B3:</span><span class='ee-v'>3.62718619973742</span></li><li><span class='ee-k'>MEAN_INCIDENCE_ZENITH_ANGLE_B4:</span><span class='ee-v'>3.73085747287376</span></li><li><span class='ee-k'>MEAN_INCIDENCE_ZENITH_ANGLE_B5:</span><span class='ee-v'>3.79355491020062</span></li><li><span class='ee-k'>MEAN_INCIDENCE_ZENITH_ANGLE_B6:</span><span class='ee-v'>3.86021979384214</span></li><li><span class='ee-k'>MEAN_INCIDENCE_ZENITH_ANGLE_B7:</span><span class='ee-v'>3.93068836261432</span></li><li><span class='ee-k'>MEAN_INCIDENCE_ZENITH_ANGLE_B8:</span><span class='ee-v'>3.5780618329792</span></li><li><span class='ee-k'>MEAN_INCIDENCE_ZENITH_ANGLE_B8A:</span><span class='ee-v'>4.00434138105281</span></li><li><span class='ee-k'>MEAN_INCIDENCE_ZENITH_ANGLE_B9:</span><span class='ee-v'>4.16632617856828</span></li><li><span class='ee-k'>MEAN_SOLAR_AZIMUTH_ANGLE:</span><span class='ee-v'>87.7064014834328</span></li><li><span class='ee-k'>MEAN_SOLAR_ZENITH_ANGLE:</span><span class='ee-v'>26.7184653507505</span></li><li><span class='ee-k'>MEDIUM_PROBA_CLOUDS_PERCENTAGE:</span><span class='ee-v'>0.793153</span></li><li><span class='ee-k'>MGRS_TILE:</span><span class='ee-v'>21JYM</span></li><li><span class='ee-k'>NODATA_PIXEL_PERCENTAGE:</span><span class='ee-v'>3e-06</span></li><li><span class='ee-k'>NOT_VEGETATED_PERCENTAGE:</span><span class='ee-v'>3.207352</span></li><li><span class='ee-k'>PROCESSING_BASELINE:</span><span class='ee-v'>02.14</span></li><li><span class='ee-k'>PRODUCT_ID:</span><span class='ee-v'>S2A_MSIL2A_20210110T134211_N0214_R124_T21JYM_20210110T160345</span></li><li><span class='ee-k'>RADIATIVE_TRANSFER_ACCURACY:</span><span class='ee-v'>0</span></li><li><span class='ee-k'>RADIOMETRIC_QUALITY:</span><span class='ee-v'>PASSED</span></li><li><span class='ee-k'>REFLECTANCE_CONVERSION_CORRECTION:</span><span class='ee-v'>1.03424884547879</span></li><li><span class='ee-k'>SATURATED_DEFECTIVE_PIXEL_PERCENTAGE:</span><span class='ee-v'>0</span></li><li><span class='ee-k'>SENSING_ORBIT_DIRECTION:</span><span class='ee-v'>DESCENDING</span></li><li><span class='ee-k'>SENSING_ORBIT_NUMBER:</span><span class='ee-v'>124</span></li><li><span class='ee-k'>SENSOR_QUALITY:</span><span class='ee-v'>PASSED</span></li><li><span class='ee-k'>SNOW_ICE_PERCENTAGE:</span><span class='ee-v'>0</span></li><li><span class='ee-k'>SOLAR_IRRADIANCE_B1:</span><span class='ee-v'>1884.69</span></li><li><span class='ee-k'>SOLAR_IRRADIANCE_B10:</span><span class='ee-v'>367.15</span></li><li><span class='ee-k'>SOLAR_IRRADIANCE_B11:</span><span class='ee-v'>245.59</span></li><li><span class='ee-k'>SOLAR_IRRADIANCE_B12:</span><span class='ee-v'>85.25</span></li><li><span class='ee-k'>SOLAR_IRRADIANCE_B2:</span><span class='ee-v'>1959.66</span></li><li><span class='ee-k'>SOLAR_IRRADIANCE_B3:</span><span class='ee-v'>1823.24</span></li><li><span class='ee-k'>SOLAR_IRRADIANCE_B4:</span><span class='ee-v'>1512.06</span></li><li><span class='ee-k'>SOLAR_IRRADIANCE_B5:</span><span class='ee-v'>1424.64</span></li><li><span class='ee-k'>SOLAR_IRRADIANCE_B6:</span><span class='ee-v'>1287.61</span></li><li><span class='ee-k'>SOLAR_IRRADIANCE_B7:</span><span class='ee-v'>1162.08</span></li><li><span class='ee-k'>SOLAR_IRRADIANCE_B8:</span><span class='ee-v'>1041.63</span></li><li><span class='ee-k'>SOLAR_IRRADIANCE_B8A:</span><span class='ee-v'>955.32</span></li><li><span class='ee-k'>SOLAR_IRRADIANCE_B9:</span><span class='ee-v'>812.92</span></li><li><span class='ee-k'>SPACECRAFT_NAME:</span><span class='ee-v'>Sentinel-2A</span></li><li><span class='ee-k'>THIN_CIRRUS_PERCENTAGE:</span><span class='ee-v'>7.835923</span></li><li><span class='ee-k'>UNCLASSIFIED_PERCENTAGE:</span><span class='ee-v'>1.008673</span></li><li><span class='ee-k'>VEGETATION_PERCENTAGE:</span><span class='ee-v'>82.535756</span></li><li><span class='ee-k'>WATER_PERCENTAGE:</span><span class='ee-v'>2.475834</span></li><li><span class='ee-k'>WATER_VAPOUR_RETRIEVAL_ACCURACY:</span><span class='ee-v'>0</span></li><li><label class='ee-shut'>s2cloudless: Image COPERNICUS/S2_CLOUD_PROBABILITY/20210110T134211_20210110T134211_T21JYM (1 band)<input type='checkbox' class='ee-toggle'></label><ul><li><span class='ee-k'>type:</span><span class='ee-v'>Image</span></li><li><span class='ee-k'>id:</span><span class='ee-v'>COPERNICUS/S2_CLOUD_PROBABILITY/20210110T134211_20210110T134211_T21JYM</span></li><li><span class='ee-k'>version:</span><span class='ee-v'>1610335303925160.0</span></li><li><label class='ee-shut'>bands: List (1 element)<input type='checkbox' class='ee-toggle'></label><ul><li><label class='ee-shut'>0: \"probability\", unsigned int8, EPSG:32721, 10980x10980 px<input type='checkbox' class='ee-toggle'></label><ul><li><span class='ee-k'>id:</span><span class='ee-v'>probability</span></li><li><span class='ee-k'>crs:</span><span class='ee-v'>EPSG:32721</span></li><li><label class='ee-shut'>crs_transform: [10, 0, 699960, 0, -10, 7200040]<input type='checkbox' class='ee-toggle'></label><ul><li><span class='ee-k'>0:</span><span class='ee-v'>10</span></li><li><span class='ee-k'>1:</span><span class='ee-v'>0</span></li><li><span class='ee-k'>2:</span><span class='ee-v'>699960</span></li><li><span class='ee-k'>3:</span><span class='ee-v'>0</span></li><li><span class='ee-k'>4:</span><span class='ee-v'>-10</span></li><li><span class='ee-k'>5:</span><span class='ee-v'>7200040</span></li></ul></li><li><label class='ee-shut'>data_type: unsigned int8<input type='checkbox' class='ee-toggle'></label><ul><li><span class='ee-k'>type:</span><span class='ee-v'>PixelType</span></li><li><span class='ee-k'>max:</span><span class='ee-v'>255</span></li><li><span class='ee-k'>min:</span><span class='ee-v'>0</span></li><li><span class='ee-k'>precision:</span><span class='ee-v'>int</span></li></ul></li><li><label class='ee-shut'>dimensions: [10980, 10980]<input type='checkbox' class='ee-toggle'></label><ul><li><span class='ee-k'>0:</span><span class='ee-v'>10980</span></li><li><span class='ee-k'>1:</span><span class='ee-v'>10980</span></li></ul></li></ul></li></ul></li><li><label class='ee-shut'>properties: Object (5 properties)<input type='checkbox' class='ee-toggle'></label><ul><li><span class='ee-k'>system:asset_size:</span><span class='ee-v'>33167694</span></li><li><label class='ee-shut'>system:footprint: LinearRing (21 vertices)<input type='checkbox' class='ee-toggle'></label><ul><li><span class='ee-k'>type:</span><span class='ee-v'>LinearRing</span></li><li><label class='ee-shut'>coordinates: List (21 elements)<input type='checkbox' class='ee-toggle'></label><ul><li><label class='ee-shut'>0: [-54.99716822157769, -26.29375560431931]<input type='checkbox' class='ee-toggle'></label><ul><li><span class='ee-k'>0:</span><span class='ee-v'>-54.99716822157769</span></li><li><span class='ee-k'>1:</span><span class='ee-v'>-26.29375560431931</span></li></ul></li><li><label class='ee-shut'>1: [-54.997151745401155, -26.293758167228138]<input type='checkbox' class='ee-toggle'></label><ul><li><span class='ee-k'>0:</span><span class='ee-v'>-54.997151745401155</span></li><li><span class='ee-k'>1:</span><span class='ee-v'>-26.293758167228138</span></li></ul></li><li><label class='ee-shut'>2: [-53.89854372226277, -26.274209929989063]<input type='checkbox' class='ee-toggle'></label><ul><li><span class='ee-k'>0:</span><span class='ee-v'>-53.89854372226277</span></li><li><span class='ee-k'>1:</span><span class='ee-v'>-26.274209929989063</span></li></ul></li><li><label class='ee-shut'>3: [-53.898498526673684, -26.274172341421817]<input type='checkbox' class='ee-toggle'></label><ul><li><span class='ee-k'>0:</span><span class='ee-v'>-53.898498526673684</span></li><li><span class='ee-k'>1:</span><span class='ee-v'>-26.274172341421817</span></li></ul></li><li><label class='ee-shut'>4: [-53.898448355454214, -26.27414015871186]<input type='checkbox' class='ee-toggle'></label><ul><li><span class='ee-k'>0:</span><span class='ee-v'>-53.898448355454214</span></li><li><span class='ee-k'>1:</span><span class='ee-v'>-26.27414015871186</span></li></ul></li><li><label class='ee-shut'>5: [-53.898445618843176, -26.27412536311211]<input type='checkbox' class='ee-toggle'></label><ul><li><span class='ee-k'>0:</span><span class='ee-v'>-53.898445618843176</span></li><li><span class='ee-k'>1:</span><span class='ee-v'>-26.27412536311211</span></li></ul></li><li><label class='ee-shut'>6: [-53.90498738969391, -26.026639705017867]<input type='checkbox' class='ee-toggle'></label><ul><li><span class='ee-k'>0:</span><span class='ee-v'>-53.90498738969391</span></li><li><span class='ee-k'>1:</span><span class='ee-v'>-26.026639705017867</span></li></ul></li><li><label class='ee-shut'>7: [-53.91144419862478, -25.77915165069129]<input type='checkbox' class='ee-toggle'></label><ul><li><span class='ee-k'>0:</span><span class='ee-v'>-53.91144419862478</span></li><li><span class='ee-k'>1:</span><span class='ee-v'>-25.77915165069129</span></li></ul></li><li><label class='ee-shut'>8: [-53.91781701954267, -25.531653675064298]<input type='checkbox' class='ee-toggle'></label><ul><li><span class='ee-k'>0:</span><span class='ee-v'>-53.91781701954267</span></li><li><span class='ee-k'>1:</span><span class='ee-v'>-25.531653675064298</span></li></ul></li><li><label class='ee-shut'>9: [-53.92410657810607, -25.284145868582957]<input type='checkbox' class='ee-toggle'></label><ul><li><span class='ee-k'>0:</span><span class='ee-v'>-53.92410657810607</span></li><li><span class='ee-k'>1:</span><span class='ee-v'>-25.284145868582957</span></li></ul></li><li><label class='ee-shut'>10: [-53.924148055609194, -25.28410519346468]<input type='checkbox' class='ee-toggle'></label><ul><li><span class='ee-k'>0:</span><span class='ee-v'>-53.924148055609194</span></li><li><span class='ee-k'>1:</span><span class='ee-v'>-25.28410519346468</span></li></ul></li><li><label class='ee-shut'>11: [-53.92418364332449, -25.284060286741326]<input type='checkbox' class='ee-toggle'></label><ul><li><span class='ee-k'>0:</span><span class='ee-v'>-53.92418364332449</span></li><li><span class='ee-k'>1:</span><span class='ee-v'>-25.284060286741326</span></li></ul></li><li><label class='ee-shut'>12: [-53.92420006842934, -25.284057809170733]<input type='checkbox' class='ee-toggle'></label><ul><li><span class='ee-k'>0:</span><span class='ee-v'>-53.92420006842934</span></li><li><span class='ee-k'>1:</span><span class='ee-v'>-25.284057809170733</span></li></ul></li><li><label class='ee-shut'>13: [-55.013735636980236, -25.302765502265185]<input type='checkbox' class='ee-toggle'></label><ul><li><span class='ee-k'>0:</span><span class='ee-v'>-55.013735636980236</span></li><li><span class='ee-k'>1:</span><span class='ee-v'>-25.302765502265185</span></li></ul></li><li><label class='ee-shut'>14: [-55.013780955381236, -25.302802716053595]<input type='checkbox' class='ee-toggle'></label><ul><li><span class='ee-k'>0:</span><span class='ee-v'>-55.013780955381236</span></li><li><span class='ee-k'>1:</span><span class='ee-v'>-25.302802716053595</span></li></ul></li><li><label class='ee-shut'>15: [-55.01383098221578, -25.30283451067755]<input type='checkbox' class='ee-toggle'></label><ul><li><span class='ee-k'>0:</span><span class='ee-v'>-55.01383098221578</span></li><li><span class='ee-k'>1:</span><span class='ee-v'>-25.30283451067755</span></li></ul></li><li><label class='ee-shut'>16: [-55.01383384089293, -25.302849298433646]<input type='checkbox' class='ee-toggle'></label><ul><li><span class='ee-k'>0:</span><span class='ee-v'>-55.01383384089293</span></li><li><span class='ee-k'>1:</span><span class='ee-v'>-25.302849298433646</span></li></ul></li><li><label class='ee-shut'>17: [-55.0056481634527, -25.798281273707588]<input type='checkbox' class='ee-toggle'></label><ul><li><span class='ee-k'>0:</span><span class='ee-v'>-55.0056481634527</span></li><li><span class='ee-k'>1:</span><span class='ee-v'>-25.798281273707588</span></li></ul></li><li><label class='ee-shut'>18: [-54.997245222526985, -26.29366944977935]<input type='checkbox' class='ee-toggle'></label><ul><li><span class='ee-k'>0:</span><span class='ee-v'>-54.997245222526985</span></li><li><span class='ee-k'>1:</span><span class='ee-v'>-26.29366944977935</span></li></ul></li><li><label class='ee-shut'>19: [-54.997203695805425, -26.293710350645622]<input type='checkbox' class='ee-toggle'></label><ul><li><span class='ee-k'>0:</span><span class='ee-v'>-54.997203695805425</span></li><li><span class='ee-k'>1:</span><span class='ee-v'>-26.293710350645622</span></li></ul></li><li><label class='ee-shut'>20: [-54.99716822157769, -26.29375560431931]<input type='checkbox' class='ee-toggle'></label><ul><li><span class='ee-k'>0:</span><span class='ee-v'>-54.99716822157769</span></li><li><span class='ee-k'>1:</span><span class='ee-v'>-26.29375560431931</span></li></ul></li></ul></li></ul></li><li><span class='ee-k'>system:index:</span><span class='ee-v'>20210110T134211_20210110T134211_T21JYM</span></li><li><span class='ee-k'>system:time_end:</span><span class='ee-v'>1610372531000</span></li><li><span class='ee-k'>system:time_start:</span><span class='ee-v'>1610286131000</span></li></ul></li></ul></li><li><span class='ee-k'>system:asset_size:</span><span class='ee-v'>1631342213</span></li><li><label class='ee-shut'>system:footprint: LinearRing (21 vertices)<input type='checkbox' class='ee-toggle'></label><ul><li><span class='ee-k'>type:</span><span class='ee-v'>LinearRing</span></li><li><label class='ee-shut'>coordinates: List (21 elements)<input type='checkbox' class='ee-toggle'></label><ul><li><label class='ee-shut'>0: [-54.99722059230302, -26.293620906975267]<input type='checkbox' class='ee-toggle'></label><ul><li><span class='ee-k'>0:</span><span class='ee-v'>-54.99722059230302</span></li><li><span class='ee-k'>1:</span><span class='ee-v'>-26.293620906975267</span></li></ul></li><li><label class='ee-shut'>1: [-54.99720411611626, -26.293623548430446]<input type='checkbox' class='ee-toggle'></label><ul><li><span class='ee-k'>0:</span><span class='ee-v'>-54.99720411611626</span></li><li><span class='ee-k'>1:</span><span class='ee-v'>-26.293623548430446</span></li></ul></li><li><label class='ee-shut'>2: [-53.8986973045345, -26.274077864921384]<input type='checkbox' class='ee-toggle'></label><ul><li><span class='ee-k'>0:</span><span class='ee-v'>-53.8986973045345</span></li><li><span class='ee-k'>1:</span><span class='ee-v'>-26.274077864921384</span></li></ul></li><li><label class='ee-shut'>3: [-53.89865210885605, -26.274040354203077]<input type='checkbox' class='ee-toggle'></label><ul><li><span class='ee-k'>0:</span><span class='ee-v'>-53.89865210885605</span></li><li><span class='ee-k'>1:</span><span class='ee-v'>-26.274040354203077</span></li></ul></li><li><label class='ee-shut'>4: [-53.89860193753737, -26.274008171567054]<input type='checkbox' class='ee-toggle'></label><ul><li><span class='ee-k'>0:</span><span class='ee-v'>-53.89860193753737</span></li><li><span class='ee-k'>1:</span><span class='ee-v'>-26.274008171567054</span></li></ul></li><li><label class='ee-shut'>5: [-53.89859920092092, -26.273993298151865]<input type='checkbox' class='ee-toggle'></label><ul><li><span class='ee-k'>0:</span><span class='ee-v'>-53.89859920092092</span></li><li><span class='ee-k'>1:</span><span class='ee-v'>-26.273993298151865</span></li></ul></li><li><label class='ee-shut'>6: [-53.905140072422846, -26.026530217957294]<input type='checkbox' class='ee-toggle'></label><ul><li><span class='ee-k'>0:</span><span class='ee-v'>-53.905140072422846</span></li><li><span class='ee-k'>1:</span><span class='ee-v'>-26.026530217957294</span></li></ul></li><li><label class='ee-shut'>7: [-53.91159589873882, -25.77906460581433]<input type='checkbox' class='ee-toggle'></label><ul><li><span class='ee-k'>0:</span><span class='ee-v'>-53.91159589873882</span></li><li><span class='ee-k'>1:</span><span class='ee-v'>-25.77906460581433</span></li></ul></li><li><label class='ee-shut'>8: [-53.91796781965734, -25.53158921391717]<input type='checkbox' class='ee-toggle'></label><ul><li><span class='ee-k'>0:</span><span class='ee-v'>-53.91796781965734</span></li><li><span class='ee-k'>1:</span><span class='ee-v'>-25.53158921391717</span></li></ul></li><li><label class='ee-shut'>9: [-53.92425656086191, -25.28410389449916]<input type='checkbox' class='ee-toggle'></label><ul><li><span class='ee-k'>0:</span><span class='ee-v'>-53.92425656086191</span></li><li><span class='ee-k'>1:</span><span class='ee-v'>-25.28410389449916</span></li></ul></li><li><label class='ee-shut'>10: [-53.92429803844498, -25.28406329726376]<input type='checkbox' class='ee-toggle'></label><ul><li><span class='ee-k'>0:</span><span class='ee-v'>-53.92429803844498</span></li><li><span class='ee-k'>1:</span><span class='ee-v'>-25.28406329726376</span></li></ul></li><li><label class='ee-shut'>11: [-53.924333543273654, -25.284018289064512]<input type='checkbox' class='ee-toggle'></label><ul><li><span class='ee-k'>0:</span><span class='ee-v'>-53.924333543273654</span></li><li><span class='ee-k'>1:</span><span class='ee-v'>-25.284018289064512</span></li></ul></li><li><label class='ee-shut'>12: [-53.92434996841015, -25.284015811461995]<input type='checkbox' class='ee-toggle'></label><ul><li><span class='ee-k'>0:</span><span class='ee-v'>-53.92434996841015</span></li><li><span class='ee-k'>1:</span><span class='ee-v'>-25.284015811461995</span></li></ul></li><li><label class='ee-shut'>13: [-55.0137860841814, -25.30272103827268]<input type='checkbox' class='ee-toggle'></label><ul><li><span class='ee-k'>0:</span><span class='ee-v'>-55.0137860841814</span></li><li><span class='ee-k'>1:</span><span class='ee-v'>-25.30272103827268</span></li></ul></li><li><label class='ee-shut'>14: [-55.013831318530734, -25.302758229306235]<input type='checkbox' class='ee-toggle'></label><ul><li><span class='ee-k'>0:</span><span class='ee-v'>-55.013831318530734</span></li><li><span class='ee-k'>1:</span><span class='ee-v'>-25.302758229306235</span></li></ul></li><li><label class='ee-shut'>15: [-55.01388134539513, -25.30279002390514]<input type='checkbox' class='ee-toggle'></label><ul><li><span class='ee-k'>0:</span><span class='ee-v'>-55.01388134539513</span></li><li><span class='ee-k'>1:</span><span class='ee-v'>-25.30279002390514</span></li></ul></li><li><label class='ee-shut'>16: [-55.01388420407398, -25.30280481166653]<input type='checkbox' class='ee-toggle'></label><ul><li><span class='ee-k'>0:</span><span class='ee-v'>-55.01388420407398</span></li><li><span class='ee-k'>1:</span><span class='ee-v'>-25.30280481166653</span></li></ul></li><li><label class='ee-shut'>17: [-55.005699446525874, -25.798191700024603]<input type='checkbox' class='ee-toggle'></label><ul><li><span class='ee-k'>0:</span><span class='ee-v'>-55.005699446525874</span></li><li><span class='ee-k'>1:</span><span class='ee-v'>-25.798191700024603</span></li></ul></li><li><label class='ee-shut'>18: [-54.99729759330015, -26.293534752238426]<input type='checkbox' class='ee-toggle'></label><ul><li><span class='ee-k'>0:</span><span class='ee-v'>-54.99729759330015</span></li><li><span class='ee-k'>1:</span><span class='ee-v'>-26.293534752238426</span></li></ul></li><li><label class='ee-shut'>19: [-54.99725606655279, -26.293575653206148]<input type='checkbox' class='ee-toggle'></label><ul><li><span class='ee-k'>0:</span><span class='ee-v'>-54.99725606655279</span></li><li><span class='ee-k'>1:</span><span class='ee-v'>-26.293575653206148</span></li></ul></li><li><label class='ee-shut'>20: [-54.99722059230302, -26.293620906975267]<input type='checkbox' class='ee-toggle'></label><ul><li><span class='ee-k'>0:</span><span class='ee-v'>-54.99722059230302</span></li><li><span class='ee-k'>1:</span><span class='ee-v'>-26.293620906975267</span></li></ul></li></ul></li></ul></li><li><span class='ee-k'>system:index:</span><span class='ee-v'>20210110T134211_20210110T134211_T21JYM</span></li><li><span class='ee-k'>system:time_end:</span><span class='ee-v'>1610286580462</span></li><li><span class='ee-k'>system:time_start:</span><span class='ee-v'>1610286580462</span></li></ul></li></ul></li></ul></div><script>function toggleHeader() {\n",
       "    const parent = this.parentElement;\n",
       "    parent.className = parent.className === \"ee-open\" ? \"ee-shut\" : \"ee-open\";\n",
       "}\n",
       "\n",
       "for (let c of document.getElementsByClassName(\"ee-toggle\")) {\n",
       "    c.onclick = toggleHeader;\n",
       "}</script></div>"
      ],
      "text/plain": [
       "<ee.image.Image at 0x1d786cf4550>"
      ]
     },
     "execution_count": 60,
     "metadata": {},
     "output_type": "execute_result"
    }
   ],
   "source": [
    "# Take the 1st image\n",
    "img = ee.Image(red_nir_col.first()) \n",
    "date = ee.Date(firstImage.get('system:time_start'))\n",
    "#date2 = date.format('YYYY-MM-dd')\n",
    "date2 = date.format('YYYYMMdd').getInfo()\n",
    "print('Timestamp: ', date2) #2021-01-10\n",
    "img"
   ]
  },
  {
   "cell_type": "code",
   "execution_count": 61,
   "id": "63b3651a-0e4e-42ab-a3f1-0244797bd2b3",
   "metadata": {
    "tags": []
   },
   "outputs": [],
   "source": [
    "# Get first image of collection for dowloading - displaying\n",
    "task=ee.batch.Export.image.toCloudStorage(**{\n",
    "          'image': img.clip(polygon),\n",
    "          'description': 'Toulouse MultiSpectral Images',\n",
    "          'bucket': 'datascience-sandbox-dev', #bucket name never changes\n",
    "          'fileNamePrefix':'LE/ChangeDetection/MultiSpectral/104843523_Bands_'+str(date2)+'_Sentinel2' ,#path to file\n",
    "          'scale': 10,#resolution\n",
    "          'region':polygon,\n",
    "          'maxPixels': 15000000000,\n",
    "          'skipEmptyTiles': True\n",
    "          })\n",
    "task.start()"
   ]
  },
  {
   "cell_type": "markdown",
   "id": "74725d24-348d-4ca2-87ae-334f3fb32017",
   "metadata": {
    "tags": []
   },
   "source": [
    "## Multiple downloading for multiple fields"
   ]
  },
  {
   "cell_type": "code",
   "execution_count": 27,
   "id": "7a4856f3-9ee8-4783-a771-2956936238d5",
   "metadata": {
    "tags": []
   },
   "outputs": [],
   "source": [
    "def MultispectralImagesDowloading(dataframe, date_start,date_end):\n",
    "    for idx,row in dataframe.iterrows():        \n",
    "        # Convert to shapely file\n",
    "        coordinate_raw = shapely.wkt.loads(row['geometry'])\n",
    "        # Get the coordinates\n",
    "        coordinate = mapping(coordinate_raw).get('coordinates')[0]\n",
    "        polygon = ee.Geometry.Polygon(coordinate,None,False)\n",
    "        # --> Convert datatype        \n",
    "        s2_sr_cld_col = get_s2_sr_cld_col(polygon, date_start, date_end)\n",
    "        s2_sr_cld_col = s2_sr_cld_col.map(add_cld_shdw_mask).map(apply_cld_shdw_mask)\n",
    "        red_nir_col = s2_sr_cld_col.select('B3','B4','B8')\n",
    "        imList = red_nir_col.toList(red_nir_col.size())\n",
    "        #print(imList.length().getInfo() )\n",
    "        #'''\n",
    "        # Dowload Image\n",
    "        for im in range(imList.length().getInfo()):\n",
    "            img = ee.Image(imList.get(im))\n",
    "            date = ee.Date(img.get('system:time_start'))\n",
    "            year =date.format('YYYY').getInfo()\n",
    "            date2 = date.format('YYYYMMdd').getInfo()\n",
    "            task=ee.batch.Export.image.toCloudStorage(**{ 'image': img.clip(polygon), \n",
    "                                                         'description': 'MS_'+str(row['sfd_id'])+'_'+str(date2), \n",
    "                                                         'bucket': 'datascience-sandbox-dev', #bucket name never changes \n",
    "                                                         #'fileNamePrefix':'LE/ChangeDetection/MultiSpectral/' + str(im),#path to file \n",
    "                                                         'fileNamePrefix':'LE/ChangeDetection/MultiSpectral/'+str(row['sfd_id'])+'/'+str(year)+'/'+ str(row['sfd_id'])+'_Bands_'+str(date2)+'_Sentinel2' , #path to file\n",
    "                                                         'scale': 10,#resolution \n",
    "                                                         'region':polygon, \n",
    "                                                         'maxPixels': 15000000000, \n",
    "                                                         'skipEmptyTiles': True }) \n",
    "            task.start()\n",
    "        #'''"
   ]
  },
  {
   "cell_type": "code",
   "execution_count": 23,
   "id": "1b44d1a9-55be-4d57-8b0b-b3ce8fc90173",
   "metadata": {
    "tags": []
   },
   "outputs": [
    {
     "data": {
      "text/plain": [
       "'2021-01-01'"
      ]
     },
     "execution_count": 23,
     "metadata": {},
     "output_type": "execute_result"
    }
   ],
   "source": [
    "MultispectralImagesDowloading(data,date_start,date_end)\n",
    "date_start"
   ]
  },
  {
   "cell_type": "code",
   "execution_count": 22,
   "id": "a0e0f9b9-7b7e-4e3b-937e-5b8279d2e460",
   "metadata": {
    "collapsed": true,
    "jupyter": {
     "outputs_hidden": true
    },
    "tags": []
   },
   "outputs": [
    {
     "ename": "NameError",
     "evalue": "name 'red_nir_col' is not defined",
     "output_type": "error",
     "traceback": [
      "\u001b[1;31m---------------------------------------------------------------------------\u001b[0m",
      "\u001b[1;31mNameError\u001b[0m                                 Traceback (most recent call last)",
      "Cell \u001b[1;32mIn[22], line 5\u001b[0m\n\u001b[0;32m      1\u001b[0m \u001b[38;5;66;03m# For multiple downloading image\u001b[39;00m\n\u001b[0;32m      2\u001b[0m \u001b[38;5;66;03m# Get a list of image for dowloading\u001b[39;00m\n\u001b[0;32m      3\u001b[0m \n\u001b[0;32m      4\u001b[0m \u001b[38;5;66;03m#Sentinal2 B3-green, B4-red, B8-nir\u001b[39;00m\n\u001b[1;32m----> 5\u001b[0m imList\u001b[38;5;241m=\u001b[39m\u001b[43mred_nir_col\u001b[49m\u001b[38;5;241m.\u001b[39mselect(\u001b[38;5;124m'\u001b[39m\u001b[38;5;124mB3\u001b[39m\u001b[38;5;124m'\u001b[39m,\u001b[38;5;124m'\u001b[39m\u001b[38;5;124mB4\u001b[39m\u001b[38;5;124m'\u001b[39m,\u001b[38;5;124m'\u001b[39m\u001b[38;5;124mB8\u001b[39m\u001b[38;5;124m'\u001b[39m)\u001b[38;5;241m.\u001b[39mtoList(red_nir_col\u001b[38;5;241m.\u001b[39msize())\n\u001b[0;32m      6\u001b[0m \u001b[38;5;28;01mfor\u001b[39;00m im \u001b[38;5;129;01min\u001b[39;00m \u001b[38;5;28mrange\u001b[39m(imList\u001b[38;5;241m.\u001b[39mlength()\u001b[38;5;241m.\u001b[39mgetInfo()):\n\u001b[0;32m      7\u001b[0m     img \u001b[38;5;241m=\u001b[39m ee\u001b[38;5;241m.\u001b[39mImage(imList\u001b[38;5;241m.\u001b[39mget(im))\n",
      "\u001b[1;31mNameError\u001b[0m: name 'red_nir_col' is not defined"
     ]
    }
   ],
   "source": [
    "# For multiple downloading image\n",
    "# Get a list of image for dowloading\n",
    "\n",
    "#Sentinal2 B3-green, B4-red, B8-nir\n",
    "imList=red_nir_col.select('B3','B4','B8').toList(red_nir_col.size())\n",
    "for im in range(imList.length().getInfo()):\n",
    "    img = ee.Image(imList.get(im))\n",
    "    date = ee.Date(firstImage.get('system:time_start'))\n",
    "    date2 = date.format('YYYYMMdd').getInfo()\n",
    "    task=ee.batch.Export.image.toCloudStorage(**{ 'image': img.clip(polygon), \n",
    "                                                 'description': 'Toulouse Multispectral', \n",
    "                                                 'bucket': 'datascience-sandbox-dev', #bucket name never changes \n",
    "                                                 #'fileNamePrefix':'LE/ChangeDetection/MultiSpectral/' + str(im),#path to file \n",
    "                                                 'fileNamePrefix':'LE/ChangeDetection/MultiSpectral/104843523_Bands_'+str(date2)+'_Sentinel2' ,#path to file\n",
    "                                                 'scale': 10,#resolution \n",
    "                                                 'region':polygon, \n",
    "                                                 'maxPixels': 15000000000, \n",
    "                                                 'skipEmptyTiles': True }) \n",
    "    task.start()"
   ]
  },
  {
   "cell_type": "markdown",
   "id": "1de40c5f-ae8f-41b8-919a-84cd8f688106",
   "metadata": {
    "tags": []
   },
   "source": [
    "# NDVI Image Dowloading"
   ]
  },
  {
   "cell_type": "code",
   "execution_count": 5,
   "id": "4b376500-e4ce-478b-b287-139b0c757262",
   "metadata": {
    "tags": []
   },
   "outputs": [],
   "source": [
    "def getNDVICollection_S2(studyArea, startDate, endDate):\n",
    "    s2_sr_cld_col = get_s2_sr_cld_col(studyArea, startDate, endDate)\n",
    "    s2_sr_cld_col = s2_sr_cld_col.map(add_cld_shdw_mask).map(apply_cld_shdw_mask).map(NDVI)\n",
    "    ndvi3 = s2_sr_cld_col.select('NDVI')\n",
    "    return ndvi3"
   ]
  },
  {
   "cell_type": "markdown",
   "id": "32e9d64e-48a0-4e45-86af-a484f266c8eb",
   "metadata": {
    "jp-MarkdownHeadingCollapsed": true,
    "tags": []
   },
   "source": [
    "## Single Dowloading"
   ]
  },
  {
   "cell_type": "code",
   "execution_count": 22,
   "id": "985dfdb3-0556-41ae-bca2-b881c00a52ec",
   "metadata": {
    "tags": []
   },
   "outputs": [
    {
     "ename": "NameError",
     "evalue": "name 'polygon' is not defined",
     "output_type": "error",
     "traceback": [
      "\u001b[1;31m---------------------------------------------------------------------------\u001b[0m",
      "\u001b[1;31mNameError\u001b[0m                                 Traceback (most recent call last)",
      "Cell \u001b[1;32mIn[22], line 2\u001b[0m\n\u001b[0;32m      1\u001b[0m \u001b[38;5;66;03m# Take the 1st image\u001b[39;00m\n\u001b[1;32m----> 2\u001b[0m img \u001b[38;5;241m=\u001b[39m getNDVICollection_S2(\u001b[43mpolygon\u001b[49m, date_start, date_end)\n\u001b[0;32m      3\u001b[0m img \u001b[38;5;241m=\u001b[39m ee\u001b[38;5;241m.\u001b[39mImage(img\u001b[38;5;241m.\u001b[39mfirst())\n\u001b[0;32m      4\u001b[0m img\n",
      "\u001b[1;31mNameError\u001b[0m: name 'polygon' is not defined"
     ]
    }
   ],
   "source": [
    "# Take the 1st image\n",
    "img = getNDVICollection_S2(polygon, date_start, date_end)\n",
    "img = ee.Image(img.first())\n",
    "img"
   ]
  },
  {
   "cell_type": "code",
   "execution_count": 29,
   "id": "8acb938a-78f8-4ed0-92e8-c1d977a2f6b7",
   "metadata": {
    "tags": []
   },
   "outputs": [],
   "source": [
    "# Get first image of collection for dowloading - displaying\n",
    "task=ee.batch.Export.image.toCloudStorage(**{\n",
    "          'image': img.clip(polygon),\n",
    "          'description': 'NDVI Images',\n",
    "          'bucket': 'datascience-sandbox-dev', #bucket name never changes\n",
    "          'fileNamePrefix':'LE/ChangeDetection/NDVI/ImageT' ,#path to file\n",
    "          'scale': 10,#resolution\n",
    "          'region':polygon,\n",
    "          'maxPixels': 15000000000,\n",
    "          'skipEmptyTiles': True\n",
    "          })\n",
    "task.start()"
   ]
  },
  {
   "cell_type": "markdown",
   "id": "99657d85-03a8-4c5b-92b8-85d21b7040df",
   "metadata": {},
   "source": [
    "## MultiDownloading"
   ]
  },
  {
   "cell_type": "code",
   "execution_count": 6,
   "id": "c9107064-fc28-4048-8782-eef5ace3f383",
   "metadata": {},
   "outputs": [],
   "source": [
    "def NDVIImagesDowloading(dataframe, date_start,date_end):\n",
    "    for idx,row in dataframe.iterrows():\n",
    "        # Convert to shapely file\n",
    "        coordinate_raw = shapely.wkt.loads(row['geometry'])\n",
    "        # Get the coordinates\n",
    "        coordinate = mapping(coordinate_raw).get('coordinates')[0]\n",
    "        polygon = ee.Geometry.Polygon(coordinate,None,False)\n",
    "        img = getNDVICollection_S2(polygon, date_start, date_end)        \n",
    "        imList = img.toList(img.size())\n",
    "        #print(imList.length().getInfo() )\n",
    "        #'''\n",
    "        # Dowload Image\n",
    "        for im in range(imList.length().getInfo()):\n",
    "            img = ee.Image(imList.get(im))\n",
    "            date = ee.Date(img.get('system:time_start'))\n",
    "            year =date.format('YYYY').getInfo()\n",
    "            date2 = date.format('YYYYMMdd').getInfo()\n",
    "            task=ee.batch.Export.image.toCloudStorage(**{ 'image': img.clip(polygon), \n",
    "                                                         'description': 'NDVI_'+str(row['sfd_id'])+'_'+str(date2), \n",
    "                                                         'bucket': 'datascience-sandbox-dev', #bucket name never changes \n",
    "                                                         #'fileNamePrefix':'LE/ChangeDetection/MultiSpectral/' + str(im),#path to file \n",
    "                                                         'fileNamePrefix':'LE/ChangeDetection/MultiSpectral/'+str(row['sfd_id'])+'/'+str(year)+'/'+str(row['sfd_id'])+'_Ndvi_'+str(date2)+'_Sentinel2' , #path to file\n",
    "                                                         'scale': 10,#resolution \n",
    "                                                         'region':polygon, \n",
    "                                                         'maxPixels': 15000000000, \n",
    "                                                         'skipEmptyTiles': True }) \n",
    "            task.start()\n",
    "        #'''"
   ]
  },
  {
   "cell_type": "code",
   "execution_count": 11,
   "id": "8833e668-7fe4-4430-b03d-7a35fbe85766",
   "metadata": {},
   "outputs": [],
   "source": [
    "NDVIImagesDowloading(data,date_start,date_end)"
   ]
  },
  {
   "cell_type": "markdown",
   "id": "fa74770d-e450-408c-9a2e-67c8273ed151",
   "metadata": {
    "jp-MarkdownHeadingCollapsed": true,
    "tags": []
   },
   "source": [
    "# Optical Image MultiDownloading"
   ]
  },
  {
   "cell_type": "code",
   "execution_count": 9,
   "id": "fb83be8e-cdc3-465d-ac9d-7906c9205b03",
   "metadata": {
    "tags": []
   },
   "outputs": [],
   "source": [
    "def OpticalImagesDowloading(dataframe, date_start,date_end):\n",
    "    for idx,row in dataframe.iterrows():\n",
    "        coordinate = ast.literal_eval(row['Geometry'])\n",
    "        polygon = ee.Geometry.Polygon(coordinate,None,False)\n",
    "        # --> Convert datatype        \n",
    "        s2_sr_cld_col = get_s2_sr_cld_col(polygon, date_start, date_end)\n",
    "        s2_sr_cld_col = s2_sr_cld_col.map(add_cld_shdw_mask).map(apply_cld_shdw_mask)\n",
    "        natural_col = s2_sr_cld_col.select('B2','B3','B4')\n",
    "        imList = natural_col.toList(natural_col.size())\n",
    "        #print(imList.length().getInfo() )\n",
    "        #'''\n",
    "        # Dowload Image\n",
    "        for im in range(imList.length().getInfo()):\n",
    "            img = ee.Image(imList.get(im))\n",
    "            date = ee.Date(img.get('system:time_start'))\n",
    "            date2 = date.format('YYYYMMdd').getInfo()\n",
    "            task=ee.batch.Export.image.toCloudStorage(**{ 'image': img.clip(polygon), \n",
    "                                                         'description': 'Optical Images', \n",
    "                                                         'bucket': 'datascience-sandbox-dev', #bucket name never changes \n",
    "                                                         #'fileNamePrefix':'LE/ChangeDetection/MultiSpectral/' + str(im),#path to file \n",
    "                                                         'fileNamePrefix':'LE/ChangeDetection/OpticalImage/'+str(row['Sfd_id'])+'_Bands_'+str(date2)+'_Sentinel2' , #path to file\n",
    "                                                         'scale': 10,#resolution \n",
    "                                                         'region':polygon, \n",
    "                                                         'maxPixels': 15000000000, \n",
    "                                                         'skipEmptyTiles': True }) \n",
    "            task.start()\n",
    "        #'''"
   ]
  },
  {
   "cell_type": "code",
   "execution_count": 10,
   "id": "1304056a-5455-4171-8396-479b159dacbe",
   "metadata": {
    "tags": []
   },
   "outputs": [],
   "source": [
    "OpticalImagesDowloading(data,date_start,date_end)"
   ]
  }
 ],
 "metadata": {
  "kernelspec": {
   "display_name": "Python 3 (ipykernel)",
   "language": "python",
   "name": "python3"
  },
  "language_info": {
   "codemirror_mode": {
    "name": "ipython",
    "version": 3
   },
   "file_extension": ".py",
   "mimetype": "text/x-python",
   "name": "python",
   "nbconvert_exporter": "python",
   "pygments_lexer": "ipython3",
   "version": "3.11.0"
  }
 },
 "nbformat": 4,
 "nbformat_minor": 5
}
